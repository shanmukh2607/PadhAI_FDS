{
 "cells": [
  {
   "cell_type": "code",
   "execution_count": 1,
   "metadata": {
    "colab": {},
    "colab_type": "code",
    "id": "bxDEhuxYaq84"
   },
   "outputs": [],
   "source": [
    "import numpy as np"
   ]
  },
  {
   "cell_type": "code",
   "execution_count": 3,
   "metadata": {},
   "outputs": [
    {
     "name": "stdout",
     "output_type": "stream",
     "text": [
      "[ 9 23 32 47 53] <class 'numpy.ndarray'>\n"
     ]
    }
   ],
   "source": [
    "x=np.array([9,23,32,47,53])\n",
    "print(x, type(x))"
   ]
  },
  {
   "cell_type": "code",
   "execution_count": 21,
   "metadata": {},
   "outputs": [
    {
     "name": "stdout",
     "output_type": "stream",
     "text": [
      "[ 9 23 32 47 53]\n",
      "dtype is int64\n",
      "shape is (5,)\n",
      "Dimension is 1\n",
      "Size is 5 \n",
      "\n"
     ]
    }
   ],
   "source": [
    "def array_info(arr):\n",
    "    print(arr)\n",
    "    print(\"dtype is\",arr.dtype)\n",
    "    print(\"shape is\",arr.shape)\n",
    "    print(\"Dimension is\",arr.ndim)\n",
    "    print(\"Size is\",arr.size,\"\\n\")\n",
    "array_info(x)"
   ]
  },
  {
   "cell_type": "code",
   "execution_count": 23,
   "metadata": {},
   "outputs": [
    {
     "name": "stdout",
     "output_type": "stream",
     "text": [
      "[1. 1. 1. 1. 1. 1.]\n",
      "dtype is float64\n",
      "shape is (6,)\n",
      "Dimension is 1\n",
      "Size is 6 \n",
      "\n",
      "[[1.]\n",
      " [1.]\n",
      " [1.]\n",
      " [1.]\n",
      " [1.]\n",
      " [1.]]\n",
      "dtype is float64\n",
      "shape is (6, 1)\n",
      "Dimension is 2\n",
      "Size is 6 \n",
      "\n",
      "[[1. 1. 1.]\n",
      " [1. 1. 1.]]\n",
      "dtype is float64\n",
      "shape is (2, 3)\n",
      "Dimension is 2\n",
      "Size is 6 \n",
      "\n"
     ]
    }
   ],
   "source": [
    "a = np.ones((6))\n",
    "b = np.ones((6,1))\n",
    "c = np.ones((2,3))\n",
    "array_info(a)\n",
    "array_info(b)\n",
    "array_info(c)"
   ]
  },
  {
   "cell_type": "markdown",
   "metadata": {
    "colab_type": "text",
    "id": "68khGiVxYo7H"
   },
   "source": [
    "## Comparing performance with lists, etc."
   ]
  },
  {
   "cell_type": "code",
   "execution_count": 0,
   "metadata": {
    "colab": {},
    "colab_type": "code",
    "id": "Eit9EIf7Ybr6"
   },
   "outputs": [],
   "source": [
    "N = 100000000"
   ]
  },
  {
   "cell_type": "code",
   "execution_count": 0,
   "metadata": {
    "colab": {
     "base_uri": "https://localhost:8080/",
     "height": 54
    },
    "colab_type": "code",
    "id": "Db9hU3X_YuVe",
    "outputId": "fb3307e7-c207-49f2-d35d-3dc22f7b86b3"
   },
   "outputs": [
    {
     "name": "stdout",
     "output_type": "stream",
     "text": [
      "CPU times: user 18.3 s, sys: 1.52 s, total: 19.8 s\n",
      "Wall time: 19.8 s\n"
     ]
    }
   ],
   "source": [
    "%%time\n",
    "list_ = list(range(N))\n",
    "for i in range(N):\n",
    "    list_[i] = list_[i] * list_[i]"
   ]
  },
  {
   "cell_type": "code",
   "execution_count": 0,
   "metadata": {
    "colab": {
     "base_uri": "https://localhost:8080/",
     "height": 54
    },
    "colab_type": "code",
    "id": "Gv3M483RZAB3",
    "outputId": "3e900212-0850-4396-927e-02b75eec5050"
   },
   "outputs": [
    {
     "name": "stdout",
     "output_type": "stream",
     "text": [
      "CPU times: user 9.14 s, sys: 3.74 s, total: 12.9 s\n",
      "Wall time: 12.9 s\n"
     ]
    }
   ],
   "source": [
    "%%time\n",
    "list_ = list(range(N))\n",
    "list_ = [item * item for item in list_]"
   ]
  },
  {
   "cell_type": "code",
   "execution_count": 0,
   "metadata": {
    "colab": {
     "base_uri": "https://localhost:8080/",
     "height": 54
    },
    "colab_type": "code",
    "id": "2bcmoyBwZe4r",
    "outputId": "760e13b9-6e83-490d-e7e0-e415eb1b1eff"
   },
   "outputs": [
    {
     "name": "stdout",
     "output_type": "stream",
     "text": [
      "CPU times: user 2.38 s, sys: 1.43 s, total: 3.81 s\n",
      "Wall time: 3.82 s\n"
     ]
    }
   ],
   "source": [
    "%%time\n",
    "list_ = list(range(N))\n",
    "list_ = map(lambda x: x * x, list_)"
   ]
  },
  {
   "cell_type": "code",
   "execution_count": 0,
   "metadata": {
    "colab": {
     "base_uri": "https://localhost:8080/",
     "height": 54
    },
    "colab_type": "code",
    "id": "JGzpwFZnaCOl",
    "outputId": "0f68210b-8c29-4f2d-8eba-55c2a330eb1e"
   },
   "outputs": [
    {
     "name": "stdout",
     "output_type": "stream",
     "text": [
      "CPU times: user 12.2 s, sys: 1.36 s, total: 13.6 s\n",
      "Wall time: 13.6 s\n"
     ]
    }
   ],
   "source": [
    "%%time\n",
    "list_ = list(range(N))\n",
    "list_sum = 0\n",
    "for item in list_:\n",
    "    list_sum += item"
   ]
  },
  {
   "cell_type": "code",
   "execution_count": 0,
   "metadata": {
    "colab": {
     "base_uri": "https://localhost:8080/",
     "height": 54
    },
    "colab_type": "code",
    "id": "5c4L-NuLacK9",
    "outputId": "a9a95dff-b351-4280-b09b-13583e2758cc"
   },
   "outputs": [
    {
     "name": "stdout",
     "output_type": "stream",
     "text": [
      "CPU times: user 2.71 s, sys: 1.34 s, total: 4.05 s\n",
      "Wall time: 4.04 s\n"
     ]
    }
   ],
   "source": [
    "%%time\n",
    "list_ = list(range(N))\n",
    "list_sum = sum(list_)"
   ]
  },
  {
   "cell_type": "code",
   "execution_count": 0,
   "metadata": {
    "colab": {
     "base_uri": "https://localhost:8080/",
     "height": 54
    },
    "colab_type": "code",
    "id": "OwYuugJ2a9dS",
    "outputId": "102f413c-5bd4-42c5-b405-216a09d467e6"
   },
   "outputs": [
    {
     "name": "stdout",
     "output_type": "stream",
     "text": [
      "CPU times: user 349 ms, sys: 5.05 ms, total: 354 ms\n",
      "Wall time: 365 ms\n"
     ]
    }
   ],
   "source": [
    "%%time\n",
    "arr = np.arange(N)\n",
    "arr = arr * arr"
   ]
  },
  {
   "cell_type": "code",
   "execution_count": 0,
   "metadata": {
    "colab": {
     "base_uri": "https://localhost:8080/",
     "height": 54
    },
    "colab_type": "code",
    "id": "cjNUo9uhbS0V",
    "outputId": "a100a109-3e45-4188-876e-d9f2f1cfdae3"
   },
   "outputs": [
    {
     "name": "stdout",
     "output_type": "stream",
     "text": [
      "CPU times: user 235 ms, sys: 16 ms, total: 251 ms\n",
      "Wall time: 252 ms\n"
     ]
    }
   ],
   "source": [
    "%%time\n",
    "arr = np.arange(N)\n",
    "arr_sum = np.sum(arr)"
   ]
  },
  {
   "cell_type": "markdown",
   "metadata": {
    "colab_type": "text",
    "id": "NLGCUANycFKt"
   },
   "source": [
    "# Creating np Arrays"
   ]
  },
  {
   "cell_type": "code",
   "execution_count": 0,
   "metadata": {
    "colab": {},
    "colab_type": "code",
    "id": "Evm6nUDNbd6M"
   },
   "outputs": [],
   "source": [
    "arr = np.arange(5)"
   ]
  },
  {
   "cell_type": "code",
   "execution_count": 0,
   "metadata": {
    "colab": {
     "base_uri": "https://localhost:8080/",
     "height": 35
    },
    "colab_type": "code",
    "id": "b3Wx0sQlcKQC",
    "outputId": "87ee1b33-43d6-45af-b825-57defb1d0650"
   },
   "outputs": [
    {
     "name": "stdout",
     "output_type": "stream",
     "text": [
      "[0 1 2 3 4] <class 'numpy.ndarray'>\n"
     ]
    }
   ],
   "source": [
    "print(arr, type(arr))"
   ]
  },
  {
   "cell_type": "code",
   "execution_count": 0,
   "metadata": {
    "colab": {},
    "colab_type": "code",
    "id": "uXufCplPcMIb"
   },
   "outputs": [],
   "source": [
    "arr = np.array([0.0, 2, 4, 6, 8])"
   ]
  },
  {
   "cell_type": "code",
   "execution_count": 0,
   "metadata": {
    "colab": {
     "base_uri": "https://localhost:8080/",
     "height": 35
    },
    "colab_type": "code",
    "id": "XRYdEBlXcYGg",
    "outputId": "0005a0c0-8583-40cc-f4bd-9b15220e43d3"
   },
   "outputs": [
    {
     "name": "stdout",
     "output_type": "stream",
     "text": [
      "[0. 2. 4. 6. 8.] <class 'numpy.ndarray'>\n"
     ]
    }
   ],
   "source": [
    "print(arr, type(arr))"
   ]
  },
  {
   "cell_type": "code",
   "execution_count": 0,
   "metadata": {
    "colab": {
     "base_uri": "https://localhost:8080/",
     "height": 35
    },
    "colab_type": "code",
    "id": "plOZLyMPcZH8",
    "outputId": "3dcc02e5-1141-4808-ad1c-48a398b4bb17"
   },
   "outputs": [
    {
     "data": {
      "text/plain": [
       "array([0., 2., 4., 6., 8.])"
      ]
     },
     "execution_count": 22,
     "metadata": {
      "tags": []
     },
     "output_type": "execute_result"
    }
   ],
   "source": [
    "arr"
   ]
  },
  {
   "cell_type": "code",
   "execution_count": 0,
   "metadata": {
    "colab": {
     "base_uri": "https://localhost:8080/",
     "height": 35
    },
    "colab_type": "code",
    "id": "44OjxdEJchb8",
    "outputId": "18ff63a9-43bb-45f9-e59d-991537655292"
   },
   "outputs": [
    {
     "data": {
      "text/plain": [
       "dtype('float64')"
      ]
     },
     "execution_count": 23,
     "metadata": {
      "tags": []
     },
     "output_type": "execute_result"
    }
   ],
   "source": [
    "arr.dtype"
   ]
  },
  {
   "cell_type": "code",
   "execution_count": 0,
   "metadata": {
    "colab": {
     "base_uri": "https://localhost:8080/",
     "height": 35
    },
    "colab_type": "code",
    "id": "aLs3mkBycnmt",
    "outputId": "ac98c7db-b9d3-4a43-ec19-34d1a14692f0"
   },
   "outputs": [
    {
     "data": {
      "text/plain": [
       "1"
      ]
     },
     "execution_count": 24,
     "metadata": {
      "tags": []
     },
     "output_type": "execute_result"
    }
   ],
   "source": [
    "arr.ndim"
   ]
  },
  {
   "cell_type": "code",
   "execution_count": 0,
   "metadata": {
    "colab": {
     "base_uri": "https://localhost:8080/",
     "height": 35
    },
    "colab_type": "code",
    "id": "M_45DXNecwbz",
    "outputId": "191cb0fa-7efd-46b1-b1ef-2f9b49d59ea6"
   },
   "outputs": [
    {
     "data": {
      "text/plain": [
       "(5,)"
      ]
     },
     "execution_count": 25,
     "metadata": {
      "tags": []
     },
     "output_type": "execute_result"
    }
   ],
   "source": [
    "arr.shape"
   ]
  },
  {
   "cell_type": "code",
   "execution_count": 0,
   "metadata": {
    "colab": {
     "base_uri": "https://localhost:8080/",
     "height": 35
    },
    "colab_type": "code",
    "id": "wyWLuERBcy4W",
    "outputId": "1b7b1575-b543-44f7-feb9-8f4c3cc614fe"
   },
   "outputs": [
    {
     "data": {
      "text/plain": [
       "5"
      ]
     },
     "execution_count": 26,
     "metadata": {
      "tags": []
     },
     "output_type": "execute_result"
    }
   ],
   "source": [
    "arr.size"
   ]
  },
  {
   "cell_type": "code",
   "execution_count": 0,
   "metadata": {
    "colab": {
     "base_uri": "https://localhost:8080/",
     "height": 35
    },
    "colab_type": "code",
    "id": "Fqj2_W-Sc3MG",
    "outputId": "aace0458-d824-44e5-817b-69d33df3f199"
   },
   "outputs": [
    {
     "data": {
      "text/plain": [
       "8"
      ]
     },
     "execution_count": 27,
     "metadata": {
      "tags": []
     },
     "output_type": "execute_result"
    }
   ],
   "source": [
    "arr.itemsize"
   ]
  },
  {
   "cell_type": "code",
   "execution_count": 0,
   "metadata": {
    "colab": {},
    "colab_type": "code",
    "id": "pLeTXokgc62S"
   },
   "outputs": [],
   "source": [
    "arr2d = np.array([\n",
    "                  [1, 2, 3], \n",
    "                  [4, 5, 6]\n",
    "])"
   ]
  },
  {
   "cell_type": "code",
   "execution_count": 0,
   "metadata": {
    "colab": {
     "base_uri": "https://localhost:8080/",
     "height": 54
    },
    "colab_type": "code",
    "id": "34LVKLSjdanx",
    "outputId": "1d198a40-c0c9-4add-ee05-c8eb95d08c1f"
   },
   "outputs": [
    {
     "data": {
      "text/plain": [
       "array([[1, 2, 3],\n",
       "       [4, 5, 6]])"
      ]
     },
     "execution_count": 29,
     "metadata": {
      "tags": []
     },
     "output_type": "execute_result"
    }
   ],
   "source": [
    "arr2d"
   ]
  },
  {
   "cell_type": "code",
   "execution_count": 0,
   "metadata": {
    "colab": {
     "base_uri": "https://localhost:8080/",
     "height": 35
    },
    "colab_type": "code",
    "id": "LRVMTi7mdcHH",
    "outputId": "ca1f83b8-43c4-440a-ce04-9d2e0a212caf"
   },
   "outputs": [
    {
     "data": {
      "text/plain": [
       "2"
      ]
     },
     "execution_count": 30,
     "metadata": {
      "tags": []
     },
     "output_type": "execute_result"
    }
   ],
   "source": [
    "arr2d.ndim"
   ]
  },
  {
   "cell_type": "code",
   "execution_count": 0,
   "metadata": {
    "colab": {
     "base_uri": "https://localhost:8080/",
     "height": 35
    },
    "colab_type": "code",
    "id": "Ma9WfzVcdeA5",
    "outputId": "c97dd412-b8bd-4ed3-addf-22f626c7230f"
   },
   "outputs": [
    {
     "data": {
      "text/plain": [
       "(2, 3)"
      ]
     },
     "execution_count": 31,
     "metadata": {
      "tags": []
     },
     "output_type": "execute_result"
    }
   ],
   "source": [
    "arr2d.shape"
   ]
  },
  {
   "cell_type": "code",
   "execution_count": 0,
   "metadata": {
    "colab": {
     "base_uri": "https://localhost:8080/",
     "height": 35
    },
    "colab_type": "code",
    "id": "Gs_AZjoddfHj",
    "outputId": "5a511567-5534-4ad8-810b-4a0a2ea8afd3"
   },
   "outputs": [
    {
     "data": {
      "text/plain": [
       "6"
      ]
     },
     "execution_count": 32,
     "metadata": {
      "tags": []
     },
     "output_type": "execute_result"
    }
   ],
   "source": [
    "arr2d.size"
   ]
  },
  {
   "cell_type": "code",
   "execution_count": 0,
   "metadata": {
    "colab": {},
    "colab_type": "code",
    "id": "WxJvJYrIdnBf"
   },
   "outputs": [],
   "source": [
    "arr3d = np.array([\n",
    "                  [\n",
    "                   [1, 2, 3],\n",
    "                   [4, 5, 6]\n",
    "                  ],\n",
    "                  [\n",
    "                   [7, 8, 9], \n",
    "                   [10, 11, 12]\n",
    "                  ]\n",
    "])"
   ]
  },
  {
   "cell_type": "code",
   "execution_count": 0,
   "metadata": {
    "colab": {
     "base_uri": "https://localhost:8080/",
     "height": 109
    },
    "colab_type": "code",
    "id": "-MAbEurMd57w",
    "outputId": "45e677a2-4702-4ee7-b2a6-f70f1d46439d"
   },
   "outputs": [
    {
     "data": {
      "text/plain": [
       "array([[[ 1,  2,  3],\n",
       "        [ 4,  5,  6]],\n",
       "\n",
       "       [[ 7,  8,  9],\n",
       "        [10, 11, 12]]])"
      ]
     },
     "execution_count": 34,
     "metadata": {
      "tags": []
     },
     "output_type": "execute_result"
    }
   ],
   "source": [
    "arr3d"
   ]
  },
  {
   "cell_type": "code",
   "execution_count": 0,
   "metadata": {
    "colab": {
     "base_uri": "https://localhost:8080/",
     "height": 35
    },
    "colab_type": "code",
    "id": "dE9OjxSrd638",
    "outputId": "45f12ffb-85ba-49fd-a0cf-a62639c8b0ad"
   },
   "outputs": [
    {
     "data": {
      "text/plain": [
       "(2, 2, 3)"
      ]
     },
     "execution_count": 35,
     "metadata": {
      "tags": []
     },
     "output_type": "execute_result"
    }
   ],
   "source": [
    "arr3d.shape"
   ]
  },
  {
   "cell_type": "code",
   "execution_count": 0,
   "metadata": {
    "colab": {
     "base_uri": "https://localhost:8080/",
     "height": 35
    },
    "colab_type": "code",
    "id": "0fa892EEd__8",
    "outputId": "893f43a2-cad4-4007-b2c6-48adbfa16a06"
   },
   "outputs": [
    {
     "data": {
      "text/plain": [
       "3"
      ]
     },
     "execution_count": 36,
     "metadata": {
      "tags": []
     },
     "output_type": "execute_result"
    }
   ],
   "source": [
    "arr3d.ndim"
   ]
  },
  {
   "cell_type": "code",
   "execution_count": 0,
   "metadata": {
    "colab": {
     "base_uri": "https://localhost:8080/",
     "height": 35
    },
    "colab_type": "code",
    "id": "j92cN38DeBqQ",
    "outputId": "639bfe39-427e-4131-a9bb-5d4a903438b4"
   },
   "outputs": [
    {
     "data": {
      "text/plain": [
       "12"
      ]
     },
     "execution_count": 37,
     "metadata": {
      "tags": []
     },
     "output_type": "execute_result"
    }
   ],
   "source": [
    "arr3d.size"
   ]
  },
  {
   "cell_type": "code",
   "execution_count": 0,
   "metadata": {
    "colab": {
     "base_uri": "https://localhost:8080/",
     "height": 146
    },
    "colab_type": "code",
    "id": "OMN9ucDEeCzz",
    "outputId": "89f8cb7a-1309-4c57-c73a-4c1012bafe93"
   },
   "outputs": [
    {
     "data": {
      "text/plain": [
       "array([[[1., 1., 1., 1.],\n",
       "        [1., 1., 1., 1.],\n",
       "        [1., 1., 1., 1.]],\n",
       "\n",
       "       [[1., 1., 1., 1.],\n",
       "        [1., 1., 1., 1.],\n",
       "        [1., 1., 1., 1.]]])"
      ]
     },
     "execution_count": 39,
     "metadata": {
      "tags": []
     },
     "output_type": "execute_result"
    }
   ],
   "source": [
    "np.ones((2, 3, 4))"
   ]
  },
  {
   "cell_type": "code",
   "execution_count": 0,
   "metadata": {
    "colab": {
     "base_uri": "https://localhost:8080/",
     "height": 146
    },
    "colab_type": "code",
    "id": "i52W2q1beS79",
    "outputId": "fd35150e-d523-40be-8880-be53d59b35cf"
   },
   "outputs": [
    {
     "data": {
      "text/plain": [
       "array([[[1729., 1729., 1729., 1729.],\n",
       "        [1729., 1729., 1729., 1729.],\n",
       "        [1729., 1729., 1729., 1729.]],\n",
       "\n",
       "       [[1729., 1729., 1729., 1729.],\n",
       "        [1729., 1729., 1729., 1729.],\n",
       "        [1729., 1729., 1729., 1729.]]])"
      ]
     },
     "execution_count": 40,
     "metadata": {
      "tags": []
     },
     "output_type": "execute_result"
    }
   ],
   "source": [
    "1729 * np.ones((2, 3, 4))"
   ]
  },
  {
   "cell_type": "code",
   "execution_count": 4,
   "metadata": {},
   "outputs": [],
   "source": [
    "np.ones?"
   ]
  },
  {
   "cell_type": "code",
   "execution_count": 0,
   "metadata": {
    "colab": {
     "base_uri": "https://localhost:8080/",
     "height": 146
    },
    "colab_type": "code",
    "id": "nvZvkdYUeZiu",
    "outputId": "cb4337c3-c93c-4a05-8c7f-5736bca58d96"
   },
   "outputs": [
    {
     "data": {
      "text/plain": [
       "array([[[0., 0., 0., 0.],\n",
       "        [0., 0., 0., 0.],\n",
       "        [0., 0., 0., 0.]],\n",
       "\n",
       "       [[0., 0., 0., 0.],\n",
       "        [0., 0., 0., 0.],\n",
       "        [0., 0., 0., 0.]]])"
      ]
     },
     "execution_count": 41,
     "metadata": {
      "tags": []
     },
     "output_type": "execute_result"
    }
   ],
   "source": [
    "np.zeros((2, 3, 4))"
   ]
  },
  {
   "cell_type": "code",
   "execution_count": 0,
   "metadata": {
    "colab": {
     "base_uri": "https://localhost:8080/",
     "height": 54
    },
    "colab_type": "code",
    "id": "GFxPoEK6ef6h",
    "outputId": "059e7d50-e8c6-41a8-fd58-7c60a3eecd66"
   },
   "outputs": [
    {
     "data": {
      "text/plain": [
       "array([[ 0.13890333,  0.27855673,  0.21005722],\n",
       "       [-1.62569229, -0.13162848, -0.95659027]])"
      ]
     },
     "execution_count": 42,
     "metadata": {
      "tags": []
     },
     "output_type": "execute_result"
    }
   ],
   "source": [
    "np.random.randn(2, 3)"
   ]
  },
  {
   "cell_type": "code",
   "execution_count": 0,
   "metadata": {
    "colab": {
     "base_uri": "https://localhost:8080/",
     "height": 54
    },
    "colab_type": "code",
    "id": "8Mpt-djQe2OV",
    "outputId": "37cf54ff-5eef-4bc7-f518-05873140d816"
   },
   "outputs": [
    {
     "data": {
      "text/plain": [
       "array([[0.3162607 , 0.64561188, 0.15635594],\n",
       "       [0.8700201 , 0.24331023, 0.6859318 ]])"
      ]
     },
     "execution_count": 43,
     "metadata": {
      "tags": []
     },
     "output_type": "execute_result"
    }
   ],
   "source": [
    "np.random.rand(2, 3)"
   ]
  },
  {
   "cell_type": "code",
   "execution_count": 0,
   "metadata": {
    "colab": {
     "base_uri": "https://localhost:8080/",
     "height": 201
    },
    "colab_type": "code",
    "id": "Ymh-OjaNfI9m",
    "outputId": "5fb87071-1515-4c21-9a68-8a894347c25b"
   },
   "outputs": [
    {
     "data": {
      "text/plain": [
       "array([[0.50711323],\n",
       "       [0.64183329],\n",
       "       [0.19184264],\n",
       "       [0.04014946],\n",
       "       [0.96683666],\n",
       "       [0.85560495],\n",
       "       [0.69896133],\n",
       "       [0.12290663],\n",
       "       [0.75425615],\n",
       "       [0.47505099]])"
      ]
     },
     "execution_count": 44,
     "metadata": {
      "tags": []
     },
     "output_type": "execute_result"
    }
   ],
   "source": [
    "np.random.rand(10, 1)"
   ]
  },
  {
   "cell_type": "code",
   "execution_count": 0,
   "metadata": {
    "colab": {
     "base_uri": "https://localhost:8080/",
     "height": 54
    },
    "colab_type": "code",
    "id": "c5To7Be5fQ1O",
    "outputId": "e5fdfa7b-f621-4833-b907-886fd297d51e"
   },
   "outputs": [
    {
     "data": {
      "text/plain": [
       "array([[34,  0, 49],\n",
       "       [36, 52, 84]])"
      ]
     },
     "execution_count": 45,
     "metadata": {
      "tags": []
     },
     "output_type": "execute_result"
    }
   ],
   "source": [
    "np.random.randint(0, 100, (2, 3))"
   ]
  },
  {
   "cell_type": "code",
   "execution_count": 0,
   "metadata": {
    "colab": {
     "base_uri": "https://localhost:8080/",
     "height": 35
    },
    "colab_type": "code",
    "id": "jXlwR9JbfdmT",
    "outputId": "a5765704-4f21-484e-f765-65a4f2eee39f"
   },
   "outputs": [
    {
     "data": {
      "text/plain": [
       "array([ 7, 14, 21, 28, 35, 42, 49, 56, 63, 70])"
      ]
     },
     "execution_count": 48,
     "metadata": {
      "tags": []
     },
     "output_type": "execute_result"
    }
   ],
   "source": [
    "np.arange(7, 71, 7)"
   ]
  },
  {
   "cell_type": "code",
   "execution_count": 25,
   "metadata": {},
   "outputs": [],
   "source": [
    "np.linspace?"
   ]
  },
  {
   "cell_type": "code",
   "execution_count": 0,
   "metadata": {
    "colab": {
     "base_uri": "https://localhost:8080/",
     "height": 35
    },
    "colab_type": "code",
    "id": "X9xL5fSRf0D4",
    "outputId": "eb0fefdc-8477-4542-ca66-92f7909ab33f"
   },
   "outputs": [
    {
     "data": {
      "text/plain": [
       "array([ 7., 14., 21., 28., 35., 42., 49., 56., 63., 70.])"
      ]
     },
     "execution_count": 49,
     "metadata": {
      "tags": []
     },
     "output_type": "execute_result"
    }
   ],
   "source": [
    "np.linspace(7, 70, 10)"
   ]
  },
  {
   "cell_type": "code",
   "execution_count": 0,
   "metadata": {
    "colab": {
     "base_uri": "https://localhost:8080/",
     "height": 35
    },
    "colab_type": "code",
    "id": "sSvzx7sAf_4O",
    "outputId": "0f1a16ff-56c5-4e15-96db-ab595666ede4"
   },
   "outputs": [
    {
     "data": {
      "text/plain": [
       "array([ True, False,  True,  True])"
      ]
     },
     "execution_count": 50,
     "metadata": {
      "tags": []
     },
     "output_type": "execute_result"
    }
   ],
   "source": [
    "np.array([True, False, True, True])"
   ]
  },
  {
   "cell_type": "code",
   "execution_count": 0,
   "metadata": {
    "colab": {},
    "colab_type": "code",
    "id": "RFpSPRFWgIqy"
   },
   "outputs": [],
   "source": [
    "str_arr = np.array(['1.4', '2.1', '1.1'])"
   ]
  },
  {
   "cell_type": "code",
   "execution_count": 0,
   "metadata": {
    "colab": {},
    "colab_type": "code",
    "id": "kZGLBBIQgNwu"
   },
   "outputs": [],
   "source": [
    "arr = np.array(str_arr, dtype='float')"
   ]
  },
  {
   "cell_type": "code",
   "execution_count": 0,
   "metadata": {
    "colab": {
     "base_uri": "https://localhost:8080/",
     "height": 35
    },
    "colab_type": "code",
    "id": "TiadxxuigdAb",
    "outputId": "7e25c8d0-54d8-4ac4-ab7c-2c4c14817580"
   },
   "outputs": [
    {
     "data": {
      "text/plain": [
       "array([1.4, 2.1, 1.1])"
      ]
     },
     "execution_count": 54,
     "metadata": {
      "tags": []
     },
     "output_type": "execute_result"
    }
   ],
   "source": [
    "arr"
   ]
  },
  {
   "cell_type": "markdown",
   "metadata": {
    "colab_type": "text",
    "id": "ok07o0hHhe0k"
   },
   "source": [
    "## indexing"
   ]
  },
  {
   "cell_type": "code",
   "execution_count": 14,
   "metadata": {
    "colab": {},
    "colab_type": "code",
    "id": "4VMwRGXfgfNL"
   },
   "outputs": [],
   "source": [
    "arr3d = np.array([\n",
    "                  [\n",
    "                   [1, 2, 3],\n",
    "                   [4, 5, 6]\n",
    "                  ],\n",
    "                  [\n",
    "                   [7, 8, 9], \n",
    "                   [10, 11, 12]\n",
    "                  ]\n",
    "])"
   ]
  },
  {
   "cell_type": "code",
   "execution_count": 0,
   "metadata": {
    "colab": {
     "base_uri": "https://localhost:8080/",
     "height": 109
    },
    "colab_type": "code",
    "id": "ZxmkYyRvhi2r",
    "outputId": "6ece8790-f7d0-411c-ba87-6776d408850a"
   },
   "outputs": [
    {
     "name": "stdout",
     "output_type": "stream",
     "text": [
      "[[[ 1  2  3]\n",
      "  [ 4  5  6]]\n",
      "\n",
      " [[ 7  8  9]\n",
      "  [10 11 12]]]\n"
     ]
    }
   ],
   "source": [
    "print(arr3d)"
   ]
  },
  {
   "cell_type": "code",
   "execution_count": 0,
   "metadata": {
    "colab": {
     "base_uri": "https://localhost:8080/",
     "height": 35
    },
    "colab_type": "code",
    "id": "1SBT8VOChkGi",
    "outputId": "cfa9edb6-daa3-40b0-80ac-c051fe812007"
   },
   "outputs": [
    {
     "data": {
      "text/plain": [
       "1"
      ]
     },
     "execution_count": 57,
     "metadata": {
      "tags": []
     },
     "output_type": "execute_result"
    }
   ],
   "source": [
    "arr3d[0, 0, 0]"
   ]
  },
  {
   "cell_type": "code",
   "execution_count": 0,
   "metadata": {
    "colab": {
     "base_uri": "https://localhost:8080/",
     "height": 35
    },
    "colab_type": "code",
    "id": "rE-cD0LPhrbJ",
    "outputId": "73146977-5f42-4e39-dd13-ec7726dea0bb"
   },
   "outputs": [
    {
     "data": {
      "text/plain": [
       "9"
      ]
     },
     "execution_count": 58,
     "metadata": {
      "tags": []
     },
     "output_type": "execute_result"
    }
   ],
   "source": [
    "arr3d[1, 0, 2]"
   ]
  },
  {
   "cell_type": "code",
   "execution_count": 0,
   "metadata": {
    "colab": {
     "base_uri": "https://localhost:8080/",
     "height": 35
    },
    "colab_type": "code",
    "id": "mLFyHS7zht2J",
    "outputId": "fd6c5f01-b125-4071-d460-21915b5a0dc8"
   },
   "outputs": [
    {
     "data": {
      "text/plain": [
       "9"
      ]
     },
     "execution_count": 59,
     "metadata": {
      "tags": []
     },
     "output_type": "execute_result"
    }
   ],
   "source": [
    "i = 1\n",
    "j = 0\n",
    "k = 2\n",
    "arr3d[i, j, k]"
   ]
  },
  {
   "cell_type": "code",
   "execution_count": 0,
   "metadata": {
    "colab": {
     "base_uri": "https://localhost:8080/",
     "height": 54
    },
    "colab_type": "code",
    "id": "XmLT4eulh0aH",
    "outputId": "dd488edd-cfd9-45c8-9b9f-11b5dc312708"
   },
   "outputs": [
    {
     "data": {
      "text/plain": [
       "array([[ 7,  8,  9],\n",
       "       [10, 11, 12]])"
      ]
     },
     "execution_count": 61,
     "metadata": {
      "tags": []
     },
     "output_type": "execute_result"
    }
   ],
   "source": [
    "arr3d[1, :, :]"
   ]
  },
  {
   "cell_type": "code",
   "execution_count": 0,
   "metadata": {
    "colab": {
     "base_uri": "https://localhost:8080/",
     "height": 54
    },
    "colab_type": "code",
    "id": "VnlCRvchh5pU",
    "outputId": "c40c4d44-7bc0-482c-86b2-d890a541bf04"
   },
   "outputs": [
    {
     "data": {
      "text/plain": [
       "array([[ 4,  5,  6],\n",
       "       [10, 11, 12]])"
      ]
     },
     "execution_count": 62,
     "metadata": {
      "tags": []
     },
     "output_type": "execute_result"
    }
   ],
   "source": [
    "arr3d[:, 1, :]"
   ]
  },
  {
   "cell_type": "code",
   "execution_count": 0,
   "metadata": {
    "colab": {
     "base_uri": "https://localhost:8080/",
     "height": 109
    },
    "colab_type": "code",
    "id": "CpWBFasIh91a",
    "outputId": "f37cb2a8-ee09-4e43-84e3-42e12cff7a70"
   },
   "outputs": [
    {
     "data": {
      "text/plain": [
       "array([[[ 1,  2],\n",
       "        [ 4,  5]],\n",
       "\n",
       "       [[ 7,  8],\n",
       "        [10, 11]]])"
      ]
     },
     "execution_count": 63,
     "metadata": {
      "tags": []
     },
     "output_type": "execute_result"
    }
   ],
   "source": [
    "arr3d[:, :, 0:2]"
   ]
  },
  {
   "cell_type": "code",
   "execution_count": 0,
   "metadata": {
    "colab": {
     "base_uri": "https://localhost:8080/",
     "height": 109
    },
    "colab_type": "code",
    "id": "JB1yfo7LiG8U",
    "outputId": "3d99eb15-76b1-40bf-9b32-4580b1fdb6b7"
   },
   "outputs": [
    {
     "data": {
      "text/plain": [
       "array([[[False,  True, False],\n",
       "        [ True, False,  True]],\n",
       "\n",
       "       [[False,  True, False],\n",
       "        [ True, False,  True]]])"
      ]
     },
     "execution_count": 64,
     "metadata": {
      "tags": []
     },
     "output_type": "execute_result"
    }
   ],
   "source": [
    "arr3d % 2 == 0"
   ]
  },
  {
   "cell_type": "code",
   "execution_count": 0,
   "metadata": {
    "colab": {
     "base_uri": "https://localhost:8080/",
     "height": 35
    },
    "colab_type": "code",
    "id": "nZItXOJTidcC",
    "outputId": "0b9703da-02f1-4cb4-d894-04125faf9106"
   },
   "outputs": [
    {
     "data": {
      "text/plain": [
       "array([ 1,  3,  5,  7,  9, 11])"
      ]
     },
     "execution_count": 66,
     "metadata": {
      "tags": []
     },
     "output_type": "execute_result"
    }
   ],
   "source": [
    "arr3d[arr3d % 2 == 1]"
   ]
  },
  {
   "cell_type": "code",
   "execution_count": 0,
   "metadata": {
    "colab": {
     "base_uri": "https://localhost:8080/",
     "height": 35
    },
    "colab_type": "code",
    "id": "UUMa3DzGisvm",
    "outputId": "9ed7b824-6693-4ed3-c34a-525d883660ff"
   },
   "outputs": [
    {
     "data": {
      "text/plain": [
       "array([ 5,  7,  9, 11])"
      ]
     },
     "execution_count": 68,
     "metadata": {
      "tags": []
     },
     "output_type": "execute_result"
    }
   ],
   "source": [
    "arr3d[(arr3d % 2 == 1) & (arr3d > 3)]"
   ]
  },
  {
   "cell_type": "code",
   "execution_count": 0,
   "metadata": {
    "colab": {},
    "colab_type": "code",
    "id": "sNpho7Fii71I"
   },
   "outputs": [],
   "source": [
    "arr_slice = arr3d[:, :, 0:2]"
   ]
  },
  {
   "cell_type": "code",
   "execution_count": 0,
   "metadata": {
    "colab": {
     "base_uri": "https://localhost:8080/",
     "height": 35
    },
    "colab_type": "code",
    "id": "e0tImPWtjKZq",
    "outputId": "1a2d4df5-ef18-4dca-90ce-1a567ebc1dea"
   },
   "outputs": [
    {
     "name": "stdout",
     "output_type": "stream",
     "text": [
      "<class 'numpy.ndarray'>\n"
     ]
    }
   ],
   "source": [
    "print(type(arr_slice))"
   ]
  },
  {
   "cell_type": "code",
   "execution_count": 0,
   "metadata": {
    "colab": {
     "base_uri": "https://localhost:8080/",
     "height": 35
    },
    "colab_type": "code",
    "id": "wW8qbXG3jMz_",
    "outputId": "783e8263-b5dc-478b-ebe5-3f2e79ab5d16"
   },
   "outputs": [
    {
     "data": {
      "text/plain": [
       "3"
      ]
     },
     "execution_count": 71,
     "metadata": {
      "tags": []
     },
     "output_type": "execute_result"
    }
   ],
   "source": [
    "arr_slice.ndim"
   ]
  },
  {
   "cell_type": "code",
   "execution_count": 0,
   "metadata": {
    "colab": {
     "base_uri": "https://localhost:8080/",
     "height": 35
    },
    "colab_type": "code",
    "id": "vPihxiG5jOlq",
    "outputId": "20d2b611-3d58-49fb-da0a-f32b70e4c2de"
   },
   "outputs": [
    {
     "data": {
      "text/plain": [
       "(2, 2, 2)"
      ]
     },
     "execution_count": 72,
     "metadata": {
      "tags": []
     },
     "output_type": "execute_result"
    }
   ],
   "source": [
    "arr_slice.shape"
   ]
  },
  {
   "cell_type": "code",
   "execution_count": 0,
   "metadata": {
    "colab": {
     "base_uri": "https://localhost:8080/",
     "height": 35
    },
    "colab_type": "code",
    "id": "zaHMiAmjjPxs",
    "outputId": "f9ad936f-0e9a-4970-fd21-8e76f656e274"
   },
   "outputs": [
    {
     "data": {
      "text/plain": [
       "2"
      ]
     },
     "execution_count": 73,
     "metadata": {
      "tags": []
     },
     "output_type": "execute_result"
    }
   ],
   "source": [
    "arr_slice[0, 0, 1]"
   ]
  },
  {
   "cell_type": "code",
   "execution_count": 0,
   "metadata": {
    "colab": {},
    "colab_type": "code",
    "id": "eTlgT-ACjTRu"
   },
   "outputs": [],
   "source": [
    "arr_slice[0, 0, 0] = 1729"
   ]
  },
  {
   "cell_type": "code",
   "execution_count": 0,
   "metadata": {
    "colab": {
     "base_uri": "https://localhost:8080/",
     "height": 109
    },
    "colab_type": "code",
    "id": "mDHn_xdUjYfM",
    "outputId": "7ad9978a-9866-43e2-838d-b2e735686fe1"
   },
   "outputs": [
    {
     "data": {
      "text/plain": [
       "array([[[1729,    2],\n",
       "        [   4,    5]],\n",
       "\n",
       "       [[   7,    8],\n",
       "        [  10,   11]]])"
      ]
     },
     "execution_count": 75,
     "metadata": {
      "tags": []
     },
     "output_type": "execute_result"
    }
   ],
   "source": [
    "arr_slice"
   ]
  },
  {
   "cell_type": "code",
   "execution_count": 0,
   "metadata": {
    "colab": {
     "base_uri": "https://localhost:8080/",
     "height": 109
    },
    "colab_type": "code",
    "id": "OGxEtXe6jZPu",
    "outputId": "d7fe6d0f-606a-4a90-dbe2-974d7895bdd8"
   },
   "outputs": [
    {
     "data": {
      "text/plain": [
       "array([[[1729,    2,    3],\n",
       "        [   4,    5,    6]],\n",
       "\n",
       "       [[   7,    8,    9],\n",
       "        [  10,   11,   12]]])"
      ]
     },
     "execution_count": 77,
     "metadata": {
      "tags": []
     },
     "output_type": "execute_result"
    }
   ],
   "source": [
    "arr3d"
   ]
  },
  {
   "cell_type": "code",
   "execution_count": 0,
   "metadata": {
    "colab": {},
    "colab_type": "code",
    "id": "zrZaEpZLjdna"
   },
   "outputs": [],
   "source": [
    "arr_slice = np.copy(arr3d[:, :, 0:2])"
   ]
  },
  {
   "cell_type": "code",
   "execution_count": 0,
   "metadata": {
    "colab": {},
    "colab_type": "code",
    "id": "0sID_b9bjtIy"
   },
   "outputs": [],
   "source": [
    "arr_slice[0, 0, 0] = 1"
   ]
  },
  {
   "cell_type": "code",
   "execution_count": 0,
   "metadata": {
    "colab": {
     "base_uri": "https://localhost:8080/",
     "height": 109
    },
    "colab_type": "code",
    "id": "LcjLIsrijvUn",
    "outputId": "897e4c61-042a-4cf2-cf1e-f38a32f7d03b"
   },
   "outputs": [
    {
     "data": {
      "text/plain": [
       "array([[[ 1,  2],\n",
       "        [ 4,  5]],\n",
       "\n",
       "       [[ 7,  8],\n",
       "        [10, 11]]])"
      ]
     },
     "execution_count": 80,
     "metadata": {
      "tags": []
     },
     "output_type": "execute_result"
    }
   ],
   "source": [
    "arr_slice"
   ]
  },
  {
   "cell_type": "code",
   "execution_count": 0,
   "metadata": {
    "colab": {
     "base_uri": "https://localhost:8080/",
     "height": 109
    },
    "colab_type": "code",
    "id": "zrGt18rdjwIh",
    "outputId": "c1c1d240-e70a-4935-f651-b41a9550132d"
   },
   "outputs": [
    {
     "data": {
      "text/plain": [
       "array([[[1729,    2,    3],\n",
       "        [   4,    5,    6]],\n",
       "\n",
       "       [[   7,    8,    9],\n",
       "        [  10,   11,   12]]])"
      ]
     },
     "execution_count": 81,
     "metadata": {
      "tags": []
     },
     "output_type": "execute_result"
    }
   ],
   "source": [
    "arr3d"
   ]
  },
  {
   "cell_type": "code",
   "execution_count": 0,
   "metadata": {
    "colab": {},
    "colab_type": "code",
    "id": "l5p33XQMjw43"
   },
   "outputs": [],
   "source": [
    "arr = np.random.randint(0, 10, (5))"
   ]
  },
  {
   "cell_type": "code",
   "execution_count": 0,
   "metadata": {
    "colab": {
     "base_uri": "https://localhost:8080/",
     "height": 35
    },
    "colab_type": "code",
    "id": "ceBichNRj4k7",
    "outputId": "17472078-7bd6-4120-9386-0d06e7accf04"
   },
   "outputs": [
    {
     "data": {
      "text/plain": [
       "array([9, 7, 9, 4, 6])"
      ]
     },
     "execution_count": 85,
     "metadata": {
      "tags": []
     },
     "output_type": "execute_result"
    }
   ],
   "source": [
    "arr"
   ]
  },
  {
   "cell_type": "code",
   "execution_count": 0,
   "metadata": {
    "colab": {},
    "colab_type": "code",
    "id": "E13t8SUBj5Vi"
   },
   "outputs": [],
   "source": [
    "my_indices = [1, 3, 4]"
   ]
  },
  {
   "cell_type": "code",
   "execution_count": 0,
   "metadata": {
    "colab": {
     "base_uri": "https://localhost:8080/",
     "height": 35
    },
    "colab_type": "code",
    "id": "_iOe0XLPkBgw",
    "outputId": "ed2fd99c-20ec-4212-989e-80e3fedfb25f"
   },
   "outputs": [
    {
     "data": {
      "text/plain": [
       "array([7, 4, 6])"
      ]
     },
     "execution_count": 87,
     "metadata": {
      "tags": []
     },
     "output_type": "execute_result"
    }
   ],
   "source": [
    "arr[my_indices]"
   ]
  },
  {
   "cell_type": "code",
   "execution_count": 15,
   "metadata": {},
   "outputs": [
    {
     "data": {
      "text/plain": [
       "array([[[ 3,  5,  7],\n",
       "        [ 9, 11, 13]],\n",
       "\n",
       "       [[15, 17, 19],\n",
       "        [21, 23, 25]]])"
      ]
     },
     "execution_count": 15,
     "metadata": {},
     "output_type": "execute_result"
    }
   ],
   "source": [
    "2*arr3d + 1"
   ]
  },
  {
   "cell_type": "markdown",
   "metadata": {
    "colab_type": "text",
    "id": "PDFmEbTwmJyr"
   },
   "source": [
    "# Numpy Operations"
   ]
  },
  {
   "cell_type": "code",
   "execution_count": 6,
   "metadata": {
    "colab": {},
    "colab_type": "code",
    "id": "wS4XMMZykCzn"
   },
   "outputs": [],
   "source": [
    "arr1 = np.random.rand(3, 4)\n",
    "arr2 = np.random.rand(3, 4)"
   ]
  },
  {
   "cell_type": "code",
   "execution_count": 0,
   "metadata": {
    "colab": {
     "base_uri": "https://localhost:8080/",
     "height": 72
    },
    "colab_type": "code",
    "id": "DORY4pHZma5v",
    "outputId": "47d01ef9-4abb-46dc-a6bb-8abada83bf26"
   },
   "outputs": [
    {
     "data": {
      "text/plain": [
       "array([[0.22962077, 0.51507481, 0.73337689, 0.0732048 ],\n",
       "       [0.84785699, 0.1344861 , 0.41097148, 0.79916757],\n",
       "       [0.29367862, 0.72556205, 0.33804899, 0.70370708]])"
      ]
     },
     "execution_count": 92,
     "metadata": {
      "tags": []
     },
     "output_type": "execute_result"
    }
   ],
   "source": [
    "arr1"
   ]
  },
  {
   "cell_type": "code",
   "execution_count": 0,
   "metadata": {
    "colab": {
     "base_uri": "https://localhost:8080/",
     "height": 72
    },
    "colab_type": "code",
    "id": "pPVyELXgmcTh",
    "outputId": "54e41baf-4df6-4340-dea1-4109c9182ab5"
   },
   "outputs": [
    {
     "data": {
      "text/plain": [
       "array([[0.98809128, 0.08682292, 0.89697772, 0.51651258],\n",
       "       [0.7306907 , 0.27225471, 0.56516733, 0.84888119],\n",
       "       [0.02934795, 0.65008809, 0.38822344, 0.74712479]])"
      ]
     },
     "execution_count": 93,
     "metadata": {
      "tags": []
     },
     "output_type": "execute_result"
    }
   ],
   "source": [
    "arr2"
   ]
  },
  {
   "cell_type": "code",
   "execution_count": 0,
   "metadata": {
    "colab": {
     "base_uri": "https://localhost:8080/",
     "height": 72
    },
    "colab_type": "code",
    "id": "xoPI0KEUmOIN",
    "outputId": "9d257158-267f-4bb6-b515-4cefabaa974d"
   },
   "outputs": [
    {
     "data": {
      "text/plain": [
       "array([[1.21771204, 0.60189773, 1.63035461, 0.58971738],\n",
       "       [1.57854769, 0.40674081, 0.97613881, 1.64804876],\n",
       "       [0.32302657, 1.37565014, 0.72627243, 1.45083187]])"
      ]
     },
     "execution_count": 94,
     "metadata": {
      "tags": []
     },
     "output_type": "execute_result"
    }
   ],
   "source": [
    "arr1 + arr2"
   ]
  },
  {
   "cell_type": "code",
   "execution_count": 0,
   "metadata": {
    "colab": {
     "base_uri": "https://localhost:8080/",
     "height": 72
    },
    "colab_type": "code",
    "id": "Nge4kKKzmUCa",
    "outputId": "a290c5cf-f8f2-48bd-9c4e-58fb8b41886f"
   },
   "outputs": [
    {
     "data": {
      "text/plain": [
       "array([[-0.75847051,  0.4282519 , -0.16360083, -0.44330778],\n",
       "       [ 0.1171663 , -0.13776861, -0.15419585, -0.04971363],\n",
       "       [ 0.26433067,  0.07547396, -0.05017445, -0.04341771]])"
      ]
     },
     "execution_count": 95,
     "metadata": {
      "tags": []
     },
     "output_type": "execute_result"
    }
   ],
   "source": [
    "arr1 - arr2"
   ]
  },
  {
   "cell_type": "code",
   "execution_count": 0,
   "metadata": {
    "colab": {
     "base_uri": "https://localhost:8080/",
     "height": 72
    },
    "colab_type": "code",
    "id": "yqwgwhAlmgiC",
    "outputId": "0c633e6b-bc54-4030-e4d4-4560f0c6f962"
   },
   "outputs": [
    {
     "data": {
      "text/plain": [
       "array([[0.22688627, 0.0447203 , 0.65782273, 0.0378112 ],\n",
       "       [0.61952122, 0.03661447, 0.23226765, 0.67839832],\n",
       "       [0.00861886, 0.47167925, 0.13123854, 0.525757  ]])"
      ]
     },
     "execution_count": 96,
     "metadata": {
      "tags": []
     },
     "output_type": "execute_result"
    }
   ],
   "source": [
    "arr1 * arr2"
   ]
  },
  {
   "cell_type": "code",
   "execution_count": 0,
   "metadata": {
    "colab": {
     "base_uri": "https://localhost:8080/",
     "height": 72
    },
    "colab_type": "code",
    "id": "C_o4c5b7mhs2",
    "outputId": "6a841554-b81f-4e4e-8360-68c64e7dc5f9"
   },
   "outputs": [
    {
     "data": {
      "text/plain": [
       "array([[ 0.23238821,  5.93247539,  0.81760881,  0.14172897],\n",
       "       [ 1.16035006,  0.49397162,  0.72716779,  0.9414363 ],\n",
       "       [10.0067855 ,  1.11609804,  0.87075884,  0.94188694]])"
      ]
     },
     "execution_count": 97,
     "metadata": {
      "tags": []
     },
     "output_type": "execute_result"
    }
   ],
   "source": [
    "arr1 / arr2"
   ]
  },
  {
   "cell_type": "code",
   "execution_count": 7,
   "metadata": {
    "colab": {
     "base_uri": "https://localhost:8080/",
     "height": 72
    },
    "colab_type": "code",
    "id": "5girn41lmiz5",
    "outputId": "f9ebe092-888f-456c-f36c-b3bbe2ddaad0"
   },
   "outputs": [
    {
     "data": {
      "text/plain": [
       "array([[1.38056374, 2.59091229, 1.15985133, 1.59246105],\n",
       "       [2.10757007, 2.54477607, 1.08212659, 1.94613405],\n",
       "       [2.11007226, 1.63853372, 1.61161732, 1.33345443]])"
      ]
     },
     "execution_count": 7,
     "metadata": {},
     "output_type": "execute_result"
    }
   ],
   "source": [
    "np.exp(arr1)"
   ]
  },
  {
   "cell_type": "code",
   "execution_count": 8,
   "metadata": {
    "colab": {
     "base_uri": "https://localhost:8080/",
     "height": 72
    },
    "colab_type": "code",
    "id": "CYMOIqXvmm1E",
    "outputId": "7861960f-32b1-460a-e0b5-58d9a9e352e0"
   },
   "outputs": [
    {
     "data": {
      "text/plain": [
       "array([[0.32249193, 0.95201005, 0.14829184, 0.46528065],\n",
       "       [0.74553566, 0.93404266, 0.07892817, 0.66584487],\n",
       "       [0.74672219, 0.49380177, 0.47723822, 0.28777289]])"
      ]
     },
     "execution_count": 8,
     "metadata": {},
     "output_type": "execute_result"
    }
   ],
   "source": [
    "np.log(np.exp(arr1))"
   ]
  },
  {
   "cell_type": "code",
   "execution_count": 9,
   "metadata": {},
   "outputs": [
    {
     "data": {
      "text/plain": [
       "array([[False,  True, False, False],\n",
       "       [ True, False, False,  True],\n",
       "       [False,  True,  True,  True]])"
      ]
     },
     "execution_count": 9,
     "metadata": {},
     "output_type": "execute_result"
    }
   ],
   "source": [
    "arr1 == np.log(np.exp(arr1))"
   ]
  },
  {
   "cell_type": "code",
   "execution_count": 0,
   "metadata": {
    "colab": {
     "base_uri": "https://localhost:8080/",
     "height": 72
    },
    "colab_type": "code",
    "id": "V5rtJRhhmq5k",
    "outputId": "ffdae78c-e984-4fbd-ffb4-5711a21d53aa"
   },
   "outputs": [
    {
     "data": {
      "text/plain": [
       "array([[0.22760826, 0.49259996, 0.6693822 , 0.07313943],\n",
       "       [0.74986433, 0.13408107, 0.3995001 , 0.71677588],\n",
       "       [0.2894753 , 0.66355603, 0.33164714, 0.64704858]])"
      ]
     },
     "execution_count": 101,
     "metadata": {
      "tags": []
     },
     "output_type": "execute_result"
    }
   ],
   "source": [
    "np.sin(arr1)"
   ]
  },
  {
   "cell_type": "code",
   "execution_count": 0,
   "metadata": {
    "colab": {
     "base_uri": "https://localhost:8080/",
     "height": 72
    },
    "colab_type": "code",
    "id": "haio7RijmyCA",
    "outputId": "db914133-cb88-4280-c0c3-d7bf3e1313e3"
   },
   "outputs": [
    {
     "data": {
      "text/plain": [
       "array([[0.97375278, 0.87025587, 0.74291821, 0.99732173],\n",
       "       [0.66159163, 0.99097037, 0.91673315, 0.69730362],\n",
       "       [0.95718548, 0.74812659, 0.94340351, 0.76244877]])"
      ]
     },
     "execution_count": 103,
     "metadata": {
      "tags": []
     },
     "output_type": "execute_result"
    }
   ],
   "source": [
    "np.cos(arr1)"
   ]
  },
  {
   "cell_type": "code",
   "execution_count": 0,
   "metadata": {
    "colab": {
     "base_uri": "https://localhost:8080/",
     "height": 72
    },
    "colab_type": "code",
    "id": "XB5NNm2SmzKo",
    "outputId": "3c195c03-2f5a-4c84-f30a-8266987a4301"
   },
   "outputs": [
    {
     "data": {
      "text/plain": [
       "array([[0.47918761, 0.71768713, 0.85637427, 0.27056385],\n",
       "       [0.9207915 , 0.36672347, 0.64107057, 0.89396173],\n",
       "       [0.54192123, 0.8517993 , 0.58141981, 0.8388725 ]])"
      ]
     },
     "execution_count": 104,
     "metadata": {
      "tags": []
     },
     "output_type": "execute_result"
    }
   ],
   "source": [
    "np.sqrt(arr1)"
   ]
  },
  {
   "cell_type": "code",
   "execution_count": 0,
   "metadata": {
    "colab": {},
    "colab_type": "code",
    "id": "PmATG2ONm2KE"
   },
   "outputs": [],
   "source": [
    "arr_inv = 1 / arr1"
   ]
  },
  {
   "cell_type": "code",
   "execution_count": 0,
   "metadata": {
    "colab": {
     "base_uri": "https://localhost:8080/",
     "height": 72
    },
    "colab_type": "code",
    "id": "pZMKQOMEnCpu",
    "outputId": "be733056-f6b4-4bed-a8f6-eed4b71c594c"
   },
   "outputs": [
    {
     "data": {
      "text/plain": [
       "array([[ 4.35500683,  1.94146554,  1.36355538, 13.66030672],\n",
       "       [ 1.17944418,  7.43571259,  2.43325888,  1.25130203],\n",
       "       [ 3.40508274,  1.37824187,  2.9581511 ,  1.42104581]])"
      ]
     },
     "execution_count": 106,
     "metadata": {
      "tags": []
     },
     "output_type": "execute_result"
    }
   ],
   "source": [
    "arr_inv"
   ]
  },
  {
   "cell_type": "code",
   "execution_count": 0,
   "metadata": {
    "colab": {},
    "colab_type": "code",
    "id": "lpgGtxC9nFDP"
   },
   "outputs": [],
   "source": [
    "arr1 = np.zeros((3, 5))"
   ]
  },
  {
   "cell_type": "code",
   "execution_count": 0,
   "metadata": {
    "colab": {
     "base_uri": "https://localhost:8080/",
     "height": 74
    },
    "colab_type": "code",
    "id": "6XF8aFa-nG3O",
    "outputId": "c4be97c6-6fa9-415d-806e-4fb5d04783bc"
   },
   "outputs": [
    {
     "name": "stderr",
     "output_type": "stream",
     "text": [
      "/usr/local/lib/python3.6/dist-packages/ipykernel_launcher.py:1: RuntimeWarning: divide by zero encountered in true_divide\n",
      "  \"\"\"Entry point for launching an IPython kernel.\n"
     ]
    }
   ],
   "source": [
    "arr_inv = 1/arr1"
   ]
  },
  {
   "cell_type": "code",
   "execution_count": 0,
   "metadata": {
    "colab": {
     "base_uri": "https://localhost:8080/",
     "height": 72
    },
    "colab_type": "code",
    "id": "eJ1dg9DinJi3",
    "outputId": "682bb215-f3b3-4d9c-f7d0-400105b74a9b"
   },
   "outputs": [
    {
     "name": "stdout",
     "output_type": "stream",
     "text": [
      "[[inf inf inf inf inf]\n",
      " [inf inf inf inf inf]\n",
      " [inf inf inf inf inf]]\n"
     ]
    }
   ],
   "source": [
    "print(arr_inv)"
   ]
  },
  {
   "cell_type": "code",
   "execution_count": 0,
   "metadata": {
    "colab": {
     "base_uri": "https://localhost:8080/",
     "height": 35
    },
    "colab_type": "code",
    "id": "IyX2awRPnNPM",
    "outputId": "fac4da50-1ac6-45e5-ede3-73297b700a85"
   },
   "outputs": [
    {
     "data": {
      "text/plain": [
       "True"
      ]
     },
     "execution_count": 111,
     "metadata": {
      "tags": []
     },
     "output_type": "execute_result"
    }
   ],
   "source": [
    "np.isinf(arr_inv[0,0])"
   ]
  },
  {
   "cell_type": "code",
   "execution_count": 0,
   "metadata": {
    "colab": {
     "base_uri": "https://localhost:8080/",
     "height": 72
    },
    "colab_type": "code",
    "id": "Ty_C2cOznVh2",
    "outputId": "a18628c6-64a0-489a-cd5c-4750d16d26e4"
   },
   "outputs": [
    {
     "data": {
      "text/plain": [
       "array([[ True,  True,  True,  True,  True],\n",
       "       [ True,  True,  True,  True,  True],\n",
       "       [ True,  True,  True,  True,  True]])"
      ]
     },
     "execution_count": 112,
     "metadata": {
      "tags": []
     },
     "output_type": "execute_result"
    }
   ],
   "source": [
    "np.isinf(arr_inv)"
   ]
  },
  {
   "cell_type": "markdown",
   "metadata": {
    "colab_type": "text",
    "id": "xPFrKz2xuH5K"
   },
   "source": [
    "# Broadcasting"
   ]
  },
  {
   "cell_type": "code",
   "execution_count": 0,
   "metadata": {
    "colab": {},
    "colab_type": "code",
    "id": "AqW-zutVsaGD"
   },
   "outputs": [],
   "source": [
    "arr1 = np.arange(6)"
   ]
  },
  {
   "cell_type": "code",
   "execution_count": 0,
   "metadata": {
    "colab": {
     "base_uri": "https://localhost:8080/",
     "height": 35
    },
    "colab_type": "code",
    "id": "sqt31ffwuLr1",
    "outputId": "8f72c221-0d08-41c0-eed5-125b68549a53"
   },
   "outputs": [
    {
     "data": {
      "text/plain": [
       "(6,)"
      ]
     },
     "execution_count": 154,
     "metadata": {
      "tags": []
     },
     "output_type": "execute_result"
    }
   ],
   "source": [
    "arr1.shape"
   ]
  },
  {
   "cell_type": "code",
   "execution_count": 0,
   "metadata": {
    "colab": {
     "base_uri": "https://localhost:8080/",
     "height": 35
    },
    "colab_type": "code",
    "id": "egWan3VuuOg1",
    "outputId": "11d40114-4968-44de-fd33-997b6d5de2e9"
   },
   "outputs": [
    {
     "data": {
      "text/plain": [
       "array([0, 1, 2, 3, 4, 5])"
      ]
     },
     "execution_count": 155,
     "metadata": {
      "tags": []
     },
     "output_type": "execute_result"
    }
   ],
   "source": [
    "arr1"
   ]
  },
  {
   "cell_type": "code",
   "execution_count": 0,
   "metadata": {
    "colab": {},
    "colab_type": "code",
    "id": "Xi38O_2kuQr1"
   },
   "outputs": [],
   "source": [
    "arr1 = arr1.reshape((3, 2))"
   ]
  },
  {
   "cell_type": "code",
   "execution_count": 0,
   "metadata": {
    "colab": {
     "base_uri": "https://localhost:8080/",
     "height": 35
    },
    "colab_type": "code",
    "id": "vL10s1A9uVWe",
    "outputId": "c215f998-73b7-4d91-cef3-181df1d20a5c"
   },
   "outputs": [
    {
     "data": {
      "text/plain": [
       "(3, 2)"
      ]
     },
     "execution_count": 157,
     "metadata": {
      "tags": []
     },
     "output_type": "execute_result"
    }
   ],
   "source": [
    "arr1.shape"
   ]
  },
  {
   "cell_type": "code",
   "execution_count": 0,
   "metadata": {
    "colab": {
     "base_uri": "https://localhost:8080/",
     "height": 72
    },
    "colab_type": "code",
    "id": "_f1rCnWcuWyl",
    "outputId": "a4d9bc68-6eec-4eef-f6b8-1e3f9dd5b502"
   },
   "outputs": [
    {
     "data": {
      "text/plain": [
       "array([[0, 1],\n",
       "       [2, 3],\n",
       "       [4, 5]])"
      ]
     },
     "execution_count": 158,
     "metadata": {
      "tags": []
     },
     "output_type": "execute_result"
    }
   ],
   "source": [
    "arr1"
   ]
  },
  {
   "cell_type": "code",
   "execution_count": 0,
   "metadata": {
    "colab": {},
    "colab_type": "code",
    "id": "IPPjvzAxuXei"
   },
   "outputs": [],
   "source": [
    "arr2 = np.arange(6).reshape((3, 2))"
   ]
  },
  {
   "cell_type": "code",
   "execution_count": 0,
   "metadata": {
    "colab": {
     "base_uri": "https://localhost:8080/",
     "height": 72
    },
    "colab_type": "code",
    "id": "C-r2H2Sjuisn",
    "outputId": "72d24e3d-3e9e-4e6f-d747-f37e57845251"
   },
   "outputs": [
    {
     "data": {
      "text/plain": [
       "array([[ 0,  2],\n",
       "       [ 4,  6],\n",
       "       [ 8, 10]])"
      ]
     },
     "execution_count": 160,
     "metadata": {
      "tags": []
     },
     "output_type": "execute_result"
    }
   ],
   "source": [
    "arr1 + arr2"
   ]
  },
  {
   "cell_type": "code",
   "execution_count": 0,
   "metadata": {
    "colab": {
     "base_uri": "https://localhost:8080/",
     "height": 35
    },
    "colab_type": "code",
    "id": "9oi2bv4hukkP",
    "outputId": "1b0abb37-7106-44c7-b6d3-7ebc25e50ea9"
   },
   "outputs": [
    {
     "data": {
      "text/plain": [
       "array([[0, 1]])"
      ]
     },
     "execution_count": 162,
     "metadata": {
      "tags": []
     },
     "output_type": "execute_result"
    }
   ],
   "source": [
    "arr2[0].reshape((1, 2))"
   ]
  },
  {
   "cell_type": "code",
   "execution_count": 0,
   "metadata": {
    "colab": {
     "base_uri": "https://localhost:8080/",
     "height": 72
    },
    "colab_type": "code",
    "id": "Mh_OJr-buo_W",
    "outputId": "f88a1519-3a92-4e90-cd84-97764cefc0f7"
   },
   "outputs": [
    {
     "data": {
      "text/plain": [
       "array([[0, 2],\n",
       "       [2, 4],\n",
       "       [4, 6]])"
      ]
     },
     "execution_count": 163,
     "metadata": {
      "tags": []
     },
     "output_type": "execute_result"
    }
   ],
   "source": [
    "arr1 + arr2[0].reshape((1, 2)) # (3, 2) + (1, 2)"
   ]
  },
  {
   "cell_type": "code",
   "execution_count": 0,
   "metadata": {
    "colab": {
     "base_uri": "https://localhost:8080/",
     "height": 72
    },
    "colab_type": "code",
    "id": "CjJhZVV0uvW1",
    "outputId": "332a175f-4079-4742-99c5-98afb834206c"
   },
   "outputs": [
    {
     "data": {
      "text/plain": [
       "array([[0],\n",
       "       [2],\n",
       "       [4]])"
      ]
     },
     "execution_count": 165,
     "metadata": {
      "tags": []
     },
     "output_type": "execute_result"
    }
   ],
   "source": [
    "arr2[:, 0].reshape((3, 1))"
   ]
  },
  {
   "cell_type": "code",
   "execution_count": 0,
   "metadata": {
    "colab": {
     "base_uri": "https://localhost:8080/",
     "height": 72
    },
    "colab_type": "code",
    "id": "pi1IdIxvvBP5",
    "outputId": "99382667-3022-4bfe-b396-027309009f29"
   },
   "outputs": [
    {
     "data": {
      "text/plain": [
       "array([[0, 1],\n",
       "       [4, 5],\n",
       "       [8, 9]])"
      ]
     },
     "execution_count": 166,
     "metadata": {
      "tags": []
     },
     "output_type": "execute_result"
    }
   ],
   "source": [
    "arr1 + arr2[:, 0].reshape((3, 1)) # (3, 2) + (3, 1)"
   ]
  },
  {
   "cell_type": "code",
   "execution_count": 0,
   "metadata": {
    "colab": {
     "base_uri": "https://localhost:8080/",
     "height": 72
    },
    "colab_type": "code",
    "id": "7sbIPHp8vF9S",
    "outputId": "3d1a5fde-3570-4172-be1a-3e74587ce2c4"
   },
   "outputs": [
    {
     "data": {
      "text/plain": [
       "array([[1, 2],\n",
       "       [3, 4],\n",
       "       [5, 6]])"
      ]
     },
     "execution_count": 167,
     "metadata": {
      "tags": []
     },
     "output_type": "execute_result"
    }
   ],
   "source": [
    "arr1 + 1"
   ]
  },
  {
   "cell_type": "code",
   "execution_count": 0,
   "metadata": {
    "colab": {},
    "colab_type": "code",
    "id": "A227CltQvQbI"
   },
   "outputs": [],
   "source": [
    "arr1 = np.arange(24).reshape((2, 3, 4))"
   ]
  },
  {
   "cell_type": "code",
   "execution_count": 0,
   "metadata": {
    "colab": {
     "base_uri": "https://localhost:8080/",
     "height": 146
    },
    "colab_type": "code",
    "id": "DiC-4h6uvXBa",
    "outputId": "f07aad9b-58f4-4bc6-85cb-f9d723167af7"
   },
   "outputs": [
    {
     "data": {
      "text/plain": [
       "array([[[ 0,  1,  2,  3],\n",
       "        [ 4,  5,  6,  7],\n",
       "        [ 8,  9, 10, 11]],\n",
       "\n",
       "       [[12, 13, 14, 15],\n",
       "        [16, 17, 18, 19],\n",
       "        [20, 21, 22, 23]]])"
      ]
     },
     "execution_count": 169,
     "metadata": {
      "tags": []
     },
     "output_type": "execute_result"
    }
   ],
   "source": [
    "arr1"
   ]
  },
  {
   "cell_type": "code",
   "execution_count": 0,
   "metadata": {
    "colab": {},
    "colab_type": "code",
    "id": "8Erkp9HFvXao"
   },
   "outputs": [],
   "source": [
    "arr2 = np.ones((1, 4))"
   ]
  },
  {
   "cell_type": "code",
   "execution_count": 0,
   "metadata": {
    "colab": {
     "base_uri": "https://localhost:8080/",
     "height": 146
    },
    "colab_type": "code",
    "id": "2LtMmF9_vbqe",
    "outputId": "dde40933-c4cf-4e01-cbb0-4eed7e4613fc"
   },
   "outputs": [
    {
     "data": {
      "text/plain": [
       "array([[[ 1.,  2.,  3.,  4.],\n",
       "        [ 5.,  6.,  7.,  8.],\n",
       "        [ 9., 10., 11., 12.]],\n",
       "\n",
       "       [[13., 14., 15., 16.],\n",
       "        [17., 18., 19., 20.],\n",
       "        [21., 22., 23., 24.]]])"
      ]
     },
     "execution_count": 171,
     "metadata": {
      "tags": []
     },
     "output_type": "execute_result"
    }
   ],
   "source": [
    "arr1 + arr2   # (2, 3, 4) + (1, 4)"
   ]
  },
  {
   "cell_type": "code",
   "execution_count": 0,
   "metadata": {
    "colab": {},
    "colab_type": "code",
    "id": "lUra2PQWvd-w"
   },
   "outputs": [],
   "source": [
    "arr1 = np.arange(4)"
   ]
  },
  {
   "cell_type": "code",
   "execution_count": 0,
   "metadata": {
    "colab": {},
    "colab_type": "code",
    "id": "Z3B-NNfcvq8j"
   },
   "outputs": [],
   "source": [
    "arr2 = np.arange(5)"
   ]
  },
  {
   "cell_type": "code",
   "execution_count": 0,
   "metadata": {
    "colab": {
     "base_uri": "https://localhost:8080/",
     "height": 35
    },
    "colab_type": "code",
    "id": "4tz_amtEvsAC",
    "outputId": "daf6a047-9999-4484-e470-9ba8aa8c61b1"
   },
   "outputs": [
    {
     "name": "stdout",
     "output_type": "stream",
     "text": [
      "(4,) (5,)\n"
     ]
    }
   ],
   "source": [
    "print(arr1.shape, arr2.shape)"
   ]
  },
  {
   "cell_type": "code",
   "execution_count": 0,
   "metadata": {
    "colab": {
     "base_uri": "https://localhost:8080/",
     "height": 191
    },
    "colab_type": "code",
    "id": "MOuOt1knvtop",
    "outputId": "2c1b1e17-c0d7-466c-9510-408a4eff1017"
   },
   "outputs": [
    {
     "ename": "ValueError",
     "evalue": "ignored",
     "output_type": "error",
     "traceback": [
      "\u001b[0;31m---------------------------------------------------------------------------\u001b[0m",
      "\u001b[0;31mValueError\u001b[0m                                Traceback (most recent call last)",
      "\u001b[0;32m<ipython-input-175-d972d21b639e>\u001b[0m in \u001b[0;36m<module>\u001b[0;34m()\u001b[0m\n\u001b[0;32m----> 1\u001b[0;31m \u001b[0marr1\u001b[0m \u001b[0;34m+\u001b[0m \u001b[0marr2\u001b[0m\u001b[0;34m\u001b[0m\u001b[0;34m\u001b[0m\u001b[0m\n\u001b[0m",
      "\u001b[0;31mValueError\u001b[0m: operands could not be broadcast together with shapes (4,) (5,) "
     ]
    }
   ],
   "source": [
    "arr1 + arr2"
   ]
  },
  {
   "cell_type": "code",
   "execution_count": 0,
   "metadata": {
    "colab": {
     "base_uri": "https://localhost:8080/",
     "height": 91
    },
    "colab_type": "code",
    "id": "96hmWV1rvun3",
    "outputId": "07c2ae21-ddc9-4f38-c1b2-eed62c81f8a6"
   },
   "outputs": [
    {
     "data": {
      "text/plain": [
       "array([[0, 1, 2, 3, 4],\n",
       "       [1, 2, 3, 4, 5],\n",
       "       [2, 3, 4, 5, 6],\n",
       "       [3, 4, 5, 6, 7]])"
      ]
     },
     "execution_count": 176,
     "metadata": {
      "tags": []
     },
     "output_type": "execute_result"
    }
   ],
   "source": [
    "arr1.reshape(4, 1) + arr2  # (4, 1) + (5)"
   ]
  },
  {
   "cell_type": "code",
   "execution_count": 0,
   "metadata": {
    "colab": {},
    "colab_type": "code",
    "id": "KuXYtTzFv5jX"
   },
   "outputs": [],
   "source": [
    "arr = np.random.rand(3, 3)"
   ]
  },
  {
   "cell_type": "code",
   "execution_count": 0,
   "metadata": {
    "colab": {
     "base_uri": "https://localhost:8080/",
     "height": 72
    },
    "colab_type": "code",
    "id": "1tDchCAZwEqA",
    "outputId": "5ab43c1c-4710-44c6-c01c-4569417ff559"
   },
   "outputs": [
    {
     "data": {
      "text/plain": [
       "array([[0.34623918, 0.14074649, 0.2471035 ],\n",
       "       [0.82139936, 0.42968499, 0.76271341],\n",
       "       [0.16353789, 0.85315848, 0.27458889]])"
      ]
     },
     "execution_count": 180,
     "metadata": {
      "tags": []
     },
     "output_type": "execute_result"
    }
   ],
   "source": [
    "arr"
   ]
  },
  {
   "cell_type": "code",
   "execution_count": 0,
   "metadata": {
    "colab": {
     "base_uri": "https://localhost:8080/",
     "height": 72
    },
    "colab_type": "code",
    "id": "d8Z9SZFkwL8p",
    "outputId": "bc6ce988-a31c-47ad-8500-7c859287124b"
   },
   "outputs": [
    {
     "data": {
      "text/plain": [
       "array([[0.34623918, 0.82139936, 0.16353789],\n",
       "       [0.14074649, 0.42968499, 0.85315848],\n",
       "       [0.2471035 , 0.76271341, 0.27458889]])"
      ]
     },
     "execution_count": 181,
     "metadata": {
      "tags": []
     },
     "output_type": "execute_result"
    }
   ],
   "source": [
    "arr.T"
   ]
  },
  {
   "cell_type": "markdown",
   "metadata": {
    "colab_type": "text",
    "id": "sdv4it47xrkx"
   },
   "source": [
    "# File handling"
   ]
  },
  {
   "cell_type": "code",
   "execution_count": 0,
   "metadata": {
    "colab": {
     "base_uri": "https://localhost:8080/",
     "height": 344
    },
    "colab_type": "code",
    "id": "ppMyzFy8wMlv",
    "outputId": "ba3d66b5-9ff7-41a0-8dc4-b3caa559544b"
   },
   "outputs": [
    {
     "ename": "ValueError",
     "evalue": "ignored",
     "output_type": "error",
     "traceback": [
      "\u001b[0;31m---------------------------------------------------------------------------\u001b[0m",
      "\u001b[0;31mValueError\u001b[0m                                Traceback (most recent call last)",
      "\u001b[0;32m<ipython-input-182-6f92f0fddb44>\u001b[0m in \u001b[0;36m<module>\u001b[0;34m()\u001b[0m\n\u001b[0;32m----> 1\u001b[0;31m \u001b[0mplanets_small\u001b[0m \u001b[0;34m=\u001b[0m \u001b[0mnp\u001b[0m\u001b[0;34m.\u001b[0m\u001b[0mloadtxt\u001b[0m\u001b[0;34m(\u001b[0m\u001b[0;34m\"planets_small.txt\"\u001b[0m\u001b[0;34m)\u001b[0m\u001b[0;34m\u001b[0m\u001b[0;34m\u001b[0m\u001b[0m\n\u001b[0m",
      "\u001b[0;32m/usr/local/lib/python3.6/dist-packages/numpy/lib/npyio.py\u001b[0m in \u001b[0;36mloadtxt\u001b[0;34m(fname, dtype, comments, delimiter, converters, skiprows, usecols, unpack, ndmin, encoding, max_rows)\u001b[0m\n\u001b[1;32m   1144\u001b[0m         \u001b[0;31m# converting the data\u001b[0m\u001b[0;34m\u001b[0m\u001b[0;34m\u001b[0m\u001b[0;34m\u001b[0m\u001b[0m\n\u001b[1;32m   1145\u001b[0m         \u001b[0mX\u001b[0m \u001b[0;34m=\u001b[0m \u001b[0;32mNone\u001b[0m\u001b[0;34m\u001b[0m\u001b[0;34m\u001b[0m\u001b[0m\n\u001b[0;32m-> 1146\u001b[0;31m         \u001b[0;32mfor\u001b[0m \u001b[0mx\u001b[0m \u001b[0;32min\u001b[0m \u001b[0mread_data\u001b[0m\u001b[0;34m(\u001b[0m\u001b[0m_loadtxt_chunksize\u001b[0m\u001b[0;34m)\u001b[0m\u001b[0;34m:\u001b[0m\u001b[0;34m\u001b[0m\u001b[0;34m\u001b[0m\u001b[0m\n\u001b[0m\u001b[1;32m   1147\u001b[0m             \u001b[0;32mif\u001b[0m \u001b[0mX\u001b[0m \u001b[0;32mis\u001b[0m \u001b[0;32mNone\u001b[0m\u001b[0;34m:\u001b[0m\u001b[0;34m\u001b[0m\u001b[0;34m\u001b[0m\u001b[0m\n\u001b[1;32m   1148\u001b[0m                 \u001b[0mX\u001b[0m \u001b[0;34m=\u001b[0m \u001b[0mnp\u001b[0m\u001b[0;34m.\u001b[0m\u001b[0marray\u001b[0m\u001b[0;34m(\u001b[0m\u001b[0mx\u001b[0m\u001b[0;34m,\u001b[0m \u001b[0mdtype\u001b[0m\u001b[0;34m)\u001b[0m\u001b[0;34m\u001b[0m\u001b[0;34m\u001b[0m\u001b[0m\n",
      "\u001b[0;32m/usr/local/lib/python3.6/dist-packages/numpy/lib/npyio.py\u001b[0m in \u001b[0;36mread_data\u001b[0;34m(chunk_size)\u001b[0m\n\u001b[1;32m   1072\u001b[0m \u001b[0;34m\u001b[0m\u001b[0m\n\u001b[1;32m   1073\u001b[0m             \u001b[0;31m# Convert each value according to its column and store\u001b[0m\u001b[0;34m\u001b[0m\u001b[0;34m\u001b[0m\u001b[0;34m\u001b[0m\u001b[0m\n\u001b[0;32m-> 1074\u001b[0;31m             \u001b[0mitems\u001b[0m \u001b[0;34m=\u001b[0m \u001b[0;34m[\u001b[0m\u001b[0mconv\u001b[0m\u001b[0;34m(\u001b[0m\u001b[0mval\u001b[0m\u001b[0;34m)\u001b[0m \u001b[0;32mfor\u001b[0m \u001b[0;34m(\u001b[0m\u001b[0mconv\u001b[0m\u001b[0;34m,\u001b[0m \u001b[0mval\u001b[0m\u001b[0;34m)\u001b[0m \u001b[0;32min\u001b[0m \u001b[0mzip\u001b[0m\u001b[0;34m(\u001b[0m\u001b[0mconverters\u001b[0m\u001b[0;34m,\u001b[0m \u001b[0mvals\u001b[0m\u001b[0;34m)\u001b[0m\u001b[0;34m]\u001b[0m\u001b[0;34m\u001b[0m\u001b[0;34m\u001b[0m\u001b[0m\n\u001b[0m\u001b[1;32m   1075\u001b[0m \u001b[0;34m\u001b[0m\u001b[0m\n\u001b[1;32m   1076\u001b[0m             \u001b[0;31m# Then pack it according to the dtype's nesting\u001b[0m\u001b[0;34m\u001b[0m\u001b[0;34m\u001b[0m\u001b[0;34m\u001b[0m\u001b[0m\n",
      "\u001b[0;32m/usr/local/lib/python3.6/dist-packages/numpy/lib/npyio.py\u001b[0m in \u001b[0;36m<listcomp>\u001b[0;34m(.0)\u001b[0m\n\u001b[1;32m   1072\u001b[0m \u001b[0;34m\u001b[0m\u001b[0m\n\u001b[1;32m   1073\u001b[0m             \u001b[0;31m# Convert each value according to its column and store\u001b[0m\u001b[0;34m\u001b[0m\u001b[0;34m\u001b[0m\u001b[0;34m\u001b[0m\u001b[0m\n\u001b[0;32m-> 1074\u001b[0;31m             \u001b[0mitems\u001b[0m \u001b[0;34m=\u001b[0m \u001b[0;34m[\u001b[0m\u001b[0mconv\u001b[0m\u001b[0;34m(\u001b[0m\u001b[0mval\u001b[0m\u001b[0;34m)\u001b[0m \u001b[0;32mfor\u001b[0m \u001b[0;34m(\u001b[0m\u001b[0mconv\u001b[0m\u001b[0;34m,\u001b[0m \u001b[0mval\u001b[0m\u001b[0;34m)\u001b[0m \u001b[0;32min\u001b[0m \u001b[0mzip\u001b[0m\u001b[0;34m(\u001b[0m\u001b[0mconverters\u001b[0m\u001b[0;34m,\u001b[0m \u001b[0mvals\u001b[0m\u001b[0;34m)\u001b[0m\u001b[0;34m]\u001b[0m\u001b[0;34m\u001b[0m\u001b[0;34m\u001b[0m\u001b[0m\n\u001b[0m\u001b[1;32m   1075\u001b[0m \u001b[0;34m\u001b[0m\u001b[0m\n\u001b[1;32m   1076\u001b[0m             \u001b[0;31m# Then pack it according to the dtype's nesting\u001b[0m\u001b[0;34m\u001b[0m\u001b[0;34m\u001b[0m\u001b[0;34m\u001b[0m\u001b[0m\n",
      "\u001b[0;32m/usr/local/lib/python3.6/dist-packages/numpy/lib/npyio.py\u001b[0m in \u001b[0;36mfloatconv\u001b[0;34m(x)\u001b[0m\n\u001b[1;32m    779\u001b[0m         \u001b[0;32mif\u001b[0m \u001b[0;34m'0x'\u001b[0m \u001b[0;32min\u001b[0m \u001b[0mx\u001b[0m\u001b[0;34m:\u001b[0m\u001b[0;34m\u001b[0m\u001b[0;34m\u001b[0m\u001b[0m\n\u001b[1;32m    780\u001b[0m             \u001b[0;32mreturn\u001b[0m \u001b[0mfloat\u001b[0m\u001b[0;34m.\u001b[0m\u001b[0mfromhex\u001b[0m\u001b[0;34m(\u001b[0m\u001b[0mx\u001b[0m\u001b[0;34m)\u001b[0m\u001b[0;34m\u001b[0m\u001b[0;34m\u001b[0m\u001b[0m\n\u001b[0;32m--> 781\u001b[0;31m         \u001b[0;32mreturn\u001b[0m \u001b[0mfloat\u001b[0m\u001b[0;34m(\u001b[0m\u001b[0mx\u001b[0m\u001b[0;34m)\u001b[0m\u001b[0;34m\u001b[0m\u001b[0;34m\u001b[0m\u001b[0m\n\u001b[0m\u001b[1;32m    782\u001b[0m \u001b[0;34m\u001b[0m\u001b[0m\n\u001b[1;32m    783\u001b[0m     \u001b[0mtyp\u001b[0m \u001b[0;34m=\u001b[0m \u001b[0mdtype\u001b[0m\u001b[0;34m.\u001b[0m\u001b[0mtype\u001b[0m\u001b[0;34m\u001b[0m\u001b[0;34m\u001b[0m\u001b[0m\n",
      "\u001b[0;31mValueError\u001b[0m: could not convert string to float: 'MERCURY'"
     ]
    }
   ],
   "source": [
    "planets_small = np.loadtxt(\"planets_small.txt\")"
   ]
  },
  {
   "cell_type": "code",
   "execution_count": 0,
   "metadata": {
    "colab": {
     "base_uri": "https://localhost:8080/",
     "height": 362
    },
    "colab_type": "code",
    "id": "b1mnLTjDyGus",
    "outputId": "20af8172-1b6e-4e2c-9253-d74625cd29d9"
   },
   "outputs": [
    {
     "ename": "ValueError",
     "evalue": "ignored",
     "output_type": "error",
     "traceback": [
      "\u001b[0;31m---------------------------------------------------------------------------\u001b[0m",
      "\u001b[0;31mValueError\u001b[0m                                Traceback (most recent call last)",
      "\u001b[0;32m<ipython-input-183-6454be431268>\u001b[0m in \u001b[0;36m<module>\u001b[0;34m()\u001b[0m\n\u001b[1;32m      1\u001b[0m planets_small = np.loadtxt(\"planets_small.txt\", \n\u001b[0;32m----> 2\u001b[0;31m                            skiprows = 1)\n\u001b[0m",
      "\u001b[0;32m/usr/local/lib/python3.6/dist-packages/numpy/lib/npyio.py\u001b[0m in \u001b[0;36mloadtxt\u001b[0;34m(fname, dtype, comments, delimiter, converters, skiprows, usecols, unpack, ndmin, encoding, max_rows)\u001b[0m\n\u001b[1;32m   1144\u001b[0m         \u001b[0;31m# converting the data\u001b[0m\u001b[0;34m\u001b[0m\u001b[0;34m\u001b[0m\u001b[0;34m\u001b[0m\u001b[0m\n\u001b[1;32m   1145\u001b[0m         \u001b[0mX\u001b[0m \u001b[0;34m=\u001b[0m \u001b[0;32mNone\u001b[0m\u001b[0;34m\u001b[0m\u001b[0;34m\u001b[0m\u001b[0m\n\u001b[0;32m-> 1146\u001b[0;31m         \u001b[0;32mfor\u001b[0m \u001b[0mx\u001b[0m \u001b[0;32min\u001b[0m \u001b[0mread_data\u001b[0m\u001b[0;34m(\u001b[0m\u001b[0m_loadtxt_chunksize\u001b[0m\u001b[0;34m)\u001b[0m\u001b[0;34m:\u001b[0m\u001b[0;34m\u001b[0m\u001b[0;34m\u001b[0m\u001b[0m\n\u001b[0m\u001b[1;32m   1147\u001b[0m             \u001b[0;32mif\u001b[0m \u001b[0mX\u001b[0m \u001b[0;32mis\u001b[0m \u001b[0;32mNone\u001b[0m\u001b[0;34m:\u001b[0m\u001b[0;34m\u001b[0m\u001b[0;34m\u001b[0m\u001b[0m\n\u001b[1;32m   1148\u001b[0m                 \u001b[0mX\u001b[0m \u001b[0;34m=\u001b[0m \u001b[0mnp\u001b[0m\u001b[0;34m.\u001b[0m\u001b[0marray\u001b[0m\u001b[0;34m(\u001b[0m\u001b[0mx\u001b[0m\u001b[0;34m,\u001b[0m \u001b[0mdtype\u001b[0m\u001b[0;34m)\u001b[0m\u001b[0;34m\u001b[0m\u001b[0;34m\u001b[0m\u001b[0m\n",
      "\u001b[0;32m/usr/local/lib/python3.6/dist-packages/numpy/lib/npyio.py\u001b[0m in \u001b[0;36mread_data\u001b[0;34m(chunk_size)\u001b[0m\n\u001b[1;32m   1072\u001b[0m \u001b[0;34m\u001b[0m\u001b[0m\n\u001b[1;32m   1073\u001b[0m             \u001b[0;31m# Convert each value according to its column and store\u001b[0m\u001b[0;34m\u001b[0m\u001b[0;34m\u001b[0m\u001b[0;34m\u001b[0m\u001b[0m\n\u001b[0;32m-> 1074\u001b[0;31m             \u001b[0mitems\u001b[0m \u001b[0;34m=\u001b[0m \u001b[0;34m[\u001b[0m\u001b[0mconv\u001b[0m\u001b[0;34m(\u001b[0m\u001b[0mval\u001b[0m\u001b[0;34m)\u001b[0m \u001b[0;32mfor\u001b[0m \u001b[0;34m(\u001b[0m\u001b[0mconv\u001b[0m\u001b[0;34m,\u001b[0m \u001b[0mval\u001b[0m\u001b[0;34m)\u001b[0m \u001b[0;32min\u001b[0m \u001b[0mzip\u001b[0m\u001b[0;34m(\u001b[0m\u001b[0mconverters\u001b[0m\u001b[0;34m,\u001b[0m \u001b[0mvals\u001b[0m\u001b[0;34m)\u001b[0m\u001b[0;34m]\u001b[0m\u001b[0;34m\u001b[0m\u001b[0;34m\u001b[0m\u001b[0m\n\u001b[0m\u001b[1;32m   1075\u001b[0m \u001b[0;34m\u001b[0m\u001b[0m\n\u001b[1;32m   1076\u001b[0m             \u001b[0;31m# Then pack it according to the dtype's nesting\u001b[0m\u001b[0;34m\u001b[0m\u001b[0;34m\u001b[0m\u001b[0;34m\u001b[0m\u001b[0m\n",
      "\u001b[0;32m/usr/local/lib/python3.6/dist-packages/numpy/lib/npyio.py\u001b[0m in \u001b[0;36m<listcomp>\u001b[0;34m(.0)\u001b[0m\n\u001b[1;32m   1072\u001b[0m \u001b[0;34m\u001b[0m\u001b[0m\n\u001b[1;32m   1073\u001b[0m             \u001b[0;31m# Convert each value according to its column and store\u001b[0m\u001b[0;34m\u001b[0m\u001b[0;34m\u001b[0m\u001b[0;34m\u001b[0m\u001b[0m\n\u001b[0;32m-> 1074\u001b[0;31m             \u001b[0mitems\u001b[0m \u001b[0;34m=\u001b[0m \u001b[0;34m[\u001b[0m\u001b[0mconv\u001b[0m\u001b[0;34m(\u001b[0m\u001b[0mval\u001b[0m\u001b[0;34m)\u001b[0m \u001b[0;32mfor\u001b[0m \u001b[0;34m(\u001b[0m\u001b[0mconv\u001b[0m\u001b[0;34m,\u001b[0m \u001b[0mval\u001b[0m\u001b[0;34m)\u001b[0m \u001b[0;32min\u001b[0m \u001b[0mzip\u001b[0m\u001b[0;34m(\u001b[0m\u001b[0mconverters\u001b[0m\u001b[0;34m,\u001b[0m \u001b[0mvals\u001b[0m\u001b[0;34m)\u001b[0m\u001b[0;34m]\u001b[0m\u001b[0;34m\u001b[0m\u001b[0;34m\u001b[0m\u001b[0m\n\u001b[0m\u001b[1;32m   1075\u001b[0m \u001b[0;34m\u001b[0m\u001b[0m\n\u001b[1;32m   1076\u001b[0m             \u001b[0;31m# Then pack it according to the dtype's nesting\u001b[0m\u001b[0;34m\u001b[0m\u001b[0;34m\u001b[0m\u001b[0;34m\u001b[0m\u001b[0m\n",
      "\u001b[0;32m/usr/local/lib/python3.6/dist-packages/numpy/lib/npyio.py\u001b[0m in \u001b[0;36mfloatconv\u001b[0;34m(x)\u001b[0m\n\u001b[1;32m    779\u001b[0m         \u001b[0;32mif\u001b[0m \u001b[0;34m'0x'\u001b[0m \u001b[0;32min\u001b[0m \u001b[0mx\u001b[0m\u001b[0;34m:\u001b[0m\u001b[0;34m\u001b[0m\u001b[0;34m\u001b[0m\u001b[0m\n\u001b[1;32m    780\u001b[0m             \u001b[0;32mreturn\u001b[0m \u001b[0mfloat\u001b[0m\u001b[0;34m.\u001b[0m\u001b[0mfromhex\u001b[0m\u001b[0;34m(\u001b[0m\u001b[0mx\u001b[0m\u001b[0;34m)\u001b[0m\u001b[0;34m\u001b[0m\u001b[0;34m\u001b[0m\u001b[0m\n\u001b[0;32m--> 781\u001b[0;31m         \u001b[0;32mreturn\u001b[0m \u001b[0mfloat\u001b[0m\u001b[0;34m(\u001b[0m\u001b[0mx\u001b[0m\u001b[0;34m)\u001b[0m\u001b[0;34m\u001b[0m\u001b[0;34m\u001b[0m\u001b[0m\n\u001b[0m\u001b[1;32m    782\u001b[0m \u001b[0;34m\u001b[0m\u001b[0m\n\u001b[1;32m    783\u001b[0m     \u001b[0mtyp\u001b[0m \u001b[0;34m=\u001b[0m \u001b[0mdtype\u001b[0m\u001b[0;34m.\u001b[0m\u001b[0mtype\u001b[0m\u001b[0;34m\u001b[0m\u001b[0;34m\u001b[0m\u001b[0m\n",
      "\u001b[0;31mValueError\u001b[0m: could not convert string to float: 'Mass'"
     ]
    }
   ],
   "source": [
    "planets_small = np.loadtxt(\"planets_small.txt\", \n",
    "                           skiprows = 1)"
   ]
  },
  {
   "cell_type": "code",
   "execution_count": 0,
   "metadata": {
    "colab": {},
    "colab_type": "code",
    "id": "IRLelnnkyN_H"
   },
   "outputs": [],
   "source": [
    "planets_small = np.loadtxt(\"planets_small.txt\", \n",
    "                           skiprows = 1,\n",
    "                           usecols = (1, 2, 3, 4, 5, 6, 7, 8, 9))"
   ]
  },
  {
   "cell_type": "code",
   "execution_count": 0,
   "metadata": {
    "colab": {
     "base_uri": "https://localhost:8080/",
     "height": 128
    },
    "colab_type": "code",
    "id": "Jo4QP-nxydfF",
    "outputId": "f8c62a7f-c1cd-4051-b878-4411cd2d2b67"
   },
   "outputs": [
    {
     "data": {
      "text/plain": [
       "array([[3.3000e-01, 4.8700e+00, 5.9700e+00, 6.4200e-01, 1.8980e+03,\n",
       "        5.6800e+02, 8.6800e+01, 1.0200e+02, 1.4600e-02],\n",
       "       [5.7900e+01, 1.0820e+02, 1.4960e+02, 2.2790e+02, 7.7860e+02,\n",
       "        1.4335e+03, 2.8725e+03, 4.4951e+03, 5.9064e+03],\n",
       "       [4.2226e+03, 2.8020e+03, 2.4000e+01, 2.4700e+01, 9.9000e+00,\n",
       "        1.0700e+01, 1.7200e+01, 1.6100e+01, 1.5330e+02]])"
      ]
     },
     "execution_count": 186,
     "metadata": {
      "tags": []
     },
     "output_type": "execute_result"
    }
   ],
   "source": [
    "planets_small"
   ]
  },
  {
   "cell_type": "code",
   "execution_count": 0,
   "metadata": {
    "colab": {
     "base_uri": "https://localhost:8080/",
     "height": 35
    },
    "colab_type": "code",
    "id": "WkOAVl0-yhh6",
    "outputId": "9b0362c2-d0e6-4af5-9e0d-803df30b2058"
   },
   "outputs": [
    {
     "data": {
      "text/plain": [
       "(3, 9)"
      ]
     },
     "execution_count": 188,
     "metadata": {
      "tags": []
     },
     "output_type": "execute_result"
    }
   ],
   "source": [
    "planets_small.shape"
   ]
  },
  {
   "cell_type": "code",
   "execution_count": 0,
   "metadata": {
    "colab": {
     "base_uri": "https://localhost:8080/",
     "height": 381
    },
    "colab_type": "code",
    "id": "XaP-9AMpyjMr",
    "outputId": "b8dfd87d-5bb8-48dd-fd17-834445261d59"
   },
   "outputs": [
    {
     "ename": "ValueError",
     "evalue": "ignored",
     "output_type": "error",
     "traceback": [
      "\u001b[0;31m---------------------------------------------------------------------------\u001b[0m",
      "\u001b[0;31mValueError\u001b[0m                                Traceback (most recent call last)",
      "\u001b[0;32m<ipython-input-189-a02f02f99111>\u001b[0m in \u001b[0;36m<module>\u001b[0;34m()\u001b[0m\n\u001b[1;32m      1\u001b[0m planets = np.loadtxt(\"planets.txt\", \n\u001b[1;32m      2\u001b[0m                            \u001b[0mskiprows\u001b[0m \u001b[0;34m=\u001b[0m \u001b[0;36m1\u001b[0m\u001b[0;34m,\u001b[0m\u001b[0;34m\u001b[0m\u001b[0;34m\u001b[0m\u001b[0m\n\u001b[0;32m----> 3\u001b[0;31m                            usecols = (1, 2, 3, 4, 5, 6, 7, 8, 9))\n\u001b[0m",
      "\u001b[0;32m/usr/local/lib/python3.6/dist-packages/numpy/lib/npyio.py\u001b[0m in \u001b[0;36mloadtxt\u001b[0;34m(fname, dtype, comments, delimiter, converters, skiprows, usecols, unpack, ndmin, encoding, max_rows)\u001b[0m\n\u001b[1;32m   1144\u001b[0m         \u001b[0;31m# converting the data\u001b[0m\u001b[0;34m\u001b[0m\u001b[0;34m\u001b[0m\u001b[0;34m\u001b[0m\u001b[0m\n\u001b[1;32m   1145\u001b[0m         \u001b[0mX\u001b[0m \u001b[0;34m=\u001b[0m \u001b[0;32mNone\u001b[0m\u001b[0;34m\u001b[0m\u001b[0;34m\u001b[0m\u001b[0m\n\u001b[0;32m-> 1146\u001b[0;31m         \u001b[0;32mfor\u001b[0m \u001b[0mx\u001b[0m \u001b[0;32min\u001b[0m \u001b[0mread_data\u001b[0m\u001b[0;34m(\u001b[0m\u001b[0m_loadtxt_chunksize\u001b[0m\u001b[0;34m)\u001b[0m\u001b[0;34m:\u001b[0m\u001b[0;34m\u001b[0m\u001b[0;34m\u001b[0m\u001b[0m\n\u001b[0m\u001b[1;32m   1147\u001b[0m             \u001b[0;32mif\u001b[0m \u001b[0mX\u001b[0m \u001b[0;32mis\u001b[0m \u001b[0;32mNone\u001b[0m\u001b[0;34m:\u001b[0m\u001b[0;34m\u001b[0m\u001b[0;34m\u001b[0m\u001b[0m\n\u001b[1;32m   1148\u001b[0m                 \u001b[0mX\u001b[0m \u001b[0;34m=\u001b[0m \u001b[0mnp\u001b[0m\u001b[0;34m.\u001b[0m\u001b[0marray\u001b[0m\u001b[0;34m(\u001b[0m\u001b[0mx\u001b[0m\u001b[0;34m,\u001b[0m \u001b[0mdtype\u001b[0m\u001b[0;34m)\u001b[0m\u001b[0;34m\u001b[0m\u001b[0;34m\u001b[0m\u001b[0m\n",
      "\u001b[0;32m/usr/local/lib/python3.6/dist-packages/numpy/lib/npyio.py\u001b[0m in \u001b[0;36mread_data\u001b[0;34m(chunk_size)\u001b[0m\n\u001b[1;32m   1072\u001b[0m \u001b[0;34m\u001b[0m\u001b[0m\n\u001b[1;32m   1073\u001b[0m             \u001b[0;31m# Convert each value according to its column and store\u001b[0m\u001b[0;34m\u001b[0m\u001b[0;34m\u001b[0m\u001b[0;34m\u001b[0m\u001b[0m\n\u001b[0;32m-> 1074\u001b[0;31m             \u001b[0mitems\u001b[0m \u001b[0;34m=\u001b[0m \u001b[0;34m[\u001b[0m\u001b[0mconv\u001b[0m\u001b[0;34m(\u001b[0m\u001b[0mval\u001b[0m\u001b[0;34m)\u001b[0m \u001b[0;32mfor\u001b[0m \u001b[0;34m(\u001b[0m\u001b[0mconv\u001b[0m\u001b[0;34m,\u001b[0m \u001b[0mval\u001b[0m\u001b[0;34m)\u001b[0m \u001b[0;32min\u001b[0m \u001b[0mzip\u001b[0m\u001b[0;34m(\u001b[0m\u001b[0mconverters\u001b[0m\u001b[0;34m,\u001b[0m \u001b[0mvals\u001b[0m\u001b[0;34m)\u001b[0m\u001b[0;34m]\u001b[0m\u001b[0;34m\u001b[0m\u001b[0;34m\u001b[0m\u001b[0m\n\u001b[0m\u001b[1;32m   1075\u001b[0m \u001b[0;34m\u001b[0m\u001b[0m\n\u001b[1;32m   1076\u001b[0m             \u001b[0;31m# Then pack it according to the dtype's nesting\u001b[0m\u001b[0;34m\u001b[0m\u001b[0;34m\u001b[0m\u001b[0;34m\u001b[0m\u001b[0m\n",
      "\u001b[0;32m/usr/local/lib/python3.6/dist-packages/numpy/lib/npyio.py\u001b[0m in \u001b[0;36m<listcomp>\u001b[0;34m(.0)\u001b[0m\n\u001b[1;32m   1072\u001b[0m \u001b[0;34m\u001b[0m\u001b[0m\n\u001b[1;32m   1073\u001b[0m             \u001b[0;31m# Convert each value according to its column and store\u001b[0m\u001b[0;34m\u001b[0m\u001b[0;34m\u001b[0m\u001b[0;34m\u001b[0m\u001b[0m\n\u001b[0;32m-> 1074\u001b[0;31m             \u001b[0mitems\u001b[0m \u001b[0;34m=\u001b[0m \u001b[0;34m[\u001b[0m\u001b[0mconv\u001b[0m\u001b[0;34m(\u001b[0m\u001b[0mval\u001b[0m\u001b[0;34m)\u001b[0m \u001b[0;32mfor\u001b[0m \u001b[0;34m(\u001b[0m\u001b[0mconv\u001b[0m\u001b[0;34m,\u001b[0m \u001b[0mval\u001b[0m\u001b[0;34m)\u001b[0m \u001b[0;32min\u001b[0m \u001b[0mzip\u001b[0m\u001b[0;34m(\u001b[0m\u001b[0mconverters\u001b[0m\u001b[0;34m,\u001b[0m \u001b[0mvals\u001b[0m\u001b[0;34m)\u001b[0m\u001b[0;34m]\u001b[0m\u001b[0;34m\u001b[0m\u001b[0;34m\u001b[0m\u001b[0m\n\u001b[0m\u001b[1;32m   1075\u001b[0m \u001b[0;34m\u001b[0m\u001b[0m\n\u001b[1;32m   1076\u001b[0m             \u001b[0;31m# Then pack it according to the dtype's nesting\u001b[0m\u001b[0;34m\u001b[0m\u001b[0;34m\u001b[0m\u001b[0;34m\u001b[0m\u001b[0m\n",
      "\u001b[0;32m/usr/local/lib/python3.6/dist-packages/numpy/lib/npyio.py\u001b[0m in \u001b[0;36mfloatconv\u001b[0;34m(x)\u001b[0m\n\u001b[1;32m    779\u001b[0m         \u001b[0;32mif\u001b[0m \u001b[0;34m'0x'\u001b[0m \u001b[0;32min\u001b[0m \u001b[0mx\u001b[0m\u001b[0;34m:\u001b[0m\u001b[0;34m\u001b[0m\u001b[0;34m\u001b[0m\u001b[0m\n\u001b[1;32m    780\u001b[0m             \u001b[0;32mreturn\u001b[0m \u001b[0mfloat\u001b[0m\u001b[0;34m.\u001b[0m\u001b[0mfromhex\u001b[0m\u001b[0;34m(\u001b[0m\u001b[0mx\u001b[0m\u001b[0;34m)\u001b[0m\u001b[0;34m\u001b[0m\u001b[0;34m\u001b[0m\u001b[0m\n\u001b[0;32m--> 781\u001b[0;31m         \u001b[0;32mreturn\u001b[0m \u001b[0mfloat\u001b[0m\u001b[0;34m(\u001b[0m\u001b[0mx\u001b[0m\u001b[0;34m)\u001b[0m\u001b[0;34m\u001b[0m\u001b[0;34m\u001b[0m\u001b[0m\n\u001b[0m\u001b[1;32m    782\u001b[0m \u001b[0;34m\u001b[0m\u001b[0m\n\u001b[1;32m    783\u001b[0m     \u001b[0mtyp\u001b[0m \u001b[0;34m=\u001b[0m \u001b[0mdtype\u001b[0m\u001b[0;34m.\u001b[0m\u001b[0mtype\u001b[0m\u001b[0;34m\u001b[0m\u001b[0;34m\u001b[0m\u001b[0m\n",
      "\u001b[0;31mValueError\u001b[0m: could not convert string to float: 'Unknown'"
     ]
    }
   ],
   "source": [
    "planets = np.loadtxt(\"planets.txt\", \n",
    "                           skiprows = 1,\n",
    "                           usecols = (1, 2, 3, 4, 5, 6, 7, 8, 9))"
   ]
  },
  {
   "cell_type": "code",
   "execution_count": 0,
   "metadata": {
    "colab": {},
    "colab_type": "code",
    "id": "BkDNlxogy5Hy"
   },
   "outputs": [],
   "source": [
    "planets = np.genfromtxt(\"planets.txt\", \n",
    "                        skip_header=1, \n",
    "                        usecols = [1, 2, 3, 4, 5, 6, 7, 8, 9])"
   ]
  },
  {
   "cell_type": "code",
   "execution_count": 0,
   "metadata": {
    "colab": {
     "base_uri": "https://localhost:8080/",
     "height": 1000
    },
    "colab_type": "code",
    "id": "BdJiRATnzHua",
    "outputId": "3ddddece-939f-4552-a99b-5c3a722abb28"
   },
   "outputs": [
    {
     "data": {
      "text/plain": [
       "array([[ 3.30000e-01,  4.87000e+00,  5.97000e+00,  7.30000e-02,\n",
       "         6.42000e-01,  1.89800e+03,  5.68000e+02,  8.68000e+01,\n",
       "         1.02000e+02],\n",
       "       [ 4.87900e+03,  1.21040e+04,  1.27560e+04,  3.47500e+03,\n",
       "         6.79200e+03,  1.42984e+05,  1.20536e+05,  5.11180e+04,\n",
       "         4.95280e+04],\n",
       "       [ 5.42700e+03,  5.24300e+03,  5.51400e+03,  3.34000e+03,\n",
       "         3.93300e+03,  1.32600e+03,  6.87000e+02,  1.27100e+03,\n",
       "         1.63800e+03],\n",
       "       [ 3.70000e+00,  8.90000e+00,  9.80000e+00,  1.60000e+00,\n",
       "         3.70000e+00,  2.31000e+01,  9.00000e+00,  8.70000e+00,\n",
       "         1.10000e+01],\n",
       "       [ 4.30000e+00,  1.04000e+01,  1.12000e+01,  2.40000e+00,\n",
       "         5.00000e+00,  5.95000e+01,  3.55000e+01,  2.13000e+01,\n",
       "         2.35000e+01],\n",
       "       [ 1.40760e+03, -5.83250e+03,  2.39000e+01,  6.55700e+02,\n",
       "         2.46000e+01,  9.90000e+00,  1.07000e+01, -1.72000e+01,\n",
       "         1.61000e+01],\n",
       "       [ 4.22260e+03,  2.80200e+03,  2.40000e+01,  7.08700e+02,\n",
       "         2.47000e+01,  9.90000e+00,  1.07000e+01,  1.72000e+01,\n",
       "         1.61000e+01],\n",
       "       [ 5.79000e+01,  1.08200e+02,  1.49600e+02,  3.84000e-01,\n",
       "         2.27900e+02,  7.78600e+02,  1.43350e+03,  2.87250e+03,\n",
       "         4.49510e+03],\n",
       "       [ 4.60000e+01,  1.07500e+02,  1.47100e+02,  3.63000e-01,\n",
       "         2.06600e+02,  7.40500e+02,  1.35260e+03,  2.74130e+03,\n",
       "         4.44450e+03],\n",
       "       [ 6.98000e+01,  1.08900e+02,  1.52100e+02,  4.06000e-01,\n",
       "         2.49200e+02,  8.16600e+02,  1.51450e+03,  3.00360e+03,\n",
       "         4.54570e+03],\n",
       "       [ 8.80000e+01,  2.24700e+02,  3.65200e+02,  2.73000e+01,\n",
       "         6.87000e+02,  4.33100e+03,  1.07470e+04,  3.05890e+04,\n",
       "         5.98000e+04],\n",
       "       [ 4.74000e+01,  3.50000e+01,  2.98000e+01,  1.00000e+00,\n",
       "         2.41000e+01,  1.31000e+01,  9.70000e+00,  6.80000e+00,\n",
       "         5.40000e+00],\n",
       "       [ 7.00000e+00,  3.40000e+00,  0.00000e+00,  5.10000e+00,\n",
       "         1.90000e+00,  1.30000e+00,  2.50000e+00,  8.00000e-01,\n",
       "         1.80000e+00],\n",
       "       [ 2.05000e-01,  7.00000e-03,  1.70000e-02,  5.50000e-02,\n",
       "         9.40000e-02,  4.90000e-02,  5.70000e-02,  4.60000e-02,\n",
       "         1.10000e-02],\n",
       "       [ 3.40000e-02,  1.77400e+02,  2.34000e+01,  6.70000e+00,\n",
       "         2.52000e+01,  3.10000e+00,  2.67000e+01,  9.78000e+01,\n",
       "         2.83000e+01],\n",
       "       [ 1.67000e+02,  4.64000e+02,  1.50000e+01, -2.00000e+01,\n",
       "        -6.50000e+01, -1.10000e+02, -1.40000e+02, -1.95000e+02,\n",
       "        -2.00000e+02],\n",
       "       [ 0.00000e+00,  9.20000e+01,  1.00000e+00,  0.00000e+00,\n",
       "         1.00000e-02,          nan,          nan,          nan,\n",
       "                 nan],\n",
       "       [ 0.00000e+00,  0.00000e+00,  1.00000e+00,  0.00000e+00,\n",
       "         2.00000e+00,  7.90000e+01,  8.20000e+01,  2.70000e+01,\n",
       "         1.40000e+01],\n",
       "       [ 0.00000e+00,  0.00000e+00,  0.00000e+00,  0.00000e+00,\n",
       "         0.00000e+00,  1.00000e+00,  1.00000e+00,  1.00000e+00,\n",
       "         1.00000e+00],\n",
       "       [ 1.00000e+00,  0.00000e+00,  1.00000e+00,  0.00000e+00,\n",
       "         0.00000e+00,  1.00000e+00,  1.00000e+00,  1.00000e+00,\n",
       "         1.00000e+00]])"
      ]
     },
     "execution_count": 191,
     "metadata": {
      "tags": []
     },
     "output_type": "execute_result"
    }
   ],
   "source": [
    "planets"
   ]
  },
  {
   "cell_type": "code",
   "execution_count": 0,
   "metadata": {
    "colab": {
     "base_uri": "https://localhost:8080/",
     "height": 35
    },
    "colab_type": "code",
    "id": "eXi-f2VIzIka",
    "outputId": "a279cbe3-3458-4513-9093-3c8af6e1ea72"
   },
   "outputs": [
    {
     "data": {
      "text/plain": [
       "(20, 9)"
      ]
     },
     "execution_count": 192,
     "metadata": {
      "tags": []
     },
     "output_type": "execute_result"
    }
   ],
   "source": [
    "planets.shape"
   ]
  },
  {
   "cell_type": "code",
   "execution_count": 0,
   "metadata": {
    "colab": {
     "base_uri": "https://localhost:8080/",
     "height": 385
    },
    "colab_type": "code",
    "id": "SKjq-4lwzN_P",
    "outputId": "f1104b09-334e-41c7-84e0-07ce5804012e"
   },
   "outputs": [
    {
     "data": {
      "text/plain": [
       "array([[False, False, False, False, False, False, False, False, False],\n",
       "       [False, False, False, False, False, False, False, False, False],\n",
       "       [False, False, False, False, False, False, False, False, False],\n",
       "       [False, False, False, False, False, False, False, False, False],\n",
       "       [False, False, False, False, False, False, False, False, False],\n",
       "       [False, False, False, False, False, False, False, False, False],\n",
       "       [False, False, False, False, False, False, False, False, False],\n",
       "       [False, False, False, False, False, False, False, False, False],\n",
       "       [False, False, False, False, False, False, False, False, False],\n",
       "       [False, False, False, False, False, False, False, False, False],\n",
       "       [False, False, False, False, False, False, False, False, False],\n",
       "       [False, False, False, False, False, False, False, False, False],\n",
       "       [False, False, False, False, False, False, False, False, False],\n",
       "       [False, False, False, False, False, False, False, False, False],\n",
       "       [False, False, False, False, False, False, False, False, False],\n",
       "       [False, False, False, False, False, False, False, False, False],\n",
       "       [False, False, False, False, False,  True,  True,  True,  True],\n",
       "       [False, False, False, False, False, False, False, False, False],\n",
       "       [False, False, False, False, False, False, False, False, False],\n",
       "       [False, False, False, False, False, False, False, False, False]])"
      ]
     },
     "execution_count": 193,
     "metadata": {
      "tags": []
     },
     "output_type": "execute_result"
    }
   ],
   "source": [
    "np.isnan(planets)"
   ]
  },
  {
   "cell_type": "code",
   "execution_count": 0,
   "metadata": {
    "colab": {},
    "colab_type": "code",
    "id": "Lu7qVwJNzUYP"
   },
   "outputs": [],
   "source": [
    "planets_new = np.nan_to_num(planets, nan=-1)"
   ]
  },
  {
   "cell_type": "code",
   "execution_count": 0,
   "metadata": {
    "colab": {
     "base_uri": "https://localhost:8080/",
     "height": 1000
    },
    "colab_type": "code",
    "id": "UA8toJwJznvn",
    "outputId": "bb603d84-1fb6-4242-bf5f-d7c98eae99bf"
   },
   "outputs": [
    {
     "data": {
      "text/plain": [
       "array([[ 3.30000e-01,  4.87000e+00,  5.97000e+00,  7.30000e-02,\n",
       "         6.42000e-01,  1.89800e+03,  5.68000e+02,  8.68000e+01,\n",
       "         1.02000e+02],\n",
       "       [ 4.87900e+03,  1.21040e+04,  1.27560e+04,  3.47500e+03,\n",
       "         6.79200e+03,  1.42984e+05,  1.20536e+05,  5.11180e+04,\n",
       "         4.95280e+04],\n",
       "       [ 5.42700e+03,  5.24300e+03,  5.51400e+03,  3.34000e+03,\n",
       "         3.93300e+03,  1.32600e+03,  6.87000e+02,  1.27100e+03,\n",
       "         1.63800e+03],\n",
       "       [ 3.70000e+00,  8.90000e+00,  9.80000e+00,  1.60000e+00,\n",
       "         3.70000e+00,  2.31000e+01,  9.00000e+00,  8.70000e+00,\n",
       "         1.10000e+01],\n",
       "       [ 4.30000e+00,  1.04000e+01,  1.12000e+01,  2.40000e+00,\n",
       "         5.00000e+00,  5.95000e+01,  3.55000e+01,  2.13000e+01,\n",
       "         2.35000e+01],\n",
       "       [ 1.40760e+03, -5.83250e+03,  2.39000e+01,  6.55700e+02,\n",
       "         2.46000e+01,  9.90000e+00,  1.07000e+01, -1.72000e+01,\n",
       "         1.61000e+01],\n",
       "       [ 4.22260e+03,  2.80200e+03,  2.40000e+01,  7.08700e+02,\n",
       "         2.47000e+01,  9.90000e+00,  1.07000e+01,  1.72000e+01,\n",
       "         1.61000e+01],\n",
       "       [ 5.79000e+01,  1.08200e+02,  1.49600e+02,  3.84000e-01,\n",
       "         2.27900e+02,  7.78600e+02,  1.43350e+03,  2.87250e+03,\n",
       "         4.49510e+03],\n",
       "       [ 4.60000e+01,  1.07500e+02,  1.47100e+02,  3.63000e-01,\n",
       "         2.06600e+02,  7.40500e+02,  1.35260e+03,  2.74130e+03,\n",
       "         4.44450e+03],\n",
       "       [ 6.98000e+01,  1.08900e+02,  1.52100e+02,  4.06000e-01,\n",
       "         2.49200e+02,  8.16600e+02,  1.51450e+03,  3.00360e+03,\n",
       "         4.54570e+03],\n",
       "       [ 8.80000e+01,  2.24700e+02,  3.65200e+02,  2.73000e+01,\n",
       "         6.87000e+02,  4.33100e+03,  1.07470e+04,  3.05890e+04,\n",
       "         5.98000e+04],\n",
       "       [ 4.74000e+01,  3.50000e+01,  2.98000e+01,  1.00000e+00,\n",
       "         2.41000e+01,  1.31000e+01,  9.70000e+00,  6.80000e+00,\n",
       "         5.40000e+00],\n",
       "       [ 7.00000e+00,  3.40000e+00,  0.00000e+00,  5.10000e+00,\n",
       "         1.90000e+00,  1.30000e+00,  2.50000e+00,  8.00000e-01,\n",
       "         1.80000e+00],\n",
       "       [ 2.05000e-01,  7.00000e-03,  1.70000e-02,  5.50000e-02,\n",
       "         9.40000e-02,  4.90000e-02,  5.70000e-02,  4.60000e-02,\n",
       "         1.10000e-02],\n",
       "       [ 3.40000e-02,  1.77400e+02,  2.34000e+01,  6.70000e+00,\n",
       "         2.52000e+01,  3.10000e+00,  2.67000e+01,  9.78000e+01,\n",
       "         2.83000e+01],\n",
       "       [ 1.67000e+02,  4.64000e+02,  1.50000e+01, -2.00000e+01,\n",
       "        -6.50000e+01, -1.10000e+02, -1.40000e+02, -1.95000e+02,\n",
       "        -2.00000e+02],\n",
       "       [ 0.00000e+00,  9.20000e+01,  1.00000e+00,  0.00000e+00,\n",
       "         1.00000e-02, -1.00000e+00, -1.00000e+00, -1.00000e+00,\n",
       "        -1.00000e+00],\n",
       "       [ 0.00000e+00,  0.00000e+00,  1.00000e+00,  0.00000e+00,\n",
       "         2.00000e+00,  7.90000e+01,  8.20000e+01,  2.70000e+01,\n",
       "         1.40000e+01],\n",
       "       [ 0.00000e+00,  0.00000e+00,  0.00000e+00,  0.00000e+00,\n",
       "         0.00000e+00,  1.00000e+00,  1.00000e+00,  1.00000e+00,\n",
       "         1.00000e+00],\n",
       "       [ 1.00000e+00,  0.00000e+00,  1.00000e+00,  0.00000e+00,\n",
       "         0.00000e+00,  1.00000e+00,  1.00000e+00,  1.00000e+00,\n",
       "         1.00000e+00]])"
      ]
     },
     "execution_count": 195,
     "metadata": {
      "tags": []
     },
     "output_type": "execute_result"
    }
   ],
   "source": [
    "planets_new"
   ]
  },
  {
   "cell_type": "code",
   "execution_count": 0,
   "metadata": {
    "colab": {},
    "colab_type": "code",
    "id": "oChY4CzIzojm"
   },
   "outputs": [],
   "source": [
    "np.savetxt('planets_new.txt', planets_new, \n",
    "           delimiter=',')"
   ]
  },
  {
   "cell_type": "code",
   "execution_count": 0,
   "metadata": {
    "colab": {},
    "colab_type": "code",
    "id": "pNgTIfEuz25n"
   },
   "outputs": [],
   "source": [
    "np.save(\"planets_new\", planets_new)"
   ]
  },
  {
   "cell_type": "code",
   "execution_count": 0,
   "metadata": {
    "colab": {
     "base_uri": "https://localhost:8080/",
     "height": 128
    },
    "colab_type": "code",
    "id": "gf4lf9fa0HHn",
    "outputId": "a29f4a9b-dd97-4458-c663-047fac874ad1"
   },
   "outputs": [
    {
     "name": "stdout",
     "output_type": "stream",
     "text": [
      "total 24K\n",
      "-rw-r--r-- 1 root root 1.6K Mar 16 14:47 planets_new.npy\n",
      "-rw-r--r-- 1 root root 4.5K Mar 16 14:46 planets_new.txt\n",
      "-rw-r--r-- 1 root root  254 Mar 16 14:38 planets_small.txt\n",
      "-rw-r--r-- 1 root root 1.5K Mar 16 14:42 planets.txt\n",
      "drwxr-xr-x 1 root root 4.0K Mar  3 18:11 sample_data\n"
     ]
    }
   ],
   "source": [
    "!ls -lh"
   ]
  },
  {
   "cell_type": "code",
   "execution_count": 0,
   "metadata": {
    "colab": {},
    "colab_type": "code",
    "id": "MtADG-X50jmk"
   },
   "outputs": [],
   "source": [
    "arr1 = np.random.rand(1000, 10)\n",
    "arr2 = np.random.rand(2000, 5)\n",
    "arr3 = np.random.rand(20, 10000)"
   ]
  },
  {
   "cell_type": "code",
   "execution_count": 0,
   "metadata": {
    "colab": {},
    "colab_type": "code",
    "id": "dEUfEAEx1DWz"
   },
   "outputs": [],
   "source": [
    "np.savez(\"many_arrs\", arr1, arr2, arr3)"
   ]
  },
  {
   "cell_type": "code",
   "execution_count": 0,
   "metadata": {
    "colab": {
     "base_uri": "https://localhost:8080/",
     "height": 146
    },
    "colab_type": "code",
    "id": "FB_bW0FJ1Len",
    "outputId": "8a8d395d-227f-445a-eda1-32749879169f"
   },
   "outputs": [
    {
     "name": "stdout",
     "output_type": "stream",
     "text": [
      "total 1.8M\n",
      "-rw-r--r-- 1 root root 1.7M Mar 16 14:52 many_arrs.npz\n",
      "-rw-r--r-- 1 root root 1.6K Mar 16 14:47 planets_new.npy\n",
      "-rw-r--r-- 1 root root 4.5K Mar 16 14:46 planets_new.txt\n",
      "-rw-r--r-- 1 root root  254 Mar 16 14:38 planets_small.txt\n",
      "-rw-r--r-- 1 root root 1.5K Mar 16 14:42 planets.txt\n",
      "drwxr-xr-x 1 root root 4.0K Mar  3 18:11 sample_data\n"
     ]
    }
   ],
   "source": [
    "!ls -lh"
   ]
  },
  {
   "cell_type": "code",
   "execution_count": 0,
   "metadata": {
    "colab": {},
    "colab_type": "code",
    "id": "fOaw1-_L1PSU"
   },
   "outputs": [],
   "source": [
    "arrs = np.load('many_arrs.npz')"
   ]
  },
  {
   "cell_type": "code",
   "execution_count": 0,
   "metadata": {
    "colab": {
     "base_uri": "https://localhost:8080/",
     "height": 35
    },
    "colab_type": "code",
    "id": "ve6dry5I1ZrS",
    "outputId": "6c2ae02c-ab6b-4cc1-f2e8-5cfc99cc314c"
   },
   "outputs": [
    {
     "name": "stdout",
     "output_type": "stream",
     "text": [
      "<class 'numpy.lib.npyio.NpzFile'>\n"
     ]
    }
   ],
   "source": [
    "print(type(arrs))"
   ]
  },
  {
   "cell_type": "code",
   "execution_count": 0,
   "metadata": {
    "colab": {
     "base_uri": "https://localhost:8080/",
     "height": 35
    },
    "colab_type": "code",
    "id": "g475ICO91bJc",
    "outputId": "cbcd1edc-5152-4b62-cbea-7fb2a65fe9eb"
   },
   "outputs": [
    {
     "data": {
      "text/plain": [
       "['arr_0', 'arr_1', 'arr_2']"
      ]
     },
     "execution_count": 208,
     "metadata": {
      "tags": []
     },
     "output_type": "execute_result"
    }
   ],
   "source": [
    "arrs.files"
   ]
  },
  {
   "cell_type": "code",
   "execution_count": 0,
   "metadata": {
    "colab": {
     "base_uri": "https://localhost:8080/",
     "height": 35
    },
    "colab_type": "code",
    "id": "W-b8rSDM1ev2",
    "outputId": "f2dfc90a-16d9-4d7a-bb52-b94c4c74db91"
   },
   "outputs": [
    {
     "data": {
      "text/plain": [
       "(1000, 10)"
      ]
     },
     "execution_count": 210,
     "metadata": {
      "tags": []
     },
     "output_type": "execute_result"
    }
   ],
   "source": [
    "arrs['arr_0'].shape"
   ]
  },
  {
   "cell_type": "code",
   "execution_count": 0,
   "metadata": {
    "colab": {},
    "colab_type": "code",
    "id": "An_y_y8I1jV7"
   },
   "outputs": [],
   "source": [
    "np.savez_compressed('many_arrs_compressed', \n",
    "                    arr1, arr2, arr3)"
   ]
  },
  {
   "cell_type": "code",
   "execution_count": 0,
   "metadata": {
    "colab": {
     "base_uri": "https://localhost:8080/",
     "height": 164
    },
    "colab_type": "code",
    "id": "LPXQgdsL1zMs",
    "outputId": "d6df1ab1-8005-4ed2-883c-a01e915d65fb"
   },
   "outputs": [
    {
     "name": "stdout",
     "output_type": "stream",
     "text": [
      "total 3.3M\n",
      "-rw-r--r-- 1 root root 1.6M Mar 16 14:54 many_arrs_compressed.npz\n",
      "-rw-r--r-- 1 root root 1.7M Mar 16 14:52 many_arrs.npz\n",
      "-rw-r--r-- 1 root root 1.6K Mar 16 14:47 planets_new.npy\n",
      "-rw-r--r-- 1 root root 4.5K Mar 16 14:46 planets_new.txt\n",
      "-rw-r--r-- 1 root root  254 Mar 16 14:38 planets_small.txt\n",
      "-rw-r--r-- 1 root root 1.5K Mar 16 14:42 planets.txt\n",
      "drwxr-xr-x 1 root root 4.0K Mar  3 18:11 sample_data\n"
     ]
    }
   ],
   "source": [
    "!ls -lh"
   ]
  },
  {
   "cell_type": "code",
   "execution_count": 0,
   "metadata": {
    "colab": {},
    "colab_type": "code",
    "id": "skZNUe7910lu"
   },
   "outputs": [],
   "source": [
    "arr1 = np.zeros((10000, 10000))"
   ]
  },
  {
   "cell_type": "code",
   "execution_count": 0,
   "metadata": {
    "colab": {},
    "colab_type": "code",
    "id": "Xupl4oo8185T"
   },
   "outputs": [],
   "source": [
    "np.savez(\"zeros\", arr1)"
   ]
  },
  {
   "cell_type": "code",
   "execution_count": 0,
   "metadata": {
    "colab": {},
    "colab_type": "code",
    "id": "p9V0ZIfr1_cq"
   },
   "outputs": [],
   "source": [
    "np.savez_compressed(\"zeros_compressed\", arr1)"
   ]
  },
  {
   "cell_type": "code",
   "execution_count": 0,
   "metadata": {
    "colab": {
     "base_uri": "https://localhost:8080/",
     "height": 201
    },
    "colab_type": "code",
    "id": "rie8a-n92C25",
    "outputId": "a2640a20-c039-4e6c-d5d0-bcffa23e9336"
   },
   "outputs": [
    {
     "name": "stdout",
     "output_type": "stream",
     "text": [
      "total 767M\n",
      "-rw-r--r-- 1 root root 1.6M Mar 16 14:54 many_arrs_compressed.npz\n",
      "-rw-r--r-- 1 root root 1.7M Mar 16 14:52 many_arrs.npz\n",
      "-rw-r--r-- 1 root root 1.6K Mar 16 14:47 planets_new.npy\n",
      "-rw-r--r-- 1 root root 4.5K Mar 16 14:46 planets_new.txt\n",
      "-rw-r--r-- 1 root root  254 Mar 16 14:38 planets_small.txt\n",
      "-rw-r--r-- 1 root root 1.5K Mar 16 14:42 planets.txt\n",
      "drwxr-xr-x 1 root root 4.0K Mar  3 18:11 sample_data\n",
      "-rw-r--r-- 1 root root 760K Mar 16 14:56 zeros_compressed.npz\n",
      "-rw-r--r-- 1 root root 763M Mar 16 14:55 zeros.npz\n"
     ]
    }
   ],
   "source": [
    "!ls -lh"
   ]
  },
  {
   "cell_type": "markdown",
   "metadata": {
    "colab_type": "text",
    "id": "Gbx0S1afv7J4"
   },
   "source": [
    "# Stats with NumPy"
   ]
  },
  {
   "cell_type": "code",
   "execution_count": 11,
   "metadata": {
    "colab": {},
    "colab_type": "code",
    "id": "hzPZnj7xv8LH"
   },
   "outputs": [
    {
     "data": {
      "text/plain": [
       "array([0.64299035, 0.43831215, 0.08225917, ..., 0.65395154, 0.08741316,\n",
       "       0.5033038 ])"
      ]
     },
     "execution_count": 11,
     "metadata": {},
     "output_type": "execute_result"
    }
   ],
   "source": [
    "arr = np.random.rand(10000000)\n",
    "arr"
   ]
  },
  {
   "cell_type": "code",
   "execution_count": 0,
   "metadata": {
    "colab": {
     "base_uri": "https://localhost:8080/",
     "height": 35
    },
    "colab_type": "code",
    "id": "sjOiUCIswBsF",
    "outputId": "6848e15e-d635-44ab-da8e-03345401c23f"
   },
   "outputs": [
    {
     "data": {
      "text/plain": [
       "2.9102073150211183e-06"
      ]
     },
     "execution_count": 3,
     "metadata": {
      "tags": []
     },
     "output_type": "execute_result"
    }
   ],
   "source": [
    "np.amin(arr)"
   ]
  },
  {
   "cell_type": "code",
   "execution_count": 0,
   "metadata": {
    "colab": {
     "base_uri": "https://localhost:8080/",
     "height": 35
    },
    "colab_type": "code",
    "id": "pJzrvQk6wIBI",
    "outputId": "58d276ce-63cd-499b-e370-ebf46d4b5846"
   },
   "outputs": [
    {
     "data": {
      "text/plain": [
       "0.9999915329470833"
      ]
     },
     "execution_count": 4,
     "metadata": {
      "tags": []
     },
     "output_type": "execute_result"
    }
   ],
   "source": [
    "np.amax(arr)"
   ]
  },
  {
   "cell_type": "code",
   "execution_count": 0,
   "metadata": {
    "colab": {
     "base_uri": "https://localhost:8080/",
     "height": 35
    },
    "colab_type": "code",
    "id": "Utj3RY5MwLcd",
    "outputId": "a59c2a8b-e3f9-4a77-9754-534b88c48d01"
   },
   "outputs": [
    {
     "data": {
      "text/plain": [
       "0.49835265487727426"
      ]
     },
     "execution_count": 5,
     "metadata": {
      "tags": []
     },
     "output_type": "execute_result"
    }
   ],
   "source": [
    "np.mean(arr)"
   ]
  },
  {
   "cell_type": "code",
   "execution_count": 0,
   "metadata": {
    "colab": {
     "base_uri": "https://localhost:8080/",
     "height": 35
    },
    "colab_type": "code",
    "id": "QpiM58TDwPsM",
    "outputId": "974879ec-2097-484f-f73b-ca6536abbadc"
   },
   "outputs": [
    {
     "data": {
      "text/plain": [
       "0.08305664817400735"
      ]
     },
     "execution_count": 6,
     "metadata": {
      "tags": []
     },
     "output_type": "execute_result"
    }
   ],
   "source": [
    "np.var(arr)"
   ]
  },
  {
   "cell_type": "code",
   "execution_count": 0,
   "metadata": {
    "colab": {
     "base_uri": "https://localhost:8080/",
     "height": 35
    },
    "colab_type": "code",
    "id": "tPqPqG03wTSC",
    "outputId": "78dfa19a-59e9-4b29-e807-5d8eee04ebb9"
   },
   "outputs": [
    {
     "data": {
      "text/plain": [
       "0.28819550338963884"
      ]
     },
     "execution_count": 7,
     "metadata": {
      "tags": []
     },
     "output_type": "execute_result"
    }
   ],
   "source": [
    "np.std(arr)"
   ]
  },
  {
   "cell_type": "code",
   "execution_count": 0,
   "metadata": {
    "colab": {
     "base_uri": "https://localhost:8080/",
     "height": 35
    },
    "colab_type": "code",
    "id": "zhwze9MnwUqC",
    "outputId": "437c0bcd-4aea-4710-8bcd-bdfd7ac978a9"
   },
   "outputs": [
    {
     "data": {
      "text/plain": [
       "0.49774252046580314"
      ]
     },
     "execution_count": 8,
     "metadata": {
      "tags": []
     },
     "output_type": "execute_result"
    }
   ],
   "source": [
    "np.median(arr)"
   ]
  },
  {
   "cell_type": "code",
   "execution_count": 0,
   "metadata": {
    "colab": {
     "base_uri": "https://localhost:8080/",
     "height": 35
    },
    "colab_type": "code",
    "id": "DGHAXp1UwYpe",
    "outputId": "61931c52-370a-420a-83e8-e5a1328c542f"
   },
   "outputs": [
    {
     "data": {
      "text/plain": [
       "0.49774252046580314"
      ]
     },
     "execution_count": 9,
     "metadata": {
      "tags": []
     },
     "output_type": "execute_result"
    }
   ],
   "source": [
    "np.percentile(arr, 50)"
   ]
  },
  {
   "cell_type": "code",
   "execution_count": 0,
   "metadata": {
    "colab": {
     "base_uri": "https://localhost:8080/",
     "height": 35
    },
    "colab_type": "code",
    "id": "hz4lmGUJwdSD",
    "outputId": "b0875be5-ac8a-4b7b-b41b-4a00879da81f"
   },
   "outputs": [
    {
     "data": {
      "text/plain": [
       "0.10024188502450737"
      ]
     },
     "execution_count": 10,
     "metadata": {
      "tags": []
     },
     "output_type": "execute_result"
    }
   ],
   "source": [
    "np.percentile(arr, 10)"
   ]
  },
  {
   "cell_type": "code",
   "execution_count": 0,
   "metadata": {
    "colab": {
     "base_uri": "https://localhost:8080/",
     "height": 35
    },
    "colab_type": "code",
    "id": "dnIG-AJJwfdU",
    "outputId": "3a18a60b-ae82-4c46-bbfd-130e6c051e20"
   },
   "outputs": [
    {
     "data": {
      "text/plain": [
       "0.8985023145814922"
      ]
     },
     "execution_count": 11,
     "metadata": {
      "tags": []
     },
     "output_type": "execute_result"
    }
   ],
   "source": [
    "np.percentile(arr, 90)"
   ]
  },
  {
   "cell_type": "code",
   "execution_count": 0,
   "metadata": {
    "colab": {
     "base_uri": "https://localhost:8080/",
     "height": 54
    },
    "colab_type": "code",
    "id": "dGK2Nv5hwgfm",
    "outputId": "ecd05dfb-dc15-4d40-dea4-323043d399d6"
   },
   "outputs": [
    {
     "name": "stdout",
     "output_type": "stream",
     "text": [
      "CPU times: user 280 ms, sys: 36 ms, total: 316 ms\n",
      "Wall time: 319 ms\n"
     ]
    }
   ],
   "source": [
    "%%time\n",
    "iqr = np.percentile(arr, 75) - np.percentile(arr, 25)"
   ]
  },
  {
   "cell_type": "code",
   "execution_count": 0,
   "metadata": {
    "colab": {
     "base_uri": "https://localhost:8080/",
     "height": 35
    },
    "colab_type": "code",
    "id": "WPiwXBeGwqbw",
    "outputId": "874df580-7e41-4de9-ae87-c31a34c7fd42"
   },
   "outputs": [
    {
     "name": "stdout",
     "output_type": "stream",
     "text": [
      "0.49950783658626163\n"
     ]
    }
   ],
   "source": [
    "print(iqr)"
   ]
  },
  {
   "cell_type": "code",
   "execution_count": 0,
   "metadata": {
    "colab": {
     "base_uri": "https://localhost:8080/",
     "height": 54
    },
    "colab_type": "code",
    "id": "v523FMvSws4N",
    "outputId": "0063177c-4cee-4a7c-b0de-347e8a801417"
   },
   "outputs": [
    {
     "name": "stdout",
     "output_type": "stream",
     "text": [
      "CPU times: user 210 ms, sys: 0 ns, total: 210 ms\n",
      "Wall time: 210 ms\n"
     ]
    }
   ],
   "source": [
    "%%time\n",
    "quartiles = np.percentile(arr, [25, 75])\n",
    "iqr = quartiles[1] - quartiles[0]"
   ]
  },
  {
   "cell_type": "code",
   "execution_count": 0,
   "metadata": {
    "colab": {
     "base_uri": "https://localhost:8080/",
     "height": 35
    },
    "colab_type": "code",
    "id": "0A3eBFSlxA0k",
    "outputId": "b78be5e8-6a1f-4823-affd-9ed4407abd3e"
   },
   "outputs": [
    {
     "name": "stdout",
     "output_type": "stream",
     "text": [
      "[0.24824011 0.74774795]\n"
     ]
    }
   ],
   "source": [
    "print(quartiles)"
   ]
  },
  {
   "cell_type": "code",
   "execution_count": 0,
   "metadata": {
    "colab": {
     "base_uri": "https://localhost:8080/",
     "height": 35
    },
    "colab_type": "code",
    "id": "vSFKMczcxFHM",
    "outputId": "a8432afe-9619-4f44-b25c-61ecafd974ab"
   },
   "outputs": [
    {
     "name": "stdout",
     "output_type": "stream",
     "text": [
      "0.49950783658626163\n"
     ]
    }
   ],
   "source": [
    "print(iqr)"
   ]
  },
  {
   "cell_type": "code",
   "execution_count": 0,
   "metadata": {
    "colab": {
     "base_uri": "https://localhost:8080/",
     "height": 54
    },
    "colab_type": "code",
    "id": "JovlaD8wxGGA",
    "outputId": "442aaedc-b960-4afa-c49b-f325d4dfa1c1"
   },
   "outputs": [
    {
     "data": {
      "text/plain": [
       "array([-1.2076022 , -1.01987303,  1.51760917, ..., -0.47830944,\n",
       "       -0.33409969,  1.14824894])"
      ]
     },
     "execution_count": 23,
     "metadata": {
      "tags": []
     },
     "output_type": "execute_result"
    }
   ],
   "source": [
    "(arr - np.mean(arr))/np.std(arr)"
   ]
  },
  {
   "cell_type": "code",
   "execution_count": 0,
   "metadata": {
    "colab": {
     "base_uri": "https://localhost:8080/",
     "height": 109
    },
    "colab_type": "code",
    "id": "zcEfRhZgxhuv",
    "outputId": "d95a2e27-7fec-4c9b-e6c3-cfe07c6163fd"
   },
   "outputs": [
    {
     "data": {
      "text/plain": [
       "(array([ 999463,  998650, 1000122,  998223, 1000173, 1000919,  998865,\n",
       "        1000985, 1001600, 1001000]),\n",
       " array([8.45622383e-09, 9.99999856e-02, 1.99999963e-01, 2.99999940e-01,\n",
       "        3.99999917e-01, 4.99999894e-01, 5.99999871e-01, 6.99999849e-01,\n",
       "        7.99999826e-01, 8.99999803e-01, 9.99999780e-01]))"
      ]
     },
     "execution_count": 24,
     "metadata": {
      "tags": []
     },
     "output_type": "execute_result"
    }
   ],
   "source": [
    "np.histogram(arr)"
   ]
  },
  {
   "cell_type": "code",
   "execution_count": 0,
   "metadata": {
    "colab": {
     "base_uri": "https://localhost:8080/",
     "height": 72
    },
    "colab_type": "code",
    "id": "LwtxZSn9xruv",
    "outputId": "d2d21648-af6f-4dde-b2b2-6d74c7f21e0a"
   },
   "outputs": [
    {
     "data": {
      "text/plain": [
       "(array([1998113, 1998345, 2001092, 1999850, 2002600]),\n",
       " array([8.45622383e-09, 1.99999963e-01, 3.99999917e-01, 5.99999871e-01,\n",
       "        7.99999826e-01, 9.99999780e-01]))"
      ]
     },
     "execution_count": 25,
     "metadata": {
      "tags": []
     },
     "output_type": "execute_result"
    }
   ],
   "source": [
    "np.histogram(arr, bins=5)"
   ]
  },
  {
   "cell_type": "code",
   "execution_count": 0,
   "metadata": {
    "colab": {
     "base_uri": "https://localhost:8080/",
     "height": 54
    },
    "colab_type": "code",
    "id": "iTcZBG51x45W",
    "outputId": "13a3af6b-dcc0-4377-eb0b-c9c5c3417916"
   },
   "outputs": [
    {
     "data": {
      "text/plain": [
       "(array([2497818, 2498813, 2500099, 2503270]),\n",
       " array([0.  , 0.25, 0.5 , 0.75, 1.  ]))"
      ]
     },
     "execution_count": 26,
     "metadata": {
      "tags": []
     },
     "output_type": "execute_result"
    }
   ],
   "source": [
    "np.histogram(arr, bins=[0, 0.25, 0.5, 0.75, 1])"
   ]
  },
  {
   "cell_type": "code",
   "execution_count": 0,
   "metadata": {
    "colab": {},
    "colab_type": "code",
    "id": "U0XTmMKix-Qi"
   },
   "outputs": [],
   "source": [
    "bins = [0, 0.25, 0.5, 0.75, 1]"
   ]
  },
  {
   "cell_type": "code",
   "execution_count": 0,
   "metadata": {
    "colab": {
     "base_uri": "https://localhost:8080/",
     "height": 35
    },
    "colab_type": "code",
    "id": "iDus-okdyG16",
    "outputId": "1e1d99f6-184b-4a42-c16e-0dd091e1202c"
   },
   "outputs": [
    {
     "data": {
      "text/plain": [
       "array([1, 1, 4, ..., 2, 2, 4])"
      ]
     },
     "execution_count": 28,
     "metadata": {
      "tags": []
     },
     "output_type": "execute_result"
    }
   ],
   "source": [
    "np.digitize(arr, bins)"
   ]
  },
  {
   "cell_type": "code",
   "execution_count": 0,
   "metadata": {
    "colab": {},
    "colab_type": "code",
    "id": "3incboaHyIfV"
   },
   "outputs": [],
   "source": [
    "arr1 = np.random.randint(0, 10, (10))"
   ]
  },
  {
   "cell_type": "code",
   "execution_count": 0,
   "metadata": {
    "colab": {
     "base_uri": "https://localhost:8080/",
     "height": 35
    },
    "colab_type": "code",
    "id": "zV79sa7tyTS0",
    "outputId": "17cba791-8023-46ae-a500-4b5fb0ecce3c"
   },
   "outputs": [
    {
     "data": {
      "text/plain": [
       "array([2, 8, 8, 2, 6, 0, 8, 2, 7, 9])"
      ]
     },
     "execution_count": 30,
     "metadata": {
      "tags": []
     },
     "output_type": "execute_result"
    }
   ],
   "source": [
    "arr1"
   ]
  },
  {
   "cell_type": "code",
   "execution_count": 0,
   "metadata": {
    "colab": {},
    "colab_type": "code",
    "id": "h9HV9Q8RyT5Y"
   },
   "outputs": [],
   "source": [
    "bins = [0, 6, 10]"
   ]
  },
  {
   "cell_type": "code",
   "execution_count": 0,
   "metadata": {
    "colab": {
     "base_uri": "https://localhost:8080/",
     "height": 35
    },
    "colab_type": "code",
    "id": "VTzSC80uyXq0",
    "outputId": "d0f72a98-0c1d-4f26-9397-382895510603"
   },
   "outputs": [
    {
     "data": {
      "text/plain": [
       "array([1, 2, 2, 1, 2, 1, 2, 1, 2, 2])"
      ]
     },
     "execution_count": 32,
     "metadata": {
      "tags": []
     },
     "output_type": "execute_result"
    }
   ],
   "source": [
    "np.digitize(arr1, bins)"
   ]
  },
  {
   "cell_type": "code",
   "execution_count": 0,
   "metadata": {
    "colab": {
     "base_uri": "https://localhost:8080/",
     "height": 35
    },
    "colab_type": "code",
    "id": "VhJZ7RpRyY9R",
    "outputId": "034d4c56-5e67-4bbe-f527-d3b3dc0dd551"
   },
   "outputs": [
    {
     "data": {
      "text/plain": [
       "array([1, 2, 2, 1, 1, 0, 2, 1, 2, 2])"
      ]
     },
     "execution_count": 33,
     "metadata": {
      "tags": []
     },
     "output_type": "execute_result"
    }
   ],
   "source": [
    "np.digitize(arr1, bins, right=True)"
   ]
  },
  {
   "cell_type": "code",
   "execution_count": 0,
   "metadata": {
    "colab": {},
    "colab_type": "code",
    "id": "2PfKNg2Jylbr"
   },
   "outputs": [],
   "source": [
    "arr1 = np.random.randint(50, 80, 100) # weight"
   ]
  },
  {
   "cell_type": "code",
   "execution_count": 0,
   "metadata": {
    "colab": {},
    "colab_type": "code",
    "id": "jhNl-W2ny0Qp"
   },
   "outputs": [],
   "source": [
    "arr2 = np.random.randint(150, 185, 100) # heights"
   ]
  },
  {
   "cell_type": "code",
   "execution_count": 0,
   "metadata": {
    "colab": {},
    "colab_type": "code",
    "id": "0xbdhrDBy4Vx"
   },
   "outputs": [],
   "source": [
    "arr3 = np.random.randint(17, 22, 100) # age"
   ]
  },
  {
   "cell_type": "code",
   "execution_count": 0,
   "metadata": {
    "colab": {
     "base_uri": "https://localhost:8080/",
     "height": 35
    },
    "colab_type": "code",
    "id": "1qT2iCgPy7Hq",
    "outputId": "958b6adf-2348-4053-b498-0bce6d4cb2f0"
   },
   "outputs": [
    {
     "data": {
      "text/plain": [
       "(300,)"
      ]
     },
     "execution_count": 41,
     "metadata": {
      "tags": []
     },
     "output_type": "execute_result"
    }
   ],
   "source": [
    "np.concatenate((arr1, arr2, arr3)).shape"
   ]
  },
  {
   "cell_type": "code",
   "execution_count": 0,
   "metadata": {
    "colab": {
     "base_uri": "https://localhost:8080/",
     "height": 35
    },
    "colab_type": "code",
    "id": "mBpCCPpCzL_8",
    "outputId": "fdc24d03-f447-4e15-aa6e-990f3d3ae3f5"
   },
   "outputs": [
    {
     "data": {
      "text/plain": [
       "(3, 100)"
      ]
     },
     "execution_count": 43,
     "metadata": {
      "tags": []
     },
     "output_type": "execute_result"
    }
   ],
   "source": [
    "np.vstack((arr1, arr2, arr3)).shape"
   ]
  },
  {
   "cell_type": "code",
   "execution_count": 0,
   "metadata": {
    "colab": {},
    "colab_type": "code",
    "id": "WSFsv7K6zcMr"
   },
   "outputs": [],
   "source": [
    "arr2d = np.vstack((arr1, arr2, arr3))"
   ]
  },
  {
   "cell_type": "code",
   "execution_count": 0,
   "metadata": {
    "colab": {
     "base_uri": "https://localhost:8080/",
     "height": 35
    },
    "colab_type": "code",
    "id": "TPyLPXI2zkaR",
    "outputId": "b3903936-e2a1-41fe-f6a8-77968ff759bc"
   },
   "outputs": [
    {
     "data": {
      "text/plain": [
       "array([ 50, 150,  17])"
      ]
     },
     "execution_count": 46,
     "metadata": {
      "tags": []
     },
     "output_type": "execute_result"
    }
   ],
   "source": [
    "np.amin(arr2d, axis=1)"
   ]
  },
  {
   "cell_type": "code",
   "execution_count": 0,
   "metadata": {
    "colab": {
     "base_uri": "https://localhost:8080/",
     "height": 35
    },
    "colab_type": "code",
    "id": "Gs28beuPzmOo",
    "outputId": "8e145e68-60e6-487f-e59a-19a282a69629"
   },
   "outputs": [
    {
     "data": {
      "text/plain": [
       "array([ 79, 184,  21])"
      ]
     },
     "execution_count": 47,
     "metadata": {
      "tags": []
     },
     "output_type": "execute_result"
    }
   ],
   "source": [
    "np.amax(arr2d, axis=1)"
   ]
  },
  {
   "cell_type": "code",
   "execution_count": 0,
   "metadata": {
    "colab": {
     "base_uri": "https://localhost:8080/",
     "height": 35
    },
    "colab_type": "code",
    "id": "dOezzskxz-YP",
    "outputId": "100fb874-5a31-4017-d3ba-59035058048f"
   },
   "outputs": [
    {
     "data": {
      "text/plain": [
       "array([ 64.48, 167.23,  18.96])"
      ]
     },
     "execution_count": 48,
     "metadata": {
      "tags": []
     },
     "output_type": "execute_result"
    }
   ],
   "source": [
    "np.mean(arr2d, axis=1)"
   ]
  },
  {
   "cell_type": "markdown",
   "metadata": {
    "colab_type": "text",
    "id": "VWepKz6S0-6R"
   },
   "source": [
    "# Checking stats rules with numpy"
   ]
  },
  {
   "cell_type": "markdown",
   "metadata": {
    "colab_type": "text",
    "id": "V4H98xu21BC5"
   },
   "source": [
    "## Mean subracted array has zero mean"
   ]
  },
  {
   "cell_type": "code",
   "execution_count": 0,
   "metadata": {
    "colab": {},
    "colab_type": "code",
    "id": "318AUnPqz_w4"
   },
   "outputs": [],
   "source": [
    "arr = np.random.rand(1000)"
   ]
  },
  {
   "cell_type": "code",
   "execution_count": 0,
   "metadata": {
    "colab": {},
    "colab_type": "code",
    "id": "kENdl4Xi1UGF"
   },
   "outputs": [],
   "source": [
    "mean = np.mean(arr)"
   ]
  },
  {
   "cell_type": "code",
   "execution_count": 0,
   "metadata": {
    "colab": {},
    "colab_type": "code",
    "id": "GRbvx9nh1WKE"
   },
   "outputs": [],
   "source": [
    "arr1 = arr - mean"
   ]
  },
  {
   "cell_type": "code",
   "execution_count": 0,
   "metadata": {
    "colab": {
     "base_uri": "https://localhost:8080/",
     "height": 35
    },
    "colab_type": "code",
    "id": "Dzxf2YGB1XrF",
    "outputId": "f91c9039-d62b-40e8-cf21-4d5361580bda"
   },
   "outputs": [
    {
     "data": {
      "text/plain": [
       "-7.105427357601002e-18"
      ]
     },
     "execution_count": 56,
     "metadata": {
      "tags": []
     },
     "output_type": "execute_result"
    }
   ],
   "source": [
    "np.mean(arr1)"
   ]
  },
  {
   "cell_type": "markdown",
   "metadata": {
    "colab_type": "text",
    "id": "oFy2ji-A1oAn"
   },
   "source": [
    "## Computing mean with smaller set of values"
   ]
  },
  {
   "cell_type": "code",
   "execution_count": 0,
   "metadata": {
    "colab": {},
    "colab_type": "code",
    "id": "w2q417Zw1Y39"
   },
   "outputs": [],
   "source": [
    "arr = np.random.rand(1000)"
   ]
  },
  {
   "cell_type": "code",
   "execution_count": 0,
   "metadata": {
    "colab": {},
    "colab_type": "code",
    "id": "jqKIWVik1yV7"
   },
   "outputs": [],
   "source": [
    "for k in range(1, 50):\n",
    "    arr1 = arr[0:k]\n",
    "    print(k, np.mean(arr1))"
   ]
  },
  {
   "cell_type": "code",
   "execution_count": 0,
   "metadata": {
    "colab": {},
    "colab_type": "code",
    "id": "d-Oo2bb92TZL"
   },
   "outputs": [],
   "source": [
    "np.cumsum?"
   ]
  },
  {
   "cell_type": "code",
   "execution_count": 0,
   "metadata": {
    "colab": {},
    "colab_type": "code",
    "id": "PiaXg9-57NHs"
   },
   "outputs": [],
   "source": [
    "means = np.cumsum(arr)/np.arange(1,1001)"
   ]
  },
  {
   "cell_type": "code",
   "execution_count": 0,
   "metadata": {
    "colab": {
     "base_uri": "https://localhost:8080/",
     "height": 72
    },
    "colab_type": "code",
    "id": "kFnc0ECw7QM4",
    "outputId": "c83c514f-5d3d-44fb-caab-a663d3ce689d"
   },
   "outputs": [
    {
     "data": {
      "text/plain": [
       "array([0.80334668, 0.47415025, 0.50657624, 0.57224576, 0.6124674 ,\n",
       "       0.51811314, 0.5048491 , 0.51491554, 0.49235724, 0.54249526,\n",
       "       0.52085287, 0.48670218, 0.48395448, 0.45357307, 0.48506273])"
      ]
     },
     "execution_count": 67,
     "metadata": {
      "tags": []
     },
     "output_type": "execute_result"
    }
   ],
   "source": [
    "means[0:15]"
   ]
  },
  {
   "cell_type": "markdown",
   "metadata": {
    "colab_type": "text",
    "id": "5LoAAMS28NIG"
   },
   "source": [
    "## Effect of outliers on mean and median"
   ]
  },
  {
   "cell_type": "code",
   "execution_count": 0,
   "metadata": {
    "colab": {},
    "colab_type": "code",
    "id": "qC4adtFU8KXT"
   },
   "outputs": [],
   "source": [
    "arr = np.random.randint(1, 100, 100)"
   ]
  },
  {
   "cell_type": "code",
   "execution_count": 0,
   "metadata": {
    "colab": {
     "base_uri": "https://localhost:8080/",
     "height": 35
    },
    "colab_type": "code",
    "id": "IneFGRwU8S7H",
    "outputId": "1d97a592-8f7e-4277-8bf3-0e373b0df25b"
   },
   "outputs": [
    {
     "data": {
      "text/plain": [
       "50.09"
      ]
     },
     "execution_count": 81,
     "metadata": {
      "tags": []
     },
     "output_type": "execute_result"
    }
   ],
   "source": [
    "np.mean(arr)"
   ]
  },
  {
   "cell_type": "code",
   "execution_count": 0,
   "metadata": {
    "colab": {
     "base_uri": "https://localhost:8080/",
     "height": 35
    },
    "colab_type": "code",
    "id": "PIiGABZq8Tw8",
    "outputId": "f66e47fa-6ae2-4ba6-c89e-819ac0d07719"
   },
   "outputs": [
    {
     "data": {
      "text/plain": [
       "50.0"
      ]
     },
     "execution_count": 82,
     "metadata": {
      "tags": []
     },
     "output_type": "execute_result"
    }
   ],
   "source": [
    "np.median(arr)"
   ]
  },
  {
   "cell_type": "code",
   "execution_count": 0,
   "metadata": {
    "colab": {},
    "colab_type": "code",
    "id": "YIt0WWPh8U2A"
   },
   "outputs": [],
   "source": [
    "arr = np.append(arr, [1000, 2000])"
   ]
  },
  {
   "cell_type": "code",
   "execution_count": 0,
   "metadata": {
    "colab": {
     "base_uri": "https://localhost:8080/",
     "height": 35
    },
    "colab_type": "code",
    "id": "s0yiwz5P8b9N",
    "outputId": "001c6e40-bedf-414e-e68b-d61a048d6364"
   },
   "outputs": [
    {
     "data": {
      "text/plain": [
       "(102,)"
      ]
     },
     "execution_count": 84,
     "metadata": {
      "tags": []
     },
     "output_type": "execute_result"
    }
   ],
   "source": [
    "arr.shape"
   ]
  },
  {
   "cell_type": "code",
   "execution_count": 0,
   "metadata": {
    "colab": {
     "base_uri": "https://localhost:8080/",
     "height": 35
    },
    "colab_type": "code",
    "id": "gU97HqCo8dzZ",
    "outputId": "710fd48e-8af9-49a8-dc15-bc73a44de015"
   },
   "outputs": [
    {
     "data": {
      "text/plain": [
       "78.51960784313725"
      ]
     },
     "execution_count": 85,
     "metadata": {
      "tags": []
     },
     "output_type": "execute_result"
    }
   ],
   "source": [
    "np.mean(arr)"
   ]
  },
  {
   "cell_type": "code",
   "execution_count": 0,
   "metadata": {
    "colab": {
     "base_uri": "https://localhost:8080/",
     "height": 35
    },
    "colab_type": "code",
    "id": "_3X0E37C8gCu",
    "outputId": "42d2651a-3c3e-413a-9ce7-f29a57f33b29"
   },
   "outputs": [
    {
     "data": {
      "text/plain": [
       "50.5"
      ]
     },
     "execution_count": 86,
     "metadata": {
      "tags": []
     },
     "output_type": "execute_result"
    }
   ],
   "source": [
    "np.median(arr)"
   ]
  },
  {
   "cell_type": "markdown",
   "metadata": {
    "colab_type": "text",
    "id": "svLMJcYS8oV1"
   },
   "source": [
    "## Effect of scaling arrays on mean and median"
   ]
  },
  {
   "cell_type": "code",
   "execution_count": 0,
   "metadata": {
    "colab": {},
    "colab_type": "code",
    "id": "tVdjlo3v8ibT"
   },
   "outputs": [],
   "source": [
    "arr = np.random.rand(100)"
   ]
  },
  {
   "cell_type": "code",
   "execution_count": 0,
   "metadata": {
    "colab": {
     "base_uri": "https://localhost:8080/",
     "height": 35
    },
    "colab_type": "code",
    "id": "VecKVa0l8vPU",
    "outputId": "c7e23c8f-f5ed-46b1-cabe-046a87c65593"
   },
   "outputs": [
    {
     "data": {
      "text/plain": [
       "0.4383130659902099"
      ]
     },
     "execution_count": 88,
     "metadata": {
      "tags": []
     },
     "output_type": "execute_result"
    }
   ],
   "source": [
    "np.mean(arr)"
   ]
  },
  {
   "cell_type": "code",
   "execution_count": 0,
   "metadata": {
    "colab": {
     "base_uri": "https://localhost:8080/",
     "height": 35
    },
    "colab_type": "code",
    "id": "FjMm5Imq8ww_",
    "outputId": "30ad1ef2-e60b-4f2c-bd23-9d36bd42964d"
   },
   "outputs": [
    {
     "data": {
      "text/plain": [
       "0.3970390836194846"
      ]
     },
     "execution_count": 89,
     "metadata": {
      "tags": []
     },
     "output_type": "execute_result"
    }
   ],
   "source": [
    "np.median(arr)"
   ]
  },
  {
   "cell_type": "code",
   "execution_count": 0,
   "metadata": {
    "colab": {},
    "colab_type": "code",
    "id": "OL5RcaeM8xXd"
   },
   "outputs": [],
   "source": [
    "arr1 = 2.5 * arr + 0.65"
   ]
  },
  {
   "cell_type": "code",
   "execution_count": 0,
   "metadata": {
    "colab": {
     "base_uri": "https://localhost:8080/",
     "height": 35
    },
    "colab_type": "code",
    "id": "Y32GqKqi83f6",
    "outputId": "2b296231-a177-4ada-80d6-d4d122d072c1"
   },
   "outputs": [
    {
     "name": "stdout",
     "output_type": "stream",
     "text": [
      "1.7457826649755248 1.7457826649755246\n"
     ]
    }
   ],
   "source": [
    "print(np.mean(2.5 * arr + 0.65), \n",
    "      2.5 * np.mean(arr) + 0.65)"
   ]
  },
  {
   "cell_type": "code",
   "execution_count": 0,
   "metadata": {
    "colab": {
     "base_uri": "https://localhost:8080/",
     "height": 35
    },
    "colab_type": "code",
    "id": "jFOv_ciE9A3_",
    "outputId": "09d1f139-3450-4017-efbb-47a639a80b3c"
   },
   "outputs": [
    {
     "name": "stdout",
     "output_type": "stream",
     "text": [
      "1.6425977090487114 1.6425977090487116\n"
     ]
    }
   ],
   "source": [
    "print(np.median(2.5 * arr + 0.65), \n",
    "      2.5 * np.median(arr) + 0.65)"
   ]
  },
  {
   "cell_type": "code",
   "execution_count": 0,
   "metadata": {
    "colab": {
     "base_uri": "https://localhost:8080/",
     "height": 35
    },
    "colab_type": "code",
    "id": "ZNZ-5lZQ9I4h",
    "outputId": "0dcc08f4-329c-48af-9f88-ec339759f2fa"
   },
   "outputs": [
    {
     "name": "stdout",
     "output_type": "stream",
     "text": [
      "0.4164288169548459 0.4164288169548459\n"
     ]
    }
   ],
   "source": [
    "print(np.var(2.5 * arr + 0.65), \n",
    "      2.5*2.5*np.var(arr))"
   ]
  },
  {
   "cell_type": "code",
   "execution_count": 0,
   "metadata": {
    "colab": {
     "base_uri": "https://localhost:8080/",
     "height": 35
    },
    "colab_type": "code",
    "id": "nF_kw4jC9M8I",
    "outputId": "1feeffe6-2d41-4b11-9316-86dccca3de3c"
   },
   "outputs": [
    {
     "name": "stdout",
     "output_type": "stream",
     "text": [
      "0.6453129604733241 0.6453129604733241\n"
     ]
    }
   ],
   "source": [
    "print(np.std(2.5 * arr + 0.65), \n",
    "      2.5 * np.std(arr))"
   ]
  },
  {
   "cell_type": "code",
   "execution_count": 0,
   "metadata": {
    "colab": {},
    "colab_type": "code",
    "id": "L4h0dNmr9Y5b"
   },
   "outputs": [],
   "source": [
    "arr1 = np.random.rand(100)\n",
    "arr2 = np.random.rand(100)"
   ]
  },
  {
   "cell_type": "code",
   "execution_count": 0,
   "metadata": {
    "colab": {
     "base_uri": "https://localhost:8080/",
     "height": 35
    },
    "colab_type": "code",
    "id": "y9nRViVf9gPE",
    "outputId": "d9b9bbd5-cf0e-46cd-8fb9-a45ca9ec5e52"
   },
   "outputs": [
    {
     "name": "stdout",
     "output_type": "stream",
     "text": [
      "-0.29677089842238513 -0.29677089842238513\n"
     ]
    }
   ],
   "source": [
    "print( np.mean(0.21 * arr1 - 0.75 * arr2), \n",
    "      0.21 * np.mean(arr1) - 0.75 * np.mean(arr2))"
   ]
  }
 ],
 "metadata": {
  "colab": {
   "collapsed_sections": [
    "68khGiVxYo7H",
    "NLGCUANycFKt",
    "ok07o0hHhe0k",
    "PDFmEbTwmJyr",
    "xPFrKz2xuH5K",
    "sdv4it47xrkx",
    "Gbx0S1afv7J4",
    "VWepKz6S0-6R",
    "V4H98xu21BC5",
    "oFy2ji-A1oAn",
    "5LoAAMS28NIG",
    "svLMJcYS8oV1"
   ],
   "name": "FDS_W08_Lecture_NB.ipynb",
   "provenance": []
  },
  "kernelspec": {
   "display_name": "Python 3",
   "language": "python",
   "name": "python3"
  },
  "language_info": {
   "codemirror_mode": {
    "name": "ipython",
    "version": 3
   },
   "file_extension": ".py",
   "mimetype": "text/x-python",
   "name": "python",
   "nbconvert_exporter": "python",
   "pygments_lexer": "ipython3",
   "version": "3.8.5"
  }
 },
 "nbformat": 4,
 "nbformat_minor": 1
}
