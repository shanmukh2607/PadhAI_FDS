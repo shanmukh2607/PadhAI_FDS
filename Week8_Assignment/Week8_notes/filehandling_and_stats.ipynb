{
 "cells": [
  {
   "cell_type": "code",
   "execution_count": 1,
   "metadata": {},
   "outputs": [],
   "source": [
    "import numpy as np"
   ]
  },
  {
   "cell_type": "code",
   "execution_count": 2,
   "metadata": {},
   "outputs": [],
   "source": [
    "planets_small = np.loadtxt(\"planets_small.txt\",skiprows=1,usecols = [1,2,3,4,5,6,7,8,9])"
   ]
  },
  {
   "cell_type": "code",
   "execution_count": 3,
   "metadata": {},
   "outputs": [
    {
     "name": "stdout",
     "output_type": "stream",
     "text": [
      "[[3.3000e-01 4.8700e+00 5.9700e+00 6.4200e-01 1.8980e+03 5.6800e+02\n",
      "  8.6800e+01 1.0200e+02 1.4600e-02]\n",
      " [5.7900e+01 1.0820e+02 1.4960e+02 2.2790e+02 7.7860e+02 1.4335e+03\n",
      "  2.8725e+03 4.4951e+03 5.9064e+03]\n",
      " [4.2226e+03 2.8020e+03 2.4000e+01 2.4700e+01 9.9000e+00 1.0700e+01\n",
      "  1.7200e+01 1.6100e+01 1.5330e+02]]\n"
     ]
    }
   ],
   "source": [
    "print(planets_small)"
   ]
  },
  {
   "cell_type": "code",
   "execution_count": 4,
   "metadata": {},
   "outputs": [
    {
     "name": "stdout",
     "output_type": "stream",
     "text": [
      "(3, 9)\n"
     ]
    }
   ],
   "source": [
    "print(planets_small.shape)"
   ]
  },
  {
   "cell_type": "code",
   "execution_count": 5,
   "metadata": {},
   "outputs": [],
   "source": [
    "planets = np.genfromtxt(\"planets.txt\",skip_header=1,usecols = [1,2,3,4,5,6,7,8,9])"
   ]
  },
  {
   "cell_type": "code",
   "execution_count": 6,
   "metadata": {},
   "outputs": [
    {
     "data": {
      "text/plain": [
       "array([[ 3.30000e-01,  4.87000e+00,  5.97000e+00,  7.30000e-02,\n",
       "         6.42000e-01,  1.89800e+03,  5.68000e+02,  8.68000e+01,\n",
       "         1.02000e+02],\n",
       "       [ 4.87900e+03,  1.21040e+04,  1.27560e+04,  3.47500e+03,\n",
       "         6.79200e+03,  1.42984e+05,  1.20536e+05,  5.11180e+04,\n",
       "         4.95280e+04],\n",
       "       [ 5.42700e+03,  5.24300e+03,  5.51400e+03,  3.34000e+03,\n",
       "         3.93300e+03,  1.32600e+03,  6.87000e+02,  1.27100e+03,\n",
       "         1.63800e+03],\n",
       "       [ 3.70000e+00,  8.90000e+00,  9.80000e+00,  1.60000e+00,\n",
       "         3.70000e+00,  2.31000e+01,  9.00000e+00,  8.70000e+00,\n",
       "         1.10000e+01],\n",
       "       [ 4.30000e+00,  1.04000e+01,  1.12000e+01,  2.40000e+00,\n",
       "         5.00000e+00,  5.95000e+01,  3.55000e+01,  2.13000e+01,\n",
       "         2.35000e+01],\n",
       "       [ 1.40760e+03, -5.83250e+03,  2.39000e+01,  6.55700e+02,\n",
       "         2.46000e+01,  9.90000e+00,  1.07000e+01, -1.72000e+01,\n",
       "         1.61000e+01],\n",
       "       [ 4.22260e+03,  2.80200e+03,  2.40000e+01,  7.08700e+02,\n",
       "         2.47000e+01,  9.90000e+00,  1.07000e+01,  1.72000e+01,\n",
       "         1.61000e+01],\n",
       "       [ 5.79000e+01,  1.08200e+02,  1.49600e+02,  3.84000e-01,\n",
       "         2.27900e+02,  7.78600e+02,  1.43350e+03,  2.87250e+03,\n",
       "         4.49510e+03],\n",
       "       [ 4.60000e+01,  1.07500e+02,  1.47100e+02,  3.63000e-01,\n",
       "         2.06600e+02,  7.40500e+02,  1.35260e+03,  2.74130e+03,\n",
       "         4.44450e+03],\n",
       "       [ 6.98000e+01,  1.08900e+02,  1.52100e+02,  4.06000e-01,\n",
       "         2.49200e+02,  8.16600e+02,  1.51450e+03,  3.00360e+03,\n",
       "         4.54570e+03],\n",
       "       [ 8.80000e+01,  2.24700e+02,  3.65200e+02,  2.73000e+01,\n",
       "         6.87000e+02,  4.33100e+03,  1.07470e+04,  3.05890e+04,\n",
       "         5.98000e+04],\n",
       "       [ 4.74000e+01,  3.50000e+01,  2.98000e+01,  1.00000e+00,\n",
       "         2.41000e+01,  1.31000e+01,  9.70000e+00,  6.80000e+00,\n",
       "         5.40000e+00],\n",
       "       [ 7.00000e+00,  3.40000e+00,  0.00000e+00,  5.10000e+00,\n",
       "         1.90000e+00,  1.30000e+00,  2.50000e+00,  8.00000e-01,\n",
       "         1.80000e+00],\n",
       "       [ 2.05000e-01,  7.00000e-03,  1.70000e-02,  5.50000e-02,\n",
       "         9.40000e-02,  4.90000e-02,  5.70000e-02,  4.60000e-02,\n",
       "         1.10000e-02],\n",
       "       [ 3.40000e-02,  1.77400e+02,  2.34000e+01,  6.70000e+00,\n",
       "         2.52000e+01,  3.10000e+00,  2.67000e+01,  9.78000e+01,\n",
       "         2.83000e+01],\n",
       "       [ 1.67000e+02,  4.64000e+02,  1.50000e+01, -2.00000e+01,\n",
       "        -6.50000e+01, -1.10000e+02, -1.40000e+02, -1.95000e+02,\n",
       "        -2.00000e+02],\n",
       "       [ 0.00000e+00,  9.20000e+01,  1.00000e+00,  0.00000e+00,\n",
       "         1.00000e-02,          nan,          nan,          nan,\n",
       "                 nan],\n",
       "       [ 0.00000e+00,  0.00000e+00,  1.00000e+00,  0.00000e+00,\n",
       "         2.00000e+00,  7.90000e+01,  8.20000e+01,  2.70000e+01,\n",
       "         1.40000e+01],\n",
       "       [ 0.00000e+00,  0.00000e+00,  0.00000e+00,  0.00000e+00,\n",
       "         0.00000e+00,  1.00000e+00,  1.00000e+00,  1.00000e+00,\n",
       "         1.00000e+00],\n",
       "       [ 1.00000e+00,  0.00000e+00,  1.00000e+00,  0.00000e+00,\n",
       "         0.00000e+00,  1.00000e+00,  1.00000e+00,  1.00000e+00,\n",
       "         1.00000e+00]])"
      ]
     },
     "execution_count": 6,
     "metadata": {},
     "output_type": "execute_result"
    }
   ],
   "source": [
    "planets"
   ]
  },
  {
   "cell_type": "code",
   "execution_count": 7,
   "metadata": {},
   "outputs": [
    {
     "data": {
      "text/plain": [
       "array([[False, False, False, False, False, False, False, False, False],\n",
       "       [False, False, False, False, False, False, False, False, False],\n",
       "       [False, False, False, False, False, False, False, False, False],\n",
       "       [False, False, False, False, False, False, False, False, False],\n",
       "       [False, False, False, False, False, False, False, False, False],\n",
       "       [False, False, False, False, False, False, False, False, False],\n",
       "       [False, False, False, False, False, False, False, False, False],\n",
       "       [False, False, False, False, False, False, False, False, False],\n",
       "       [False, False, False, False, False, False, False, False, False],\n",
       "       [False, False, False, False, False, False, False, False, False],\n",
       "       [False, False, False, False, False, False, False, False, False],\n",
       "       [False, False, False, False, False, False, False, False, False],\n",
       "       [False, False, False, False, False, False, False, False, False],\n",
       "       [False, False, False, False, False, False, False, False, False],\n",
       "       [False, False, False, False, False, False, False, False, False],\n",
       "       [False, False, False, False, False, False, False, False, False],\n",
       "       [False, False, False, False, False,  True,  True,  True,  True],\n",
       "       [False, False, False, False, False, False, False, False, False],\n",
       "       [False, False, False, False, False, False, False, False, False],\n",
       "       [False, False, False, False, False, False, False, False, False]])"
      ]
     },
     "execution_count": 7,
     "metadata": {},
     "output_type": "execute_result"
    }
   ],
   "source": [
    "np.isnan(planets)"
   ]
  },
  {
   "cell_type": "code",
   "execution_count": 8,
   "metadata": {},
   "outputs": [],
   "source": [
    "planets_new = np.nan_to_num(planets,nan = -1)"
   ]
  },
  {
   "cell_type": "code",
   "execution_count": 9,
   "metadata": {},
   "outputs": [
    {
     "name": "stdout",
     "output_type": "stream",
     "text": [
      "[[ 3.30000e-01  4.87000e+00  5.97000e+00  7.30000e-02  6.42000e-01\n",
      "   1.89800e+03  5.68000e+02  8.68000e+01  1.02000e+02]\n",
      " [ 4.87900e+03  1.21040e+04  1.27560e+04  3.47500e+03  6.79200e+03\n",
      "   1.42984e+05  1.20536e+05  5.11180e+04  4.95280e+04]\n",
      " [ 5.42700e+03  5.24300e+03  5.51400e+03  3.34000e+03  3.93300e+03\n",
      "   1.32600e+03  6.87000e+02  1.27100e+03  1.63800e+03]\n",
      " [ 3.70000e+00  8.90000e+00  9.80000e+00  1.60000e+00  3.70000e+00\n",
      "   2.31000e+01  9.00000e+00  8.70000e+00  1.10000e+01]\n",
      " [ 4.30000e+00  1.04000e+01  1.12000e+01  2.40000e+00  5.00000e+00\n",
      "   5.95000e+01  3.55000e+01  2.13000e+01  2.35000e+01]\n",
      " [ 1.40760e+03 -5.83250e+03  2.39000e+01  6.55700e+02  2.46000e+01\n",
      "   9.90000e+00  1.07000e+01 -1.72000e+01  1.61000e+01]\n",
      " [ 4.22260e+03  2.80200e+03  2.40000e+01  7.08700e+02  2.47000e+01\n",
      "   9.90000e+00  1.07000e+01  1.72000e+01  1.61000e+01]\n",
      " [ 5.79000e+01  1.08200e+02  1.49600e+02  3.84000e-01  2.27900e+02\n",
      "   7.78600e+02  1.43350e+03  2.87250e+03  4.49510e+03]\n",
      " [ 4.60000e+01  1.07500e+02  1.47100e+02  3.63000e-01  2.06600e+02\n",
      "   7.40500e+02  1.35260e+03  2.74130e+03  4.44450e+03]\n",
      " [ 6.98000e+01  1.08900e+02  1.52100e+02  4.06000e-01  2.49200e+02\n",
      "   8.16600e+02  1.51450e+03  3.00360e+03  4.54570e+03]\n",
      " [ 8.80000e+01  2.24700e+02  3.65200e+02  2.73000e+01  6.87000e+02\n",
      "   4.33100e+03  1.07470e+04  3.05890e+04  5.98000e+04]\n",
      " [ 4.74000e+01  3.50000e+01  2.98000e+01  1.00000e+00  2.41000e+01\n",
      "   1.31000e+01  9.70000e+00  6.80000e+00  5.40000e+00]\n",
      " [ 7.00000e+00  3.40000e+00  0.00000e+00  5.10000e+00  1.90000e+00\n",
      "   1.30000e+00  2.50000e+00  8.00000e-01  1.80000e+00]\n",
      " [ 2.05000e-01  7.00000e-03  1.70000e-02  5.50000e-02  9.40000e-02\n",
      "   4.90000e-02  5.70000e-02  4.60000e-02  1.10000e-02]\n",
      " [ 3.40000e-02  1.77400e+02  2.34000e+01  6.70000e+00  2.52000e+01\n",
      "   3.10000e+00  2.67000e+01  9.78000e+01  2.83000e+01]\n",
      " [ 1.67000e+02  4.64000e+02  1.50000e+01 -2.00000e+01 -6.50000e+01\n",
      "  -1.10000e+02 -1.40000e+02 -1.95000e+02 -2.00000e+02]\n",
      " [ 0.00000e+00  9.20000e+01  1.00000e+00  0.00000e+00  1.00000e-02\n",
      "  -1.00000e+00 -1.00000e+00 -1.00000e+00 -1.00000e+00]\n",
      " [ 0.00000e+00  0.00000e+00  1.00000e+00  0.00000e+00  2.00000e+00\n",
      "   7.90000e+01  8.20000e+01  2.70000e+01  1.40000e+01]\n",
      " [ 0.00000e+00  0.00000e+00  0.00000e+00  0.00000e+00  0.00000e+00\n",
      "   1.00000e+00  1.00000e+00  1.00000e+00  1.00000e+00]\n",
      " [ 1.00000e+00  0.00000e+00  1.00000e+00  0.00000e+00  0.00000e+00\n",
      "   1.00000e+00  1.00000e+00  1.00000e+00  1.00000e+00]]\n"
     ]
    }
   ],
   "source": [
    "print(planets_new\n",
    "     )"
   ]
  },
  {
   "cell_type": "code",
   "execution_count": 11,
   "metadata": {},
   "outputs": [],
   "source": [
    "np.savetxt(\"planets_new.txt\",planets_new,delimiter='\\t')"
   ]
  },
  {
   "cell_type": "code",
   "execution_count": 12,
   "metadata": {},
   "outputs": [],
   "source": [
    "np.save(\"planets_new\",planets_new)"
   ]
  },
  {
   "cell_type": "markdown",
   "metadata": {},
   "source": [
    "# Statistics"
   ]
  },
  {
   "cell_type": "code",
   "execution_count": 1,
   "metadata": {},
   "outputs": [],
   "source": [
    "import numpy as np"
   ]
  },
  {
   "cell_type": "code",
   "execution_count": 2,
   "metadata": {},
   "outputs": [],
   "source": [
    "arr = np.random.rand(100000)"
   ]
  },
  {
   "cell_type": "code",
   "execution_count": 3,
   "metadata": {},
   "outputs": [
    {
     "data": {
      "text/plain": [
       "2.2515041551929293e-05"
      ]
     },
     "execution_count": 3,
     "metadata": {},
     "output_type": "execute_result"
    }
   ],
   "source": [
    "np.amin(arr)"
   ]
  },
  {
   "cell_type": "code",
   "execution_count": 4,
   "metadata": {},
   "outputs": [
    {
     "data": {
      "text/plain": [
       "0.9999814373951017"
      ]
     },
     "execution_count": 4,
     "metadata": {},
     "output_type": "execute_result"
    }
   ],
   "source": [
    "np.amax(arr)"
   ]
  },
  {
   "cell_type": "code",
   "execution_count": 5,
   "metadata": {},
   "outputs": [
    {
     "data": {
      "text/plain": [
       "0.5006123419190934"
      ]
     },
     "execution_count": 5,
     "metadata": {},
     "output_type": "execute_result"
    }
   ],
   "source": [
    "np.mean(arr)"
   ]
  },
  {
   "cell_type": "code",
   "execution_count": 6,
   "metadata": {},
   "outputs": [
    {
     "data": {
      "text/plain": [
       "0.0830476806563908"
      ]
     },
     "execution_count": 6,
     "metadata": {},
     "output_type": "execute_result"
    }
   ],
   "source": [
    "np.var(arr)"
   ]
  },
  {
   "cell_type": "code",
   "execution_count": 8,
   "metadata": {},
   "outputs": [
    {
     "data": {
      "text/plain": [
       "0.28817994492398463"
      ]
     },
     "execution_count": 8,
     "metadata": {},
     "output_type": "execute_result"
    }
   ],
   "source": [
    "np.std(arr)"
   ]
  },
  {
   "cell_type": "code",
   "execution_count": 9,
   "metadata": {},
   "outputs": [
    {
     "data": {
      "text/plain": [
       "0.4999604835783587"
      ]
     },
     "execution_count": 9,
     "metadata": {},
     "output_type": "execute_result"
    }
   ],
   "source": [
    "np.median(arr)"
   ]
  },
  {
   "cell_type": "code",
   "execution_count": 10,
   "metadata": {},
   "outputs": [
    {
     "data": {
      "text/plain": [
       "0.10069808910688437"
      ]
     },
     "execution_count": 10,
     "metadata": {},
     "output_type": "execute_result"
    }
   ],
   "source": [
    "np.percentile(arr,10)"
   ]
  },
  {
   "cell_type": "code",
   "execution_count": 11,
   "metadata": {},
   "outputs": [
    {
     "data": {
      "text/plain": [
       "0.8998364844054731"
      ]
     },
     "execution_count": 11,
     "metadata": {},
     "output_type": "execute_result"
    }
   ],
   "source": [
    "np.percentile(arr,90)"
   ]
  },
  {
   "cell_type": "code",
   "execution_count": 12,
   "metadata": {},
   "outputs": [
    {
     "data": {
      "text/plain": [
       "0.3018991112315718"
      ]
     },
     "execution_count": 12,
     "metadata": {},
     "output_type": "execute_result"
    }
   ],
   "source": [
    "np.percentile(arr,30)"
   ]
  },
  {
   "cell_type": "code",
   "execution_count": 13,
   "metadata": {},
   "outputs": [
    {
     "name": "stdout",
     "output_type": "stream",
     "text": [
      "0.4986756203019804\n"
     ]
    }
   ],
   "source": [
    "%%time\n",
    "iqr = np.percentile(arr,75) - np.percentile(arr,25)\n",
    "print(iqr)"
   ]
  },
  {
   "cell_type": "code",
   "execution_count": 14,
   "metadata": {},
   "outputs": [],
   "source": [
    "quartiles = np.percentile(arr,[25,75])"
   ]
  },
  {
   "cell_type": "code",
   "execution_count": 15,
   "metadata": {},
   "outputs": [
    {
     "name": "stdout",
     "output_type": "stream",
     "text": [
      "0.4986756203019804\n"
     ]
    }
   ],
   "source": [
    "iqr = quartiles[1] - quartiles[0]\n",
    "print(iqr)"
   ]
  },
  {
   "cell_type": "code",
   "execution_count": 16,
   "metadata": {},
   "outputs": [
    {
     "name": "stdout",
     "output_type": "stream",
     "text": [
      "[-1.00944271  0.25618375  0.8878065  ...  1.46755561 -0.13280472\n",
      "  1.45544777]\n"
     ]
    }
   ],
   "source": [
    "zscore = (arr - np.mean(arr))/np.std(arr)\n",
    "print(zscore)"
   ]
  },
  {
   "cell_type": "code",
   "execution_count": 17,
   "metadata": {},
   "outputs": [
    {
     "data": {
      "text/plain": [
       "(array([ 9935,  9966,  9926, 10002, 10179,  9980,  9970, 10065,  9988,\n",
       "         9989]),\n",
       " array([2.25150416e-05, 1.00018407e-01, 2.00014300e-01, 3.00010192e-01,\n",
       "        4.00006084e-01, 5.00001976e-01, 5.99997868e-01, 6.99993761e-01,\n",
       "        7.99989653e-01, 8.99985545e-01, 9.99981437e-01]))"
      ]
     },
     "execution_count": 17,
     "metadata": {},
     "output_type": "execute_result"
    }
   ],
   "source": [
    "np.histogram(arr)"
   ]
  },
  {
   "cell_type": "code",
   "execution_count": 18,
   "metadata": {},
   "outputs": [
    {
     "data": {
      "text/plain": [
       "(array([19901, 19928, 20159, 20035, 19977]),\n",
       " array([2.25150416e-05, 2.00014300e-01, 4.00006084e-01, 5.99997868e-01,\n",
       "        7.99989653e-01, 9.99981437e-01]))"
      ]
     },
     "execution_count": 18,
     "metadata": {},
     "output_type": "execute_result"
    }
   ],
   "source": [
    "np.histogram(arr,bins= 5)"
   ]
  },
  {
   "cell_type": "code",
   "execution_count": 19,
   "metadata": {},
   "outputs": [
    {
     "data": {
      "text/plain": [
       "(array([24800, 25208, 24900, 25092]), array([0.  , 0.25, 0.5 , 0.75, 1.  ]))"
      ]
     },
     "execution_count": 19,
     "metadata": {},
     "output_type": "execute_result"
    }
   ],
   "source": [
    "np.histogram(arr, bins=[0,0.25,0.5,0.75,1])"
   ]
  },
  {
   "cell_type": "code",
   "execution_count": 20,
   "metadata": {},
   "outputs": [
    {
     "data": {
      "text/plain": [
       "array([1, 3, 4, ..., 4, 2, 4])"
      ]
     },
     "execution_count": 20,
     "metadata": {},
     "output_type": "execute_result"
    }
   ],
   "source": [
    "np.digitize(arr,[0,0.25,0.5,0.75,1])"
   ]
  },
  {
   "cell_type": "code",
   "execution_count": 21,
   "metadata": {},
   "outputs": [],
   "source": [
    "arr1 = np.random.randint(50,100,200) #weight\n",
    "arr2 = np.random.randint(150,185,200) #height\n",
    "arr3 = np.random.randint(17,23,200) #age"
   ]
  },
  {
   "cell_type": "code",
   "execution_count": 36,
   "metadata": {},
   "outputs": [],
   "source": [
    "#np.concatenate((arr1,arr2,arr3))"
   ]
  },
  {
   "cell_type": "code",
   "execution_count": 25,
   "metadata": {},
   "outputs": [
    {
     "data": {
      "text/plain": [
       "(600,)"
      ]
     },
     "execution_count": 25,
     "metadata": {},
     "output_type": "execute_result"
    }
   ],
   "source": [
    "np.concatenate((arr1,arr2,arr3)).shape"
   ]
  },
  {
   "cell_type": "code",
   "execution_count": 26,
   "metadata": {},
   "outputs": [
    {
     "data": {
      "text/plain": [
       "(3, 200)"
      ]
     },
     "execution_count": 26,
     "metadata": {},
     "output_type": "execute_result"
    }
   ],
   "source": [
    "np.vstack((arr1,arr2,arr3)).shape #vertical stack"
   ]
  },
  {
   "cell_type": "code",
   "execution_count": 30,
   "metadata": {},
   "outputs": [],
   "source": [
    "data = np.vstack((arr1,arr2,arr3)) #vertical stack"
   ]
  },
  {
   "cell_type": "code",
   "execution_count": 31,
   "metadata": {},
   "outputs": [
    {
     "data": {
      "text/plain": [
       "17"
      ]
     },
     "execution_count": 31,
     "metadata": {},
     "output_type": "execute_result"
    }
   ],
   "source": [
    "np.amin(data)"
   ]
  },
  {
   "cell_type": "code",
   "execution_count": 34,
   "metadata": {},
   "outputs": [
    {
     "data": {
      "text/plain": [
       "array([ 50, 150,  17])"
      ]
     },
     "execution_count": 34,
     "metadata": {},
     "output_type": "execute_result"
    }
   ],
   "source": [
    "np.amin(data,axis=1)"
   ]
  },
  {
   "cell_type": "code",
   "execution_count": 35,
   "metadata": {},
   "outputs": [
    {
     "data": {
      "text/plain": [
       "array([ 74.33 , 167.105,  19.53 ])"
      ]
     },
     "execution_count": 35,
     "metadata": {},
     "output_type": "execute_result"
    }
   ],
   "source": [
    "np.mean(data,axis=1)"
   ]
  },
  {
   "cell_type": "markdown",
   "metadata": {},
   "source": [
    "# Rules of Statistics"
   ]
  },
  {
   "cell_type": "markdown",
   "metadata": {},
   "source": [
    "## Mean subtracted array has zero mean"
   ]
  },
  {
   "cell_type": "code",
   "execution_count": 37,
   "metadata": {},
   "outputs": [],
   "source": [
    "arr = np.random.rand(1000)"
   ]
  },
  {
   "cell_type": "code",
   "execution_count": 38,
   "metadata": {},
   "outputs": [],
   "source": [
    "mean = np.mean(arr)"
   ]
  },
  {
   "cell_type": "code",
   "execution_count": 39,
   "metadata": {},
   "outputs": [],
   "source": [
    "arr1 = arr -mean"
   ]
  },
  {
   "cell_type": "code",
   "execution_count": 40,
   "metadata": {},
   "outputs": [
    {
     "data": {
      "text/plain": [
       "-3.1974423109204506e-17"
      ]
     },
     "execution_count": 40,
     "metadata": {},
     "output_type": "execute_result"
    }
   ],
   "source": [
    "np.mean(arr1)"
   ]
  },
  {
   "cell_type": "markdown",
   "metadata": {},
   "source": [
    "## Computing mean with smaller set"
   ]
  },
  {
   "cell_type": "code",
   "execution_count": 41,
   "metadata": {},
   "outputs": [],
   "source": [
    "arr = np.random.rand(1000)"
   ]
  },
  {
   "cell_type": "code",
   "execution_count": 43,
   "metadata": {},
   "outputs": [
    {
     "name": "stdout",
     "output_type": "stream",
     "text": [
      "1 0.6202276391193932\n",
      "2 0.45655820611430625\n",
      "3 0.45155606123722974\n",
      "4 0.450172367003619\n",
      "5 0.46513882303680915\n",
      "6 0.45868637285536956\n",
      "7 0.5312368466687888\n",
      "8 0.5492537024511581\n",
      "9 0.5317456600244973\n",
      "10 0.5688473456232254\n",
      "11 0.5845028084144276\n",
      "12 0.6031339678081491\n",
      "13 0.592690955926954\n",
      "14 0.5678411749560511\n",
      "15 0.5469140858196673\n",
      "16 0.5484023935679476\n",
      "17 0.5308048778776628\n",
      "18 0.5215902137939238\n",
      "19 0.501847812400789\n",
      "20 0.5002450361927733\n",
      "21 0.5218093385090751\n",
      "22 0.5238439681798095\n",
      "23 0.5353076225964892\n",
      "24 0.5247583807539843\n",
      "25 0.537183594525383\n",
      "26 0.5295669772851043\n",
      "27 0.5117620063161732\n",
      "28 0.5186052464087654\n",
      "29 0.5250385895992123\n",
      "30 0.5127975844809629\n",
      "31 0.517603783608368\n",
      "32 0.5072053487518455\n",
      "33 0.5070115498764839\n",
      "34 0.4961105127038913\n",
      "35 0.5003651664765232\n",
      "36 0.505198547072506\n",
      "37 0.498773450705639\n",
      "38 0.5005794088161536\n",
      "39 0.5039656384214034\n",
      "40 0.5019919469488568\n",
      "41 0.5047206835594823\n",
      "42 0.49753885625759264\n",
      "43 0.500488835202676\n",
      "44 0.5011123325703081\n",
      "45 0.506297872115304\n",
      "46 0.5077428357973635\n",
      "47 0.5055995060125468\n",
      "48 0.5152625406708632\n",
      "49 0.5216451498840093\n"
     ]
    }
   ],
   "source": [
    "for k in range(1,50):\n",
    "    arrtemp = arr[0:k]\n",
    "    print(k,np.mean(arrtemp))"
   ]
  },
  {
   "cell_type": "code",
   "execution_count": 44,
   "metadata": {},
   "outputs": [
    {
     "data": {
      "text/plain": [
       "0.4968858544053819"
      ]
     },
     "execution_count": 44,
     "metadata": {},
     "output_type": "execute_result"
    }
   ],
   "source": [
    "np.mean(arr)"
   ]
  },
  {
   "cell_type": "markdown",
   "metadata": {},
   "source": [
    "## Cumsum"
   ]
  },
  {
   "cell_type": "code",
   "execution_count": 45,
   "metadata": {},
   "outputs": [],
   "source": [
    "np.cumsum?"
   ]
  },
  {
   "cell_type": "code",
   "execution_count": 48,
   "metadata": {},
   "outputs": [],
   "source": [
    "means = np.cumsum(arr)/np.arange(1,1001)"
   ]
  },
  {
   "cell_type": "code",
   "execution_count": 49,
   "metadata": {},
   "outputs": [
    {
     "name": "stdout",
     "output_type": "stream",
     "text": [
      "0 0.6202276391193932\n",
      "1 0.45655820611430625\n",
      "2 0.45155606123722974\n",
      "3 0.450172367003619\n",
      "4 0.46513882303680915\n",
      "5 0.45868637285536956\n",
      "6 0.5312368466687888\n",
      "7 0.5492537024511581\n",
      "8 0.5317456600244973\n",
      "9 0.5688473456232254\n",
      "10 0.5845028084144276\n",
      "11 0.6031339678081491\n",
      "12 0.592690955926954\n",
      "13 0.5678411749560511\n",
      "14 0.5469140858196673\n",
      "15 0.5484023935679476\n",
      "16 0.5308048778776628\n",
      "17 0.5215902137939238\n",
      "18 0.501847812400789\n",
      "19 0.5002450361927733\n",
      "20 0.5218093385090751\n",
      "21 0.5238439681798095\n",
      "22 0.5353076225964892\n",
      "23 0.5247583807539843\n",
      "24 0.5371835945253831\n",
      "25 0.5295669772851044\n",
      "26 0.5117620063161733\n",
      "27 0.5186052464087655\n",
      "28 0.5250385895992125\n",
      "29 0.512797584480963\n",
      "30 0.5176037836083681\n",
      "31 0.5072053487518455\n",
      "32 0.5070115498764839\n",
      "33 0.4961105127038913\n",
      "34 0.5003651664765232\n",
      "35 0.505198547072506\n",
      "36 0.498773450705639\n",
      "37 0.5005794088161536\n",
      "38 0.5039656384214034\n",
      "39 0.5019919469488567\n",
      "40 0.5047206835594822\n",
      "41 0.4975388562575925\n",
      "42 0.5004888352026757\n",
      "43 0.501112332570308\n",
      "44 0.5062978721153037\n",
      "45 0.5077428357973633\n",
      "46 0.5055995060125467\n",
      "47 0.515262540670863\n",
      "48 0.5216451498840091\n",
      "49 0.5119854331952473\n"
     ]
    }
   ],
   "source": [
    "for i in range(50):\n",
    "    print(i,means[i])"
   ]
  },
  {
   "cell_type": "markdown",
   "metadata": {},
   "source": [
    "## Effect of outliers"
   ]
  },
  {
   "cell_type": "code",
   "execution_count": 56,
   "metadata": {},
   "outputs": [],
   "source": [
    "arr = np.random.randint(1,100,100)"
   ]
  },
  {
   "cell_type": "code",
   "execution_count": 57,
   "metadata": {},
   "outputs": [
    {
     "data": {
      "text/plain": [
       "49.06"
      ]
     },
     "execution_count": 57,
     "metadata": {},
     "output_type": "execute_result"
    }
   ],
   "source": [
    "np.mean(arr)"
   ]
  },
  {
   "cell_type": "code",
   "execution_count": 58,
   "metadata": {},
   "outputs": [
    {
     "data": {
      "text/plain": [
       "49.5"
      ]
     },
     "execution_count": 58,
     "metadata": {},
     "output_type": "execute_result"
    }
   ],
   "source": [
    "np.median(arr)"
   ]
  },
  {
   "cell_type": "code",
   "execution_count": 59,
   "metadata": {},
   "outputs": [],
   "source": [
    "arr = np.append(arr,[1000,2000])"
   ]
  },
  {
   "cell_type": "code",
   "execution_count": 60,
   "metadata": {},
   "outputs": [
    {
     "data": {
      "text/plain": [
       "(102,)"
      ]
     },
     "execution_count": 60,
     "metadata": {},
     "output_type": "execute_result"
    }
   ],
   "source": [
    "arr.shape"
   ]
  },
  {
   "cell_type": "code",
   "execution_count": 61,
   "metadata": {},
   "outputs": [
    {
     "data": {
      "text/plain": [
       "77.50980392156863"
      ]
     },
     "execution_count": 61,
     "metadata": {},
     "output_type": "execute_result"
    }
   ],
   "source": [
    "np.mean(arr)"
   ]
  },
  {
   "cell_type": "code",
   "execution_count": 62,
   "metadata": {},
   "outputs": [
    {
     "data": {
      "text/plain": [
       "52.0"
      ]
     },
     "execution_count": 62,
     "metadata": {},
     "output_type": "execute_result"
    }
   ],
   "source": [
    "np.median(arr)"
   ]
  },
  {
   "cell_type": "markdown",
   "metadata": {},
   "source": []
  }
 ],
 "metadata": {
  "kernelspec": {
   "display_name": "Python 3",
   "language": "python",
   "name": "python3"
  },
  "language_info": {
   "codemirror_mode": {
    "name": "ipython",
    "version": 3
   },
   "file_extension": ".py",
   "mimetype": "text/x-python",
   "name": "python",
   "nbconvert_exporter": "python",
   "pygments_lexer": "ipython3",
   "version": "3.8.2"
  }
 },
 "nbformat": 4,
 "nbformat_minor": 2
}
