{
 "cells": [
  {
   "cell_type": "code",
   "execution_count": 0,
   "metadata": {
    "colab": {},
    "colab_type": "code",
    "id": "KoekGK-QVj44"
   },
   "outputs": [],
   "source": [
    "import numpy as np"
   ]
  },
  {
   "cell_type": "markdown",
   "metadata": {
    "colab_type": "text",
    "id": "a4G9sCbzV59y"
   },
   "source": [
    "#Solutions to Exercise"
   ]
  },
  {
   "cell_type": "markdown",
   "metadata": {
    "colab_type": "text",
    "id": "4ARgsPjOVwuj"
   },
   "source": [
    "1.   Write a program to multiply two matrices of size $(100, 100)$ in two methods: (a) by using `np.dot(mat_1, mat_2)` and (b) by using for-loops. Comapre the time of execution in both the cases. Check out the documentation of `np.dot` in case that is not familiar to you. \n",
    "\n",
    "2.   Write a program to execute the steps below using numpy:\n",
    "    $$z_{ij} = \\sum_{k=1}^{n}w_{ik}x_{kj}$$\n",
    "    $$\\sigma_{ij}(z_{ij}) = \\frac{1}{1+e^{-z_{ij}}}$$ where $\\textbf{w}$ and $\\textbf{x}$ are matrices of random numbers having  dimensions $(m,n)$ and $(n,k)$, respectively, $\\sigma(z)$ is a function which performs above defined operation on elements of $\\textbf{z}$.\n",
    "\n",
    "3.   Consider a matrix $\\textbf{M}$ of size $(n, n)$. Flatten this into a 1-dimensional array and \n",
    "> 1. compute **mean** and **standard deviation** of $\\textbf{M}$ in *two* ways. <br>\n",
    "> 2. Apply the element wise operation as defined below: $$z_i = \\frac{x_i - \\mu}{\\sigma}$$ <br> where $x_i, \\ \\mu,\\ \\sigma$ are elements, mean and standard deviation of flattened matrix $\\textbf{M}$ respectively. And $z$ is the output vector.\n",
    "> 3. Compute the **mean** and **standard deviation** of $z$ and compare them with the **mean** and **standard deviation** of $\\textbf{M}$.\n",
    "> 4. Resaon about the above comparison.\n",
    "\n",
    "4.   Consider an $n$ dimentional vector $\\vec{V}$ (having $n$ elements), calculate :\n",
    "> 1. $|\\vec{V}|$ (magnitude of vector)\n",
    "> 2. $\\sum_{i=1}^{n}v_i^3$ in three different ways (here $n$ is total number of elements in $\\vec{V}$ and $v_i$ is $i_{th}$ element of $\\vec{V}$).\n",
    "\n",
    "5.   Create two vectors $y$ and $\\hat{y}$ having **same** dimensions, where $\\hat{y}$ should consist of random numbers between $[0, 1]$ and $y$ should contain $0s$ and $1s$, for example $y = [0, 1, 1, 0, 1, 0, 0, 1, ..., 1]$. Compute the given expression: $$O = -\\frac{1}{n}\\sum_{i=1}^{n}[y_i\\log_2(\\hat{y_i}) + (1-y_i)\\log_2(1-\\hat{y_i})]$$\n",
    "where $n$ is the total number of elements in $y$ and $\\hat{y}$."
   ]
  },
  {
   "cell_type": "markdown",
   "metadata": {
    "colab_type": "text",
    "id": "cm1m8fizWHMD"
   },
   "source": [
    "##Solution 1"
   ]
  },
  {
   "cell_type": "code",
   "execution_count": 0,
   "metadata": {
    "colab": {},
    "colab_type": "code",
    "id": "FM5s4v1kWQ0A"
   },
   "outputs": [],
   "source": [
    "mat_1 = np.random.randn(100, 100)\n",
    "mat_2 = np.random.randn(100, 100)\n",
    "out = np.zeros([100, 100])"
   ]
  },
  {
   "cell_type": "code",
   "execution_count": 0,
   "metadata": {
    "colab": {
     "base_uri": "https://localhost:8080/",
     "height": 52
    },
    "colab_type": "code",
    "id": "wWZJgsLFWQxJ",
    "outputId": "85c0a94e-2239-4099-9cd5-de5d6326854f"
   },
   "outputs": [
    {
     "name": "stdout",
     "output_type": "stream",
     "text": [
      "CPU times: user 713 ms, sys: 0 ns, total: 713 ms\n",
      "Wall time: 716 ms\n"
     ]
    }
   ],
   "source": [
    "%%time\n",
    "for i in range(100):\n",
    "    for j in range(100):\n",
    "        sum = 0\n",
    "        for k in range(100):\n",
    "            sum = sum + mat_1[i, k] * mat_2[k, j]\n",
    "        out[i, j] = sum"
   ]
  },
  {
   "cell_type": "code",
   "execution_count": 0,
   "metadata": {
    "colab": {
     "base_uri": "https://localhost:8080/",
     "height": 35
    },
    "colab_type": "code",
    "id": "C1INQiw5YV-d",
    "outputId": "e1531224-da23-46a7-bd93-89ab7d31457a"
   },
   "outputs": [
    {
     "name": "stdout",
     "output_type": "stream",
     "text": [
      "-95.28442862045685\n"
     ]
    }
   ],
   "source": [
    "print(out.sum())"
   ]
  },
  {
   "cell_type": "code",
   "execution_count": 0,
   "metadata": {
    "colab": {
     "base_uri": "https://localhost:8080/",
     "height": 52
    },
    "colab_type": "code",
    "id": "x-gDBzRKWQsB",
    "outputId": "cd06cb1d-a768-4167-8f8c-719a25eb14df"
   },
   "outputs": [
    {
     "name": "stdout",
     "output_type": "stream",
     "text": [
      "CPU times: user 0 ns, sys: 22.3 ms, total: 22.3 ms\n",
      "Wall time: 9.37 ms\n"
     ]
    }
   ],
   "source": [
    "%%time\n",
    "out = np.dot(mat_1, mat_2)"
   ]
  },
  {
   "cell_type": "code",
   "execution_count": 0,
   "metadata": {
    "colab": {
     "base_uri": "https://localhost:8080/",
     "height": 35
    },
    "colab_type": "code",
    "id": "i0Ty7uoqYdVY",
    "outputId": "ab2b38bf-9bcd-43e0-8116-d31732ac17c2"
   },
   "outputs": [
    {
     "name": "stdout",
     "output_type": "stream",
     "text": [
      "-95.28442862045642\n"
     ]
    }
   ],
   "source": [
    "print(out.sum())"
   ]
  },
  {
   "cell_type": "markdown",
   "metadata": {
    "colab_type": "text",
    "id": "KFyggMnJylrH"
   },
   "source": [
    ">  1. We can clearly see the difference between using for loops and numpy. How fast is numpy from using loops ? <br> Numpy takes : $9.37ms$ <br> and Loop takes : $716ms$ <br> That implies : $\\frac{716}{9.37}=76.414$, Numpy is $76$ times faster than using loops. <br> Numpy uses multiple CPU cores for parallel computation which reduces the running time significantly."
   ]
  },
  {
   "cell_type": "markdown",
   "metadata": {
    "colab_type": "text",
    "id": "pM0DYe1VWK1d"
   },
   "source": [
    "##Solution 2"
   ]
  },
  {
   "cell_type": "code",
   "execution_count": 0,
   "metadata": {
    "colab": {},
    "colab_type": "code",
    "id": "dL3cgV68WRp6"
   },
   "outputs": [],
   "source": [
    "w = np.random.randn(10, 20)\n",
    "x = np.random.randn(20, 30)"
   ]
  },
  {
   "cell_type": "code",
   "execution_count": 0,
   "metadata": {
    "colab": {},
    "colab_type": "code",
    "id": "EYfJLra0WRmC"
   },
   "outputs": [],
   "source": [
    "def fun(z):\n",
    "    return (1/(1+np.exp(-z)))"
   ]
  },
  {
   "cell_type": "code",
   "execution_count": 0,
   "metadata": {
    "colab": {},
    "colab_type": "code",
    "id": "3Ey5HLXPWRkX"
   },
   "outputs": [],
   "source": [
    "z = np.dot(w,x)\n",
    "sigma_z = fun(z)"
   ]
  },
  {
   "cell_type": "code",
   "execution_count": 0,
   "metadata": {
    "colab": {
     "base_uri": "https://localhost:8080/",
     "height": 52
    },
    "colab_type": "code",
    "id": "JH7yNyzRZ7JA",
    "outputId": "9c7ac783-56c3-4016-f7c1-2a0f34a58004"
   },
   "outputs": [
    {
     "name": "stdout",
     "output_type": "stream",
     "text": [
      "(10, 30)\n",
      "(10, 30)\n"
     ]
    }
   ],
   "source": [
    "print(z.shape)\n",
    "print(sigma_z.shape)"
   ]
  },
  {
   "cell_type": "markdown",
   "metadata": {
    "colab_type": "text",
    "id": "rGyiiDIs8iKb"
   },
   "source": [
    ">  1. For performing element wise operation, instead of using loops you can treat a vector/matrix as a normal variable in numpy, and numpy backend will handle the element wise operation very efficiently.\n",
    ">  2. The operation that `fun(z)` performs is actually an activation function used in neural netwroks in Machine Learning. "
   ]
  },
  {
   "cell_type": "markdown",
   "metadata": {
    "colab_type": "text",
    "id": "Z37t7Z-8WKrc"
   },
   "source": [
    "##Solution 3"
   ]
  },
  {
   "cell_type": "code",
   "execution_count": 0,
   "metadata": {
    "colab": {
     "base_uri": "https://localhost:8080/",
     "height": 52
    },
    "colab_type": "code",
    "id": "5QyS7pvqWSsq",
    "outputId": "6bfe104e-2c3f-4502-dd0c-5772bbe182c7"
   },
   "outputs": [
    {
     "name": "stdout",
     "output_type": "stream",
     "text": [
      "(100, 100)\n",
      "(10000,)\n"
     ]
    }
   ],
   "source": [
    "n = 100\n",
    "M = np.random.rand(n, n)\n",
    "M_flat = M.reshape(-1)\n",
    "print(M.shape)\n",
    "print(M_flat.shape)"
   ]
  },
  {
   "cell_type": "markdown",
   "metadata": {
    "colab_type": "text",
    "id": "dR65UfrSaws2"
   },
   "source": [
    "###1."
   ]
  },
  {
   "cell_type": "code",
   "execution_count": 0,
   "metadata": {
    "colab": {
     "base_uri": "https://localhost:8080/",
     "height": 88
    },
    "colab_type": "code",
    "id": "8q0NYHTCWSd4",
    "outputId": "ee47a4f4-2d77-4166-f200-cffebb800e41"
   },
   "outputs": [
    {
     "name": "stdout",
     "output_type": "stream",
     "text": [
      "Mean 1 :  0.49997980050764784\n",
      "Mean 2 :  0.49997980050764784\n",
      "StD 1 :  0.28778459890709784\n",
      "StD 2 :  0.28778459890709784\n"
     ]
    }
   ],
   "source": [
    "M_flat_mean_1 = M_flat.mean()\n",
    "M_flat_mean_2 = M_flat.sum()/M_flat.shape[0]\n",
    "\n",
    "M_flat_std_1 = M_flat.std()\n",
    "M_flat_std_2 = np.sqrt(((M_flat - M_flat.mean())**2).mean())\n",
    "\n",
    "print('Mean 1 : ', M_flat_mean_1)\n",
    "print('Mean 2 : ', M_flat_mean_2)\n",
    "print('StD 1 : ', M_flat_std_1)\n",
    "print('StD 2 : ', M_flat_std_2)"
   ]
  },
  {
   "cell_type": "markdown",
   "metadata": {
    "colab_type": "text",
    "id": "Mbb_pszqcNqz"
   },
   "source": [
    "###2."
   ]
  },
  {
   "cell_type": "code",
   "execution_count": 0,
   "metadata": {
    "colab": {},
    "colab_type": "code",
    "id": "Qpz6VNiHWSa8"
   },
   "outputs": [],
   "source": [
    "def fun(M_flat):\n",
    "    mean = M_flat.mean()\n",
    "    std = M_flat.std()\n",
    "    return (M_flat - mean)/std"
   ]
  },
  {
   "cell_type": "code",
   "execution_count": 0,
   "metadata": {
    "colab": {},
    "colab_type": "code",
    "id": "YPRFV7DUceu3"
   },
   "outputs": [],
   "source": [
    "z = fun(M_flat)"
   ]
  },
  {
   "cell_type": "code",
   "execution_count": 0,
   "metadata": {
    "colab": {
     "base_uri": "https://localhost:8080/",
     "height": 35
    },
    "colab_type": "code",
    "id": "H6ZmSPA1cenn",
    "outputId": "b597738f-c9f4-47e5-f61e-11f46481e6b7"
   },
   "outputs": [
    {
     "name": "stdout",
     "output_type": "stream",
     "text": [
      "(10000,)\n"
     ]
    }
   ],
   "source": [
    "print(z.shape)"
   ]
  },
  {
   "cell_type": "markdown",
   "metadata": {
    "colab_type": "text",
    "id": "cfY5LiYOcv72"
   },
   "source": [
    "###3."
   ]
  },
  {
   "cell_type": "code",
   "execution_count": 0,
   "metadata": {
    "colab": {
     "base_uri": "https://localhost:8080/",
     "height": 52
    },
    "colab_type": "code",
    "id": "58GLdbNYcxjA",
    "outputId": "b58ea977-97bd-40a1-fdf4-0199eee59e37"
   },
   "outputs": [
    {
     "name": "stdout",
     "output_type": "stream",
     "text": [
      "M_flat's mean :  0.49997980050764784 \t z's mean :  -4.593658786689048e-16\n",
      "M_flat's StD :  0.28778459890709784 \t z's StD :  1.0000000000000002\n"
     ]
    }
   ],
   "source": [
    "z_mean = z.mean()\n",
    "z_std = z.std()\n",
    "print(\"M_flat's mean : \", M_flat_mean_1, '\\t', \"z's mean : \", z_mean)\n",
    "print(\"M_flat's StD : \", M_flat_std_1, '\\t', \"z's StD : \", z_std)"
   ]
  },
  {
   "cell_type": "markdown",
   "metadata": {
    "colab_type": "text",
    "id": "MYjvkHsQ-HDy"
   },
   "source": [
    "###4."
   ]
  },
  {
   "cell_type": "markdown",
   "metadata": {
    "colab_type": "text",
    "id": "jTrRJnVmCjP_"
   },
   "source": [
    ">  1. We can observe that there are multiple ways to compute **mean** and **standard deviation** and we can use any methods as per our need.\n",
    ">  2. The function `fun(M_flat)` actually calculates the Z-score of given data or normalizes the given data such that the **mean** and **standard deviation** are $0$ and $1$ respectively. And this is true for any data with any **mean** and **standard deviation**."
   ]
  },
  {
   "cell_type": "markdown",
   "metadata": {
    "colab_type": "text",
    "id": "HFIdpxRpWKit"
   },
   "source": [
    "##Solution 4"
   ]
  },
  {
   "cell_type": "code",
   "execution_count": 0,
   "metadata": {
    "colab": {
     "base_uri": "https://localhost:8080/",
     "height": 35
    },
    "colab_type": "code",
    "id": "7oLuj4dUWThF",
    "outputId": "59f14241-be77-4a01-a4e5-c100ddb49f2a"
   },
   "outputs": [
    {
     "name": "stdout",
     "output_type": "stream",
     "text": [
      "(100,)\n"
     ]
    }
   ],
   "source": [
    "n = 100\n",
    "V = np.random.randn(n)\n",
    "print(V.shape)"
   ]
  },
  {
   "cell_type": "markdown",
   "metadata": {
    "colab_type": "text",
    "id": "pZYcp4Midmet"
   },
   "source": [
    "###1."
   ]
  },
  {
   "cell_type": "code",
   "execution_count": 0,
   "metadata": {
    "colab": {
     "base_uri": "https://localhost:8080/",
     "height": 35
    },
    "colab_type": "code",
    "id": "RL5WFHC2WTdl",
    "outputId": "52c62064-626e-492f-dad8-92e2440d953b"
   },
   "outputs": [
    {
     "name": "stdout",
     "output_type": "stream",
     "text": [
      "10.801818956796815\n"
     ]
    }
   ],
   "source": [
    "V_magnitude = np.sqrt((V**2).sum())\n",
    "print(V_magnitude)"
   ]
  },
  {
   "cell_type": "markdown",
   "metadata": {
    "colab_type": "text",
    "id": "vtDoZUTtd7wx"
   },
   "source": [
    "###2."
   ]
  },
  {
   "cell_type": "code",
   "execution_count": 0,
   "metadata": {
    "colab": {
     "base_uri": "https://localhost:8080/",
     "height": 70
    },
    "colab_type": "code",
    "id": "_YZRJgAoWTb6",
    "outputId": "da402b5c-fcd2-4d41-8254-05ef60267b7c"
   },
   "outputs": [
    {
     "name": "stdout",
     "output_type": "stream",
     "text": [
      "Method 1 :  38.837920268109535\n",
      "Method 2 :  38.837920268109535\n",
      "Method 3 :  38.83792026810953\n"
     ]
    }
   ],
   "source": [
    "V_cube_1 = np.sum(V**3)\n",
    "V_cube_2 = np.power(V, 3).sum()\n",
    "V_cube_3 = np.dot(V * V, V)\n",
    "\n",
    "print('Method 1 : ', V_cube_1)\n",
    "print('Method 2 : ', V_cube_2)\n",
    "print('Method 3 : ', V_cube_3)"
   ]
  },
  {
   "cell_type": "markdown",
   "metadata": {
    "colab_type": "text",
    "id": "6zs1PucJAgkm"
   },
   "source": [
    ">  1. Here you can see that, we can compute the same expression with different methods depending upon the structure and requirement of the code."
   ]
  },
  {
   "cell_type": "markdown",
   "metadata": {
    "colab_type": "text",
    "id": "tBMwhnhrWKZC"
   },
   "source": [
    "##Solution 5"
   ]
  },
  {
   "cell_type": "code",
   "execution_count": 0,
   "metadata": {
    "colab": {
     "base_uri": "https://localhost:8080/",
     "height": 52
    },
    "colab_type": "code",
    "id": "Ky6hWcCpWUSg",
    "outputId": "d0221916-dc1a-43af-e2a3-db0e2819e848"
   },
   "outputs": [
    {
     "name": "stdout",
     "output_type": "stream",
     "text": [
      "(100,)\n",
      "(100,)\n"
     ]
    }
   ],
   "source": [
    "n = 100\n",
    "y = np.random.randint(0, 2, 100)\n",
    "y_hat = np.random.rand(100)\n",
    "print(y.shape)\n",
    "print(y_hat.shape)"
   ]
  },
  {
   "cell_type": "code",
   "execution_count": 0,
   "metadata": {
    "colab": {
     "base_uri": "https://localhost:8080/",
     "height": 70
    },
    "colab_type": "code",
    "id": "gGFZLgMnVwZg",
    "outputId": "8ac2a0b4-0c11-4343-dde6-210c7006e8b7"
   },
   "outputs": [
    {
     "name": "stdout",
     "output_type": "stream",
     "text": [
      "[1 1 1 0 0 0 1 1 0 0 1 1 1 1 1 0 0 0 0 0 0 1 1 0 1 0 0 0 1 0 0 1 0 1 1 1 1\n",
      " 0 0 0 1 1 1 1 0 1 1 0 1 1 1 1 0 1 1 1 0 0 1 1 0 1 1 1 0 1 1 1 0 0 0 0 1 1\n",
      " 0 0 1 0 0 0 0 0 0 0 1 1 1 0 0 1 1 1 0 1 0 1 0 0 1 0]\n"
     ]
    }
   ],
   "source": [
    "print(y)"
   ]
  },
  {
   "cell_type": "code",
   "execution_count": 0,
   "metadata": {
    "colab": {
     "base_uri": "https://localhost:8080/",
     "height": 319
    },
    "colab_type": "code",
    "id": "vzYmRcoOWGi-",
    "outputId": "0741c0b9-0bf9-4c20-92ef-adb7a5249b8f"
   },
   "outputs": [
    {
     "name": "stdout",
     "output_type": "stream",
     "text": [
      "[0.25612118 0.4912104  0.93020117 0.76205976 0.36045303 0.77546698\n",
      " 0.91353578 0.51588536 0.80272176 0.02663985 0.28432269 0.72178369\n",
      " 0.19473212 0.02443659 0.57980128 0.20094259 0.59687895 0.11891254\n",
      " 0.31246041 0.24471559 0.08344092 0.25351067 0.57329488 0.11792268\n",
      " 0.51104999 0.02657275 0.32516925 0.44392086 0.41664157 0.19109244\n",
      " 0.46427263 0.0563892  0.75932663 0.94446739 0.41036822 0.15943956\n",
      " 0.09320842 0.25502296 0.28795989 0.06396985 0.64934354 0.64751866\n",
      " 0.57869279 0.33165741 0.73051829 0.97543399 0.63389005 0.63509362\n",
      " 0.16463051 0.80836355 0.80997904 0.5538259  0.72620615 0.63967916\n",
      " 0.74429846 0.02259538 0.91365091 0.63760522 0.6831082  0.44186189\n",
      " 0.84808089 0.17069693 0.78691484 0.16176848 0.33733591 0.76854976\n",
      " 0.5248389  0.94190914 0.31641235 0.49568981 0.19323546 0.04382101\n",
      " 0.94176413 0.38928018 0.83514275 0.70192133 0.62755608 0.73434056\n",
      " 0.05441822 0.84939361 0.08494846 0.80653503 0.08702091 0.70579736\n",
      " 0.30692918 0.11436404 0.66218451 0.69092003 0.04431528 0.8146883\n",
      " 0.21231675 0.35133305 0.94390643 0.10137127 0.83142144 0.85568526\n",
      " 0.46429338 0.91283586 0.74523976 0.11760049]\n"
     ]
    }
   ],
   "source": [
    "print(y_hat)"
   ]
  },
  {
   "cell_type": "code",
   "execution_count": 0,
   "metadata": {
    "colab": {},
    "colab_type": "code",
    "id": "bHzgOtdZg2dm"
   },
   "outputs": [],
   "source": [
    "def fun(y, y_hat):\n",
    "    temp_sum = (y * np.log2(y_hat) + (1 - y) * np.log2(1 - y_hat))\n",
    "    return -temp_sum.mean()"
   ]
  },
  {
   "cell_type": "code",
   "execution_count": 0,
   "metadata": {
    "colab": {
     "base_uri": "https://localhost:8080/",
     "height": 35
    },
    "colab_type": "code",
    "id": "u0-M3BFjhRo2",
    "outputId": "3d42e507-4b2f-45c3-b1c2-03920824d015"
   },
   "outputs": [
    {
     "name": "stdout",
     "output_type": "stream",
     "text": [
      "1.287177011021336\n"
     ]
    }
   ],
   "source": [
    "O = fun(y, y_hat)\n",
    "print(O)"
   ]
  },
  {
   "cell_type": "markdown",
   "metadata": {
    "colab_type": "text",
    "id": "sSYQR0Ut_XWb"
   },
   "source": [
    ">  1. The expression $O = -\\frac{1}{n}\\sum_{i=1}^{n}[y_i\\log_2(\\hat{y_i}) + (1-y_i)\\log_2(1-\\hat{y_i})]$, which you have computed is actually a **Cross-Entropy** loss function used in machine learning for classification task which tells us how bad or good model is performing, if $O$ is large then model is performing worst and vice versa."
   ]
  },
  {
   "cell_type": "code",
   "execution_count": 0,
   "metadata": {
    "colab": {},
    "colab_type": "code",
    "id": "a2OMRzM0AKDI"
   },
   "outputs": [],
   "source": []
  }
 ],
 "metadata": {
  "colab": {
   "collapsed_sections": [
    "cm1m8fizWHMD",
    "pM0DYe1VWK1d",
    "Z37t7Z-8WKrc",
    "HFIdpxRpWKit",
    "tBMwhnhrWKZC"
   ],
   "machine_shape": "hm",
   "name": "Numpy_Assignment_Solutions.ipynb",
   "provenance": []
  },
  "kernelspec": {
   "display_name": "Python 3",
   "language": "python",
   "name": "python3"
  },
  "language_info": {
   "codemirror_mode": {
    "name": "ipython",
    "version": 3
   },
   "file_extension": ".py",
   "mimetype": "text/x-python",
   "name": "python",
   "nbconvert_exporter": "python",
   "pygments_lexer": "ipython3",
   "version": "3.8.2"
  }
 },
 "nbformat": 4,
 "nbformat_minor": 1
}
