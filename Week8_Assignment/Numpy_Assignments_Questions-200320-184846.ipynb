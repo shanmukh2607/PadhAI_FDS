{
 "cells": [
  {
   "cell_type": "markdown",
   "metadata": {
    "colab_type": "text",
    "id": "TzyvCghfCM7X"
   },
   "source": [
    "# Exercise"
   ]
  },
  {
   "cell_type": "markdown",
   "metadata": {
    "colab_type": "text",
    "id": "6bjea3xQCacL"
   },
   "source": [
    "1.   Write a program to multiply two matrices of size $(100, 100)$ in two methods: (a) by using `np.dot(mat_1, mat_2)` and (b) by using for-loops. Comapre the time of execution in both the cases. Check out the documentation of `np.dot` in case that is not familiar to you. \n",
    "\n",
    "2.   Write a program to execute the steps below using numpy:\n",
    "    $$z_{ij} = \\sum_{k=1}^{n}w_{ik}x_{kj}$$\n",
    "    $$\\sigma_{ij}(z_{ij}) = \\frac{1}{1+e^{-z_{ij}}}$$ where $\\textbf{w}$ and $\\textbf{x}$ are matrices of random numbers having  dimensions $(m,n)$ and $(n,k)$, respectively, $\\sigma(z)$ is a function which performs above defined operation on elements of $\\textbf{z}$.\n",
    "\n",
    "3.   Consider a matrix $\\textbf{M}$ of size $(n, n)$. Flatten this into a 1-dimensional array and \n",
    "> 1. compute **mean** and **standard deviation** of $\\textbf{M}$ in *two* ways. <br>\n",
    "> 2. Apply the element wise operation as defined below: $$z_i = \\frac{x_i - \\mu}{\\sigma}$$ <br> where $x_i, \\ \\mu,\\ \\sigma$ are elements, mean and standard deviation of flattened matrix $\\textbf{M}$ respectively. And $z$ is the output vector.\n",
    "> 3. Compute the **mean** and **standard deviation** of $z$ and compare them with the **mean** and **standard deviation** of $\\textbf{M}$.\n",
    "> 4. Resaon about the above comparison.\n",
    "\n",
    "4.   Consider an $n$ dimentional vector $\\vec{V}$ (having $n$ elements), calculate :\n",
    "> 1. $|\\vec{V}|$ (magnitude of vector)\n",
    "> 2. $\\sum_{i=1}^{n}v_i^3$ in three different ways (here $n$ is total number of elements in $\\vec{V}$ and $v_i$ is $i_{th}$ element of $\\vec{V}$).\n",
    "\n",
    "5.   Create two vectors $y$ and $\\hat{y}$ having **same** dimensions, where $\\hat{y}$ should consist of random numbers between $[0, 1]$ and $y$ should contain $0s$ and $1s$, for example $y = [0, 1, 1, 0, 1, 0, 0, 1, ..., 1]$. Compute the given expression: $$O = -\\frac{1}{n}\\sum_{i=1}^{n}[y_i\\log_2(\\hat{y_i}) + (1-y_i)\\log_2(1-\\hat{y_i})]$$\n",
    "where $n$ is the total number of elements in $y$ and $\\hat{y}$."
   ]
  },
  {
   "cell_type": "code",
   "execution_count": 1,
   "metadata": {},
   "outputs": [],
   "source": [
    "import numpy as np"
   ]
  },
  {
   "cell_type": "markdown",
   "metadata": {},
   "source": [
    "## Question 1"
   ]
  },
  {
   "cell_type": "code",
   "execution_count": 2,
   "metadata": {
    "colab": {},
    "colab_type": "code",
    "id": "-uDjdVFr76oH"
   },
   "outputs": [],
   "source": [
    "# Matrix initialisation\n",
    "mat_1 = np.random.rand(100,100)\n",
    "mat_2 = np.random.rand(100,100)"
   ]
  },
  {
   "cell_type": "code",
   "execution_count": 3,
   "metadata": {},
   "outputs": [
    {
     "name": "stdout",
     "output_type": "stream",
     "text": [
      "CPU times: user 9.09 ms, sys: 10.8 ms, total: 19.9 ms\n",
      "Wall time: 3.36 ms\n"
     ]
    }
   ],
   "source": [
    "%%time\n",
    "\n",
    "product = np.dot(mat_1,mat_2)"
   ]
  },
  {
   "cell_type": "code",
   "execution_count": 16,
   "metadata": {},
   "outputs": [
    {
     "name": "stdout",
     "output_type": "stream",
     "text": [
      "CPU times: user 53.2 ms, sys: 744 µs, total: 53.9 ms\n",
      "Wall time: 52.8 ms\n"
     ]
    }
   ],
   "source": [
    "%%time\n",
    "product_loop = np.zeros((100,100))\n",
    "for i in range(product_loop.shape[0]):\n",
    "    for j in range(product_loop.shape[1]):\n",
    "        product_loop[i,j]= np.sum(mat_1[i]*mat_2[:,j])"
   ]
  },
  {
   "cell_type": "code",
   "execution_count": 26,
   "metadata": {},
   "outputs": [
    {
     "name": "stdout",
     "output_type": "stream",
     "text": [
      "[[ 3.55271368e-15 -3.55271368e-15  3.55271368e-15 ... -3.55271368e-15\n",
      "   0.00000000e+00  1.06581410e-14]\n",
      " [ 7.10542736e-15 -3.55271368e-15  7.10542736e-15 ...  7.10542736e-15\n",
      "   0.00000000e+00  0.00000000e+00]\n",
      " [ 3.55271368e-15  3.55271368e-15  7.10542736e-15 ... -7.10542736e-15\n",
      "   1.06581410e-14 -3.55271368e-15]\n",
      " ...\n",
      " [-3.55271368e-15  0.00000000e+00  0.00000000e+00 ... -3.55271368e-15\n",
      "  -7.10542736e-15 -3.55271368e-15]\n",
      " [ 0.00000000e+00 -3.55271368e-15 -1.42108547e-14 ... -1.06581410e-14\n",
      "   0.00000000e+00  1.06581410e-14]\n",
      " [-1.42108547e-14 -1.06581410e-14  1.42108547e-14 ...  7.10542736e-15\n",
      "   3.55271368e-15  3.55271368e-15]]\n"
     ]
    }
   ],
   "source": [
    "print(product - product_loop)  #They are approximately same due to constraints of digits stored"
   ]
  },
  {
   "cell_type": "markdown",
   "metadata": {},
   "source": [
    "## Question 2"
   ]
  },
  {
   "cell_type": "code",
   "execution_count": 35,
   "metadata": {},
   "outputs": [],
   "source": [
    "#Matrix init\n",
    "m = 5\n",
    "n = 10\n",
    "k = 2\n",
    "\n",
    "w = np.random.randn(m,n)\n",
    "x = np.random.randn(n,k)"
   ]
  },
  {
   "cell_type": "code",
   "execution_count": 36,
   "metadata": {},
   "outputs": [],
   "source": [
    "# initialising z\n",
    "z = np.zeros((m,k))\n",
    "# for looping\n",
    "for i in range(m):\n",
    "    for j in range(k):\n",
    "        for index in range(n):\n",
    "            z[i,j]+= w[i,index]*x[index,j]      #mentioned summation in the question\n",
    "            "
   ]
  },
  {
   "cell_type": "code",
   "execution_count": 37,
   "metadata": {},
   "outputs": [],
   "source": [
    "# finding sigmoid element-wise\n",
    "\n",
    "sigmoid = 1/(1 + np.exp(-z) )\n",
    "    "
   ]
  },
  {
   "cell_type": "code",
   "execution_count": 38,
   "metadata": {},
   "outputs": [
    {
     "data": {
      "text/plain": [
       "array([[0.99846484, 0.53239742],\n",
       "       [0.25924644, 0.27423324],\n",
       "       [0.74075888, 0.77833495],\n",
       "       [0.4226101 , 0.86102847],\n",
       "       [0.00336016, 0.48810701]])"
      ]
     },
     "execution_count": 38,
     "metadata": {},
     "output_type": "execute_result"
    }
   ],
   "source": [
    "sigmoid"
   ]
  },
  {
   "cell_type": "markdown",
   "metadata": {},
   "source": [
    "## Question 3"
   ]
  },
  {
   "cell_type": "code",
   "execution_count": 46,
   "metadata": {},
   "outputs": [],
   "source": [
    "# Initialising matrix of size (n,n)\n",
    "n = 10\n",
    "M = np.random.rand(n,n)"
   ]
  },
  {
   "cell_type": "code",
   "execution_count": 47,
   "metadata": {},
   "outputs": [],
   "source": [
    "# Flatten\n",
    "M = M.reshape(-1)    # -1 takes care of the number that is uniquely suitable"
   ]
  },
  {
   "cell_type": "code",
   "execution_count": 48,
   "metadata": {},
   "outputs": [
    {
     "data": {
      "text/plain": [
       "(100,)"
      ]
     },
     "execution_count": 48,
     "metadata": {},
     "output_type": "execute_result"
    }
   ],
   "source": [
    "M.shape       #To check"
   ]
  },
  {
   "cell_type": "code",
   "execution_count": 49,
   "metadata": {},
   "outputs": [
    {
     "name": "stdout",
     "output_type": "stream",
     "text": [
      "0.48804729881280534 0.2637907123824724\n"
     ]
    }
   ],
   "source": [
    "#method1\n",
    "mean1 = np.mean(M)\n",
    "std1  = np.std(M)\n",
    "print(mean1,std1)"
   ]
  },
  {
   "cell_type": "code",
   "execution_count": 52,
   "metadata": {},
   "outputs": [
    {
     "name": "stdout",
     "output_type": "stream",
     "text": [
      "[0.4880473] 0.2637907123824724\n"
     ]
    }
   ],
   "source": [
    "#method2\n",
    "import math\n",
    "mean2 = np.sum(M)/M.shape\n",
    "dev = M - mean2\n",
    "var = np.sum(dev**2)/M.shape\n",
    "std2 = math.sqrt(var)\n",
    "print(mean2,std2)"
   ]
  },
  {
   "cell_type": "code",
   "execution_count": 65,
   "metadata": {},
   "outputs": [
    {
     "name": "stdout",
     "output_type": "stream",
     "text": [
      "[]\n",
      "[ 1.10911716 -0.19680702  0.96998065 -0.90895231 -0.6076151  -1.76441831\n",
      " -1.56848199 -0.47265519 -1.01980551 -0.69403357 -1.73546779  1.27192638\n",
      "  1.63872578 -1.80463434 -1.12421047  0.98556349 -1.66963889 -1.58950631\n",
      "  0.71630493  0.76849847 -0.0194654  -0.6082255   1.10593638  1.46765093\n",
      " -1.13207236 -0.08707615  0.02638391 -0.33600175 -0.69514887  0.71442224\n",
      " -0.45533399  1.18654296  0.20660509  1.25862151 -1.69362188 -0.5309265\n",
      " -0.75210511  0.44155851  1.28415672 -0.01690174  0.21510208  0.43870343\n",
      "  0.88863392  0.07832109  1.49927301 -1.54044184  0.90863594 -1.085629\n",
      "  1.3262667   0.45904336 -1.21108472  1.35370471 -0.10964274  0.83048441\n",
      " -0.11060536 -0.05345452  1.07406706 -0.60552993  0.1432702  -1.23070122\n",
      "  0.49778766 -0.46266188  1.29719552 -1.13010287 -1.20102439  0.0869934\n",
      "  0.78428053 -0.84091019 -0.34985548  0.10212624  1.90623008  1.90671643\n",
      " -0.84288038  0.25832195  1.28728342 -1.00158952  0.12291596  0.81192521\n",
      "  0.25486285  0.34483911 -1.33246822  0.67815712  0.16428535  0.18367971\n",
      " -1.36576298 -0.83626874 -1.39796899  0.80350542  1.59469024 -0.64015466\n",
      "  1.2058804   0.58555766  0.57925626  0.67372286  0.65061439 -1.08346202\n",
      " -0.84402705 -1.35764066 -0.71801565  1.68666026]\n"
     ]
    },
    {
     "data": {
      "text/plain": [
       "(100,)"
      ]
     },
     "execution_count": 65,
     "metadata": {},
     "output_type": "execute_result"
    }
   ],
   "source": [
    "# item-wise Z scores\n",
    "Z = np.zeros(0)  #size 0 or blank np array\n",
    "print(Z)\n",
    "for item in M:\n",
    "    z = (item- mean1)/std1\n",
    "    Z = np.append(Z,z)\n",
    "print(Z)\n",
    "Z.shape"
   ]
  },
  {
   "cell_type": "code",
   "execution_count": 66,
   "metadata": {},
   "outputs": [
    {
     "name": "stdout",
     "output_type": "stream",
     "text": [
      "1.1102230246251565e-16 1.0\n"
     ]
    }
   ],
   "source": [
    "mean_z = np.mean(Z)\n",
    "std_z = np.std(Z)\n",
    "print(mean_z,std_z)      # mean should be 0 and std =1 . Trivial from lecture discussion. So I omit the answer"
   ]
  },
  {
   "cell_type": "markdown",
   "metadata": {},
   "source": [
    "## Question 4"
   ]
  },
  {
   "cell_type": "code",
   "execution_count": 95,
   "metadata": {},
   "outputs": [],
   "source": [
    "# n dim vector is a 1D array of n elements\n",
    "n = 10000000\n",
    "V = np.random.rand(n)"
   ]
  },
  {
   "cell_type": "code",
   "execution_count": 96,
   "metadata": {},
   "outputs": [
    {
     "name": "stdout",
     "output_type": "stream",
     "text": [
      "1826.5137790761435\n"
     ]
    }
   ],
   "source": [
    "# Part A\n",
    "mag = 0\n",
    "for item in V:\n",
    "    mag+= item**2\n",
    "mag = math.sqrt(mag)   #magnitude\n",
    "print(mag)"
   ]
  },
  {
   "cell_type": "code",
   "execution_count": 97,
   "metadata": {},
   "outputs": [
    {
     "name": "stdout",
     "output_type": "stream",
     "text": [
      "2502772.764488536\n",
      "CPU times: user 3.9 s, sys: 0 ns, total: 3.9 s\n",
      "Wall time: 3.9 s\n"
     ]
    }
   ],
   "source": [
    "%%time\n",
    "# Part B Way 1\n",
    "res1 = 0\n",
    "for item in V:\n",
    "    res1+= item**3\n",
    "print(res1)"
   ]
  },
  {
   "cell_type": "code",
   "execution_count": 98,
   "metadata": {},
   "outputs": [
    {
     "name": "stdout",
     "output_type": "stream",
     "text": [
      "2502772.7644885858\n",
      "CPU times: user 168 ms, sys: 0 ns, total: 168 ms\n",
      "Wall time: 166 ms\n"
     ]
    }
   ],
   "source": [
    "%%time\n",
    "#Part B Way 2\n",
    "res2 = np.sum(V**3)\n",
    "print(res2)"
   ]
  },
  {
   "cell_type": "code",
   "execution_count": 99,
   "metadata": {},
   "outputs": [
    {
     "name": "stdout",
     "output_type": "stream",
     "text": [
      "2502772.764488536\n",
      "CPU times: user 4.48 s, sys: 0 ns, total: 4.48 s\n",
      "Wall time: 4.48 s\n"
     ]
    }
   ],
   "source": [
    "%%time\n",
    "#Part C Way 3\n",
    "\n",
    "res3=0\n",
    "for i in range(V.size):\n",
    "    res3+=V[i]**3\n",
    "print(res3)"
   ]
  },
  {
   "cell_type": "markdown",
   "metadata": {},
   "source": [
    "## Question 5"
   ]
  },
  {
   "cell_type": "code",
   "execution_count": 118,
   "metadata": {},
   "outputs": [
    {
     "name": "stdout",
     "output_type": "stream",
     "text": [
      "[1 1] [0.30141197 0.15598026]\n"
     ]
    }
   ],
   "source": [
    "N = 2\n",
    "y_hat = np.random.rand(N)\n",
    "y = np.random.randint(0,2,N)\n",
    "print(y,y_hat)"
   ]
  },
  {
   "cell_type": "code",
   "execution_count": 122,
   "metadata": {},
   "outputs": [
    {
     "name": "stdout",
     "output_type": "stream",
     "text": [
      "2.2053779987528803\n"
     ]
    }
   ],
   "source": [
    "#method 1 : simple but computationally expensive\n",
    "Complexity = (-1)*np.mean(y*np.log2(y_hat)+ (1-y)*np.log2(1-y_hat))\n",
    "print(Complexity)"
   ]
  },
  {
   "cell_type": "code",
   "execution_count": 124,
   "metadata": {},
   "outputs": [
    {
     "name": "stdout",
     "output_type": "stream",
     "text": [
      "2.2053779987528803\n"
     ]
    }
   ],
   "source": [
    "#method 2: More logical and less expensive\n",
    "complexity = (-1)*np.mean(np.append(np.log2(y_hat[y==1]),np.log2(1-y_hat[y==0])))\n",
    "print(complexity)   #c in lowercase "
   ]
  }
 ],
 "metadata": {
  "colab": {
   "collapsed_sections": [],
   "name": "Numpy_Assignments_Questions.ipynb",
   "provenance": []
  },
  "kernelspec": {
   "display_name": "Python 3",
   "language": "python",
   "name": "python3"
  },
  "language_info": {
   "codemirror_mode": {
    "name": "ipython",
    "version": 3
   },
   "file_extension": ".py",
   "mimetype": "text/x-python",
   "name": "python",
   "nbconvert_exporter": "python",
   "pygments_lexer": "ipython3",
   "version": "3.8.2"
  }
 },
 "nbformat": 4,
 "nbformat_minor": 1
}
