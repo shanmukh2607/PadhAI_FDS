{
  "nbformat": 4,
  "nbformat_minor": 0,
  "metadata": {
    "colab": {
      "name": "data_objects_mappings.ipynb",
      "provenance": [],
      "collapsed_sections": [],
      "toc_visible": true
    },
    "kernelspec": {
      "name": "python3",
      "display_name": "Python 3"
    }
  },
  "cells": [
    {
      "cell_type": "markdown",
      "metadata": {
        "id": "M01rKlUI_KYo",
        "colab_type": "text"
      },
      "source": [
        "\n",
        "<img src=\"https://i.imgur.com/nTOFzVI.png\" alt=\"drawing\" width=\"400\"/>\n",
        "\n",
        "# by One Fourth Labs\n",
        "\n",
        "\n",
        "For more reading or to go indepth refer official reference of python language https://docs.python.org/3/reference/\n",
        "\n",
        "\n",
        ">**Also refer to the [Padhai-One](https://github.com/OneFourthLabs/PadhAI-One) Github repo for updates & other notebooks **"
      ]
    },
    {
      "cell_type": "markdown",
      "metadata": {
        "id": "BaPS5VydEkSq",
        "colab_type": "text"
      },
      "source": [
        "#**Dictionary**\n",
        "Dictionaries are **mutable data objects** that has mapping between the keys and values.\n",
        "Keys are similar to set elements that would be hashed and stored. Each key will a have a value (object) associated with it. Dictionary do not preserve ordering.\n",
        "\n",
        ">*Keys has to be immutable objects like int, float, string, tuple; whereas values can be any mutable or immutable object like even lists. This is because only keys are hashed, not values.*"
      ]
    },
    {
      "cell_type": "markdown",
      "metadata": {
        "id": "WK8zHy_cUhM9",
        "colab_type": "text"
      },
      "source": [
        "## Creating Dictionary\n",
        "\n"
      ]
    },
    {
      "cell_type": "markdown",
      "metadata": {
        "id": "kqhPBrVzbKx_",
        "colab_type": "text"
      },
      "source": [
        "List can be created in 2 ways\n",
        "1. using `{}`  curly brackets\n",
        "2. using `dict()` function, which takes any sequence type or iterable objects (like other list, tuple, set) whose **elements are objects with pair of elements**\n",
        "3. using  `fromkeys()` method for initializing dictionary\n",
        "\n",
        "A dictioanry element has two parts represented as `{key : value}`. Key and associated value should be seperated by `:`. <br>\n",
        "The Keys will/need_to be unique while values will/need not.\n"
      ]
    },
    {
      "cell_type": "code",
      "metadata": {
        "id": "otCZN4w8ERE8",
        "colab_type": "code",
        "outputId": "cf9804d9-721c-46f5-acc7-0f8cb941e611",
        "colab": {
          "base_uri": "https://localhost:8080/",
          "height": 101
        }
      },
      "source": [
        "# empty dictionary\n",
        "a = {}\n",
        "b = dict()\n",
        "\n",
        "# initalized dictionary\n",
        "c = {\"a\":1,\"b\":2, \"c\":3, \"d\":4}\n",
        "d = dict([ (1,\"a\"), (2,\"b\") ]) # create dict from sequence of paired elements\n",
        "e = c # shallow copy from a list\n",
        "\n",
        "# Print\n",
        "print(\"a = \",a, \"\\nb = \",b, \"\\nc = \",c, \"\\nd = \",d, \"\\ne = \",e )"
      ],
      "execution_count": 1,
      "outputs": [
        {
          "output_type": "stream",
          "text": [
            "a =  {} \n",
            "b =  {} \n",
            "c =  {'a': 1, 'b': 2, 'c': 3, 'd': 4} \n",
            "d =  {1: 'a', 2: 'b'} \n",
            "e =  {'a': 1, 'b': 2, 'c': 3, 'd': 4}\n"
          ],
          "name": "stdout"
        }
      ]
    },
    {
      "cell_type": "markdown",
      "metadata": {
        "id": "2rcWbvgbi_3U",
        "colab_type": "text"
      },
      "source": [
        "As one can see a list with elements made of tuple with element pairs is converted into Dictionary.\n",
        "\n",
        "For `dict()` function, it is required to have paired elements or else it will throw error. Check the below cases."
      ]
    },
    {
      "cell_type": "code",
      "metadata": {
        "id": "gVdQA3toLp3j",
        "colab_type": "code",
        "outputId": "0a12955f-cc40-4b02-98bd-1273e91e61f0",
        "colab": {
          "base_uri": "https://localhost:8080/",
          "height": 84
        }
      },
      "source": [
        "a = [1,2,3,4]\n",
        "try:\n",
        "    out = dict(a) # throw error\n",
        "except Exception as error:\n",
        "    print(\"`a` convertion TypeError:\", error)\n",
        "\n",
        "b = (1,2)\n",
        "try:\n",
        "    out = dict(b) # throw error\n",
        "except Exception as error:\n",
        "    print(\"`b` convertion TypeError:\", error)\n",
        "\n",
        "c = {1,2,3}\n",
        "try:\n",
        "    out = dict(c) # throw error\n",
        "except Exception as error:\n",
        "    print(\"`c` convertion TypeError:\", error)\n",
        "\n",
        "d = \"hello World\"\n",
        "try:\n",
        "    out = dict(d) # throw error\n",
        "except Exception as error:\n",
        "    print(\"`d` convertion TypeError:\", error)\n"
      ],
      "execution_count": 2,
      "outputs": [
        {
          "output_type": "stream",
          "text": [
            "`a` convertion TypeError: cannot convert dictionary update sequence element #0 to a sequence\n",
            "`b` convertion TypeError: cannot convert dictionary update sequence element #0 to a sequence\n",
            "`c` convertion TypeError: cannot convert dictionary update sequence element #0 to a sequence\n",
            "`d` convertion TypeError: dictionary update sequence element #0 has length 1; 2 is required\n"
          ],
          "name": "stdout"
        }
      ]
    },
    {
      "cell_type": "markdown",
      "metadata": {
        "id": "rPOsQnMyM4Si",
        "colab_type": "text"
      },
      "source": [
        "It is mandatory for data sequences and sets to have elements as clubbed pairs of objects, that would form key and corresponding value in dictionary.\n",
        "\n",
        "The elements can be clubbed using data objects like list, tuple or set; Each nested object should have exactly two elements."
      ]
    },
    {
      "cell_type": "code",
      "metadata": {
        "id": "4-_2ODdoOlrA",
        "colab_type": "code",
        "outputId": "156fbca0-b1c5-4f52-ecc6-4bb9d9a1007a",
        "colab": {
          "base_uri": "https://localhost:8080/",
          "height": 84
        }
      },
      "source": [
        "a = [[1,2], [2,3], [4,5]]\n",
        "b = dict(a)\n",
        "c = [{1,2}, [2,3], (4,5)]\n",
        "d = dict(c)\n",
        "e= [['hello','world'] ]\n",
        "f=dict(e)\n",
        "\n",
        "print(\"b =\", b)\n",
        "print(\"d =\", d)\n",
        "print(\"f =\", f)\n",
        "\n",
        "\n",
        "g = [ [1,2,3], [4,5,6] ]\n",
        "try :\n",
        "    h = dict(g) # this will throw error\n",
        "except Exception as error:\n",
        "    print(\"Error at g:\", error)\n",
        "\n"
      ],
      "execution_count": 3,
      "outputs": [
        {
          "output_type": "stream",
          "text": [
            "b = {1: 2, 2: 3, 4: 5}\n",
            "d = {1: 2, 2: 3, 4: 5}\n",
            "f = {'hello': 'world'}\n",
            "Error at g: dictionary update sequence element #0 has length 3; 2 is required\n"
          ],
          "name": "stdout"
        }
      ]
    },
    {
      "cell_type": "markdown",
      "metadata": {
        "id": "OiMxqItgDt8n",
        "colab_type": "text"
      },
      "source": [
        "---"
      ]
    },
    {
      "cell_type": "markdown",
      "metadata": {
        "id": "aaSvCgclACVi",
        "colab_type": "text"
      },
      "source": [
        "Dictionary keys will be hashed thus they must be immutable objects, where as values can be any mutable or immutable object"
      ]
    },
    {
      "cell_type": "code",
      "metadata": {
        "id": "rFIEhnXcjbdT",
        "colab_type": "code",
        "outputId": "0e177454-def8-4445-da4e-c7e02318ac87",
        "colab": {
          "base_uri": "https://localhost:8080/",
          "height": 67
        }
      },
      "source": [
        "a = {\n",
        "    (1,2): \"tuple key\",\n",
        "    \"test\": \"string key\",\n",
        "    frozenset((1,2)): \"Frozen set key\",\n",
        "    1:      \"int key\",\n",
        "    1.222:  \"float key\",\n",
        "    1+2j:   \"complex key\",\n",
        "} \n",
        "\n",
        "print(\"a =\", a)\n",
        "\n",
        "try:\n",
        "    b = { [1,2]: \"list key\" }\n",
        "except Exception as error:\n",
        "    print(\"Error at b:\", error)\n",
        "\n",
        "try:\n",
        "    c = { {1,2}: \"list key\" }\n",
        "except Exception as error:\n",
        "    print(\"Error at c:\", error)"
      ],
      "execution_count": 4,
      "outputs": [
        {
          "output_type": "stream",
          "text": [
            "a = {(1, 2): 'tuple key', 'test': 'string key', frozenset({1, 2}): 'Frozen set key', 1: 'int key', 1.222: 'float key', (1+2j): 'complex key'}\n",
            "Error at b: unhashable type: 'list'\n",
            "Error at c: unhashable type: 'set'\n"
          ],
          "name": "stdout"
        }
      ]
    },
    {
      "cell_type": "code",
      "metadata": {
        "id": "QP6dkuKfE7o9",
        "colab_type": "code",
        "outputId": "d6540500-f545-43f6-dd32-8ba83d1535e9",
        "colab": {
          "base_uri": "https://localhost:8080/",
          "height": 54
        }
      },
      "source": [
        "a = {\n",
        "    \"tuple\": (1,2),\n",
        "    \"string\": \"test\",\n",
        "    \"frozenset\": frozenset((1,2)),\n",
        "    \"int\": 1,\n",
        "    \"float\": 1.222,\n",
        "    \"complex number\": 1+2j,\n",
        "    \"list\": [1,2,3],\n",
        "    \"set\": {1,2,3},\n",
        "} \n",
        "\n",
        "print(\"a =\", a)\n"
      ],
      "execution_count": 5,
      "outputs": [
        {
          "output_type": "stream",
          "text": [
            "a = {'tuple': (1, 2), 'string': 'test', 'frozenset': frozenset({1, 2}), 'int': 1, 'float': 1.222, 'complex number': (1+2j), 'list': [1, 2, 3], 'set': {1, 2, 3}}\n"
          ],
          "name": "stdout"
        }
      ]
    },
    {
      "cell_type": "markdown",
      "metadata": {
        "id": "0waHWI_3IJNO",
        "colab_type": "text"
      },
      "source": [
        "As the keys of dictionaries are hashed there will not be duplicated keys in a dict. The value of key will be updated to the latest instance of key's value."
      ]
    },
    {
      "cell_type": "code",
      "metadata": {
        "id": "J4mMvqZaInlD",
        "colab_type": "code",
        "outputId": "eb9e0fbd-1e2c-406b-9ee3-b46c80548542",
        "colab": {
          "base_uri": "https://localhost:8080/",
          "height": 34
        }
      },
      "source": [
        "z = {\n",
        "    \"a\": 1, \"b\": 1, \n",
        "    \"a\": 2, \"c\": 2,\n",
        "    \"a\": 3, \"d\": 3,\n",
        "}\n",
        "\n",
        "print(\"z =\", z)"
      ],
      "execution_count": 6,
      "outputs": [
        {
          "output_type": "stream",
          "text": [
            "z = {'a': 3, 'b': 1, 'c': 2, 'd': 3}\n"
          ],
          "name": "stdout"
        }
      ]
    },
    {
      "cell_type": "markdown",
      "metadata": {
        "id": "eRpmaYVxJW8W",
        "colab_type": "text"
      },
      "source": [
        "One can see that the last occurence of key `a`had value as `3` which is retained. \n",
        "Also one can see that both the value of `a` and `c` are same(`3`), thus values can have duplicate objects."
      ]
    },
    {
      "cell_type": "markdown",
      "metadata": {
        "id": "nJ7mqazbH-NV",
        "colab_type": "text"
      },
      "source": [
        "---"
      ]
    },
    {
      "cell_type": "markdown",
      "metadata": {
        "id": "Np4c1vR_GVvR",
        "colab_type": "text"
      },
      "source": [
        "There could be cases where one may need to have just the keys in dict and values would be created at a future point.\n",
        "\n",
        "But a dictionary key cannot exist without a value, in such cases one can initialize the value to `None`"
      ]
    },
    {
      "cell_type": "code",
      "metadata": {
        "id": "PRQ4uOL5Zmzo",
        "colab_type": "code",
        "outputId": "36bac46a-0d5a-40d2-9091-4b9f6b6176b1",
        "colab": {
          "base_uri": "https://localhost:8080/",
          "height": 34
        }
      },
      "source": [
        "a = {\"a\": None, \"b\":None, \"c\": None}\n",
        "print(a)"
      ],
      "execution_count": 7,
      "outputs": [
        {
          "output_type": "stream",
          "text": [
            "{'a': None, 'b': None, 'c': None}\n"
          ],
          "name": "stdout"
        }
      ]
    },
    {
      "cell_type": "markdown",
      "metadata": {
        "id": "xwbspZATaHKc",
        "colab_type": "text"
      },
      "source": [
        "Or there could be case where we may want to initialize all the values tp some constant values or empty objects and would modify later point in code.\n",
        "\n",
        "This pattern is frequently used in may applications, so there is dedicated function in dictionary called `dict.fromkeys()`. <br>\n",
        "This two arguments, firstly a sequence data or set as argument and secondly optional value to which each keys will be initalized, if not given `None` will be taken as default. "
      ]
    },
    {
      "cell_type": "code",
      "metadata": {
        "id": "uuirsGnlaUSt",
        "colab_type": "code",
        "outputId": "72cd7d42-c0cf-45a5-f74d-859bcaa3c144",
        "colab": {
          "base_uri": "https://localhost:8080/",
          "height": 50
        }
      },
      "source": [
        "a = [1,2,3,4,5,6,7]\n",
        "b = dict.fromkeys(a) # values will be none\n",
        "print(\"b =\", b)\n",
        "\n",
        "c = [\"apple\", \"banana\", \"cucumber\" ]\n",
        "d = [1,2,3]\n",
        "e = dict.fromkeys(c,d)\n",
        "print(\"e =\", e)"
      ],
      "execution_count": 8,
      "outputs": [
        {
          "output_type": "stream",
          "text": [
            "b = {1: None, 2: None, 3: None, 4: None, 5: None, 6: None, 7: None}\n",
            "e = {'apple': [1, 2, 3], 'banana': [1, 2, 3], 'cucumber': [1, 2, 3]}\n"
          ],
          "name": "stdout"
        }
      ]
    },
    {
      "cell_type": "markdown",
      "metadata": {
        "id": "du7EPTmlfDEv",
        "colab_type": "text"
      },
      "source": [
        "> Note that function did not iterate over values argument instead it took entire list and made it as value for all the keys"
      ]
    },
    {
      "cell_type": "markdown",
      "metadata": {
        "id": "ePwsE3WW1q_t",
        "colab_type": "text"
      },
      "source": [
        "---\n",
        "<br><br>"
      ]
    },
    {
      "cell_type": "markdown",
      "metadata": {
        "id": "suMeeKl0JZcE",
        "colab_type": "text"
      },
      "source": [
        "## Accessing elements "
      ]
    },
    {
      "cell_type": "markdown",
      "metadata": {
        "id": "6i17hPIXLVEV",
        "colab_type": "text"
      },
      "source": [
        "Dictionary elements cannot be indexed like list or tuple with numbers.\n",
        "Each value has to be accessed using keys. This is because keys are stored based on hashing, not sequentially in memory.\n",
        "\n",
        "Subscripting with `[]` square bracket is used for accessing values, using keys for referencing."
      ]
    },
    {
      "cell_type": "code",
      "metadata": {
        "id": "BFr1GYxwLnnu",
        "colab_type": "code",
        "outputId": "efaa288b-ec8f-4eff-b1ab-e2a0e0b78826",
        "colab": {
          "base_uri": "https://localhost:8080/",
          "height": 67
        }
      },
      "source": [
        "z = {\"a\": 1, \"b\": 2, \"c\": 3, \"d\": 4}\n",
        "y = z[\"a\"]\n",
        "x = z [\"b\"]\n",
        "print(\"value at \\\"a\\\" :\", y)\n",
        "print(\"value at \\\"b\\\" :\", x)\n",
        "\n",
        "try:\n",
        "    w = z[1]\n",
        "except KeyError as error:\n",
        "    print(\"KeyError:\", error)"
      ],
      "execution_count": 9,
      "outputs": [
        {
          "output_type": "stream",
          "text": [
            "value at \"a\" : 1\n",
            "value at \"b\" : 2\n",
            "KeyError: 1\n"
          ],
          "name": "stdout"
        }
      ]
    },
    {
      "cell_type": "markdown",
      "metadata": {
        "id": "8fnBFFBYrbIi",
        "colab_type": "text"
      },
      "source": [
        "Referenced with `1` dict does not consider it as index instead takes it as key and looks at corresponding hashing, since it does not exist it throws KeyError."
      ]
    },
    {
      "cell_type": "markdown",
      "metadata": {
        "id": "pCw0RSl1R3pu",
        "colab_type": "text"
      },
      "source": [
        "When one tries to reference a key that is not present using `[]`, it will throw error. <br>\n",
        "For certain program logic, it might be useful to get value if present else silently move to next step. In such cases one could use `get()`.\n",
        "It will return value if key exists else will return `None`\n"
      ]
    },
    {
      "cell_type": "code",
      "metadata": {
        "id": "aajs1GVbS0nd",
        "colab_type": "code",
        "outputId": "3bcc45a4-1cfb-4a17-9f43-382d8edf1caf",
        "colab": {
          "base_uri": "https://localhost:8080/",
          "height": 50
        }
      },
      "source": [
        "z = {\"a\": 1, \"b\": 2, \"c\": 3, \"d\": 4}\n",
        "\n",
        "try:\n",
        "    y = z[\"e\"]\n",
        "except KeyError as error:\n",
        "    print(\"KeyError:\" , error)\n",
        "\n",
        "y = z.get(\"e\")\n",
        "print('using get:', y)"
      ],
      "execution_count": 10,
      "outputs": [
        {
          "output_type": "stream",
          "text": [
            "KeyError: 'e'\n",
            "using get: None\n"
          ],
          "name": "stdout"
        }
      ]
    },
    {
      "cell_type": "markdown",
      "metadata": {
        "id": "wMHaLyE_O1e0",
        "colab_type": "text"
      },
      "source": [
        "---\n",
        "<br>"
      ]
    },
    {
      "cell_type": "markdown",
      "metadata": {
        "id": "VsDbjB-bOJzN",
        "colab_type": "text"
      },
      "source": [
        "One  can  use `in` statement to ckeck if a specific key is present in a dictionary or not.\n",
        "\n",
        "> Only membership of keys can be checked with `in`, one cannot use to check if a value exists in dict. "
      ]
    },
    {
      "cell_type": "code",
      "metadata": {
        "id": "KkJXi3dOO7Rp",
        "colab_type": "code",
        "outputId": "1e6ff31c-55cf-41ad-ea67-63e42b3392c9",
        "colab": {
          "base_uri": "https://localhost:8080/",
          "height": 67
        }
      },
      "source": [
        "a = {\"ant\": 1, \"bear\":2, \"cat\": 3, \"dog\": 4, \"elephant\": 5}\n",
        "a_dog = \"dog\" in a\n",
        "a_wolf = \"wolf\" in a\n",
        "a_1 = 1 in a\n",
        "\n",
        "print(\"is dog present:\", a_dog)\n",
        "print(\"is wolf present:\", a_wolf)\n",
        "print(\"is 1 present:\", a_1)\n",
        "\n"
      ],
      "execution_count": 11,
      "outputs": [
        {
          "output_type": "stream",
          "text": [
            "is dog present: True\n",
            "is wolf present: False\n",
            "is 1 present: False\n"
          ],
          "name": "stdout"
        }
      ]
    },
    {
      "cell_type": "markdown",
      "metadata": {
        "id": "jFG7aARpJxCT",
        "colab_type": "text"
      },
      "source": [
        "Iterating with `for` and `in` and accessing the dict elements for updating them can be done as shown below."
      ]
    },
    {
      "cell_type": "code",
      "metadata": {
        "id": "jCu9FDITJV3c",
        "colab_type": "code",
        "outputId": "b2cb62b6-9bdc-4eab-ca8d-d31b4da55f4e",
        "colab": {
          "base_uri": "https://localhost:8080/",
          "height": 34
        }
      },
      "source": [
        "a = {\"ant\": 1, \"bear\":2, \"cat\": 3, \"dog\": 4, \"elephant\": 5}\n",
        "\n",
        "for i in a:\n",
        "    a[i] +=10\n",
        "\n",
        "print(\"updated a =\", a) "
      ],
      "execution_count": 12,
      "outputs": [
        {
          "output_type": "stream",
          "text": [
            "updated a = {'ant': 11, 'bear': 12, 'cat': 13, 'dog': 14, 'elephant': 15}\n"
          ],
          "name": "stdout"
        }
      ]
    },
    {
      "cell_type": "markdown",
      "metadata": {
        "id": "LQIrLpddgmPR",
        "colab_type": "text"
      },
      "source": [
        "### View Objects\n",
        "\n",
        "Refer [Docs](https://docs.python.org/3/library/stdtypes.html#dictionary-view-objects) for more details"
      ]
    },
    {
      "cell_type": "markdown",
      "metadata": {
        "id": "S4JqhUnJu34T",
        "colab_type": "text"
      },
      "source": [
        "*One could use `in` for checking if key exists. But what if one needs to check if a value exists in a dict?*\n",
        "\n",
        "A simple work around could be to use `values()` method. it returns all the values of a dictionary as a `dict_value` class which is view object (i.e gives view like a list).<br>\n",
        "One can use this with `in` to check if the value present in the object returned by `values()`"
      ]
    },
    {
      "cell_type": "code",
      "metadata": {
        "id": "wqCxB34Qv8fR",
        "colab_type": "code",
        "outputId": "36ddaa89-8bf2-4d9a-e188-f6856f7e829e",
        "colab": {
          "base_uri": "https://localhost:8080/",
          "height": 50
        }
      },
      "source": [
        "a = {\"ant\": 1, \"bear\":2, \"cat\": 3, \"dog\": 4, \"elephant\": 5}\n",
        "a_vals = a.values()\n",
        "\n",
        "a_1 = 1 in a_vals\n",
        "print(\"is 1 present:\", a_1)\n",
        "print(\"a_vals = \", a_vals)"
      ],
      "execution_count": 13,
      "outputs": [
        {
          "output_type": "stream",
          "text": [
            "is 1 present: True\n",
            "a_vals =  dict_values([1, 2, 3, 4, 5])\n"
          ],
          "name": "stdout"
        }
      ]
    },
    {
      "cell_type": "markdown",
      "metadata": {
        "id": "r0pbKgQzyGYZ",
        "colab_type": "text"
      },
      "source": [
        "Notice that though the object seems like list it is actually a dict_values object. The object is not subscriptable with index like list."
      ]
    },
    {
      "cell_type": "code",
      "metadata": {
        "id": "e9OAsG5-Ibwd",
        "colab_type": "code",
        "outputId": "ee46b6f9-346a-48bf-e521-7012c821a9ca",
        "colab": {
          "base_uri": "https://localhost:8080/",
          "height": 34
        }
      },
      "source": [
        "a = {\"ant\": 1, \"bear\":2, \"cat\": 3, \"dog\": 4, \"elephant\": 5}\n",
        "a_vals = a.values()\n",
        "print(\"a_vals before = \", a_vals)"
      ],
      "execution_count": 14,
      "outputs": [
        {
          "output_type": "stream",
          "text": [
            "a_vals before =  dict_values([1, 2, 3, 4, 5])\n"
          ],
          "name": "stdout"
        }
      ]
    },
    {
      "cell_type": "markdown",
      "metadata": {
        "id": "VxgDlE8AI2ZV",
        "colab_type": "text"
      },
      "source": [
        "Similarly there is `keys()` method which will return `dict_keys` class which again is a view object."
      ]
    },
    {
      "cell_type": "code",
      "metadata": {
        "id": "ZW91q_rTJIQe",
        "colab_type": "code",
        "outputId": "395132c2-a838-4903-f758-5c98386cf980",
        "colab": {
          "base_uri": "https://localhost:8080/",
          "height": 34
        }
      },
      "source": [
        "a = {\"ant\": 1, \"bear\":2, \"cat\": 3, \"dog\": 4, \"elephant\": 5}\n",
        "a_keys = a.keys()\n",
        "print(\"a_keys = \", a_keys)"
      ],
      "execution_count": 15,
      "outputs": [
        {
          "output_type": "stream",
          "text": [
            "a_keys =  dict_keys(['ant', 'bear', 'cat', 'dog', 'elephant'])\n"
          ],
          "name": "stdout"
        }
      ]
    },
    {
      "cell_type": "markdown",
      "metadata": {
        "id": "7chQk1fluDqX",
        "colab_type": "text"
      },
      "source": [
        "Previously we converted sequence type data with paired elements into a dictionary. We could also do the inverse, we could convert dictionary into `dict_items` view object, which equivalent to tuple pairs.\n",
        "\n",
        "For which we could use `items()` method which returns `dict_items` which again is a view object."
      ]
    },
    {
      "cell_type": "code",
      "metadata": {
        "id": "wHR1tNTguSYD",
        "colab_type": "code",
        "outputId": "c62901b6-3b0d-4828-c5fa-68d3186e7770",
        "colab": {
          "base_uri": "https://localhost:8080/",
          "height": 34
        }
      },
      "source": [
        "a = {\"ant\": 1, \"bear\":2, \"cat\": 3, \"dog\": 4, \"elephant\": 5}\n",
        "a_items = a.items()\n",
        "print(\"a_keys = \", a_items)"
      ],
      "execution_count": 16,
      "outputs": [
        {
          "output_type": "stream",
          "text": [
            "a_keys =  dict_items([('ant', 1), ('bear', 2), ('cat', 3), ('dog', 4), ('elephant', 5)])\n"
          ],
          "name": "stdout"
        }
      ]
    },
    {
      "cell_type": "markdown",
      "metadata": {
        "id": "e80lPskghw87",
        "colab_type": "text"
      },
      "source": [
        "One Significance of having view object is any changes or updates to the dictionary object will reflect in view object. These objects are references to the actual dictionary.\n",
        "\n",
        "> In Python2 `values()` `items()` `keys()` methods returned seperate list object, that did not preservethe link. Only in Python3 this was changed to view object."
      ]
    },
    {
      "cell_type": "code",
      "metadata": {
        "id": "sjDvgUrVh_Z3",
        "colab_type": "code",
        "outputId": "2096b20c-48fb-46bc-a6a5-aa900b1bb508",
        "colab": {
          "base_uri": "https://localhost:8080/",
          "height": 151
        }
      },
      "source": [
        "a = {\"ant\": 1, \"bear\":2, \"cat\": 3}\n",
        "a_vals = a.values()\n",
        "a_keys = a.keys()\n",
        "a_items = a.items()\n",
        "print(\"Before changing:\\n\", a_vals, \"\\n\", a_keys, \"\\n\", a_items)\n",
        "\n",
        "a[\"ant\"] = 10 # change value\n",
        "a[\"dog\"] = 40 # addd new element\n",
        "\n",
        "print(\"After changing:\\n\", a_vals, \"\\n\", a_keys, \"\\n\", a_items)"
      ],
      "execution_count": 17,
      "outputs": [
        {
          "output_type": "stream",
          "text": [
            "Before changing:\n",
            " dict_values([1, 2, 3]) \n",
            " dict_keys(['ant', 'bear', 'cat']) \n",
            " dict_items([('ant', 1), ('bear', 2), ('cat', 3)])\n",
            "After changing:\n",
            " dict_values([10, 2, 3, 40]) \n",
            " dict_keys(['ant', 'bear', 'cat', 'dog']) \n",
            " dict_items([('ant', 10), ('bear', 2), ('cat', 3), ('dog', 40)])\n"
          ],
          "name": "stdout"
        }
      ]
    },
    {
      "cell_type": "markdown",
      "metadata": {
        "id": "UIDTaBET2BPo",
        "colab_type": "text"
      },
      "source": [
        "`keys()`, `values()` and `items()` would useful in many cases involving complex operations with dictionary data. Limiting the usage to simple examples here.\n",
        "\n",
        ">One could convert these view objects into other data structures easily with creation functions like `list()`, `tuple()` and `set()` and use them further."
      ]
    },
    {
      "cell_type": "markdown",
      "metadata": {
        "id": "Irs5Geprol7p",
        "colab_type": "text"
      },
      "source": [
        "\n",
        "---\n",
        "<br>"
      ]
    },
    {
      "cell_type": "markdown",
      "metadata": {
        "id": "31P3t7Sea0Ac",
        "colab_type": "text"
      },
      "source": [
        "\n",
        "## Inserting elements\n",
        "\n",
        "Dictionary are **mutable** object, so one can add elements to existing object without creating new object."
      ]
    },
    {
      "cell_type": "markdown",
      "metadata": {
        "id": "TkeTGHZIbRKG",
        "colab_type": "text"
      },
      "source": [
        "For adding new element one can directly subscript the new key with `[]` and assign the corresponding values.\n",
        "\n",
        "\n"
      ]
    },
    {
      "cell_type": "code",
      "metadata": {
        "id": "koFt26U9ZvXd",
        "colab_type": "code",
        "outputId": "50377bf2-3e40-48bf-c93b-10b84091a89b",
        "colab": {
          "base_uri": "https://localhost:8080/",
          "height": 34
        }
      },
      "source": [
        "a = {\"ant\": 1, \"bear\":2, \"cat\": 3, \"dog\": 4, \"elephant\": 5}\n",
        "a[\"fox\"] = 6\n",
        "\n",
        "print('a=', a)"
      ],
      "execution_count": 18,
      "outputs": [
        {
          "output_type": "stream",
          "text": [
            "a= {'ant': 1, 'bear': 2, 'cat': 3, 'dog': 4, 'elephant': 5, 'fox': 6}\n"
          ],
          "name": "stdout"
        }
      ]
    },
    {
      "cell_type": "markdown",
      "metadata": {
        "id": "UDpPLWABBORp",
        "colab_type": "text"
      },
      "source": [
        "One alternative way would be to use `update()` to add new elements.\n",
        "\n",
        "Update takes a dictionary or sequences with paired elements. So this could be used for bulk updates as well.\n"
      ]
    },
    {
      "cell_type": "code",
      "metadata": {
        "id": "ugDzu5ZJeQcc",
        "colab_type": "code",
        "outputId": "9697f7cc-6921-4cf8-ea89-9c98bdba4e9f",
        "colab": {
          "base_uri": "https://localhost:8080/",
          "height": 34
        }
      },
      "source": [
        "a = {\"ant\": 1, \"bear\":2, \"cat\": 3}\n",
        "a.update({'dog': 4})\n",
        "a.update( [(\"dog\", 4), (\"elephant\", 5)] )\n",
        "print(a)"
      ],
      "execution_count": 19,
      "outputs": [
        {
          "output_type": "stream",
          "text": [
            "{'ant': 1, 'bear': 2, 'cat': 3, 'dog': 4, 'elephant': 5}\n"
          ],
          "name": "stdout"
        }
      ]
    },
    {
      "cell_type": "markdown",
      "metadata": {
        "id": "w-M_MpCWZH_O",
        "colab_type": "text"
      },
      "source": [
        "The keys of dictionar are unique, thus using subscript `[]` or `update()` on existing keys will change the values of the keys.\n",
        "\n",
        ">The subscripting `[]` will be faster for adding single element compared to `update()` method.<br>\n",
        "But `update()` will be and faster useful for bulk update with large number of elements compared to iterating.\n"
      ]
    },
    {
      "cell_type": "code",
      "metadata": {
        "id": "pdMUrEeoeEdY",
        "colab_type": "code",
        "outputId": "66250b8f-d2e7-4531-93b5-aa5740bfac15",
        "colab": {
          "base_uri": "https://localhost:8080/",
          "height": 34
        }
      },
      "source": [
        "%%timeit -n1 -r10\n",
        "## Using Subscripting\n",
        "a = {}\n",
        "for i in range(100000):\n",
        "    a[\"apple\"] = 1"
      ],
      "execution_count": 20,
      "outputs": [
        {
          "output_type": "stream",
          "text": [
            "1 loop, best of 10: 4.53 ms per loop\n"
          ],
          "name": "stdout"
        }
      ]
    },
    {
      "cell_type": "code",
      "metadata": {
        "id": "X1wwHlIkbYsJ",
        "colab_type": "code",
        "outputId": "7ff89753-9569-4ee1-dc8c-783f85615e45",
        "colab": {
          "base_uri": "https://localhost:8080/",
          "height": 34
        }
      },
      "source": [
        "%%timeit -n1 -r10\n",
        "## Using update()\n",
        "a = {}\n",
        "for i in range(100000):\n",
        "    a.update({\"apple\": 1})"
      ],
      "execution_count": 21,
      "outputs": [
        {
          "output_type": "stream",
          "text": [
            "1 loop, best of 10: 17.5 ms per loop\n"
          ],
          "name": "stdout"
        }
      ]
    },
    {
      "cell_type": "markdown",
      "metadata": {
        "id": "p5aGD-PabqFD",
        "colab_type": "text"
      },
      "source": [
        "One can see that subscripting `[]` is faster for updating single element compare to `update()`.\n",
        "\n",
        "But when large umber of elements has to be updated `update()` will be more readable and faster. "
      ]
    },
    {
      "cell_type": "code",
      "metadata": {
        "id": "0pi7c4mPcf8F",
        "colab_type": "code",
        "outputId": "5bee8039-b4be-404b-9692-4f14f9030913",
        "colab": {
          "base_uri": "https://localhost:8080/",
          "height": 50
        }
      },
      "source": [
        "# variables initalization\n",
        "a = {}\n",
        "b = [(i,i*100) for i in range(10)] #list comprehension\n",
        "print('list = ',b)\n",
        "print('after converting to dict =', dict(b))"
      ],
      "execution_count": 22,
      "outputs": [
        {
          "output_type": "stream",
          "text": [
            "list =  [(0, 0), (1, 100), (2, 200), (3, 300), (4, 400), (5, 500), (6, 600), (7, 700), (8, 800), (9, 900)]\n",
            "after converting to dict = {0: 0, 1: 100, 2: 200, 3: 300, 4: 400, 5: 500, 6: 600, 7: 700, 8: 800, 9: 900}\n"
          ],
          "name": "stdout"
        }
      ]
    },
    {
      "cell_type": "code",
      "metadata": {
        "id": "p9Q5ynIxLqjU",
        "colab_type": "code",
        "colab": {}
      },
      "source": [
        "b = [(i,i*100) for i in range(1000)]"
      ],
      "execution_count": 0,
      "outputs": []
    },
    {
      "cell_type": "code",
      "metadata": {
        "id": "NEMc_WvsboMB",
        "colab_type": "code",
        "outputId": "d6aab4d0-4cf9-4dc4-c14d-d9c02adb6aca",
        "colab": {
          "base_uri": "https://localhost:8080/",
          "height": 34
        }
      },
      "source": [
        "%%timeit -n1 \n",
        "## Using Subscripting\n",
        "for i in range(100000): #repeat 1M times \n",
        "    for (k, v) in b:\n",
        "        a[k] = v"
      ],
      "execution_count": 24,
      "outputs": [
        {
          "output_type": "stream",
          "text": [
            "1 loop, best of 3: 6.01 s per loop\n"
          ],
          "name": "stdout"
        }
      ]
    },
    {
      "cell_type": "code",
      "metadata": {
        "id": "vsL8j4shd4R1",
        "colab_type": "code",
        "outputId": "b9da95a9-4448-4fa2-9134-8a889d481e8b",
        "colab": {
          "base_uri": "https://localhost:8080/",
          "height": 34
        }
      },
      "source": [
        "%%timeit -n1 \n",
        "## Using Subscripting\n",
        "for i in range(100000): #repeat 1M times \n",
        "    a.update(b)    \n"
      ],
      "execution_count": 25,
      "outputs": [
        {
          "output_type": "stream",
          "text": [
            "1 loop, best of 3: 2.62 s per loop\n"
          ],
          "name": "stdout"
        }
      ]
    },
    {
      "cell_type": "markdown",
      "metadata": {
        "id": "MydVt5vuwJf2",
        "colab_type": "text"
      },
      "source": [
        "It can be seen that `update()` is faster than iterating with subscripting `[]`.\n",
        "\n",
        "---\n",
        "<br>\n"
      ]
    },
    {
      "cell_type": "markdown",
      "metadata": {
        "id": "MUy3pd7C8sNr",
        "colab_type": "text"
      },
      "source": [
        "There is a `setdefault()` method referenced to a key, does 2 different things based on condition.\n",
        "- If key is present - returns the value of that key\n",
        "-if key is not present - creates a new element with the key and initalizes to value passed as argument and returns the value."
      ]
    },
    {
      "cell_type": "code",
      "metadata": {
        "id": "4Jj568GV9j_o",
        "colab_type": "code",
        "outputId": "8535532f-f625-40a1-c4b5-d684b4eedd3c",
        "colab": {
          "base_uri": "https://localhost:8080/",
          "height": 84
        }
      },
      "source": [
        "a = {\"ant\": 1, \"bear\":2, \"cat\": 3}\n",
        "\n",
        "n_val = a.setdefault('cat', 22)\n",
        "print(\"If value exists returned:\", n_val)\n",
        "print(\"a =\", a )\n",
        "\n",
        "n_val = a.setdefault('wolf', 22)\n",
        "print(\"If value does not exist returned:\", n_val)\n",
        "print(\"a =\", a )"
      ],
      "execution_count": 26,
      "outputs": [
        {
          "output_type": "stream",
          "text": [
            "If value exists returned: 3\n",
            "a = {'ant': 1, 'bear': 2, 'cat': 3}\n",
            "If value does not exist returned: 22\n",
            "a = {'ant': 1, 'bear': 2, 'cat': 3, 'wolf': 22}\n"
          ],
          "name": "stdout"
        }
      ]
    },
    {
      "cell_type": "markdown",
      "metadata": {
        "id": "17riJj8u8tuJ",
        "colab_type": "text"
      },
      "source": [
        "---\n",
        "<br>"
      ]
    },
    {
      "cell_type": "markdown",
      "metadata": {
        "id": "GILG2nuE6jxt",
        "colab_type": "text"
      },
      "source": [
        "## Deleting elements"
      ]
    },
    {
      "cell_type": "markdown",
      "metadata": {
        "id": "2i8uKobsHiZR",
        "colab_type": "text"
      },
      "source": [
        "If one wants to remove any element, one can use `pop()`."
      ]
    },
    {
      "cell_type": "code",
      "metadata": {
        "id": "aG-b7UJtFhio",
        "colab_type": "code",
        "outputId": "db574164-2003-416e-cb5f-a1c3d209dab0",
        "colab": {
          "base_uri": "https://localhost:8080/",
          "height": 34
        }
      },
      "source": [
        "a = {\"ant\": 1, \"bear\":2, \"cat\": 3, \"dog\": 4, \"elephant\": 5}\n",
        "a.pop(\"bear\")\n",
        "\n",
        "print(\"a =\", a)"
      ],
      "execution_count": 27,
      "outputs": [
        {
          "output_type": "stream",
          "text": [
            "a = {'ant': 1, 'cat': 3, 'dog': 4, 'elephant': 5}\n"
          ],
          "name": "stdout"
        }
      ]
    },
    {
      "cell_type": "markdown",
      "metadata": {
        "id": "bXs4QpK5zVZF",
        "colab_type": "text"
      },
      "source": [
        "There also exists `popitem()` which removes the item that got inserted last. One would recollect that dict doesn't preserve ordering, hence `popitem()` will be useful to remove elements in Last-In-First-Out basis from dict.\n",
        "\n",
        "> This behaviour of removing newly added elemt is from Python3.7, in older versions `popitem()` remove a random element from dict."
      ]
    },
    {
      "cell_type": "code",
      "metadata": {
        "id": "jR3EODBo0Fc7",
        "colab_type": "code",
        "outputId": "fbf77ee0-a66d-4731-e5d1-948f00088c95",
        "colab": {
          "base_uri": "https://localhost:8080/",
          "height": 67
        }
      },
      "source": [
        "a = {\"ant\": 1, \"bear\":2, \"cat\": 3, \"dog\": 4, \"elephant\": 5}\n",
        "print(\"Initial a =\", a)\n",
        "a.popitem()\n",
        "print(\"1st pop: a =\", a)\n",
        "a.popitem()\n",
        "print(\"2nd pop: a =\", a)"
      ],
      "execution_count": 28,
      "outputs": [
        {
          "output_type": "stream",
          "text": [
            "Initial a = {'ant': 1, 'bear': 2, 'cat': 3, 'dog': 4, 'elephant': 5}\n",
            "1st pop: a = {'ant': 1, 'bear': 2, 'cat': 3, 'dog': 4}\n",
            "2nd pop: a = {'ant': 1, 'bear': 2, 'cat': 3}\n"
          ],
          "name": "stdout"
        }
      ]
    },
    {
      "cell_type": "markdown",
      "metadata": {
        "id": "q9Tvslp30_sI",
        "colab_type": "text"
      },
      "source": [
        "Though initailized together, the elemets are created sequentially. Thus last entry is created at last, so `popitem()` removes it.\n",
        "\n",
        "When some new element is added it gets removed when `popitem()` is called."
      ]
    },
    {
      "cell_type": "code",
      "metadata": {
        "id": "9VbuOmGc1W1K",
        "colab_type": "code",
        "outputId": "d5bfa9d2-0595-49ac-bcc7-bd5b00104322",
        "colab": {
          "base_uri": "https://localhost:8080/",
          "height": 84
        }
      },
      "source": [
        "a = {\"ant\": 1, \"bear\":2, \"cat\": 3}\n",
        "print(\"Initial a =\", a)\n",
        "a.popitem()\n",
        "print(\"1st pop: a =\", a)\n",
        "\n",
        "a.update({\"dog\": 4, \"elephant\": 5})\n",
        "print(\"New a =\", a)\n",
        "a.popitem()\n",
        "print(\"2nd pop: a =\", a)"
      ],
      "execution_count": 29,
      "outputs": [
        {
          "output_type": "stream",
          "text": [
            "Initial a = {'ant': 1, 'bear': 2, 'cat': 3}\n",
            "1st pop: a = {'ant': 1, 'bear': 2}\n",
            "New a = {'ant': 1, 'bear': 2, 'dog': 4, 'elephant': 5}\n",
            "2nd pop: a = {'ant': 1, 'bear': 2, 'dog': 4}\n"
          ],
          "name": "stdout"
        }
      ]
    },
    {
      "cell_type": "markdown",
      "metadata": {
        "id": "jQnfBvOqJnix",
        "colab_type": "text"
      },
      "source": [
        "---\n",
        "<br>\n"
      ]
    },
    {
      "cell_type": "markdown",
      "metadata": {
        "id": "_hb84PFLLE58",
        "colab_type": "text"
      },
      "source": [
        " One can use `del` to remove specific elements refereced by keys or to remove entire object.\n",
        "\n"
      ]
    },
    {
      "cell_type": "code",
      "metadata": {
        "id": "f4vfLKn_IRnT",
        "colab_type": "code",
        "outputId": "e17b1b3d-9cee-42ff-d084-c17d14dad2c9",
        "colab": {
          "base_uri": "https://localhost:8080/",
          "height": 34
        }
      },
      "source": [
        "a = {\"ant\": 1, \"bear\":2, \"cat\": 3, \"dog\": 4, \"elephant\": 5}\n",
        "del a['ant'] \n",
        "print('After deletion: a =', a)"
      ],
      "execution_count": 30,
      "outputs": [
        {
          "output_type": "stream",
          "text": [
            "After deletion: a = {'bear': 2, 'cat': 3, 'dog': 4, 'elephant': 5}\n"
          ],
          "name": "stdout"
        }
      ]
    },
    {
      "cell_type": "markdown",
      "metadata": {
        "id": "VgDZmTh9xT5O",
        "colab_type": "text"
      },
      "source": [
        "When used for removing elements the existing object is modified. As one can see below that the object id remains the same."
      ]
    },
    {
      "cell_type": "code",
      "metadata": {
        "id": "n1Ew_yXX0hdm",
        "colab_type": "code",
        "outputId": "545032fa-a654-4bf9-84aa-9bf3b627432b",
        "colab": {
          "base_uri": "https://localhost:8080/",
          "height": 67
        }
      },
      "source": [
        "a = {\"ant\": 1, \"bear\":2, \"cat\": 3, \"dog\": 4, \"elephant\": 5}\n",
        "print(\"Id of `a` before:\", id(a))\n",
        "del a[\"bear\"] # deletes elements from index 2 to 5 in the object.\n",
        "print('`a` after modification =', a)\n",
        "print(\"Id of `a` after:\", id(a))"
      ],
      "execution_count": 31,
      "outputs": [
        {
          "output_type": "stream",
          "text": [
            "Id of `a` before: 140113098949832\n",
            "`a` after modification = {'ant': 1, 'cat': 3, 'dog': 4, 'elephant': 5}\n",
            "Id of `a` after: 140113098949832\n"
          ],
          "name": "stdout"
        }
      ]
    },
    {
      "cell_type": "markdown",
      "metadata": {
        "id": "l0jp8FTh0h1q",
        "colab_type": "text"
      },
      "source": [
        "One can use `del` on the object as whole."
      ]
    },
    {
      "cell_type": "code",
      "metadata": {
        "id": "A0FsI3LvQ9CL",
        "colab_type": "code",
        "outputId": "11821eb4-c5bd-4f7d-95fc-6f1170a38e79",
        "colab": {
          "base_uri": "https://localhost:8080/",
          "height": 34
        }
      },
      "source": [
        "c = {\"ant\": 1, \"bear\":2, \"cat\": 3, \"dog\": 4, \"elephant\": 5}\n",
        "del c # reference to object is removed\n",
        "\n",
        "try: \n",
        "    print(c) #This will throw ERROR since c is not defined\n",
        "except NameError as error:\n",
        "    print(\"Error:\", error)"
      ],
      "execution_count": 32,
      "outputs": [
        {
          "output_type": "stream",
          "text": [
            "Error: name 'c' is not defined\n"
          ],
          "name": "stdout"
        }
      ]
    },
    {
      "cell_type": "markdown",
      "metadata": {
        "id": "mHxBQ_Fhx9cv",
        "colab_type": "text"
      },
      "source": [
        "When using `del` on the entire object, the object remains same and exists in memory. Only the reference between variable and object is broken and variable becomes undefined."
      ]
    },
    {
      "cell_type": "code",
      "metadata": {
        "id": "1fNU9iWxu4RU",
        "colab_type": "code",
        "outputId": "b9cbbc28-bd26-4c68-b6e3-af1b2536c718",
        "colab": {
          "base_uri": "https://localhost:8080/",
          "height": 67
        }
      },
      "source": [
        "d = {\"ant\": 1, \"bear\":2, \"cat\": 3, \"dog\": 4, \"elephant\": 5}\n",
        "print(\"Id of `d`:\", id(d))\n",
        "e = d\n",
        "del d # reference to object is removed\n",
        "\n",
        "print(\"Id of `e`:\", id(e))\n",
        "print(\"Object in e:\", e) # `e` still references the object"
      ],
      "execution_count": 33,
      "outputs": [
        {
          "output_type": "stream",
          "text": [
            "Id of `d`: 140113099014936\n",
            "Id of `e`: 140113099014936\n",
            "Object in e: {'ant': 1, 'bear': 2, 'cat': 3, 'dog': 4, 'elephant': 5}\n"
          ],
          "name": "stdout"
        }
      ]
    },
    {
      "cell_type": "markdown",
      "metadata": {
        "id": "n4gLt4hpvSWU",
        "colab_type": "text"
      },
      "source": [
        "---\n",
        "<br>"
      ]
    },
    {
      "cell_type": "markdown",
      "metadata": {
        "id": "KVLWifZgNRlO",
        "colab_type": "text"
      },
      "source": [
        "To remove all elements one can use `clear()` method, this will retain the old object and only remove the elements"
      ]
    },
    {
      "cell_type": "code",
      "metadata": {
        "id": "NrA3hRcrNKCe",
        "colab_type": "code",
        "outputId": "7ec294e7-03d6-45c6-f205-453f4c168688",
        "colab": {
          "base_uri": "https://localhost:8080/",
          "height": 34
        }
      },
      "source": [
        "a = {\"ant\": 1, \"bear\":2, \"cat\": 3, \"dog\": 4, \"elephant\": 5}\n",
        "a.clear()\n",
        "print(\"a =\", a)"
      ],
      "execution_count": 34,
      "outputs": [
        {
          "output_type": "stream",
          "text": [
            "a = {}\n"
          ],
          "name": "stdout"
        }
      ]
    },
    {
      "cell_type": "markdown",
      "metadata": {
        "id": "LBC0pkW6NoFn",
        "colab_type": "text"
      },
      "source": [
        "> At this point a question might come to mind that why should we clear elements of a dict object and reuse the same object\n",
        "\n",
        "Check the below case where we link the object in variable `a` to another variable `b` by shallow copy. And we are changing the dict object in `a` by assigning a new dict.  "
      ]
    },
    {
      "cell_type": "code",
      "metadata": {
        "id": "nYdhLgi7NmKo",
        "colab_type": "code",
        "outputId": "6f7dbf6c-ad54-480f-fc28-80cb43f873f2",
        "colab": {
          "base_uri": "https://localhost:8080/",
          "height": 118
        }
      },
      "source": [
        "a = {\"ant\": 1, \"bear\":2, \"cat\": 3, \"dog\": 4, \"elephant\": 5}\n",
        "b = a # a & b refers to same object\n",
        "print(\"before modifying a: \\na =\", a, \" id= \",id(a) )\n",
        "print(\"b =\", b, \" id= \",id(b))\n",
        "\n",
        "a = {\"Zebra\": 26} # a now point to new object\n",
        "print(\"after modifying a: \\na =\", \" id= \",id(a) )\n",
        "print(\"b =\", \" id= \",id(b))"
      ],
      "execution_count": 35,
      "outputs": [
        {
          "output_type": "stream",
          "text": [
            "before modifying a: \n",
            "a = {'ant': 1, 'bear': 2, 'cat': 3, 'dog': 4, 'elephant': 5}  id=  140113098951704\n",
            "b = {'ant': 1, 'bear': 2, 'cat': 3, 'dog': 4, 'elephant': 5}  id=  140113098951704\n",
            "after modifying a: \n",
            "a =  id=  140113098948968\n",
            "b =  id=  140113098951704\n"
          ],
          "name": "stdout"
        }
      ]
    },
    {
      "cell_type": "markdown",
      "metadata": {
        "id": "qRWNNok9QJZM",
        "colab_type": "text"
      },
      "source": [
        "The object initially `a` had, is not destroyed or modified, it still exists in memory and `b` still references the old object, which might not be desired in some case.\n",
        "\n",
        "Also the link between objects `a` and `b` i.e object referenced by `b` is no longer associated to `a`.The link is broken which could be bad in some case."
      ]
    },
    {
      "cell_type": "code",
      "metadata": {
        "id": "9AmyUmRpO273",
        "colab_type": "code",
        "outputId": "fde7623f-9ee8-4954-9090-11cf047402b7",
        "colab": {
          "base_uri": "https://localhost:8080/",
          "height": 118
        }
      },
      "source": [
        "a = {\"ant\": 1, \"bear\":2, \"cat\": 3, \"dog\": 4, \"elephant\": 5}\n",
        "b = a # a & b refers to same object\n",
        "\n",
        "print(\"Initially: \\na =\", a,\" id= \",id(a))\n",
        "print(\" b =\", b,\" id= \",id(b))\n",
        "\n",
        "a.clear()\n",
        "\n",
        "print(\"clearing a: \\na =\", a, \" id= \",id(a))\n",
        "print(\"b =\", b, \" id= \",id(b))\n"
      ],
      "execution_count": 36,
      "outputs": [
        {
          "output_type": "stream",
          "text": [
            "Initially: \n",
            "a = {'ant': 1, 'bear': 2, 'cat': 3, 'dog': 4, 'elephant': 5}  id=  140113099015440\n",
            " b = {'ant': 1, 'bear': 2, 'cat': 3, 'dog': 4, 'elephant': 5}  id=  140113099015440\n",
            "clearing a: \n",
            "a = {}  id=  140113099015440\n",
            "b = {}  id=  140113099015440\n"
          ],
          "name": "stdout"
        }
      ]
    },
    {
      "cell_type": "markdown",
      "metadata": {
        "id": "5Fmdx7VuDCtA",
        "colab_type": "text"
      },
      "source": [
        "---\n",
        "<br> <br>"
      ]
    },
    {
      "cell_type": "markdown",
      "metadata": {
        "id": "2Od5jd0zHUf1",
        "colab_type": "text"
      },
      "source": [
        "## Duplicating"
      ]
    },
    {
      "cell_type": "markdown",
      "metadata": {
        "id": "sZm_nyH0DFpp",
        "colab_type": "text"
      },
      "source": [
        "It may not be the case always to have same object in two different variables.\n",
        "\n",
        "Sometimes one may want to create a copy of a dictionary and do some modification independent of other. In such cases it is better create two different objects. For which one can use `copy()` which creates a deep copy of the object. <br>\n",
        "Alternatively, one can use `dict()` which is used to create new dict from sequence type object."
      ]
    },
    {
      "cell_type": "code",
      "metadata": {
        "id": "yM5GMm95Brcr",
        "colab_type": "code",
        "outputId": "e044ad33-a6f1-4aaf-a5d9-af1d3abbfe4d",
        "colab": {
          "base_uri": "https://localhost:8080/",
          "height": 67
        }
      },
      "source": [
        "a = {\"ant\": 1, \"bear\":2, \"cat\": 3, \"dog\": 4, \"elephant\": 5}\n",
        "b = a.copy() # deep copy\n",
        "b.pop(\"ant\")\n",
        "\n",
        "c = dict(a)\n",
        "c.pop(\"cat\")\n",
        "\n",
        "print(\"a =\", a, \" id=\",id(a))\n",
        "print(\"b =\", b, \" id=\",id(b))\n",
        "print(\"b =\", c, \" id=\",id(c))"
      ],
      "execution_count": 37,
      "outputs": [
        {
          "output_type": "stream",
          "text": [
            "a = {'ant': 1, 'bear': 2, 'cat': 3, 'dog': 4, 'elephant': 5}  id= 140113098950120\n",
            "b = {'bear': 2, 'cat': 3, 'dog': 4, 'elephant': 5}  id= 140113099016448\n",
            "b = {'ant': 1, 'bear': 2, 'dog': 4, 'elephant': 5}  id= 140113098820488\n"
          ],
          "name": "stdout"
        }
      ]
    },
    {
      "cell_type": "markdown",
      "metadata": {
        "id": "f5JB4S92fjp1",
        "colab_type": "text"
      },
      "source": [
        "But one would wonder what could be the difference between `copy()` and `dict()`. <br>\n",
        "\n",
        "`dict()` function takes any iteratable data objects with paired elements, iterates through elements converts to dict type object.\n",
        "\n",
        "whereas `copy()` method directly creates a copy of dict object. This makes `copy()` method faster than `list()`  "
      ]
    },
    {
      "cell_type": "code",
      "metadata": {
        "id": "z9WcYeiufjTT",
        "colab_type": "code",
        "outputId": "f79297f2-91d1-45e3-88ed-5d6b56afd58e",
        "colab": {
          "base_uri": "https://localhost:8080/",
          "height": 34
        }
      },
      "source": [
        "%%timeit -n1 -r10\n",
        "a = {\"ant\": 1, \"bear\":2, \"cat\": 3, \"dog\": 4, \"elephant\": 5}\n",
        "for i in range(1000000):\n",
        "    b = a.copy"
      ],
      "execution_count": 38,
      "outputs": [
        {
          "output_type": "stream",
          "text": [
            "1 loop, best of 10: 45.4 ms per loop\n"
          ],
          "name": "stdout"
        }
      ]
    },
    {
      "cell_type": "code",
      "metadata": {
        "id": "IzAE-nqTfiY1",
        "colab_type": "code",
        "outputId": "c7a3c30f-5d3e-4c73-c44b-f89c673a9c5f",
        "colab": {
          "base_uri": "https://localhost:8080/",
          "height": 34
        }
      },
      "source": [
        "%%timeit -n1 -r10\n",
        "a = {\"ant\": 1, \"bear\":2, \"cat\": 3, \"dog\": 4, \"elephant\": 5}\n",
        "for i in range(1000000):\n",
        "    b = dict(a)"
      ],
      "execution_count": 39,
      "outputs": [
        {
          "output_type": "stream",
          "text": [
            "1 loop, best of 10: 267 ms per loop\n"
          ],
          "name": "stdout"
        }
      ]
    },
    {
      "cell_type": "markdown",
      "metadata": {
        "id": "h-nAIRgyICFb",
        "colab_type": "text"
      },
      "source": [
        "---\n",
        "<br>"
      ]
    },
    {
      "cell_type": "markdown",
      "metadata": {
        "id": "PrpaAbfyHjCM",
        "colab_type": "text"
      },
      "source": [
        "## Other functionalities"
      ]
    },
    {
      "cell_type": "markdown",
      "metadata": {
        "id": "l72pzzvy_dRY",
        "colab_type": "text"
      },
      "source": [
        "One can find the total number of elements in a\n",
        "dict using `len()` function, which will return the number of elements (i.e) number of keys present in the dictionary\n",
        "\n"
      ]
    },
    {
      "cell_type": "code",
      "metadata": {
        "id": "CvTbrn7Y_--U",
        "colab_type": "code",
        "outputId": "ba579c97-6d3d-45d4-83b9-41a9a1f2d708",
        "colab": {
          "base_uri": "https://localhost:8080/",
          "height": 50
        }
      },
      "source": [
        "a = {\"ant\": 1, \"bear\":2, \"cat\": 3, \"dog\": 4, \"elephant\": 5}\n",
        "b = { 1: {\"A\": 11, \"B\": 22}, \n",
        "      2: {\"C\": 11, \"D\": 22}   } #dict with dict objects\n",
        "\n",
        "print(\"Num of elements in a:\", len(a))\n",
        "print(\"Num of elements in b:\", len(b))"
      ],
      "execution_count": 40,
      "outputs": [
        {
          "output_type": "stream",
          "text": [
            "Num of elements in a: 5\n",
            "Num of elements in b: 2\n"
          ],
          "name": "stdout"
        }
      ]
    },
    {
      "cell_type": "markdown",
      "metadata": {
        "colab_type": "text",
        "id": "hX8LcB-k4pZz"
      },
      "source": [
        "It can be seen that for `b` it show 2, `len()` considers only objects it contains, does not take into account elements present in the object. So `b` has two dict elements which is returned.  "
      ]
    },
    {
      "cell_type": "markdown",
      "metadata": {
        "id": "IRTyHAqXD9tG",
        "colab_type": "text"
      },
      "source": [
        "\n",
        "---\n",
        "<br>"
      ]
    },
    {
      "cell_type": "markdown",
      "metadata": {
        "id": "Pxu5fKvBI7Ee",
        "colab_type": "text"
      },
      "source": [
        "There would be cases where one will be in need to find sum of all keys in a dict.<br>\n",
        "*It may not seem meaningful but there may come a necessacity*\n",
        "\n",
        "For which one can use `sum()` function"
      ]
    },
    {
      "cell_type": "code",
      "metadata": {
        "id": "HQcz1GzQJIeP",
        "colab_type": "code",
        "outputId": "cb72f177-e304-443f-fe52-c8e620496be3",
        "colab": {
          "base_uri": "https://localhost:8080/",
          "height": 34
        }
      },
      "source": [
        "b = { 1: \"mango\", 2: \"apple\"   } \n",
        "s = sum(b)\n",
        "print(\"sum is \", s)"
      ],
      "execution_count": 41,
      "outputs": [
        {
          "output_type": "stream",
          "text": [
            "sum is  3\n"
          ],
          "name": "stdout"
        }
      ]
    },
    {
      "cell_type": "markdown",
      "metadata": {
        "id": "w_wKFEP7JpTm",
        "colab_type": "text"
      },
      "source": [
        "But the keys has to have arithmetically summable object like float, int; else one will get error."
      ]
    },
    {
      "cell_type": "code",
      "metadata": {
        "id": "7d8Mqt7dKBd1",
        "colab_type": "code",
        "outputId": "a6fe4df7-b39d-4712-c46e-884bdd3d21ea",
        "colab": {
          "base_uri": "https://localhost:8080/",
          "height": 50
        }
      },
      "source": [
        "a = {\"ant\": 1, \"bear\":2, \"cat\": 3, \"dog\": 4, \"elephant\": 5}\n",
        "try:\n",
        "    sum(a) # this will throw error\n",
        "except Exception as error:\n",
        "    print(\"Error in a:\", error)\n",
        "\n",
        "\n",
        "b = { (1,2,3): \"First\", (4,5,6):  \"Second\"  } #list object\n",
        "try:\n",
        "    sum(b) # this will throw error\n",
        "except Exception as error:\n",
        "    print(\"Error in b:\", error)"
      ],
      "execution_count": 42,
      "outputs": [
        {
          "output_type": "stream",
          "text": [
            "Error in a: unsupported operand type(s) for +: 'int' and 'str'\n",
            "Error in b: unsupported operand type(s) for +: 'int' and 'tuple'\n"
          ],
          "name": "stdout"
        }
      ]
    },
    {
      "cell_type": "markdown",
      "metadata": {
        "id": "O895Q03jLCsn",
        "colab_type": "text"
      },
      "source": [
        "\n",
        "---\n",
        "<br>"
      ]
    },
    {
      "cell_type": "markdown",
      "metadata": {
        "id": "LgNvOlC6E62z",
        "colab_type": "text"
      },
      "source": [
        "##Operators \n",
        "No arithmetic operators can be used with dictionary.\n",
        "\n"
      ]
    },
    {
      "cell_type": "markdown",
      "metadata": {
        "id": "YeX8OZUW_aR5",
        "colab_type": "text"
      },
      "source": [
        "---\n",
        "<br>"
      ]
    },
    {
      "cell_type": "markdown",
      "metadata": {
        "id": "AFh7I_NX5hOn",
        "colab_type": "text"
      },
      "source": [
        ">**Please refer to the [Padhai-One](https://github.com/OneFourthLabs/PadhAI-One) Github repo for updates & other notebooks **"
      ]
    }
  ]
}