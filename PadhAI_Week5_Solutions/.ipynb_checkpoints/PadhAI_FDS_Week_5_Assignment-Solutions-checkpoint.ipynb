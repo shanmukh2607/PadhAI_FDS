{
 "cells": [
  {
   "cell_type": "markdown",
   "metadata": {
    "colab_type": "text",
    "id": "5pSmvozkb8R5"
   },
   "source": [
    "#Exercise 1 <br>\n",
    "**Attempt any 3 questions**"
   ]
  },
  {
   "cell_type": "markdown",
   "metadata": {
    "colab_type": "text",
    "id": "7O_5OQI7b6ST"
   },
   "source": [
    "1.   Create a list of 10 ordered pairs **$(x,y),\\ \\ x\\ \\epsilon\\ [-6,6]$** such that they satisfy the equation **$x^2+y^2=r^2$** where **$r=6$**.\n",
    "2.   We have a list of tuple representing the name and height (in cms) of 5 students respectively. Convert the list into a dictionary so that we can access the student's height from their names. \n",
    "> ```data = [('Sumit', 183), ('Rahul', 175), ('Kritika', 170), ('Harshit', 177), ('Deepak', 162)]``` \n",
    "\n",
    "3.   Write a function which takes list of random integers as an input and returns the list all the unique values present in that list. For ex:\n",
    ">``` \n",
    "Input: [1, 2, 4, 4, 3, 2, 1, 1, 2, 4, 5, 3]\n",
    "Output : [1, 2, 3, 4, 5]\n",
    "```\n",
    "4.   Write a program to generate a dictionary that contains the number between $1$ and $n$ in the form of $(key : value) = (x : x^2)$ where $n=100$. For ex:\n",
    ">```\n",
    "If n = 7 then output will be = {0:0, 1:1, 2:4}\n",
    "```\n",
    "5.  Write a function which takes a dictionary as an input as return the list of all unique values of dictionary. For ex:\n",
    ">```\n",
    "Input : {'a':1, 'b':2, 'c':1, 'd':1, 'e':2, 'f':3, 'g':4, 'h':3, 'i':4}\n",
    "output : [1, 2, 3, 4]\n",
    "```\n",
    "6.  Write a Python program to remove newline characters from a file.\n",
    "7.  Write a Python program that takes a text file as input and returns the number of words of a given text file."
   ]
  },
  {
   "cell_type": "markdown",
   "metadata": {
    "colab_type": "text",
    "id": "O4egsCpycPFy"
   },
   "source": [
    "#Exercise 2\n",
    "**Attempt any 3 questions**"
   ]
  },
  {
   "cell_type": "markdown",
   "metadata": {
    "colab_type": "text",
    "id": "X09PXL74cSzI"
   },
   "source": [
    "1.  Write a python function which accpets a tuple representing the fields (func, $x_a$) where 'func' is **any** function $f(x)$ and $x_a$ is a point on which you have to find the slope i,e; $\\frac{df(x)}{dx}$ and return a tuple of (slope, $x_a$, $f(x_a)$, $\\Delta x$)  where $\\Delta x \\to 0$ but $\\Delta x \\neq 0$.\n",
    ">   Remember : $\\lim_{\\Delta x \\to 0} \\frac{f(x_a + \\Delta x) - f(x_a)}{\\Delta x}$\n",
    "2.  Write a python function which accepts two arguments ($n$, $a$) and returns a tuple of $n$ elements where $n^{th}$ element should be : $n^{th}_{element} = 1+\\frac{a}{1!}+\\frac{a^2}{2!}+\\frac{a^3}{3!}+...+\\frac{a^n}{n!}$ and $a$ should be any positive number. (Observe the last 10 values of returned tuple if $n > 20$)\n",
    "\n",
    "3.  Write a python function which generates the list of $n$ dictionaries representing $n$ students. Each dictionary should have two keys **Name** and **Marks**, the value of **Marks** key should be a list of 10 elements representing marks in 10 subjects as $[a_1,a_2,a_3,a_4,...,a_{10}]$. Create another function which accepts such dictionary and performs operation on marks and returns a list as $[\\alpha_1,\\alpha_2,\\alpha_3,\\alpha_4,...,\\alpha_{10}]$ where $\\alpha_i = \\beta \\alpha_{i-1} + (1-\\beta)a_i$ and $\\beta = 0.99, \\alpha_0 = 1, i=1,2,3,...,10$\n",
    "4.  Create a dictionary, with **keys** should be the number from 1 to 100 (1 and 100 both inclusive) and the value should be the list of string representing whether that key is **'Prime'**, **'Fibonacci'** (if that number exist in Fibonacci sequence), **'Square'** or all of three. Also write a function which accepts a dictionary (which you will create) and string **Prime**, **Fibonacci** or **Square** and by searching through dictionary it should return a tuple of that numbers. Fo ex:\n",
    ">```\n",
    "sample_dict = {1: ['Fibonacci', 'Square'], 6: [], ..., 13: ['Prime', 'Fibonacci'], ..., 34: ['Fibonacci'], ..., 100: ['Square']}\n",
    " For second part of the question:\n",
    " seq = func_name('Fibonacci')\n",
    " print(seq) --> (1, 2, 3, 5, 8, 13, 21, ..., 89)\n",
    "```\n",
    "\n",
    "5.  Copy the below paragraph and write an ecoded text file then read the same file and reconstruct the original paragraph. You have to use $f(a)$ function for encoding and decoding the text. $f(a) = 2a + 3$,where $a$ is an **ASCII** value of charater.\n",
    ">```\n",
    "Data science is an inter-disciplinary field that uses scientific methods, processes, algorithms and systems to extract knowledge and insights from structured and unstructured data. Data science is related to data mining and big data. Data science is a \"concept to unify statistics, data analysis, machine learning and their related methods\" in order to \"understand and analyze actual phenomena\" with data. It employs techniques and theories drawn from many fields within the context of mathematics, statistics, computer science, and information science. Turing award winner Jim Gray imagined data science as a \"fourth paradigm\" of science (empirical, theoretical, computational and now data-driven) and asserted that \"everything about science is changing because of the impact of information technology\" and the data deluge. In 2015, the American Statistical Association identified database management, statistics and machine learning, and distributed and parallel systems as the three emerging foundational professional communities.\n",
    "```\n",
    "6.  Using below text, write a file named File_1.txt and you have to insert new line character after every 10 words.\n",
    ">```\n",
    "Data science is an inter-disciplinary field that uses scientific methods processes algorithms and systems to extract knowledge and insights from structured and unstructured data Data science is related to data mining and big data. Data science is a concept to unify statistics data analysis machine learning and their related methods in order to understand and analyze actual phenomena with data It employs techniques and theories drawn from many fields within the context of mathematics statistics computer science and information science Turing award winner Jim Gray imagined data science as a fourth paradigm of science empirical theoretical computational and now data driven and asserted that everything about science is changing because of the impact of information technology and the data deluge In 2015 the American Statistical Association identified database management statistics and machine learning and distributed and parallel systems as the three emerging foundational professional communities\n",
    "```"
   ]
  },
  {
   "cell_type": "markdown",
   "metadata": {},
   "source": [
    "# Exercise 1\n",
    "Solutions for the first exercise of this notebook"
   ]
  },
  {
   "cell_type": "code",
   "execution_count": 4,
   "metadata": {
    "colab": {},
    "colab_type": "code",
    "id": "ZNMSzn1dbyqV"
   },
   "outputs": [
    {
     "name": "stdout",
     "output_type": "stream",
     "text": [
      "[(0, 6.0), (0, -6.0), (1, 5.916079783099616), (1, -5.916079783099616), (2, 5.656854249492381), (2, -5.656854249492381), (3, 5.196152422706632), (3, -5.196152422706632), (4, 4.47213595499958), (4, -4.47213595499958)]\n",
      "10\n"
     ]
    }
   ],
   "source": [
    "#Exercise 1 Question 1\n",
    "import math\n",
    "points=[]\n",
    "for x in range(0,5):\n",
    "    y1 = math.sqrt(36-x**2)\n",
    "    points.append((x,y1))\n",
    "    points.append((x,-y1))\n",
    "print(points)\n",
    "print(len(points))"
   ]
  },
  {
   "cell_type": "code",
   "execution_count": 5,
   "metadata": {},
   "outputs": [
    {
     "name": "stdout",
     "output_type": "stream",
     "text": [
      "{'Sumit': 183, 'Rahul': 175, 'Kritika': 170, 'Harshit': 177, 'Deepak': 162}\n",
      "<class 'dict'>\n"
     ]
    }
   ],
   "source": [
    "#Exercise 1 Question 2\n",
    "data = [('Sumit', 183), ('Rahul', 175), ('Kritika', 170), ('Harshit', 177), ('Deepak', 162)]\n",
    "name_to_height={}\n",
    "for item in data:\n",
    "    name_to_height[item[0]]= item[1]\n",
    "print(name_to_height)\n",
    "print(type(name_to_height))"
   ]
  },
  {
   "cell_type": "code",
   "execution_count": 7,
   "metadata": {},
   "outputs": [
    {
     "name": "stdout",
     "output_type": "stream",
     "text": [
      "25 [3, 2, 18, 11, 11, 17, 12, 3, 1, 1, 14, 14, 13, 15, 2, 13, 16, 17, 2, 9, 6, 4, 13, 13, 10]\n",
      "15 {1, 2, 3, 4, 6, 9, 10, 11, 12, 13, 14, 15, 16, 17, 18}\n"
     ]
    }
   ],
   "source": [
    "#Exercise 1 Question 3\n",
    "import random\n",
    "num_list =[random.randrange(1, 20, 1) for i in range(25)]\n",
    "print(len(num_list),num_list)\n",
    "num_set = set(num_list)\n",
    "print(len(num_set),num_set)"
   ]
  },
  {
   "cell_type": "code",
   "execution_count": 9,
   "metadata": {},
   "outputs": [
    {
     "name": "stdout",
     "output_type": "stream",
     "text": [
      "{1: 1, 2: 4, 3: 9, 4: 16, 5: 25, 6: 36, 7: 49, 8: 64, 9: 81, 10: 100}\n"
     ]
    }
   ],
   "source": [
    "#Exercise 1 Question 4\n",
    "squares={}\n",
    "for i in range(1,11):\n",
    "    squares[i]=i**2\n",
    "print(squares)"
   ]
  },
  {
   "cell_type": "code",
   "execution_count": 10,
   "metadata": {},
   "outputs": [
    {
     "name": "stdout",
     "output_type": "stream",
     "text": [
      "[1, 2, 3, 4]\n"
     ]
    }
   ],
   "source": [
    "#Exercise 1 Question 5\n",
    "def dictionary_to_list(dictionary):\n",
    "    final=[]\n",
    "    for key in dictionary:\n",
    "        if dictionary[key] in final:\n",
    "            pass\n",
    "        else:\n",
    "            final.append(dictionary[key])\n",
    "    return final\n",
    "inputdict={'a':1, 'b':2, 'c':1, 'd':1, 'e':2, 'f':3, 'g':4, 'h':3, 'i':4}\n",
    "print(dictionary_to_list(inputdict))\n",
    "        "
   ]
  },
  {
   "cell_type": "code",
   "execution_count": 20,
   "metadata": {},
   "outputs": [],
   "source": [
    "#Exercise 1 Question 6\n",
    "file_in = open(\"input.txt\",\"r\")\n",
    "input_lines = file_in.readlines()\n",
    "file_in.close()\n",
    "#print(input_lines)\n",
    "for i in range(len(input_lines)):\n",
    "    input_lines[i]=input_lines[i].strip('\\n')\n",
    "edited=''\n",
    "for item in input_lines:\n",
    "    edited+=item\n",
    "#print(edited)\n",
    "with open(\"nonewlines.txt\",\"w\") as file_out:\n",
    "    file_out.write(edited)\n",
    "    "
   ]
  },
  {
   "cell_type": "code",
   "execution_count": 1,
   "metadata": {},
   "outputs": [
    {
     "name": "stdout",
     "output_type": "stream",
     "text": [
      "25\n"
     ]
    }
   ],
   "source": [
    "#Exercise 1 Question 7\n",
    "\n",
    "with open(\"input.txt\",\"r\") as finp :\n",
    "    inp = finp.read()\n",
    "    inp_n = inp.split()\n",
    "    print(len((inp_n)))    # repeating words are also counted. Use set(inp_n) to get the set of words used"
   ]
  },
  {
   "cell_type": "markdown",
   "metadata": {},
   "source": [
    "# Exercise 2\n",
    "Solutions for the second part of this notebook exercises"
   ]
  },
  {
   "cell_type": "code",
   "execution_count": 37,
   "metadata": {},
   "outputs": [
    {
     "data": {
      "text/plain": [
       "(2.9999999999930083, 4, 16, 0.0001)"
      ]
     },
     "execution_count": 37,
     "metadata": {},
     "output_type": "execute_result"
    }
   ],
   "source": [
    "#Exercise 2 Question 1\n",
    "\n",
    "def lin(a):\n",
    "    return 3*a + 4\n",
    "\n",
    "def slope(inp):\n",
    "    \"\"\" \n",
    "    func argument takes a mathematical function and pos is the value of x for which slope is to be calculated\n",
    "    inp is tuple i.e, inp=(func,x)\n",
    "    \"\"\"\n",
    "    func=inp[0]\n",
    "    x = inp[1]\n",
    "    eps=1e-4\n",
    "    output = (lin(x+eps)-func)/eps\n",
    "    return output,x,func,eps\n",
    "inp=(lin(x),4)\n",
    "slope(inp)\n",
    "\n",
    "\n",
    "    "
   ]
  },
  {
   "cell_type": "code",
   "execution_count": 40,
   "metadata": {},
   "outputs": [
    {
     "name": "stdout",
     "output_type": "stream",
     "text": [
      "(3.0, 5.0, 6.333333333333333, 7.0, 7.266666666666667, 7.355555555555555, 7.3809523809523805, 7.387301587301587, 7.3887125220458545, 7.388994708994708, 7.389046015712681, 7.3890545668323435, 7.389055882389215, 7.3890560703259105, 7.389056095384136, 7.389056098516415, 7.389056098884918, 7.389056098925863, 7.3890560989301735, 7.389056098930604, 7.389056098930645, 7.389056098930649, 7.389056098930649, 7.389056098930649, 7.389056098930649)\n"
     ]
    }
   ],
   "source": [
    "#Exercise 2 Question 2\n",
    "def sequence(n,a):\n",
    "    terms_list=[]\n",
    "    temp=1\n",
    "    for i in range(1,n+1):\n",
    "        temp+= a**i/math.factorial(i)\n",
    "        terms_list.append(temp)\n",
    "    terms_tuple = tuple(terms_list)\n",
    "    return terms_tuple\n",
    "print(sequence(25,2))\n",
    "    "
   ]
  },
  {
   "cell_type": "code",
   "execution_count": 22,
   "metadata": {},
   "outputs": [
    {
     "name": "stdout",
     "output_type": "stream",
     "text": [
      "[{'Name': 'student0', 'Marks': [65, 59, 16, 70, 5, 55, 11, 23, 74, 48]}, {'Name': 'student1', 'Marks': [46, 0, 57, 13, 87, 37, 80, 53, 14, 8]}, {'Name': 'student2', 'Marks': [79, 87, 18, 45, 81, 31, 57, 6, 80, 30]}]\n"
     ]
    },
    {
     "data": {
      "text/plain": [
       "[1.6400000000000006,\n",
       " 2.2136000000000013,\n",
       " 2.3514640000000013,\n",
       " 3.027949360000002,\n",
       " 3.0476698664000015,\n",
       " 3.5671931677360016,\n",
       " 3.641521236058642,\n",
       " 3.8351060236980556,\n",
       " 4.5367549634610755,\n",
       " 4.9713874138264655]"
      ]
     },
     "execution_count": 22,
     "metadata": {},
     "output_type": "execute_result"
    }
   ],
   "source": [
    "#Exercise 2 Question 3\n",
    "#Write a python function which generates the list of 𝑛 dictionaries representing 𝑛 students. \n",
    "#Each dictionary should have two keys Name and Marks,\n",
    "#the value of Marks key should be a list of 10 elements representing marks in 10 subjects as [𝑎1,𝑎2,𝑎3,𝑎4,...,𝑎10]. \n",
    "#Create another function which accepts such dictionary and performs operation on marks and returns a list as [𝛼1,𝛼2,𝛼3,𝛼4,...,𝛼10] \n",
    "#where 𝛼𝑖=𝛽𝛼𝑖−1+(1−𝛽)𝑎𝑖 and 𝛽=0.99,𝛼0=1,𝑖=1,2,3,...,10\n",
    "import random\n",
    "#part A\n",
    "def student_gen(num):\n",
    "    list_dict = [\"record\"+ str(i) for i in range(0,num)]     #redundant step\n",
    "    #print(list_dict)\n",
    "    for i in range(num):\n",
    "        list_dict[i]={}\n",
    "        list_dict[i][\"Name\"] = \"student\"+str(i)\n",
    "        list_dict[i][\"Marks\"] = [random.randrange(0,101) for i in range(10)]\n",
    "        #print(list_dict[i])\n",
    "    return list_dict\n",
    "\n",
    "school = student_gen(3)\n",
    "print(school)\n",
    "\n",
    "beta = 0.99\n",
    "alpha0 = 1\n",
    "def operator(student):\n",
    "    marks = student[\"Marks\"]\n",
    "    cum_grade =[]\n",
    "    alpha_ip = alpha0\n",
    "    for i in range(len(marks)):\n",
    "        alpha_i = beta*alpha_ip + (1-beta)*marks[i]\n",
    "        cum_grade.append(alpha_i)\n",
    "        alpha_ip = alpha_i\n",
    "    return cum_grade\n",
    "\n",
    "operator(school[0])\n",
    "        "
   ]
  },
  {
   "cell_type": "code",
   "execution_count": 42,
   "metadata": {},
   "outputs": [
    {
     "name": "stdout",
     "output_type": "stream",
     "text": [
      "{1: ['Prime', 'Fibonacci'], 2: ['Prime', 'Fibonacci'], 3: ['Prime', 'Fibonacci'], 4: ['Square'], 5: ['Prime', 'Fibonacci'], 6: [], 7: ['Prime'], 8: ['Fibonacci'], 9: ['Square'], 10: [], 11: ['Prime'], 12: [], 13: ['Prime', 'Fibonacci'], 14: [], 15: [], 16: ['Square'], 17: ['Prime'], 18: [], 19: ['Prime'], 20: [], 21: ['Fibonacci'], 22: [], 23: ['Prime'], 24: [], 25: ['Square'], 26: [], 27: [], 28: [], 29: ['Prime'], 30: [], 31: ['Prime'], 32: [], 33: [], 34: ['Fibonacci'], 35: [], 36: ['Square'], 37: ['Prime'], 38: [], 39: [], 40: [], 41: ['Prime'], 42: [], 43: ['Prime'], 44: [], 45: [], 46: [], 47: ['Prime'], 48: [], 49: ['Square'], 50: [], 51: [], 52: [], 53: ['Prime'], 54: [], 55: ['Fibonacci'], 56: [], 57: [], 58: [], 59: ['Prime'], 60: [], 61: ['Prime'], 62: [], 63: [], 64: ['Square'], 65: [], 66: [], 67: ['Prime'], 68: [], 69: [], 70: [], 71: ['Prime'], 72: [], 73: ['Prime'], 74: [], 75: [], 76: [], 77: [], 78: [], 79: ['Prime'], 80: [], 81: ['Square'], 82: [], 83: ['Prime'], 84: [], 85: [], 86: [], 87: [], 88: [], 89: ['Prime', 'Fibonacci'], 90: [], 91: [], 92: [], 93: [], 94: [], 95: [], 96: [], 97: ['Prime'], 98: [], 99: [], 100: ['Square']}\n"
     ]
    }
   ],
   "source": [
    "#Exercise 2 Question 4\n",
    "import math\n",
    "\n",
    "def check_square(num):\n",
    "    for i in range(1,num//2+1):\n",
    "        if i**2 == num:\n",
    "            return True\n",
    "        else:\n",
    "            pass\n",
    "def check_prime(num):\n",
    "    for i in range(2,num//2+1):\n",
    "        if num % i ==0:\n",
    "            return False\n",
    "    else:\n",
    "        return True\n",
    "def check_fibonacci(num):\n",
    "    a0 =1\n",
    "    a1 =1\n",
    "    a2=0\n",
    "    while a1<=num:\n",
    "        if a1 == num:\n",
    "            #print(\"Phew!\")\n",
    "            return True\n",
    "        elif a1!= num:\n",
    "            a2 = a1 + a0\n",
    "            #print(a2,a1,a0)\n",
    "            a0 =a1\n",
    "            a1 = a2\n",
    "        \n",
    "num_dictionary = {}\n",
    "for i in range(1,101):\n",
    "    value=[]\n",
    "    if check_prime(i):\n",
    "        value.append(\"Prime\")\n",
    "    if check_fibonacci(i):\n",
    "        value.append(\"Fibonacci\")\n",
    "    if check_square(i):\n",
    "        value.append(\"Square\")\n",
    "    num_dictionary[i]=value\n",
    "\n",
    "print(num_dictionary)\n"
   ]
  },
  {
   "cell_type": "code",
   "execution_count": 53,
   "metadata": {},
   "outputs": [],
   "source": [
    "#Exercise 2 Question 5\n",
    "#Part 1\n",
    "text = 'Data science is an inter-disciplinary field that uses scientific methods, processes, algorithms and systems to extract knowledge and insights from structured and unstructured data. Data science is related to data mining and big data. Data science is a \"concept to unify statistics, data analysis, machine learning and their related methods\" in order to \"understand and analyze actual phenomena\" with data. It employs techniques and theories drawn from many fields within the context of mathematics, statistics, computer science, and information science. Turing award winner Jim Gray imagined data science as a \"fourth paradigm\" of science (empirical, theoretical, computational and now data-driven) and asserted that \"everything about science is changing because of the impact of information technology\" and the data deluge. In 2015, the American Statistical Association identified database management, statistics and machine learning, and distributed and parallel systems as the three emerging foundational professional communities.'\n",
    "with open(\"encoded.txt\",\"w\") as file_1:\n",
    "    for i in range(len(text)):\n",
    "        temp= chr(2*ord(text[i])+3)\n",
    "        file_1.write(temp)"
   ]
  },
  {
   "cell_type": "code",
   "execution_count": 59,
   "metadata": {},
   "outputs": [
    {
     "name": "stdout",
     "output_type": "stream",
     "text": [
      "Data science is an inter-disciplinary field that uses scientific methods, processes, algorithms and systems to extract knowledge and insights from structured and unstructured data. Data science is related to data mining and big data. Data science is a \"concept to unify statistics, data analysis, machine learning and their related methods\" in order to \"understand and analyze actual phenomena\" with data. It employs techniques and theories drawn from many fields within the context of mathematics, statistics, computer science, and information science. Turing award winner Jim Gray imagined data science as a \"fourth paradigm\" of science (empirical, theoretical, computational and now data-driven) and asserted that \"everything about science is changing because of the impact of information technology\" and the data deluge. In 2015, the American Statistical Association identified database management, statistics and machine learning, and distributed and parallel systems as the three emerging foundational professional communities.\n"
     ]
    }
   ],
   "source": [
    "#Part 2\n",
    "with open(\"encoded.txt\",\"r\") as file_2:\n",
    "    decoded_txt=\"\"\n",
    "    while True:\n",
    "        c = file_2.read(1)\n",
    "        if not c:\n",
    "            #print(\"End of file\") \n",
    "            break\n",
    "        out = chr((ord(c)-3)//2)\n",
    "        decoded_txt+= out\n",
    "    print(decoded_txt)"
   ]
  },
  {
   "cell_type": "code",
   "execution_count": 43,
   "metadata": {},
   "outputs": [],
   "source": [
    "# I made an encoded_for_friends.txt to encode the below text line. You can share it with your friends and \n",
    "# ask them to decode by checking a random algo or you could hint them xD !\n",
    "text=\"Hey friend! This lockdown sucks.It's time that we discover a vaccine\"\n",
    "with open(\"encoded_for_friends.txt\",\"w\") as file_1:\n",
    "    for i in range(len(text)):\n",
    "        temp= chr(2*ord(text[i])+1)\n",
    "        file_1.write(temp)"
   ]
  },
  {
   "cell_type": "code",
   "execution_count": 3,
   "metadata": {},
   "outputs": [
    {
     "name": "stdout",
     "output_type": "stream",
     "text": [
      "['Data', 'science', 'is', 'an', 'inter-disciplinary', 'field', 'that', 'uses', 'scientific', 'methods', 'processes', 'algorithms', 'and', 'systems', 'to', 'extract', 'knowledge', 'and', 'insights', 'from', 'structured', 'and', 'unstructured', 'data', 'Data', 'science', 'is', 'related', 'to', 'data', 'mining', 'and', 'big', 'data.', 'Data', 'science', 'is', 'a', 'concept', 'to', 'unify', 'statistics', 'data', 'analysis', 'machine', 'learning', 'and', 'their', 'related', 'methods', 'in', 'order', 'to', 'understand', 'and', 'analyze', 'actual', 'phenomena', 'with', 'data', 'It', 'employs', 'techniques', 'and', 'theories', 'drawn', 'from', 'many', 'fields', 'within', 'the', 'context', 'of', 'mathematics', 'statistics', 'computer', 'science', 'and', 'information', 'science', 'Turing', 'award', 'winner', 'Jim', 'Gray', 'imagined', 'data', 'science', 'as', 'a', 'fourth', 'paradigm', 'of', 'science', 'empirical', 'theoretical', 'computational', 'and', 'now', 'data', 'driven', 'and', 'asserted', 'that', 'everything', 'about', 'science', 'is', 'changing', 'because', 'of', 'the', 'impact', 'of', 'information', 'technology', 'and', 'the', 'data', 'deluge', 'In', '2015', 'the', 'American', 'Statistical', 'Association', 'identified', 'database', 'management', 'statistics', 'and', 'machine', 'learning', 'and', 'distributed', 'and', 'parallel', 'systems', 'as', 'the', 'three', 'emerging', 'foundational', 'professional', 'communities']\n"
     ]
    }
   ],
   "source": [
    "#Exercise 2 Question6\n",
    "raw = \"Data science is an inter-disciplinary field that uses scientific methods processes algorithms and systems to extract knowledge and insights from structured and unstructured data Data science is related to data mining and big data. Data science is a concept to unify statistics data analysis machine learning and their related methods in order to understand and analyze actual phenomena with data It employs techniques and theories drawn from many fields within the context of mathematics statistics computer science and information science Turing award winner Jim Gray imagined data science as a fourth paradigm of science empirical theoretical computational and now data driven and asserted that everything about science is changing because of the impact of information technology and the data deluge In 2015 the American Statistical Association identified database management statistics and machine learning and distributed and parallel systems as the three emerging foundational professional communities\"\n",
    "words_list = raw.split()\n",
    "print(words_list)\n",
    "    "
   ]
  },
  {
   "cell_type": "code",
   "execution_count": 4,
   "metadata": {},
   "outputs": [],
   "source": [
    "nice = \"\"\n",
    "for i in range(len(words_list)):\n",
    "    if (i+1)%10 != 0 :\n",
    "        nice+= words_list[i] + \" \"\n",
    "    else:\n",
    "        nice+= words_list[i] + '\\n'"
   ]
  },
  {
   "cell_type": "code",
   "execution_count": 5,
   "metadata": {},
   "outputs": [
    {
     "name": "stdout",
     "output_type": "stream",
     "text": [
      "Data science is an inter-disciplinary field that uses scientific methods\n",
      "processes algorithms and systems to extract knowledge and insights from\n",
      "structured and unstructured data Data science is related to data\n",
      "mining and big data. Data science is a concept to\n",
      "unify statistics data analysis machine learning and their related methods\n",
      "in order to understand and analyze actual phenomena with data\n",
      "It employs techniques and theories drawn from many fields within\n",
      "the context of mathematics statistics computer science and information science\n",
      "Turing award winner Jim Gray imagined data science as a\n",
      "fourth paradigm of science empirical theoretical computational and now data\n",
      "driven and asserted that everything about science is changing because\n",
      "of the impact of information technology and the data deluge\n",
      "In 2015 the American Statistical Association identified database management statistics\n",
      "and machine learning and distributed and parallel systems as the\n",
      "three emerging foundational professional communities \n"
     ]
    }
   ],
   "source": [
    "print(nice)"
   ]
  },
  {
   "cell_type": "code",
   "execution_count": 6,
   "metadata": {},
   "outputs": [],
   "source": [
    "with open(\"File_1.txt\",\"w\") as f:\n",
    "    f.write(nice)"
   ]
  },
  {
   "cell_type": "markdown",
   "metadata": {},
   "source": [
    "## Using numpy to solve Week 7"
   ]
  },
  {
   "cell_type": "code",
   "execution_count": 19,
   "metadata": {},
   "outputs": [],
   "source": [
    "import numpy as np\n",
    "#data = np.array([6, 17, 19, 21, 23, 24, 26, 27, 29, 31, 33, 58])\n",
    "data = np.array([11,13,14,17,19,20,27,29,29,30,31,34])"
   ]
  },
  {
   "cell_type": "code",
   "execution_count": 20,
   "metadata": {},
   "outputs": [
    {
     "name": "stdout",
     "output_type": "stream",
     "text": [
      "22.833333333333332 58.97222222222222\n"
     ]
    }
   ],
   "source": [
    "import math\n",
    "mean = np.mean(data)\n",
    "var  = np.var(data)\n",
    "std =  math.sqrt(var)\n",
    "print(mean,var)"
   ]
  },
  {
   "cell_type": "code",
   "execution_count": 16,
   "metadata": {},
   "outputs": [
    {
     "name": "stdout",
     "output_type": "stream",
     "text": [
      "0.5782683381760931\n"
     ]
    }
   ],
   "source": [
    "z = (33- mean)/std\n",
    "print(z)"
   ]
  },
  {
   "cell_type": "code",
   "execution_count": 18,
   "metadata": {},
   "outputs": [
    {
     "name": "stdout",
     "output_type": "stream",
     "text": [
      "[11 13 14 17 19 20 27 29 29 30 31 34]\n",
      "12\n"
     ]
    }
   ],
   "source": [
    "d = np.array([ 11,31,13,29,14,17,34,19,20,30,27,29 ])\n",
    "print(np.sort(d))\n",
    "print(len(d))"
   ]
  },
  {
   "cell_type": "code",
   "execution_count": 22,
   "metadata": {},
   "outputs": [
    {
     "name": "stdout",
     "output_type": "stream",
     "text": [
      "26.166666666666668\n"
     ]
    }
   ],
   "source": [
    "ha = np.array([6, 17, 19, 21, 23, 24, 26, 27, 29, 31, 33, 58])\n",
    "me=np.mean(ha)\n",
    "print(me)"
   ]
  },
  {
   "cell_type": "code",
   "execution_count": 27,
   "metadata": {},
   "outputs": [
    {
     "name": "stdout",
     "output_type": "stream",
     "text": [
      "152.33333333333337 12.342339054382414\n"
     ]
    }
   ],
   "source": [
    "total=0\n",
    "for i in ha:\n",
    "    total+= (i - me)**2\n",
    "var = total/(len(ha)-1)\n",
    "print(var, math.sqrt(var))"
   ]
  },
  {
   "cell_type": "code",
   "execution_count": 29,
   "metadata": {},
   "outputs": [
    {
     "name": "stdout",
     "output_type": "stream",
     "text": [
      "0.5536497825270008\n"
     ]
    }
   ],
   "source": [
    "lol = np.array([6, 17, 19, 21, 23, 24, 26, 27, 29, 31, 33, 58])\n",
    "m = np.mean(lol)\n",
    "total=0\n",
    "for i in ha:\n",
    "    total+= (i - me)**2\n",
    "var = total/(len(ha)-1)\n",
    "stdi = math.sqrt(var)\n",
    "print((33-m)/stdi)\n"
   ]
  }
 ],
 "metadata": {
  "colab": {
   "collapsed_sections": [
    "5pSmvozkb8R5",
    "O4egsCpycPFy"
   ],
   "name": "PadhAI_FDS_Week_5_Assignment.ipynb",
   "provenance": []
  },
  "kernelspec": {
   "display_name": "Python 3",
   "language": "python",
   "name": "python3"
  },
  "language_info": {
   "codemirror_mode": {
    "name": "ipython",
    "version": 3
   },
   "file_extension": ".py",
   "mimetype": "text/x-python",
   "name": "python",
   "nbconvert_exporter": "python",
   "pygments_lexer": "ipython3",
   "version": "3.8.5"
  }
 },
 "nbformat": 4,
 "nbformat_minor": 1
}
