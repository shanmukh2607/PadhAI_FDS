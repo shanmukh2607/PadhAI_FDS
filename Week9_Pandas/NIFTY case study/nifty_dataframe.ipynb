{
 "cells": [
  {
   "cell_type": "markdown",
   "metadata": {},
   "source": [
    "# Dataset of Nifty for 2018 and 2019 daily numbers - Open,Close, Low, High"
   ]
  },
  {
   "cell_type": "code",
   "execution_count": 1,
   "metadata": {
    "collapsed": true
   },
   "outputs": [],
   "source": [
    "import numpy as np\n",
    "import pandas as pd"
   ]
  },
  {
   "cell_type": "code",
   "execution_count": 2,
   "metadata": {},
   "outputs": [],
   "source": [
    "nifty50_2018 = pd.read_csv('NIFTY50_2018.csv',index_col=0)"
   ]
  },
  {
   "cell_type": "code",
   "execution_count": 3,
   "metadata": {},
   "outputs": [
    {
     "data": {
      "text/html": [
       "<div>\n",
       "<style scoped>\n",
       "    .dataframe tbody tr th:only-of-type {\n",
       "        vertical-align: middle;\n",
       "    }\n",
       "\n",
       "    .dataframe tbody tr th {\n",
       "        vertical-align: top;\n",
       "    }\n",
       "\n",
       "    .dataframe thead th {\n",
       "        text-align: right;\n",
       "    }\n",
       "</style>\n",
       "<table border=\"1\" class=\"dataframe\">\n",
       "  <thead>\n",
       "    <tr style=\"text-align: right;\">\n",
       "      <th></th>\n",
       "      <th>Open</th>\n",
       "      <th>High</th>\n",
       "      <th>Low</th>\n",
       "      <th>Close</th>\n",
       "    </tr>\n",
       "    <tr>\n",
       "      <th>Date</th>\n",
       "      <th></th>\n",
       "      <th></th>\n",
       "      <th></th>\n",
       "      <th></th>\n",
       "    </tr>\n",
       "  </thead>\n",
       "  <tbody>\n",
       "    <tr>\n",
       "      <th>31 Dec 2018</th>\n",
       "      <td>10913.20</td>\n",
       "      <td>10923.55</td>\n",
       "      <td>10853.20</td>\n",
       "      <td>10862.55</td>\n",
       "    </tr>\n",
       "    <tr>\n",
       "      <th>28 Dec 2018</th>\n",
       "      <td>10820.95</td>\n",
       "      <td>10893.60</td>\n",
       "      <td>10817.15</td>\n",
       "      <td>10859.90</td>\n",
       "    </tr>\n",
       "    <tr>\n",
       "      <th>27 Dec 2018</th>\n",
       "      <td>10817.90</td>\n",
       "      <td>10834.20</td>\n",
       "      <td>10764.45</td>\n",
       "      <td>10779.80</td>\n",
       "    </tr>\n",
       "    <tr>\n",
       "      <th>26 Dec 2018</th>\n",
       "      <td>10635.45</td>\n",
       "      <td>10747.50</td>\n",
       "      <td>10534.55</td>\n",
       "      <td>10729.85</td>\n",
       "    </tr>\n",
       "    <tr>\n",
       "      <th>24 Dec 2018</th>\n",
       "      <td>10780.90</td>\n",
       "      <td>10782.30</td>\n",
       "      <td>10649.25</td>\n",
       "      <td>10663.50</td>\n",
       "    </tr>\n",
       "  </tbody>\n",
       "</table>\n",
       "</div>"
      ],
      "text/plain": [
       "                 Open      High       Low     Close\n",
       "Date                                               \n",
       "31 Dec 2018  10913.20  10923.55  10853.20  10862.55\n",
       "28 Dec 2018  10820.95  10893.60  10817.15  10859.90\n",
       "27 Dec 2018  10817.90  10834.20  10764.45  10779.80\n",
       "26 Dec 2018  10635.45  10747.50  10534.55  10729.85\n",
       "24 Dec 2018  10780.90  10782.30  10649.25  10663.50"
      ]
     },
     "execution_count": 3,
     "metadata": {},
     "output_type": "execute_result"
    }
   ],
   "source": [
    "nifty50_2018.head()"
   ]
  },
  {
   "cell_type": "code",
   "execution_count": 5,
   "metadata": {},
   "outputs": [
    {
     "data": {
      "text/plain": [
       "Open     10913.20\n",
       "High     10923.55\n",
       "Low      10853.20\n",
       "Close    10862.55\n",
       "Name: 31 Dec 2018, dtype: float64"
      ]
     },
     "execution_count": 5,
     "metadata": {},
     "output_type": "execute_result"
    }
   ],
   "source": [
    "nifty50_2018.loc['31 Dec 2018']"
   ]
  },
  {
   "cell_type": "code",
   "execution_count": 6,
   "metadata": {},
   "outputs": [],
   "source": [
    "nifty50_2019 = pd.read_csv('NIFTY50_2019.csv',index_col=0)"
   ]
  },
  {
   "cell_type": "code",
   "execution_count": 7,
   "metadata": {},
   "outputs": [
    {
     "data": {
      "text/html": [
       "<div>\n",
       "<style scoped>\n",
       "    .dataframe tbody tr th:only-of-type {\n",
       "        vertical-align: middle;\n",
       "    }\n",
       "\n",
       "    .dataframe tbody tr th {\n",
       "        vertical-align: top;\n",
       "    }\n",
       "\n",
       "    .dataframe thead th {\n",
       "        text-align: right;\n",
       "    }\n",
       "</style>\n",
       "<table border=\"1\" class=\"dataframe\">\n",
       "  <thead>\n",
       "    <tr style=\"text-align: right;\">\n",
       "      <th></th>\n",
       "      <th>Open</th>\n",
       "      <th>High</th>\n",
       "      <th>Low</th>\n",
       "      <th>Close</th>\n",
       "    </tr>\n",
       "    <tr>\n",
       "      <th>Date</th>\n",
       "      <th></th>\n",
       "      <th></th>\n",
       "      <th></th>\n",
       "      <th></th>\n",
       "    </tr>\n",
       "  </thead>\n",
       "  <tbody>\n",
       "    <tr>\n",
       "      <th>31 Dec 2019</th>\n",
       "      <td>12247.10</td>\n",
       "      <td>12247.10</td>\n",
       "      <td>12151.80</td>\n",
       "      <td>12168.45</td>\n",
       "    </tr>\n",
       "    <tr>\n",
       "      <th>30 Dec 2019</th>\n",
       "      <td>12274.90</td>\n",
       "      <td>12286.45</td>\n",
       "      <td>12213.80</td>\n",
       "      <td>12255.85</td>\n",
       "    </tr>\n",
       "    <tr>\n",
       "      <th>27 Dec 2019</th>\n",
       "      <td>12172.90</td>\n",
       "      <td>12258.45</td>\n",
       "      <td>12157.90</td>\n",
       "      <td>12245.80</td>\n",
       "    </tr>\n",
       "    <tr>\n",
       "      <th>26 Dec 2019</th>\n",
       "      <td>12211.85</td>\n",
       "      <td>12221.55</td>\n",
       "      <td>12118.85</td>\n",
       "      <td>12126.55</td>\n",
       "    </tr>\n",
       "    <tr>\n",
       "      <th>24 Dec 2019</th>\n",
       "      <td>12269.25</td>\n",
       "      <td>12283.70</td>\n",
       "      <td>12202.10</td>\n",
       "      <td>12214.55</td>\n",
       "    </tr>\n",
       "  </tbody>\n",
       "</table>\n",
       "</div>"
      ],
      "text/plain": [
       "                 Open      High       Low     Close\n",
       "Date                                               \n",
       "31 Dec 2019  12247.10  12247.10  12151.80  12168.45\n",
       "30 Dec 2019  12274.90  12286.45  12213.80  12255.85\n",
       "27 Dec 2019  12172.90  12258.45  12157.90  12245.80\n",
       "26 Dec 2019  12211.85  12221.55  12118.85  12126.55\n",
       "24 Dec 2019  12269.25  12283.70  12202.10  12214.55"
      ]
     },
     "execution_count": 7,
     "metadata": {},
     "output_type": "execute_result"
    }
   ],
   "source": [
    "nifty50_2019.head()"
   ]
  },
  {
   "cell_type": "code",
   "execution_count": 8,
   "metadata": {},
   "outputs": [],
   "source": [
    "#how to club these both datasets\n",
    "nifty50 = pd.concat([nifty50_2018,nifty50_2019])"
   ]
  },
  {
   "cell_type": "code",
   "execution_count": 9,
   "metadata": {},
   "outputs": [
    {
     "data": {
      "text/html": [
       "<div>\n",
       "<style scoped>\n",
       "    .dataframe tbody tr th:only-of-type {\n",
       "        vertical-align: middle;\n",
       "    }\n",
       "\n",
       "    .dataframe tbody tr th {\n",
       "        vertical-align: top;\n",
       "    }\n",
       "\n",
       "    .dataframe thead th {\n",
       "        text-align: right;\n",
       "    }\n",
       "</style>\n",
       "<table border=\"1\" class=\"dataframe\">\n",
       "  <thead>\n",
       "    <tr style=\"text-align: right;\">\n",
       "      <th></th>\n",
       "      <th>Open</th>\n",
       "      <th>High</th>\n",
       "      <th>Low</th>\n",
       "      <th>Close</th>\n",
       "    </tr>\n",
       "    <tr>\n",
       "      <th>Date</th>\n",
       "      <th></th>\n",
       "      <th></th>\n",
       "      <th></th>\n",
       "      <th></th>\n",
       "    </tr>\n",
       "  </thead>\n",
       "  <tbody>\n",
       "    <tr>\n",
       "      <th>31 Dec 2018</th>\n",
       "      <td>10913.20</td>\n",
       "      <td>10923.55</td>\n",
       "      <td>10853.20</td>\n",
       "      <td>10862.55</td>\n",
       "    </tr>\n",
       "    <tr>\n",
       "      <th>28 Dec 2018</th>\n",
       "      <td>10820.95</td>\n",
       "      <td>10893.60</td>\n",
       "      <td>10817.15</td>\n",
       "      <td>10859.90</td>\n",
       "    </tr>\n",
       "    <tr>\n",
       "      <th>27 Dec 2018</th>\n",
       "      <td>10817.90</td>\n",
       "      <td>10834.20</td>\n",
       "      <td>10764.45</td>\n",
       "      <td>10779.80</td>\n",
       "    </tr>\n",
       "    <tr>\n",
       "      <th>26 Dec 2018</th>\n",
       "      <td>10635.45</td>\n",
       "      <td>10747.50</td>\n",
       "      <td>10534.55</td>\n",
       "      <td>10729.85</td>\n",
       "    </tr>\n",
       "    <tr>\n",
       "      <th>24 Dec 2018</th>\n",
       "      <td>10780.90</td>\n",
       "      <td>10782.30</td>\n",
       "      <td>10649.25</td>\n",
       "      <td>10663.50</td>\n",
       "    </tr>\n",
       "    <tr>\n",
       "      <th>...</th>\n",
       "      <td>...</td>\n",
       "      <td>...</td>\n",
       "      <td>...</td>\n",
       "      <td>...</td>\n",
       "    </tr>\n",
       "    <tr>\n",
       "      <th>07 Jan 2019</th>\n",
       "      <td>10804.85</td>\n",
       "      <td>10835.95</td>\n",
       "      <td>10750.15</td>\n",
       "      <td>10771.80</td>\n",
       "    </tr>\n",
       "    <tr>\n",
       "      <th>04 Jan 2019</th>\n",
       "      <td>10699.70</td>\n",
       "      <td>10741.05</td>\n",
       "      <td>10628.65</td>\n",
       "      <td>10727.35</td>\n",
       "    </tr>\n",
       "    <tr>\n",
       "      <th>03 Jan 2019</th>\n",
       "      <td>10796.80</td>\n",
       "      <td>10814.05</td>\n",
       "      <td>10661.25</td>\n",
       "      <td>10672.25</td>\n",
       "    </tr>\n",
       "    <tr>\n",
       "      <th>02 Jan 2019</th>\n",
       "      <td>10868.85</td>\n",
       "      <td>10895.35</td>\n",
       "      <td>10735.05</td>\n",
       "      <td>10792.50</td>\n",
       "    </tr>\n",
       "    <tr>\n",
       "      <th>01 Jan 2019</th>\n",
       "      <td>10881.70</td>\n",
       "      <td>10923.60</td>\n",
       "      <td>10807.10</td>\n",
       "      <td>10910.10</td>\n",
       "    </tr>\n",
       "  </tbody>\n",
       "</table>\n",
       "<p>491 rows × 4 columns</p>\n",
       "</div>"
      ],
      "text/plain": [
       "                 Open      High       Low     Close\n",
       "Date                                               \n",
       "31 Dec 2018  10913.20  10923.55  10853.20  10862.55\n",
       "28 Dec 2018  10820.95  10893.60  10817.15  10859.90\n",
       "27 Dec 2018  10817.90  10834.20  10764.45  10779.80\n",
       "26 Dec 2018  10635.45  10747.50  10534.55  10729.85\n",
       "24 Dec 2018  10780.90  10782.30  10649.25  10663.50\n",
       "...               ...       ...       ...       ...\n",
       "07 Jan 2019  10804.85  10835.95  10750.15  10771.80\n",
       "04 Jan 2019  10699.70  10741.05  10628.65  10727.35\n",
       "03 Jan 2019  10796.80  10814.05  10661.25  10672.25\n",
       "02 Jan 2019  10868.85  10895.35  10735.05  10792.50\n",
       "01 Jan 2019  10881.70  10923.60  10807.10  10910.10\n",
       "\n",
       "[491 rows x 4 columns]"
      ]
     },
     "execution_count": 9,
     "metadata": {},
     "output_type": "execute_result"
    }
   ],
   "source": [
    "nifty50"
   ]
  },
  {
   "cell_type": "code",
   "execution_count": 10,
   "metadata": {},
   "outputs": [],
   "source": [
    "nifty_next50 = pd.read_csv('NIFTYNext50_2019.csv',index_col=0)"
   ]
  },
  {
   "cell_type": "code",
   "execution_count": 11,
   "metadata": {},
   "outputs": [
    {
     "data": {
      "text/html": [
       "<div>\n",
       "<style scoped>\n",
       "    .dataframe tbody tr th:only-of-type {\n",
       "        vertical-align: middle;\n",
       "    }\n",
       "\n",
       "    .dataframe tbody tr th {\n",
       "        vertical-align: top;\n",
       "    }\n",
       "\n",
       "    .dataframe thead th {\n",
       "        text-align: right;\n",
       "    }\n",
       "</style>\n",
       "<table border=\"1\" class=\"dataframe\">\n",
       "  <thead>\n",
       "    <tr style=\"text-align: right;\">\n",
       "      <th></th>\n",
       "      <th>Open</th>\n",
       "      <th>High</th>\n",
       "      <th>Low</th>\n",
       "      <th>Close</th>\n",
       "    </tr>\n",
       "    <tr>\n",
       "      <th>Date</th>\n",
       "      <th></th>\n",
       "      <th></th>\n",
       "      <th></th>\n",
       "      <th></th>\n",
       "    </tr>\n",
       "  </thead>\n",
       "  <tbody>\n",
       "    <tr>\n",
       "      <th>31 Dec 2019</th>\n",
       "      <td>28495.00</td>\n",
       "      <td>28549.50</td>\n",
       "      <td>28270.25</td>\n",
       "      <td>28307.55</td>\n",
       "    </tr>\n",
       "    <tr>\n",
       "      <th>30 Dec 2019</th>\n",
       "      <td>28528.95</td>\n",
       "      <td>28612.95</td>\n",
       "      <td>28406.70</td>\n",
       "      <td>28484.85</td>\n",
       "    </tr>\n",
       "    <tr>\n",
       "      <th>27 Dec 2019</th>\n",
       "      <td>28354.50</td>\n",
       "      <td>28500.25</td>\n",
       "      <td>28319.90</td>\n",
       "      <td>28476.80</td>\n",
       "    </tr>\n",
       "    <tr>\n",
       "      <th>26 Dec 2019</th>\n",
       "      <td>28409.10</td>\n",
       "      <td>28435.25</td>\n",
       "      <td>28259.75</td>\n",
       "      <td>28280.25</td>\n",
       "    </tr>\n",
       "    <tr>\n",
       "      <th>24 Dec 2019</th>\n",
       "      <td>28423.70</td>\n",
       "      <td>28430.40</td>\n",
       "      <td>28318.75</td>\n",
       "      <td>28382.85</td>\n",
       "    </tr>\n",
       "  </tbody>\n",
       "</table>\n",
       "</div>"
      ],
      "text/plain": [
       "                 Open      High       Low     Close\n",
       "Date                                               \n",
       "31 Dec 2019  28495.00  28549.50  28270.25  28307.55\n",
       "30 Dec 2019  28528.95  28612.95  28406.70  28484.85\n",
       "27 Dec 2019  28354.50  28500.25  28319.90  28476.80\n",
       "26 Dec 2019  28409.10  28435.25  28259.75  28280.25\n",
       "24 Dec 2019  28423.70  28430.40  28318.75  28382.85"
      ]
     },
     "execution_count": 11,
     "metadata": {},
     "output_type": "execute_result"
    }
   ],
   "source": [
    "nifty_next50.head()"
   ]
  },
  {
   "cell_type": "code",
   "execution_count": 50,
   "metadata": {},
   "outputs": [],
   "source": [
    "# concatenate 2019 indices\n",
    "nifty_2019 = pd.concat([nifty50_2019,nifty_next50],axis=1,keys=['Nifty50','NiftyNext50'])"
   ]
  },
  {
   "cell_type": "code",
   "execution_count": 51,
   "metadata": {},
   "outputs": [
    {
     "data": {
      "text/html": [
       "<div>\n",
       "<style scoped>\n",
       "    .dataframe tbody tr th:only-of-type {\n",
       "        vertical-align: middle;\n",
       "    }\n",
       "\n",
       "    .dataframe tbody tr th {\n",
       "        vertical-align: top;\n",
       "    }\n",
       "\n",
       "    .dataframe thead tr th {\n",
       "        text-align: left;\n",
       "    }\n",
       "\n",
       "    .dataframe thead tr:last-of-type th {\n",
       "        text-align: right;\n",
       "    }\n",
       "</style>\n",
       "<table border=\"1\" class=\"dataframe\">\n",
       "  <thead>\n",
       "    <tr>\n",
       "      <th></th>\n",
       "      <th colspan=\"4\" halign=\"left\">Nifty50</th>\n",
       "      <th colspan=\"4\" halign=\"left\">NiftyNext50</th>\n",
       "    </tr>\n",
       "    <tr>\n",
       "      <th></th>\n",
       "      <th>Open</th>\n",
       "      <th>High</th>\n",
       "      <th>Low</th>\n",
       "      <th>Close</th>\n",
       "      <th>Open</th>\n",
       "      <th>High</th>\n",
       "      <th>Low</th>\n",
       "      <th>Close</th>\n",
       "    </tr>\n",
       "    <tr>\n",
       "      <th>Date</th>\n",
       "      <th></th>\n",
       "      <th></th>\n",
       "      <th></th>\n",
       "      <th></th>\n",
       "      <th></th>\n",
       "      <th></th>\n",
       "      <th></th>\n",
       "      <th></th>\n",
       "    </tr>\n",
       "  </thead>\n",
       "  <tbody>\n",
       "    <tr>\n",
       "      <th>31 Dec 2019</th>\n",
       "      <td>12247.10</td>\n",
       "      <td>12247.10</td>\n",
       "      <td>12151.80</td>\n",
       "      <td>12168.45</td>\n",
       "      <td>28495.00</td>\n",
       "      <td>28549.50</td>\n",
       "      <td>28270.25</td>\n",
       "      <td>28307.55</td>\n",
       "    </tr>\n",
       "    <tr>\n",
       "      <th>30 Dec 2019</th>\n",
       "      <td>12274.90</td>\n",
       "      <td>12286.45</td>\n",
       "      <td>12213.80</td>\n",
       "      <td>12255.85</td>\n",
       "      <td>28528.95</td>\n",
       "      <td>28612.95</td>\n",
       "      <td>28406.70</td>\n",
       "      <td>28484.85</td>\n",
       "    </tr>\n",
       "    <tr>\n",
       "      <th>27 Dec 2019</th>\n",
       "      <td>12172.90</td>\n",
       "      <td>12258.45</td>\n",
       "      <td>12157.90</td>\n",
       "      <td>12245.80</td>\n",
       "      <td>28354.50</td>\n",
       "      <td>28500.25</td>\n",
       "      <td>28319.90</td>\n",
       "      <td>28476.80</td>\n",
       "    </tr>\n",
       "    <tr>\n",
       "      <th>26 Dec 2019</th>\n",
       "      <td>12211.85</td>\n",
       "      <td>12221.55</td>\n",
       "      <td>12118.85</td>\n",
       "      <td>12126.55</td>\n",
       "      <td>28409.10</td>\n",
       "      <td>28435.25</td>\n",
       "      <td>28259.75</td>\n",
       "      <td>28280.25</td>\n",
       "    </tr>\n",
       "    <tr>\n",
       "      <th>24 Dec 2019</th>\n",
       "      <td>12269.25</td>\n",
       "      <td>12283.70</td>\n",
       "      <td>12202.10</td>\n",
       "      <td>12214.55</td>\n",
       "      <td>28423.70</td>\n",
       "      <td>28430.40</td>\n",
       "      <td>28318.75</td>\n",
       "      <td>28382.85</td>\n",
       "    </tr>\n",
       "  </tbody>\n",
       "</table>\n",
       "</div>"
      ],
      "text/plain": [
       "              Nifty50                               NiftyNext50            \\\n",
       "                 Open      High       Low     Close        Open      High   \n",
       "Date                                                                        \n",
       "31 Dec 2019  12247.10  12247.10  12151.80  12168.45    28495.00  28549.50   \n",
       "30 Dec 2019  12274.90  12286.45  12213.80  12255.85    28528.95  28612.95   \n",
       "27 Dec 2019  12172.90  12258.45  12157.90  12245.80    28354.50  28500.25   \n",
       "26 Dec 2019  12211.85  12221.55  12118.85  12126.55    28409.10  28435.25   \n",
       "24 Dec 2019  12269.25  12283.70  12202.10  12214.55    28423.70  28430.40   \n",
       "\n",
       "                                 \n",
       "                  Low     Close  \n",
       "Date                             \n",
       "31 Dec 2019  28270.25  28307.55  \n",
       "30 Dec 2019  28406.70  28484.85  \n",
       "27 Dec 2019  28319.90  28476.80  \n",
       "26 Dec 2019  28259.75  28280.25  \n",
       "24 Dec 2019  28318.75  28382.85  "
      ]
     },
     "execution_count": 51,
     "metadata": {},
     "output_type": "execute_result"
    }
   ],
   "source": [
    "nifty_2019.head()"
   ]
  },
  {
   "cell_type": "code",
   "execution_count": 52,
   "metadata": {},
   "outputs": [
    {
     "data": {
      "text/plain": [
       "Open     12247.10\n",
       "High     12247.10\n",
       "Low      12151.80\n",
       "Close    12168.45\n",
       "Name: 31 Dec 2019, dtype: float64"
      ]
     },
     "execution_count": 52,
     "metadata": {},
     "output_type": "execute_result"
    }
   ],
   "source": [
    "nifty_2019['Nifty50'].loc['31 Dec 2019']"
   ]
  },
  {
   "cell_type": "code",
   "execution_count": 53,
   "metadata": {},
   "outputs": [
    {
     "data": {
      "text/plain": [
       "Date\n",
       "31 Dec 2019    12247.10\n",
       "30 Dec 2019    12274.90\n",
       "27 Dec 2019    12172.90\n",
       "26 Dec 2019    12211.85\n",
       "24 Dec 2019    12269.25\n",
       "                 ...   \n",
       "07 Jan 2019    10804.85\n",
       "04 Jan 2019    10699.70\n",
       "03 Jan 2019    10796.80\n",
       "02 Jan 2019    10868.85\n",
       "01 Jan 2019    10881.70\n",
       "Name: Open, Length: 245, dtype: float64"
      ]
     },
     "execution_count": 53,
     "metadata": {},
     "output_type": "execute_result"
    }
   ],
   "source": [
    "nifty_2019['Nifty50']['Open']"
   ]
  },
  {
   "cell_type": "markdown",
   "metadata": {},
   "source": [
    "## 1. In 2019, how many days was the NIFTY50 volatile (high>105% of low)"
   ]
  },
  {
   "cell_type": "code",
   "execution_count": 144,
   "metadata": {},
   "outputs": [
    {
     "data": {
      "text/html": [
       "<div>\n",
       "<style scoped>\n",
       "    .dataframe tbody tr th:only-of-type {\n",
       "        vertical-align: middle;\n",
       "    }\n",
       "\n",
       "    .dataframe tbody tr th {\n",
       "        vertical-align: top;\n",
       "    }\n",
       "\n",
       "    .dataframe thead th {\n",
       "        text-align: right;\n",
       "    }\n",
       "</style>\n",
       "<table border=\"1\" class=\"dataframe\">\n",
       "  <thead>\n",
       "    <tr style=\"text-align: right;\">\n",
       "      <th></th>\n",
       "      <th>Open</th>\n",
       "      <th>High</th>\n",
       "      <th>Low</th>\n",
       "      <th>Close</th>\n",
       "    </tr>\n",
       "    <tr>\n",
       "      <th>Date</th>\n",
       "      <th></th>\n",
       "      <th></th>\n",
       "      <th></th>\n",
       "      <th></th>\n",
       "    </tr>\n",
       "  </thead>\n",
       "  <tbody>\n",
       "    <tr>\n",
       "      <th>31 Dec 2018</th>\n",
       "      <td>10913.20</td>\n",
       "      <td>10923.55</td>\n",
       "      <td>10853.20</td>\n",
       "      <td>10862.55</td>\n",
       "    </tr>\n",
       "    <tr>\n",
       "      <th>28 Dec 2018</th>\n",
       "      <td>10820.95</td>\n",
       "      <td>10893.60</td>\n",
       "      <td>10817.15</td>\n",
       "      <td>10859.90</td>\n",
       "    </tr>\n",
       "    <tr>\n",
       "      <th>27 Dec 2018</th>\n",
       "      <td>10817.90</td>\n",
       "      <td>10834.20</td>\n",
       "      <td>10764.45</td>\n",
       "      <td>10779.80</td>\n",
       "    </tr>\n",
       "    <tr>\n",
       "      <th>26 Dec 2018</th>\n",
       "      <td>10635.45</td>\n",
       "      <td>10747.50</td>\n",
       "      <td>10534.55</td>\n",
       "      <td>10729.85</td>\n",
       "    </tr>\n",
       "    <tr>\n",
       "      <th>24 Dec 2018</th>\n",
       "      <td>10780.90</td>\n",
       "      <td>10782.30</td>\n",
       "      <td>10649.25</td>\n",
       "      <td>10663.50</td>\n",
       "    </tr>\n",
       "  </tbody>\n",
       "</table>\n",
       "</div>"
      ],
      "text/plain": [
       "                 Open      High       Low     Close\n",
       "Date                                               \n",
       "31 Dec 2018  10913.20  10923.55  10853.20  10862.55\n",
       "28 Dec 2018  10820.95  10893.60  10817.15  10859.90\n",
       "27 Dec 2018  10817.90  10834.20  10764.45  10779.80\n",
       "26 Dec 2018  10635.45  10747.50  10534.55  10729.85\n",
       "24 Dec 2018  10780.90  10782.30  10649.25  10663.50"
      ]
     },
     "execution_count": 144,
     "metadata": {},
     "output_type": "execute_result"
    }
   ],
   "source": [
    "nifty50.head()\n"
   ]
  },
  {
   "cell_type": "code",
   "execution_count": 152,
   "metadata": {},
   "outputs": [],
   "source": [
    "nifty50_2019['Volatile']= nifty50_2019['High']>nifty50_2019['Low']*1.05"
   ]
  },
  {
   "cell_type": "code",
   "execution_count": 154,
   "metadata": {},
   "outputs": [
    {
     "data": {
      "text/plain": [
       "1"
      ]
     },
     "execution_count": 154,
     "metadata": {},
     "output_type": "execute_result"
    }
   ],
   "source": [
    "nifty50_2019['Volatile'].sum()"
   ]
  },
  {
   "cell_type": "markdown",
   "metadata": {},
   "source": [
    "## 2. In 2019, how many days was the NIFTYNEXT50 volatile (high > 105% of low)"
   ]
  },
  {
   "cell_type": "code",
   "execution_count": 108,
   "metadata": {},
   "outputs": [
    {
     "data": {
      "text/html": [
       "<div>\n",
       "<style scoped>\n",
       "    .dataframe tbody tr th:only-of-type {\n",
       "        vertical-align: middle;\n",
       "    }\n",
       "\n",
       "    .dataframe tbody tr th {\n",
       "        vertical-align: top;\n",
       "    }\n",
       "\n",
       "    .dataframe thead th {\n",
       "        text-align: right;\n",
       "    }\n",
       "</style>\n",
       "<table border=\"1\" class=\"dataframe\">\n",
       "  <thead>\n",
       "    <tr style=\"text-align: right;\">\n",
       "      <th></th>\n",
       "      <th>Open</th>\n",
       "      <th>High</th>\n",
       "      <th>Low</th>\n",
       "      <th>Close</th>\n",
       "    </tr>\n",
       "    <tr>\n",
       "      <th>Date</th>\n",
       "      <th></th>\n",
       "      <th></th>\n",
       "      <th></th>\n",
       "      <th></th>\n",
       "    </tr>\n",
       "  </thead>\n",
       "  <tbody>\n",
       "    <tr>\n",
       "      <th>31 Dec 2019</th>\n",
       "      <td>28495.00</td>\n",
       "      <td>28549.50</td>\n",
       "      <td>28270.25</td>\n",
       "      <td>28307.55</td>\n",
       "    </tr>\n",
       "    <tr>\n",
       "      <th>30 Dec 2019</th>\n",
       "      <td>28528.95</td>\n",
       "      <td>28612.95</td>\n",
       "      <td>28406.70</td>\n",
       "      <td>28484.85</td>\n",
       "    </tr>\n",
       "    <tr>\n",
       "      <th>27 Dec 2019</th>\n",
       "      <td>28354.50</td>\n",
       "      <td>28500.25</td>\n",
       "      <td>28319.90</td>\n",
       "      <td>28476.80</td>\n",
       "    </tr>\n",
       "    <tr>\n",
       "      <th>26 Dec 2019</th>\n",
       "      <td>28409.10</td>\n",
       "      <td>28435.25</td>\n",
       "      <td>28259.75</td>\n",
       "      <td>28280.25</td>\n",
       "    </tr>\n",
       "    <tr>\n",
       "      <th>24 Dec 2019</th>\n",
       "      <td>28423.70</td>\n",
       "      <td>28430.40</td>\n",
       "      <td>28318.75</td>\n",
       "      <td>28382.85</td>\n",
       "    </tr>\n",
       "  </tbody>\n",
       "</table>\n",
       "</div>"
      ],
      "text/plain": [
       "                 Open      High       Low     Close\n",
       "Date                                               \n",
       "31 Dec 2019  28495.00  28549.50  28270.25  28307.55\n",
       "30 Dec 2019  28528.95  28612.95  28406.70  28484.85\n",
       "27 Dec 2019  28354.50  28500.25  28319.90  28476.80\n",
       "26 Dec 2019  28409.10  28435.25  28259.75  28280.25\n",
       "24 Dec 2019  28423.70  28430.40  28318.75  28382.85"
      ]
     },
     "execution_count": 108,
     "metadata": {},
     "output_type": "execute_result"
    }
   ],
   "source": [
    "nifty_next50.head()"
   ]
  },
  {
   "cell_type": "code",
   "execution_count": 148,
   "metadata": {},
   "outputs": [],
   "source": [
    "nifty_next50['Volatile']= nifty_next50['High']>nifty_next50['Low']*1.05"
   ]
  },
  {
   "cell_type": "code",
   "execution_count": 149,
   "metadata": {},
   "outputs": [
    {
     "data": {
      "text/plain": [
       "1"
      ]
     },
     "execution_count": 149,
     "metadata": {},
     "output_type": "execute_result"
    }
   ],
   "source": [
    "nifty_next50['Volatile'].sum()"
   ]
  },
  {
   "cell_type": "markdown",
   "metadata": {},
   "source": [
    "## 3. In 2019, how many days belonged to the four classes NIFTY50 volatile/non volatile and NIFTYNext50 volatile/non volatile"
   ]
  },
  {
   "cell_type": "code",
   "execution_count": 167,
   "metadata": {},
   "outputs": [],
   "source": [
    "nifty_vol = pd.concat([nifty50_2019,nifty_next50],axis =1,keys =['n50','nn50'])"
   ]
  },
  {
   "cell_type": "code",
   "execution_count": 173,
   "metadata": {},
   "outputs": [
    {
     "data": {
      "text/html": [
       "<div>\n",
       "<style scoped>\n",
       "    .dataframe tbody tr th:only-of-type {\n",
       "        vertical-align: middle;\n",
       "    }\n",
       "\n",
       "    .dataframe tbody tr th {\n",
       "        vertical-align: top;\n",
       "    }\n",
       "\n",
       "    .dataframe thead tr th {\n",
       "        text-align: left;\n",
       "    }\n",
       "\n",
       "    .dataframe thead tr:last-of-type th {\n",
       "        text-align: right;\n",
       "    }\n",
       "</style>\n",
       "<table border=\"1\" class=\"dataframe\">\n",
       "  <thead>\n",
       "    <tr>\n",
       "      <th></th>\n",
       "      <th colspan=\"5\" halign=\"left\">n50</th>\n",
       "      <th colspan=\"5\" halign=\"left\">nn50</th>\n",
       "    </tr>\n",
       "    <tr>\n",
       "      <th></th>\n",
       "      <th>Open</th>\n",
       "      <th>High</th>\n",
       "      <th>Low</th>\n",
       "      <th>Close</th>\n",
       "      <th>Volatile</th>\n",
       "      <th>Open</th>\n",
       "      <th>High</th>\n",
       "      <th>Low</th>\n",
       "      <th>Close</th>\n",
       "      <th>Volatile</th>\n",
       "    </tr>\n",
       "    <tr>\n",
       "      <th>Date</th>\n",
       "      <th></th>\n",
       "      <th></th>\n",
       "      <th></th>\n",
       "      <th></th>\n",
       "      <th></th>\n",
       "      <th></th>\n",
       "      <th></th>\n",
       "      <th></th>\n",
       "      <th></th>\n",
       "      <th></th>\n",
       "    </tr>\n",
       "  </thead>\n",
       "  <tbody>\n",
       "    <tr>\n",
       "      <th>20 Sep 2019</th>\n",
       "      <td>10746.8</td>\n",
       "      <td>11381.9</td>\n",
       "      <td>10691.0</td>\n",
       "      <td>11274.2</td>\n",
       "      <td>True</td>\n",
       "      <td>26026.45</td>\n",
       "      <td>27476.35</td>\n",
       "      <td>25812.05</td>\n",
       "      <td>27406.85</td>\n",
       "      <td>True</td>\n",
       "    </tr>\n",
       "  </tbody>\n",
       "</table>\n",
       "</div>"
      ],
      "text/plain": [
       "                 n50                                          nn50            \\\n",
       "                Open     High      Low    Close Volatile      Open      High   \n",
       "Date                                                                           \n",
       "20 Sep 2019  10746.8  11381.9  10691.0  11274.2     True  26026.45  27476.35   \n",
       "\n",
       "                                          \n",
       "                  Low     Close Volatile  \n",
       "Date                                      \n",
       "20 Sep 2019  25812.05  27406.85     True  "
      ]
     },
     "execution_count": 173,
     "metadata": {},
     "output_type": "execute_result"
    }
   ],
   "source": [
    "nifty_vol[nifty_vol['n50']['Volatile'] & nifty_vol['nn50']['Volatile']]"
   ]
  },
  {
   "cell_type": "code",
   "execution_count": 185,
   "metadata": {},
   "outputs": [
    {
     "data": {
      "text/html": [
       "<div>\n",
       "<style scoped>\n",
       "    .dataframe tbody tr th:only-of-type {\n",
       "        vertical-align: middle;\n",
       "    }\n",
       "\n",
       "    .dataframe tbody tr th {\n",
       "        vertical-align: top;\n",
       "    }\n",
       "\n",
       "    .dataframe thead tr th {\n",
       "        text-align: left;\n",
       "    }\n",
       "\n",
       "    .dataframe thead tr:last-of-type th {\n",
       "        text-align: right;\n",
       "    }\n",
       "</style>\n",
       "<table border=\"1\" class=\"dataframe\">\n",
       "  <thead>\n",
       "    <tr>\n",
       "      <th></th>\n",
       "      <th colspan=\"5\" halign=\"left\">n50</th>\n",
       "      <th colspan=\"5\" halign=\"left\">nn50</th>\n",
       "    </tr>\n",
       "    <tr>\n",
       "      <th></th>\n",
       "      <th>Open</th>\n",
       "      <th>High</th>\n",
       "      <th>Low</th>\n",
       "      <th>Close</th>\n",
       "      <th>Volatile</th>\n",
       "      <th>Open</th>\n",
       "      <th>High</th>\n",
       "      <th>Low</th>\n",
       "      <th>Close</th>\n",
       "      <th>Volatile</th>\n",
       "    </tr>\n",
       "    <tr>\n",
       "      <th>Date</th>\n",
       "      <th></th>\n",
       "      <th></th>\n",
       "      <th></th>\n",
       "      <th></th>\n",
       "      <th></th>\n",
       "      <th></th>\n",
       "      <th></th>\n",
       "      <th></th>\n",
       "      <th></th>\n",
       "      <th></th>\n",
       "    </tr>\n",
       "  </thead>\n",
       "  <tbody>\n",
       "    <tr>\n",
       "      <th>31 Dec 2019</th>\n",
       "      <td>12247.10</td>\n",
       "      <td>12247.10</td>\n",
       "      <td>12151.80</td>\n",
       "      <td>12168.45</td>\n",
       "      <td>False</td>\n",
       "      <td>28495.00</td>\n",
       "      <td>28549.50</td>\n",
       "      <td>28270.25</td>\n",
       "      <td>28307.55</td>\n",
       "      <td>False</td>\n",
       "    </tr>\n",
       "    <tr>\n",
       "      <th>30 Dec 2019</th>\n",
       "      <td>12274.90</td>\n",
       "      <td>12286.45</td>\n",
       "      <td>12213.80</td>\n",
       "      <td>12255.85</td>\n",
       "      <td>False</td>\n",
       "      <td>28528.95</td>\n",
       "      <td>28612.95</td>\n",
       "      <td>28406.70</td>\n",
       "      <td>28484.85</td>\n",
       "      <td>False</td>\n",
       "    </tr>\n",
       "    <tr>\n",
       "      <th>27 Dec 2019</th>\n",
       "      <td>12172.90</td>\n",
       "      <td>12258.45</td>\n",
       "      <td>12157.90</td>\n",
       "      <td>12245.80</td>\n",
       "      <td>False</td>\n",
       "      <td>28354.50</td>\n",
       "      <td>28500.25</td>\n",
       "      <td>28319.90</td>\n",
       "      <td>28476.80</td>\n",
       "      <td>False</td>\n",
       "    </tr>\n",
       "    <tr>\n",
       "      <th>26 Dec 2019</th>\n",
       "      <td>12211.85</td>\n",
       "      <td>12221.55</td>\n",
       "      <td>12118.85</td>\n",
       "      <td>12126.55</td>\n",
       "      <td>False</td>\n",
       "      <td>28409.10</td>\n",
       "      <td>28435.25</td>\n",
       "      <td>28259.75</td>\n",
       "      <td>28280.25</td>\n",
       "      <td>False</td>\n",
       "    </tr>\n",
       "    <tr>\n",
       "      <th>24 Dec 2019</th>\n",
       "      <td>12269.25</td>\n",
       "      <td>12283.70</td>\n",
       "      <td>12202.10</td>\n",
       "      <td>12214.55</td>\n",
       "      <td>False</td>\n",
       "      <td>28423.70</td>\n",
       "      <td>28430.40</td>\n",
       "      <td>28318.75</td>\n",
       "      <td>28382.85</td>\n",
       "      <td>False</td>\n",
       "    </tr>\n",
       "    <tr>\n",
       "      <th>...</th>\n",
       "      <td>...</td>\n",
       "      <td>...</td>\n",
       "      <td>...</td>\n",
       "      <td>...</td>\n",
       "      <td>...</td>\n",
       "      <td>...</td>\n",
       "      <td>...</td>\n",
       "      <td>...</td>\n",
       "      <td>...</td>\n",
       "      <td>...</td>\n",
       "    </tr>\n",
       "    <tr>\n",
       "      <th>07 Jan 2019</th>\n",
       "      <td>10804.85</td>\n",
       "      <td>10835.95</td>\n",
       "      <td>10750.15</td>\n",
       "      <td>10771.80</td>\n",
       "      <td>False</td>\n",
       "      <td>27893.95</td>\n",
       "      <td>27932.00</td>\n",
       "      <td>27652.95</td>\n",
       "      <td>27706.60</td>\n",
       "      <td>False</td>\n",
       "    </tr>\n",
       "    <tr>\n",
       "      <th>04 Jan 2019</th>\n",
       "      <td>10699.70</td>\n",
       "      <td>10741.05</td>\n",
       "      <td>10628.65</td>\n",
       "      <td>10727.35</td>\n",
       "      <td>False</td>\n",
       "      <td>27707.20</td>\n",
       "      <td>27842.75</td>\n",
       "      <td>27533.90</td>\n",
       "      <td>27719.50</td>\n",
       "      <td>False</td>\n",
       "    </tr>\n",
       "    <tr>\n",
       "      <th>03 Jan 2019</th>\n",
       "      <td>10796.80</td>\n",
       "      <td>10814.05</td>\n",
       "      <td>10661.25</td>\n",
       "      <td>10672.25</td>\n",
       "      <td>False</td>\n",
       "      <td>27874.05</td>\n",
       "      <td>28045.30</td>\n",
       "      <td>27630.20</td>\n",
       "      <td>27674.65</td>\n",
       "      <td>False</td>\n",
       "    </tr>\n",
       "    <tr>\n",
       "      <th>02 Jan 2019</th>\n",
       "      <td>10868.85</td>\n",
       "      <td>10895.35</td>\n",
       "      <td>10735.05</td>\n",
       "      <td>10792.50</td>\n",
       "      <td>False</td>\n",
       "      <td>28074.05</td>\n",
       "      <td>28188.40</td>\n",
       "      <td>27801.75</td>\n",
       "      <td>27876.95</td>\n",
       "      <td>False</td>\n",
       "    </tr>\n",
       "    <tr>\n",
       "      <th>01 Jan 2019</th>\n",
       "      <td>10881.70</td>\n",
       "      <td>10923.60</td>\n",
       "      <td>10807.10</td>\n",
       "      <td>10910.10</td>\n",
       "      <td>False</td>\n",
       "      <td>28243.95</td>\n",
       "      <td>28252.20</td>\n",
       "      <td>27988.60</td>\n",
       "      <td>28111.65</td>\n",
       "      <td>False</td>\n",
       "    </tr>\n",
       "  </tbody>\n",
       "</table>\n",
       "<p>244 rows × 10 columns</p>\n",
       "</div>"
      ],
      "text/plain": [
       "                  n50                                             nn50  \\\n",
       "                 Open      High       Low     Close Volatile      Open   \n",
       "Date                                                                     \n",
       "31 Dec 2019  12247.10  12247.10  12151.80  12168.45    False  28495.00   \n",
       "30 Dec 2019  12274.90  12286.45  12213.80  12255.85    False  28528.95   \n",
       "27 Dec 2019  12172.90  12258.45  12157.90  12245.80    False  28354.50   \n",
       "26 Dec 2019  12211.85  12221.55  12118.85  12126.55    False  28409.10   \n",
       "24 Dec 2019  12269.25  12283.70  12202.10  12214.55    False  28423.70   \n",
       "...               ...       ...       ...       ...      ...       ...   \n",
       "07 Jan 2019  10804.85  10835.95  10750.15  10771.80    False  27893.95   \n",
       "04 Jan 2019  10699.70  10741.05  10628.65  10727.35    False  27707.20   \n",
       "03 Jan 2019  10796.80  10814.05  10661.25  10672.25    False  27874.05   \n",
       "02 Jan 2019  10868.85  10895.35  10735.05  10792.50    False  28074.05   \n",
       "01 Jan 2019  10881.70  10923.60  10807.10  10910.10    False  28243.95   \n",
       "\n",
       "                                                    \n",
       "                 High       Low     Close Volatile  \n",
       "Date                                                \n",
       "31 Dec 2019  28549.50  28270.25  28307.55    False  \n",
       "30 Dec 2019  28612.95  28406.70  28484.85    False  \n",
       "27 Dec 2019  28500.25  28319.90  28476.80    False  \n",
       "26 Dec 2019  28435.25  28259.75  28280.25    False  \n",
       "24 Dec 2019  28430.40  28318.75  28382.85    False  \n",
       "...               ...       ...       ...      ...  \n",
       "07 Jan 2019  27932.00  27652.95  27706.60    False  \n",
       "04 Jan 2019  27842.75  27533.90  27719.50    False  \n",
       "03 Jan 2019  28045.30  27630.20  27674.65    False  \n",
       "02 Jan 2019  28188.40  27801.75  27876.95    False  \n",
       "01 Jan 2019  28252.20  27988.60  28111.65    False  \n",
       "\n",
       "[244 rows x 10 columns]"
      ]
     },
     "execution_count": 185,
     "metadata": {},
     "output_type": "execute_result"
    }
   ],
   "source": [
    "nifty_vol[(nifty_vol['n50']['Volatile']== False) | (nifty_vol['nn50']['Volatile']==False)]"
   ]
  },
  {
   "cell_type": "markdown",
   "metadata": {},
   "source": [
    "Since both true case: 1  \n",
    "      both false case:244  \n",
    "      Alternate true and false of Nifty50 and Nifty Next 50 is null set"
   ]
  },
  {
   "cell_type": "markdown",
   "metadata": {},
   "source": [
    "## 4. Compute mean, median, std, var of closing values for each Weekday in NIFTY50"
   ]
  },
  {
   "cell_type": "code",
   "execution_count": 77,
   "metadata": {},
   "outputs": [],
   "source": [
    "c19 = nifty50_2019['Close']"
   ]
  },
  {
   "cell_type": "code",
   "execution_count": 192,
   "metadata": {},
   "outputs": [],
   "source": [
    "fdate_index = map(pd.Timestamp,c19.index)\n",
    "c19_fdate = pd.Series(c19, index= fdate_index)"
   ]
  },
  {
   "cell_type": "code",
   "execution_count": 210,
   "metadata": {},
   "outputs": [
    {
     "data": {
      "text/plain": [
       "2019-10-27    11627.15\n",
       "Name: Close, dtype: float64"
      ]
     },
     "execution_count": 210,
     "metadata": {},
     "output_type": "execute_result"
    }
   ],
   "source": [
    "c19_fdate[c19_fdate.index.dayofweek==6]"
   ]
  },
  {
   "cell_type": "code",
   "execution_count": 206,
   "metadata": {},
   "outputs": [],
   "source": [
    "day_c19 = pd.DataFrame({'Weekday':c19_fdate.index.dayofweek, 'Close':c19_fdate})"
   ]
  },
  {
   "cell_type": "code",
   "execution_count": 205,
   "metadata": {},
   "outputs": [],
   "source": [
    "name ={\n",
    "    0:'Monday',\n",
    "    1:'Tuesday',\n",
    "    2:'Wednesday',\n",
    "    3:'Thursday',\n",
    "    4:'Friday',\n",
    "    5:'Saturday',\n",
    "    6:'Sunday'\n",
    "}\n",
    "\n",
    "def name_fun(i):\n",
    "    return name.get(i,i)"
   ]
  },
  {
   "cell_type": "code",
   "execution_count": 208,
   "metadata": {},
   "outputs": [],
   "source": [
    "day_c19['Weekday'] = day_c19['Weekday'].apply(name_fun)"
   ]
  },
  {
   "cell_type": "code",
   "execution_count": 209,
   "metadata": {},
   "outputs": [
    {
     "data": {
      "text/html": [
       "<div>\n",
       "<style scoped>\n",
       "    .dataframe tbody tr th:only-of-type {\n",
       "        vertical-align: middle;\n",
       "    }\n",
       "\n",
       "    .dataframe tbody tr th {\n",
       "        vertical-align: top;\n",
       "    }\n",
       "\n",
       "    .dataframe thead tr th {\n",
       "        text-align: left;\n",
       "    }\n",
       "\n",
       "    .dataframe thead tr:last-of-type th {\n",
       "        text-align: right;\n",
       "    }\n",
       "</style>\n",
       "<table border=\"1\" class=\"dataframe\">\n",
       "  <thead>\n",
       "    <tr>\n",
       "      <th></th>\n",
       "      <th colspan=\"8\" halign=\"left\">Close</th>\n",
       "    </tr>\n",
       "    <tr>\n",
       "      <th></th>\n",
       "      <th>count</th>\n",
       "      <th>mean</th>\n",
       "      <th>std</th>\n",
       "      <th>min</th>\n",
       "      <th>25%</th>\n",
       "      <th>50%</th>\n",
       "      <th>75%</th>\n",
       "      <th>max</th>\n",
       "    </tr>\n",
       "    <tr>\n",
       "      <th>Weekday</th>\n",
       "      <th></th>\n",
       "      <th></th>\n",
       "      <th></th>\n",
       "      <th></th>\n",
       "      <th></th>\n",
       "      <th></th>\n",
       "      <th></th>\n",
       "      <th></th>\n",
       "    </tr>\n",
       "  </thead>\n",
       "  <tbody>\n",
       "    <tr>\n",
       "      <th>Friday</th>\n",
       "      <td>51.0</td>\n",
       "      <td>11435.394118</td>\n",
       "      <td>443.779665</td>\n",
       "      <td>10724.40</td>\n",
       "      <td>11029.3250</td>\n",
       "      <td>11456.900</td>\n",
       "      <td>11817.225</td>\n",
       "      <td>12271.80</td>\n",
       "    </tr>\n",
       "    <tr>\n",
       "      <th>Monday</th>\n",
       "      <td>46.0</td>\n",
       "      <td>11463.535870</td>\n",
       "      <td>463.019749</td>\n",
       "      <td>10640.95</td>\n",
       "      <td>11054.8875</td>\n",
       "      <td>11573.475</td>\n",
       "      <td>11879.775</td>\n",
       "      <td>12262.75</td>\n",
       "    </tr>\n",
       "    <tr>\n",
       "      <th>Sunday</th>\n",
       "      <td>1.0</td>\n",
       "      <td>11627.150000</td>\n",
       "      <td>NaN</td>\n",
       "      <td>11627.15</td>\n",
       "      <td>11627.1500</td>\n",
       "      <td>11627.150</td>\n",
       "      <td>11627.150</td>\n",
       "      <td>11627.15</td>\n",
       "    </tr>\n",
       "    <tr>\n",
       "      <th>Thursday</th>\n",
       "      <td>50.0</td>\n",
       "      <td>11430.373000</td>\n",
       "      <td>470.461726</td>\n",
       "      <td>10672.25</td>\n",
       "      <td>10980.7000</td>\n",
       "      <td>11576.900</td>\n",
       "      <td>11843.200</td>\n",
       "      <td>12259.70</td>\n",
       "    </tr>\n",
       "    <tr>\n",
       "      <th>Tuesday</th>\n",
       "      <td>50.0</td>\n",
       "      <td>11444.318000</td>\n",
       "      <td>462.829541</td>\n",
       "      <td>10604.35</td>\n",
       "      <td>10958.0500</td>\n",
       "      <td>11544.150</td>\n",
       "      <td>11794.125</td>\n",
       "      <td>12214.55</td>\n",
       "    </tr>\n",
       "    <tr>\n",
       "      <th>Wednesday</th>\n",
       "      <td>47.0</td>\n",
       "      <td>11385.222340</td>\n",
       "      <td>449.850387</td>\n",
       "      <td>10651.80</td>\n",
       "      <td>10974.0500</td>\n",
       "      <td>11440.200</td>\n",
       "      <td>11789.175</td>\n",
       "      <td>12221.65</td>\n",
       "    </tr>\n",
       "  </tbody>\n",
       "</table>\n",
       "</div>"
      ],
      "text/plain": [
       "          Close                                                             \\\n",
       "          count          mean         std       min         25%        50%   \n",
       "Weekday                                                                      \n",
       "Friday     51.0  11435.394118  443.779665  10724.40  11029.3250  11456.900   \n",
       "Monday     46.0  11463.535870  463.019749  10640.95  11054.8875  11573.475   \n",
       "Sunday      1.0  11627.150000         NaN  11627.15  11627.1500  11627.150   \n",
       "Thursday   50.0  11430.373000  470.461726  10672.25  10980.7000  11576.900   \n",
       "Tuesday    50.0  11444.318000  462.829541  10604.35  10958.0500  11544.150   \n",
       "Wednesday  47.0  11385.222340  449.850387  10651.80  10974.0500  11440.200   \n",
       "\n",
       "                                \n",
       "                 75%       max  \n",
       "Weekday                         \n",
       "Friday     11817.225  12271.80  \n",
       "Monday     11879.775  12262.75  \n",
       "Sunday     11627.150  11627.15  \n",
       "Thursday   11843.200  12259.70  \n",
       "Tuesday    11794.125  12214.55  \n",
       "Wednesday  11789.175  12221.65  "
      ]
     },
     "execution_count": 209,
     "metadata": {},
     "output_type": "execute_result"
    }
   ],
   "source": [
    "day_c19.groupby('Weekday').describe()"
   ]
  },
  {
   "cell_type": "markdown",
   "metadata": {},
   "source": [
    "## 5. Compute mean,median,std,var of closing values for each month in NIFTY50"
   ]
  },
  {
   "cell_type": "code",
   "execution_count": 119,
   "metadata": {},
   "outputs": [],
   "source": [
    "new_c19 = pd.DataFrame({'Month':c19_fdate.index.month, 'Close':c19_fdate})"
   ]
  },
  {
   "cell_type": "code",
   "execution_count": 121,
   "metadata": {},
   "outputs": [
    {
     "data": {
      "text/html": [
       "<div>\n",
       "<style scoped>\n",
       "    .dataframe tbody tr th:only-of-type {\n",
       "        vertical-align: middle;\n",
       "    }\n",
       "\n",
       "    .dataframe tbody tr th {\n",
       "        vertical-align: top;\n",
       "    }\n",
       "\n",
       "    .dataframe thead th {\n",
       "        text-align: right;\n",
       "    }\n",
       "</style>\n",
       "<table border=\"1\" class=\"dataframe\">\n",
       "  <thead>\n",
       "    <tr style=\"text-align: right;\">\n",
       "      <th></th>\n",
       "      <th>Month</th>\n",
       "      <th>Close</th>\n",
       "    </tr>\n",
       "  </thead>\n",
       "  <tbody>\n",
       "    <tr>\n",
       "      <th>2019-12-31</th>\n",
       "      <td>12</td>\n",
       "      <td>12168.45</td>\n",
       "    </tr>\n",
       "    <tr>\n",
       "      <th>2019-12-30</th>\n",
       "      <td>12</td>\n",
       "      <td>12255.85</td>\n",
       "    </tr>\n",
       "    <tr>\n",
       "      <th>2019-12-27</th>\n",
       "      <td>12</td>\n",
       "      <td>12245.80</td>\n",
       "    </tr>\n",
       "    <tr>\n",
       "      <th>2019-12-26</th>\n",
       "      <td>12</td>\n",
       "      <td>12126.55</td>\n",
       "    </tr>\n",
       "    <tr>\n",
       "      <th>2019-12-24</th>\n",
       "      <td>12</td>\n",
       "      <td>12214.55</td>\n",
       "    </tr>\n",
       "    <tr>\n",
       "      <th>...</th>\n",
       "      <td>...</td>\n",
       "      <td>...</td>\n",
       "    </tr>\n",
       "    <tr>\n",
       "      <th>2019-01-07</th>\n",
       "      <td>1</td>\n",
       "      <td>10771.80</td>\n",
       "    </tr>\n",
       "    <tr>\n",
       "      <th>2019-01-04</th>\n",
       "      <td>1</td>\n",
       "      <td>10727.35</td>\n",
       "    </tr>\n",
       "    <tr>\n",
       "      <th>2019-01-03</th>\n",
       "      <td>1</td>\n",
       "      <td>10672.25</td>\n",
       "    </tr>\n",
       "    <tr>\n",
       "      <th>2019-01-02</th>\n",
       "      <td>1</td>\n",
       "      <td>10792.50</td>\n",
       "    </tr>\n",
       "    <tr>\n",
       "      <th>2019-01-01</th>\n",
       "      <td>1</td>\n",
       "      <td>10910.10</td>\n",
       "    </tr>\n",
       "  </tbody>\n",
       "</table>\n",
       "<p>245 rows × 2 columns</p>\n",
       "</div>"
      ],
      "text/plain": [
       "            Month     Close\n",
       "2019-12-31     12  12168.45\n",
       "2019-12-30     12  12255.85\n",
       "2019-12-27     12  12245.80\n",
       "2019-12-26     12  12126.55\n",
       "2019-12-24     12  12214.55\n",
       "...           ...       ...\n",
       "2019-01-07      1  10771.80\n",
       "2019-01-04      1  10727.35\n",
       "2019-01-03      1  10672.25\n",
       "2019-01-02      1  10792.50\n",
       "2019-01-01      1  10910.10\n",
       "\n",
       "[245 rows x 2 columns]"
      ]
     },
     "execution_count": 121,
     "metadata": {},
     "output_type": "execute_result"
    }
   ],
   "source": [
    "new_c19"
   ]
  },
  {
   "cell_type": "code",
   "execution_count": 122,
   "metadata": {},
   "outputs": [],
   "source": [
    "res5 = new_c19.groupby('Month')['Close']"
   ]
  },
  {
   "cell_type": "code",
   "execution_count": 126,
   "metadata": {},
   "outputs": [
    {
     "data": {
      "text/html": [
       "<div>\n",
       "<style scoped>\n",
       "    .dataframe tbody tr th:only-of-type {\n",
       "        vertical-align: middle;\n",
       "    }\n",
       "\n",
       "    .dataframe tbody tr th {\n",
       "        vertical-align: top;\n",
       "    }\n",
       "\n",
       "    .dataframe thead th {\n",
       "        text-align: right;\n",
       "    }\n",
       "</style>\n",
       "<table border=\"1\" class=\"dataframe\">\n",
       "  <thead>\n",
       "    <tr style=\"text-align: right;\">\n",
       "      <th></th>\n",
       "      <th>count</th>\n",
       "      <th>mean</th>\n",
       "      <th>std</th>\n",
       "      <th>min</th>\n",
       "      <th>25%</th>\n",
       "      <th>50%</th>\n",
       "      <th>75%</th>\n",
       "      <th>max</th>\n",
       "    </tr>\n",
       "    <tr>\n",
       "      <th>Month</th>\n",
       "      <th></th>\n",
       "      <th></th>\n",
       "      <th></th>\n",
       "      <th></th>\n",
       "      <th></th>\n",
       "      <th></th>\n",
       "      <th></th>\n",
       "      <th></th>\n",
       "    </tr>\n",
       "  </thead>\n",
       "  <tbody>\n",
       "    <tr>\n",
       "      <th>1</th>\n",
       "      <td>23.0</td>\n",
       "      <td>10809.463043</td>\n",
       "      <td>92.241175</td>\n",
       "      <td>10651.80</td>\n",
       "      <td>10754.7000</td>\n",
       "      <td>10821.600</td>\n",
       "      <td>10888.5500</td>\n",
       "      <td>10961.85</td>\n",
       "    </tr>\n",
       "    <tr>\n",
       "      <th>2</th>\n",
       "      <td>20.0</td>\n",
       "      <td>10833.840000</td>\n",
       "      <td>119.606867</td>\n",
       "      <td>10604.35</td>\n",
       "      <td>10778.9000</td>\n",
       "      <td>10819.025</td>\n",
       "      <td>10898.3000</td>\n",
       "      <td>11069.40</td>\n",
       "    </tr>\n",
       "    <tr>\n",
       "      <th>3</th>\n",
       "      <td>19.0</td>\n",
       "      <td>11317.242105</td>\n",
       "      <td>223.401346</td>\n",
       "      <td>10863.50</td>\n",
       "      <td>11113.1250</td>\n",
       "      <td>11354.250</td>\n",
       "      <td>11472.7250</td>\n",
       "      <td>11623.90</td>\n",
       "    </tr>\n",
       "    <tr>\n",
       "      <th>4</th>\n",
       "      <td>19.0</td>\n",
       "      <td>11666.452632</td>\n",
       "      <td>65.824517</td>\n",
       "      <td>11575.95</td>\n",
       "      <td>11601.2500</td>\n",
       "      <td>11665.950</td>\n",
       "      <td>11719.6750</td>\n",
       "      <td>11787.15</td>\n",
       "    </tr>\n",
       "    <tr>\n",
       "      <th>5</th>\n",
       "      <td>22.0</td>\n",
       "      <td>11592.022727</td>\n",
       "      <td>279.155921</td>\n",
       "      <td>11148.20</td>\n",
       "      <td>11316.2125</td>\n",
       "      <td>11683.075</td>\n",
       "      <td>11840.1375</td>\n",
       "      <td>11945.90</td>\n",
       "    </tr>\n",
       "    <tr>\n",
       "      <th>6</th>\n",
       "      <td>19.0</td>\n",
       "      <td>11839.023684</td>\n",
       "      <td>115.116579</td>\n",
       "      <td>11672.15</td>\n",
       "      <td>11756.4750</td>\n",
       "      <td>11841.550</td>\n",
       "      <td>11910.1250</td>\n",
       "      <td>12088.55</td>\n",
       "    </tr>\n",
       "    <tr>\n",
       "      <th>7</th>\n",
       "      <td>23.0</td>\n",
       "      <td>11523.110870</td>\n",
       "      <td>260.085388</td>\n",
       "      <td>11085.40</td>\n",
       "      <td>11307.6750</td>\n",
       "      <td>11555.900</td>\n",
       "      <td>11675.0500</td>\n",
       "      <td>11946.75</td>\n",
       "    </tr>\n",
       "    <tr>\n",
       "      <th>8</th>\n",
       "      <td>20.0</td>\n",
       "      <td>10976.500000</td>\n",
       "      <td>97.097806</td>\n",
       "      <td>10741.35</td>\n",
       "      <td>10924.0625</td>\n",
       "      <td>11007.175</td>\n",
       "      <td>11046.5250</td>\n",
       "      <td>11109.65</td>\n",
       "    </tr>\n",
       "    <tr>\n",
       "      <th>9</th>\n",
       "      <td>19.0</td>\n",
       "      <td>11124.289474</td>\n",
       "      <td>310.891386</td>\n",
       "      <td>10704.80</td>\n",
       "      <td>10846.2750</td>\n",
       "      <td>11003.500</td>\n",
       "      <td>11457.3250</td>\n",
       "      <td>11600.20</td>\n",
       "    </tr>\n",
       "    <tr>\n",
       "      <th>10</th>\n",
       "      <td>20.0</td>\n",
       "      <td>11490.205000</td>\n",
       "      <td>217.418539</td>\n",
       "      <td>11126.40</td>\n",
       "      <td>11313.8250</td>\n",
       "      <td>11523.300</td>\n",
       "      <td>11609.8625</td>\n",
       "      <td>11877.45</td>\n",
       "    </tr>\n",
       "    <tr>\n",
       "      <th>11</th>\n",
       "      <td>20.0</td>\n",
       "      <td>11964.132500</td>\n",
       "      <td>84.216057</td>\n",
       "      <td>11840.45</td>\n",
       "      <td>11904.9750</td>\n",
       "      <td>11940.700</td>\n",
       "      <td>12018.4625</td>\n",
       "      <td>12151.15</td>\n",
       "    </tr>\n",
       "    <tr>\n",
       "      <th>12</th>\n",
       "      <td>21.0</td>\n",
       "      <td>12096.880952</td>\n",
       "      <td>134.226928</td>\n",
       "      <td>11856.80</td>\n",
       "      <td>11994.2000</td>\n",
       "      <td>12086.700</td>\n",
       "      <td>12221.6500</td>\n",
       "      <td>12271.80</td>\n",
       "    </tr>\n",
       "  </tbody>\n",
       "</table>\n",
       "</div>"
      ],
      "text/plain": [
       "       count          mean         std       min         25%        50%  \\\n",
       "Month                                                                     \n",
       "1       23.0  10809.463043   92.241175  10651.80  10754.7000  10821.600   \n",
       "2       20.0  10833.840000  119.606867  10604.35  10778.9000  10819.025   \n",
       "3       19.0  11317.242105  223.401346  10863.50  11113.1250  11354.250   \n",
       "4       19.0  11666.452632   65.824517  11575.95  11601.2500  11665.950   \n",
       "5       22.0  11592.022727  279.155921  11148.20  11316.2125  11683.075   \n",
       "6       19.0  11839.023684  115.116579  11672.15  11756.4750  11841.550   \n",
       "7       23.0  11523.110870  260.085388  11085.40  11307.6750  11555.900   \n",
       "8       20.0  10976.500000   97.097806  10741.35  10924.0625  11007.175   \n",
       "9       19.0  11124.289474  310.891386  10704.80  10846.2750  11003.500   \n",
       "10      20.0  11490.205000  217.418539  11126.40  11313.8250  11523.300   \n",
       "11      20.0  11964.132500   84.216057  11840.45  11904.9750  11940.700   \n",
       "12      21.0  12096.880952  134.226928  11856.80  11994.2000  12086.700   \n",
       "\n",
       "              75%       max  \n",
       "Month                        \n",
       "1      10888.5500  10961.85  \n",
       "2      10898.3000  11069.40  \n",
       "3      11472.7250  11623.90  \n",
       "4      11719.6750  11787.15  \n",
       "5      11840.1375  11945.90  \n",
       "6      11910.1250  12088.55  \n",
       "7      11675.0500  11946.75  \n",
       "8      11046.5250  11109.65  \n",
       "9      11457.3250  11600.20  \n",
       "10     11609.8625  11877.45  \n",
       "11     12018.4625  12151.15  \n",
       "12     12221.6500  12271.80  "
      ]
     },
     "execution_count": 126,
     "metadata": {},
     "output_type": "execute_result"
    }
   ],
   "source": [
    "res5.describe()"
   ]
  },
  {
   "cell_type": "markdown",
   "metadata": {},
   "source": [
    "## 6. On the days in which NIFTY50 closed higher than open what was the mean of (close - open) for Nifty Next 50"
   ]
  },
  {
   "cell_type": "code",
   "execution_count": 129,
   "metadata": {},
   "outputs": [],
   "source": [
    "cond = nifty50_2019['Close'] > nifty50_2019['Open']"
   ]
  },
  {
   "cell_type": "code",
   "execution_count": 133,
   "metadata": {},
   "outputs": [
    {
     "data": {
      "text/plain": [
       "118.70188679245271"
      ]
     },
     "execution_count": 133,
     "metadata": {},
     "output_type": "execute_result"
    }
   ],
   "source": [
    "(nifty_next50[cond]['Close']-nifty_next50[cond]['Open']).mean()"
   ]
  },
  {
   "cell_type": "markdown",
   "metadata": {},
   "source": [
    "## 7. In 2019, how many days had the day's High lower than previous day's low in N50"
   ]
  },
  {
   "cell_type": "code",
   "execution_count": 134,
   "metadata": {},
   "outputs": [],
   "source": [
    "succ_high=  nifty50_2019['High'].iloc[1:]"
   ]
  },
  {
   "cell_type": "code",
   "execution_count": 135,
   "metadata": {},
   "outputs": [],
   "source": [
    "prev_low= nifty50_2019['Low'].iloc[:-1]"
   ]
  },
  {
   "cell_type": "code",
   "execution_count": 136,
   "metadata": {},
   "outputs": [
    {
     "data": {
      "text/plain": [
       "13"
      ]
     },
     "execution_count": 136,
     "metadata": {},
     "output_type": "execute_result"
    }
   ],
   "source": [
    "np.sum(succ_high.values - prev_low.values < 0)"
   ]
  },
  {
   "cell_type": "markdown",
   "metadata": {},
   "source": [
    "## 8.  In 2019 how many days did the day's close exceed 30 day moving average in NIFTY50"
   ]
  },
  {
   "cell_type": "code",
   "execution_count": 138,
   "metadata": {},
   "outputs": [
    {
     "data": {
      "text/plain": [
       "2019-12-31    12168.45\n",
       "2019-12-30    12255.85\n",
       "2019-12-27    12245.80\n",
       "2019-12-26    12126.55\n",
       "2019-12-24    12214.55\n",
       "Name: Close, dtype: float64"
      ]
     },
     "execution_count": 138,
     "metadata": {},
     "output_type": "execute_result"
    }
   ],
   "source": [
    "c19_fdate.head()"
   ]
  },
  {
   "cell_type": "code",
   "execution_count": 143,
   "metadata": {},
   "outputs": [
    {
     "data": {
      "text/plain": [
       "100"
      ]
     },
     "execution_count": 143,
     "metadata": {},
     "output_type": "execute_result"
    }
   ],
   "source": [
    "np.sum(c19_fdate > c19_fdate.rolling('30d').mean())"
   ]
  },
  {
   "cell_type": "code",
   "execution_count": 3,
   "metadata": {},
   "outputs": [],
   "source": [
    "import pandas as pd\n",
    "pd.DataFrame.rename?"
   ]
  },
  {
   "cell_type": "code",
   "execution_count": 143,
   "metadata": {},
   "outputs": [],
   "source": [
    "purchase_1 = pd.Series({'Name': 'Chris',\n",
    "                        'Item Purchased': 'Dog Food',\n",
    "                        'Cost': 22.50})\n",
    "purchase_2 = pd.Series({'Name': 'Kevyn',\n",
    "                        'Item Purchased': 'Kitty Litter',\n",
    "                        'Cost': 2.50})\n",
    "purchase_3 = pd.Series({'Name': 'Vinod',\n",
    "                        'Item Purchased': 'Bird Seed',\n",
    "                        'Cost': 5.00})\n",
    "\n",
    "df = pd.DataFrame([purchase_1, purchase_2, purchase_3], index=['Store 1', 'Store 1', 'Store 2'])"
   ]
  },
  {
   "cell_type": "code",
   "execution_count": 124,
   "metadata": {},
   "outputs": [],
   "source": [
    "df.index.name='Location'"
   ]
  },
  {
   "cell_type": "code",
   "execution_count": 125,
   "metadata": {},
   "outputs": [
    {
     "data": {
      "text/html": [
       "<div>\n",
       "<style scoped>\n",
       "    .dataframe tbody tr th:only-of-type {\n",
       "        vertical-align: middle;\n",
       "    }\n",
       "\n",
       "    .dataframe tbody tr th {\n",
       "        vertical-align: top;\n",
       "    }\n",
       "\n",
       "    .dataframe thead th {\n",
       "        text-align: right;\n",
       "    }\n",
       "</style>\n",
       "<table border=\"1\" class=\"dataframe\">\n",
       "  <thead>\n",
       "    <tr style=\"text-align: right;\">\n",
       "      <th></th>\n",
       "      <th>Name</th>\n",
       "      <th>Item Purchased</th>\n",
       "      <th>Cost</th>\n",
       "    </tr>\n",
       "    <tr>\n",
       "      <th>Location</th>\n",
       "      <th></th>\n",
       "      <th></th>\n",
       "      <th></th>\n",
       "    </tr>\n",
       "  </thead>\n",
       "  <tbody>\n",
       "    <tr>\n",
       "      <th>Store 1</th>\n",
       "      <td>Chris</td>\n",
       "      <td>Dog Food</td>\n",
       "      <td>22.5</td>\n",
       "    </tr>\n",
       "    <tr>\n",
       "      <th>Store 1</th>\n",
       "      <td>Kevyn</td>\n",
       "      <td>Kitty Litter</td>\n",
       "      <td>2.5</td>\n",
       "    </tr>\n",
       "    <tr>\n",
       "      <th>Store 2</th>\n",
       "      <td>Vinod</td>\n",
       "      <td>Bird Seed</td>\n",
       "      <td>5.0</td>\n",
       "    </tr>\n",
       "  </tbody>\n",
       "</table>\n",
       "</div>"
      ],
      "text/plain": [
       "           Name Item Purchased  Cost\n",
       "Location                            \n",
       "Store 1   Chris       Dog Food  22.5\n",
       "Store 1   Kevyn   Kitty Litter   2.5\n",
       "Store 2   Vinod      Bird Seed   5.0"
      ]
     },
     "execution_count": 125,
     "metadata": {},
     "output_type": "execute_result"
    }
   ],
   "source": [
    "df"
   ]
  },
  {
   "cell_type": "code",
   "execution_count": 107,
   "metadata": {},
   "outputs": [],
   "source": [
    "df.loc['Store 3']= ['Laurette','Fish Food',3.20]"
   ]
  },
  {
   "cell_type": "code",
   "execution_count": 108,
   "metadata": {},
   "outputs": [
    {
     "data": {
      "text/html": [
       "<div>\n",
       "<style scoped>\n",
       "    .dataframe tbody tr th:only-of-type {\n",
       "        vertical-align: middle;\n",
       "    }\n",
       "\n",
       "    .dataframe tbody tr th {\n",
       "        vertical-align: top;\n",
       "    }\n",
       "\n",
       "    .dataframe thead th {\n",
       "        text-align: right;\n",
       "    }\n",
       "</style>\n",
       "<table border=\"1\" class=\"dataframe\">\n",
       "  <thead>\n",
       "    <tr style=\"text-align: right;\">\n",
       "      <th></th>\n",
       "      <th>Name</th>\n",
       "      <th>Item Purchased</th>\n",
       "      <th>Cost</th>\n",
       "    </tr>\n",
       "    <tr>\n",
       "      <th>Location</th>\n",
       "      <th></th>\n",
       "      <th></th>\n",
       "      <th></th>\n",
       "    </tr>\n",
       "  </thead>\n",
       "  <tbody>\n",
       "    <tr>\n",
       "      <th>Store 1</th>\n",
       "      <td>Chris</td>\n",
       "      <td>Dog Food</td>\n",
       "      <td>22.5</td>\n",
       "    </tr>\n",
       "    <tr>\n",
       "      <th>Store 1</th>\n",
       "      <td>Kevyn</td>\n",
       "      <td>Kitty Litter</td>\n",
       "      <td>2.5</td>\n",
       "    </tr>\n",
       "    <tr>\n",
       "      <th>Store 2</th>\n",
       "      <td>Vinod</td>\n",
       "      <td>Bird Seed</td>\n",
       "      <td>5.0</td>\n",
       "    </tr>\n",
       "    <tr>\n",
       "      <th>Store 3</th>\n",
       "      <td>Laurette</td>\n",
       "      <td>Fish Food</td>\n",
       "      <td>3.2</td>\n",
       "    </tr>\n",
       "  </tbody>\n",
       "</table>\n",
       "</div>"
      ],
      "text/plain": [
       "              Name Item Purchased  Cost\n",
       "Location                               \n",
       "Store 1      Chris       Dog Food  22.5\n",
       "Store 1      Kevyn   Kitty Litter   2.5\n",
       "Store 2      Vinod      Bird Seed   5.0\n",
       "Store 3   Laurette      Fish Food   3.2"
      ]
     },
     "execution_count": 108,
     "metadata": {},
     "output_type": "execute_result"
    }
   ],
   "source": [
    "df"
   ]
  },
  {
   "cell_type": "code",
   "execution_count": 127,
   "metadata": {},
   "outputs": [],
   "source": [
    "df.set_index([df.index,'Name'],inplace=True)"
   ]
  },
  {
   "cell_type": "code",
   "execution_count": 136,
   "metadata": {},
   "outputs": [],
   "source": [
    "df.drop(columns='Laurette',inplace=True)"
   ]
  },
  {
   "cell_type": "code",
   "execution_count": 121,
   "metadata": {},
   "outputs": [],
   "source": [
    "df = df.append(pd.Series(['Kitty Food',3.00],index = ['Item Purchased','Cost'],name =('Store 2','Kevyn')))"
   ]
  },
  {
   "cell_type": "code",
   "execution_count": 122,
   "metadata": {},
   "outputs": [
    {
     "data": {
      "text/html": [
       "<div>\n",
       "<style scoped>\n",
       "    .dataframe tbody tr th:only-of-type {\n",
       "        vertical-align: middle;\n",
       "    }\n",
       "\n",
       "    .dataframe tbody tr th {\n",
       "        vertical-align: top;\n",
       "    }\n",
       "\n",
       "    .dataframe thead th {\n",
       "        text-align: right;\n",
       "    }\n",
       "</style>\n",
       "<table border=\"1\" class=\"dataframe\">\n",
       "  <thead>\n",
       "    <tr style=\"text-align: right;\">\n",
       "      <th></th>\n",
       "      <th></th>\n",
       "      <th>Item Purchased</th>\n",
       "      <th>Cost</th>\n",
       "    </tr>\n",
       "    <tr>\n",
       "      <th>Location</th>\n",
       "      <th>Name</th>\n",
       "      <th></th>\n",
       "      <th></th>\n",
       "    </tr>\n",
       "  </thead>\n",
       "  <tbody>\n",
       "    <tr>\n",
       "      <th rowspan=\"2\" valign=\"top\">Store 1</th>\n",
       "      <th>Chris</th>\n",
       "      <td>Dog Food</td>\n",
       "      <td>22.5</td>\n",
       "    </tr>\n",
       "    <tr>\n",
       "      <th>Kevyn</th>\n",
       "      <td>Kitty Litter</td>\n",
       "      <td>2.5</td>\n",
       "    </tr>\n",
       "    <tr>\n",
       "      <th rowspan=\"2\" valign=\"top\">Store 2</th>\n",
       "      <th>Vinod</th>\n",
       "      <td>Bird Seed</td>\n",
       "      <td>5.0</td>\n",
       "    </tr>\n",
       "    <tr>\n",
       "      <th>Kevyn</th>\n",
       "      <td>Kitty Food</td>\n",
       "      <td>3.0</td>\n",
       "    </tr>\n",
       "  </tbody>\n",
       "</table>\n",
       "</div>"
      ],
      "text/plain": [
       "               Item Purchased  Cost\n",
       "Location Name                      \n",
       "Store 1  Chris       Dog Food  22.5\n",
       "         Kevyn   Kitty Litter   2.5\n",
       "Store 2  Vinod      Bird Seed   5.0\n",
       "         Kevyn     Kitty Food   3.0"
      ]
     },
     "execution_count": 122,
     "metadata": {},
     "output_type": "execute_result"
    }
   ],
   "source": [
    "df"
   ]
  },
  {
   "cell_type": "code",
   "execution_count": 128,
   "metadata": {},
   "outputs": [
    {
     "data": {
      "text/plain": [
       "MultiIndex([('Store 1', 'Chris'),\n",
       "            ('Store 1', 'Kevyn'),\n",
       "            ('Store 2', 'Vinod')],\n",
       "           names=['Location', 'Name'])"
      ]
     },
     "execution_count": 128,
     "metadata": {},
     "output_type": "execute_result"
    }
   ],
   "source": [
    "df.index"
   ]
  },
  {
   "cell_type": "code",
   "execution_count": 134,
   "metadata": {},
   "outputs": [],
   "source": [
    "df.loc[('Store 3','Laurette')] = pd.Series({'Item Purchased':'Fish Food','Cost':3.20})"
   ]
  },
  {
   "cell_type": "code",
   "execution_count": 140,
   "metadata": {},
   "outputs": [],
   "source": [
    "df.drop('Store 3',inplace=True)"
   ]
  },
  {
   "cell_type": "code",
   "execution_count": 141,
   "metadata": {},
   "outputs": [
    {
     "data": {
      "text/html": [
       "<div>\n",
       "<style scoped>\n",
       "    .dataframe tbody tr th:only-of-type {\n",
       "        vertical-align: middle;\n",
       "    }\n",
       "\n",
       "    .dataframe tbody tr th {\n",
       "        vertical-align: top;\n",
       "    }\n",
       "\n",
       "    .dataframe thead th {\n",
       "        text-align: right;\n",
       "    }\n",
       "</style>\n",
       "<table border=\"1\" class=\"dataframe\">\n",
       "  <thead>\n",
       "    <tr style=\"text-align: right;\">\n",
       "      <th></th>\n",
       "      <th></th>\n",
       "      <th>Item Purchased</th>\n",
       "      <th>Cost</th>\n",
       "    </tr>\n",
       "    <tr>\n",
       "      <th>Location</th>\n",
       "      <th>Name</th>\n",
       "      <th></th>\n",
       "      <th></th>\n",
       "    </tr>\n",
       "  </thead>\n",
       "  <tbody>\n",
       "    <tr>\n",
       "      <th rowspan=\"2\" valign=\"top\">Store 1</th>\n",
       "      <th>Chris</th>\n",
       "      <td>Dog Food</td>\n",
       "      <td>22.5</td>\n",
       "    </tr>\n",
       "    <tr>\n",
       "      <th>Kevyn</th>\n",
       "      <td>Kitty Litter</td>\n",
       "      <td>2.5</td>\n",
       "    </tr>\n",
       "    <tr>\n",
       "      <th>Store 2</th>\n",
       "      <th>Vinod</th>\n",
       "      <td>Bird Seed</td>\n",
       "      <td>5.0</td>\n",
       "    </tr>\n",
       "  </tbody>\n",
       "</table>\n",
       "</div>"
      ],
      "text/plain": [
       "               Item Purchased  Cost\n",
       "Location Name                      \n",
       "Store 1  Chris       Dog Food  22.5\n",
       "         Kevyn   Kitty Litter   2.5\n",
       "Store 2  Vinod      Bird Seed   5.0"
      ]
     },
     "execution_count": 141,
     "metadata": {},
     "output_type": "execute_result"
    }
   ],
   "source": [
    "df"
   ]
  },
  {
   "cell_type": "code",
   "execution_count": 144,
   "metadata": {},
   "outputs": [
    {
     "data": {
      "text/html": [
       "<div>\n",
       "<style scoped>\n",
       "    .dataframe tbody tr th:only-of-type {\n",
       "        vertical-align: middle;\n",
       "    }\n",
       "\n",
       "    .dataframe tbody tr th {\n",
       "        vertical-align: top;\n",
       "    }\n",
       "\n",
       "    .dataframe thead th {\n",
       "        text-align: right;\n",
       "    }\n",
       "</style>\n",
       "<table border=\"1\" class=\"dataframe\">\n",
       "  <thead>\n",
       "    <tr style=\"text-align: right;\">\n",
       "      <th></th>\n",
       "      <th>Name</th>\n",
       "      <th>Item Purchased</th>\n",
       "      <th>Cost</th>\n",
       "    </tr>\n",
       "  </thead>\n",
       "  <tbody>\n",
       "    <tr>\n",
       "      <th>Store 1</th>\n",
       "      <td>Chris</td>\n",
       "      <td>Dog Food</td>\n",
       "      <td>22.5</td>\n",
       "    </tr>\n",
       "    <tr>\n",
       "      <th>Store 1</th>\n",
       "      <td>Kevyn</td>\n",
       "      <td>Kitty Litter</td>\n",
       "      <td>2.5</td>\n",
       "    </tr>\n",
       "    <tr>\n",
       "      <th>Store 2</th>\n",
       "      <td>Vinod</td>\n",
       "      <td>Bird Seed</td>\n",
       "      <td>5.0</td>\n",
       "    </tr>\n",
       "  </tbody>\n",
       "</table>\n",
       "</div>"
      ],
      "text/plain": [
       "          Name Item Purchased  Cost\n",
       "Store 1  Chris       Dog Food  22.5\n",
       "Store 1  Kevyn   Kitty Litter   2.5\n",
       "Store 2  Vinod      Bird Seed   5.0"
      ]
     },
     "execution_count": 144,
     "metadata": {},
     "output_type": "execute_result"
    }
   ],
   "source": [
    "df.sort_index()"
   ]
  },
  {
   "cell_type": "code",
   "execution_count": null,
   "metadata": {},
   "outputs": [],
   "source": []
  }
 ],
 "metadata": {
  "kernelspec": {
   "display_name": "Python 3",
   "language": "python",
   "name": "python3"
  },
  "language_info": {
   "codemirror_mode": {
    "name": "ipython",
    "version": 3
   },
   "file_extension": ".py",
   "mimetype": "text/x-python",
   "name": "python",
   "nbconvert_exporter": "python",
   "pygments_lexer": "ipython3",
   "version": "3.8.2"
  }
 },
 "nbformat": 4,
 "nbformat_minor": 2
}
