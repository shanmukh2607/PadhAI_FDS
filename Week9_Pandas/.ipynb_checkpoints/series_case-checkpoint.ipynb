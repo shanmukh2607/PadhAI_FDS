{
 "cells": [
  {
   "cell_type": "markdown",
   "metadata": {},
   "source": [
    "# NIFTY 2019 Closing Price Analysis"
   ]
  },
  {
   "cell_type": "code",
   "execution_count": 2,
   "metadata": {},
   "outputs": [],
   "source": [
    "import numpy as np\n",
    "import pandas as pd"
   ]
  },
  {
   "cell_type": "code",
   "execution_count": 3,
   "metadata": {},
   "outputs": [],
   "source": [
    "nifty = pd.read_csv(\"nifty.csv\",index_col=0).iloc[:,0]"
   ]
  },
  {
   "cell_type": "code",
   "execution_count": 5,
   "metadata": {},
   "outputs": [
    {
     "data": {
      "text/plain": [
       "Date\n",
       "01-Jan-2019    10910.10\n",
       "02-Jan-2019    10792.50\n",
       "03-Jan-2019    10672.25\n",
       "04-Jan-2019    10727.35\n",
       "07-Jan-2019    10771.80\n",
       "                 ...   \n",
       "24-Dec-2019    12214.55\n",
       "26-Dec-2019    12126.55\n",
       "27-Dec-2019    12245.80\n",
       "30-Dec-2019    12255.85\n",
       "31-Dec-2019    12168.45\n",
       "Name: Close, Length: 245, dtype: float64"
      ]
     },
     "execution_count": 5,
     "metadata": {},
     "output_type": "execute_result"
    }
   ],
   "source": [
    "nifty"
   ]
  },
  {
   "cell_type": "code",
   "execution_count": 9,
   "metadata": {},
   "outputs": [
    {
     "data": {
      "text/plain": [
       "11432.632244897959"
      ]
     },
     "execution_count": 9,
     "metadata": {},
     "output_type": "execute_result"
    }
   ],
   "source": [
    "np.mean(nifty)"
   ]
  },
  {
   "cell_type": "code",
   "execution_count": 10,
   "metadata": {},
   "outputs": [
    {
     "data": {
      "text/plain": [
       "11512.4"
      ]
     },
     "execution_count": 10,
     "metadata": {},
     "output_type": "execute_result"
    }
   ],
   "source": [
    "np.median(nifty)"
   ]
  },
  {
   "cell_type": "code",
   "execution_count": 12,
   "metadata": {},
   "outputs": [
    {
     "data": {
      "text/plain": [
       "453.28669474598075"
      ]
     },
     "execution_count": 12,
     "metadata": {},
     "output_type": "execute_result"
    }
   ],
   "source": [
    "np.std(nifty)"
   ]
  },
  {
   "cell_type": "markdown",
   "metadata": {},
   "source": [
    "## What fraction of the days did market close higher than the previous day?"
   ]
  },
  {
   "cell_type": "code",
   "execution_count": 17,
   "metadata": {},
   "outputs": [
    {
     "data": {
      "text/plain": [
       "0"
      ]
     },
     "execution_count": 17,
     "metadata": {},
     "output_type": "execute_result"
    }
   ],
   "source": [
    "np.sum(nifty.iloc[1:]-nifty.iloc[:-1]>0)"
   ]
  },
  {
   "cell_type": "code",
   "execution_count": 50,
   "metadata": {},
   "outputs": [],
   "source": [
    "a = nifty[1:].values"
   ]
  },
  {
   "cell_type": "code",
   "execution_count": 51,
   "metadata": {},
   "outputs": [],
   "source": [
    "b = nifty[:-1].values"
   ]
  },
  {
   "cell_type": "code",
   "execution_count": 52,
   "metadata": {},
   "outputs": [
    {
     "data": {
      "text/plain": [
       "244"
      ]
     },
     "execution_count": 52,
     "metadata": {},
     "output_type": "execute_result"
    }
   ],
   "source": [
    "len(a-b>0)"
   ]
  },
  {
   "cell_type": "code",
   "execution_count": 53,
   "metadata": {},
   "outputs": [],
   "source": [
    "nifty_margin = pd.Series(a-b>0,index=nifty.index[1:])"
   ]
  },
  {
   "cell_type": "code",
   "execution_count": 54,
   "metadata": {},
   "outputs": [
    {
     "data": {
      "text/plain": [
       "Date\n",
       "02-Jan-2019    False\n",
       "03-Jan-2019    False\n",
       "04-Jan-2019     True\n",
       "07-Jan-2019     True\n",
       "08-Jan-2019     True\n",
       "               ...  \n",
       "24-Dec-2019    False\n",
       "26-Dec-2019    False\n",
       "27-Dec-2019     True\n",
       "30-Dec-2019     True\n",
       "31-Dec-2019    False\n",
       "Length: 244, dtype: bool"
      ]
     },
     "execution_count": 54,
     "metadata": {},
     "output_type": "execute_result"
    }
   ],
   "source": [
    "nifty_margin"
   ]
  },
  {
   "cell_type": "code",
   "execution_count": 55,
   "metadata": {},
   "outputs": [
    {
     "data": {
      "text/plain": [
       "0.5286885245901639"
      ]
     },
     "execution_count": 55,
     "metadata": {},
     "output_type": "execute_result"
    }
   ],
   "source": [
    "np.sum(nifty_margin)/len(nifty_margin)"
   ]
  },
  {
   "cell_type": "markdown",
   "metadata": {},
   "source": [
    "##  Tasks\n",
    "1. Compute the moving average of the last 5 days\n",
    "2. Subset the data to include data only for Fridays"
   ]
  },
  {
   "cell_type": "code",
   "execution_count": 77,
   "metadata": {},
   "outputs": [],
   "source": [
    "nifty_moving5 = pd.Series(np.mean(nifty.values.reshape(-1,5),axis=1),index=nifty.index[4::5])"
   ]
  },
  {
   "cell_type": "code",
   "execution_count": 78,
   "metadata": {},
   "outputs": [
    {
     "data": {
      "text/plain": [
       "Date\n",
       "07-Jan-2019    10774.80\n",
       "14-Jan-2019    10802.29\n",
       "21-Jan-2019    10910.22\n",
       "28-Jan-2019    10809.23\n",
       "04-Feb-2019    10788.17\n",
       "11-Feb-2019    10979.72\n",
       "18-Feb-2019    10747.29\n",
       "25-Feb-2019    10760.28\n",
       "05-Mar-2019    10857.08\n",
       "12-Mar-2019    11123.17\n",
       "19-Mar-2019    11421.28\n",
       "27-Mar-2019    11452.10\n",
       "03-Apr-2019    11644.04\n",
       "10-Apr-2019    11624.94\n",
       "18-Apr-2019    11694.09\n",
       "26-Apr-2019    11658.60\n",
       "07-May-2019    11656.26\n",
       "14-May-2019    11262.08\n",
       "21-May-2019    11471.72\n",
       "28-May-2019    11818.51\n",
       "04-Jun-2019    11968.00\n",
       "12-Jun-2019    11901.78\n",
       "19-Jun-2019    11758.49\n",
       "26-Jun-2019    11779.90\n",
       "03-Jul-2019    11864.61\n",
       "10-Jul-2019    11674.26\n",
       "17-Jul-2019    11614.77\n",
       "24-Jul-2019    11392.94\n",
       "31-Jul-2019    11185.81\n",
       "07-Aug-2019    10928.74\n",
       "16-Aug-2019    11029.03\n",
       "23-Aug-2019    10912.06\n",
       "30-Aug-2019    11036.17\n",
       "09-Sep-2019    10887.94\n",
       "17-Sep-2019    10983.10\n",
       "24-Sep-2019    11201.61\n",
       "01-Oct-2019    11471.63\n",
       "10-Oct-2019    11232.60\n",
       "17-Oct-2019    11424.97\n",
       "25-Oct-2019    11604.16\n",
       "01-Nov-2019    11805.23\n",
       "08-Nov-2019    11948.95\n",
       "18-Nov-2019    11881.19\n",
       "25-Nov-2019    11979.15\n",
       "02-Dec-2019    12078.76\n",
       "09-Dec-2019    11982.96\n",
       "16-Dec-2019    11975.88\n",
       "23-Dec-2019    12236.18\n",
       "31-Dec-2019    12202.24\n",
       "dtype: float64"
      ]
     },
     "execution_count": 78,
     "metadata": {},
     "output_type": "execute_result"
    }
   ],
   "source": [
    "nifty_moving5"
   ]
  },
  {
   "cell_type": "code",
   "execution_count": 79,
   "metadata": {},
   "outputs": [],
   "source": [
    "nifty_friday = pd.Series(nifty.values[1::5],index=nifty.index[1::5])"
   ]
  },
  {
   "cell_type": "code",
   "execution_count": 81,
   "metadata": {},
   "outputs": [
    {
     "data": {
      "text/plain": [
       "Date\n",
       "02-Jan-2019    10792.50\n",
       "09-Jan-2019    10855.15\n",
       "16-Jan-2019    10890.30\n",
       "23-Jan-2019    10831.50\n",
       "30-Jan-2019    10651.80\n",
       "06-Feb-2019    11062.45\n",
       "13-Feb-2019    10793.65\n",
       "20-Feb-2019    10735.45\n",
       "27-Feb-2019    10806.65\n",
       "07-Mar-2019    11058.20\n",
       "14-Mar-2019    11343.25\n",
       "22-Mar-2019    11456.90\n",
       "29-Mar-2019    11623.90\n",
       "05-Apr-2019    11665.95\n",
       "12-Apr-2019    11643.45\n",
       "23-Apr-2019    11575.95\n",
       "02-May-2019    11724.75\n",
       "09-May-2019    11301.80\n",
       "16-May-2019    11257.10\n",
       "23-May-2019    11657.05\n",
       "30-May-2019    11945.90\n",
       "07-Jun-2019    11870.65\n",
       "14-Jun-2019    11823.30\n",
       "21-Jun-2019    11724.10\n",
       "28-Jun-2019    11788.85\n",
       "05-Jul-2019    11811.15\n",
       "12-Jul-2019    11552.50\n",
       "19-Jul-2019    11419.25\n",
       "26-Jul-2019    11284.30\n",
       "02-Aug-2019    10997.35\n",
       "09-Aug-2019    11109.65\n",
       "20-Aug-2019    11017.00\n",
       "27-Aug-2019    11105.35\n",
       "04-Sep-2019    10844.65\n",
       "12-Sep-2019    10982.80\n",
       "19-Sep-2019    10704.80\n",
       "26-Sep-2019    11571.20\n",
       "04-Oct-2019    11174.75\n",
       "14-Oct-2019    11341.15\n",
       "22-Oct-2019    11588.35\n",
       "29-Oct-2019    11786.85\n",
       "05-Nov-2019    11917.20\n",
       "13-Nov-2019    11840.45\n",
       "20-Nov-2019    11999.10\n",
       "27-Nov-2019    12100.70\n",
       "04-Dec-2019    12043.20\n",
       "11-Dec-2019    11910.15\n",
       "18-Dec-2019    12221.65\n",
       "26-Dec-2019    12126.55\n",
       "dtype: float64"
      ]
     },
     "execution_count": 81,
     "metadata": {},
     "output_type": "execute_result"
    }
   ],
   "source": [
    "nifty_friday"
   ]
  },
  {
   "cell_type": "markdown",
   "metadata": {},
   "source": [
    "## Given Solutions"
   ]
  },
  {
   "cell_type": "code",
   "execution_count": 4,
   "metadata": {},
   "outputs": [
    {
     "data": {
      "text/plain": [
       "1"
      ]
     },
     "execution_count": 4,
     "metadata": {},
     "output_type": "execute_result"
    }
   ],
   "source": [
    "pd.Timestamp(nifty.index[0]).dayofweek"
   ]
  },
  {
   "cell_type": "code",
   "execution_count": 5,
   "metadata": {},
   "outputs": [],
   "source": [
    "new_index = map(pd.Timestamp,nifty.index)"
   ]
  },
  {
   "cell_type": "code",
   "execution_count": 7,
   "metadata": {},
   "outputs": [
    {
     "data": {
      "text/plain": [
       "[Timestamp('2019-01-01 00:00:00'),\n",
       " Timestamp('2019-01-02 00:00:00'),\n",
       " Timestamp('2019-01-03 00:00:00'),\n",
       " Timestamp('2019-01-04 00:00:00'),\n",
       " Timestamp('2019-01-07 00:00:00'),\n",
       " Timestamp('2019-01-08 00:00:00'),\n",
       " Timestamp('2019-01-09 00:00:00'),\n",
       " Timestamp('2019-01-10 00:00:00'),\n",
       " Timestamp('2019-01-11 00:00:00'),\n",
       " Timestamp('2019-01-14 00:00:00'),\n",
       " Timestamp('2019-01-15 00:00:00'),\n",
       " Timestamp('2019-01-16 00:00:00'),\n",
       " Timestamp('2019-01-17 00:00:00'),\n",
       " Timestamp('2019-01-18 00:00:00'),\n",
       " Timestamp('2019-01-21 00:00:00'),\n",
       " Timestamp('2019-01-22 00:00:00'),\n",
       " Timestamp('2019-01-23 00:00:00'),\n",
       " Timestamp('2019-01-24 00:00:00'),\n",
       " Timestamp('2019-01-25 00:00:00'),\n",
       " Timestamp('2019-01-28 00:00:00'),\n",
       " Timestamp('2019-01-29 00:00:00'),\n",
       " Timestamp('2019-01-30 00:00:00'),\n",
       " Timestamp('2019-01-31 00:00:00'),\n",
       " Timestamp('2019-02-01 00:00:00'),\n",
       " Timestamp('2019-02-04 00:00:00'),\n",
       " Timestamp('2019-02-05 00:00:00'),\n",
       " Timestamp('2019-02-06 00:00:00'),\n",
       " Timestamp('2019-02-07 00:00:00'),\n",
       " Timestamp('2019-02-08 00:00:00'),\n",
       " Timestamp('2019-02-11 00:00:00'),\n",
       " Timestamp('2019-02-12 00:00:00'),\n",
       " Timestamp('2019-02-13 00:00:00'),\n",
       " Timestamp('2019-02-14 00:00:00'),\n",
       " Timestamp('2019-02-15 00:00:00'),\n",
       " Timestamp('2019-02-18 00:00:00'),\n",
       " Timestamp('2019-02-19 00:00:00'),\n",
       " Timestamp('2019-02-20 00:00:00'),\n",
       " Timestamp('2019-02-21 00:00:00'),\n",
       " Timestamp('2019-02-22 00:00:00'),\n",
       " Timestamp('2019-02-25 00:00:00'),\n",
       " Timestamp('2019-02-26 00:00:00'),\n",
       " Timestamp('2019-02-27 00:00:00'),\n",
       " Timestamp('2019-02-28 00:00:00'),\n",
       " Timestamp('2019-03-01 00:00:00'),\n",
       " Timestamp('2019-03-05 00:00:00'),\n",
       " Timestamp('2019-03-06 00:00:00'),\n",
       " Timestamp('2019-03-07 00:00:00'),\n",
       " Timestamp('2019-03-08 00:00:00'),\n",
       " Timestamp('2019-03-11 00:00:00'),\n",
       " Timestamp('2019-03-12 00:00:00'),\n",
       " Timestamp('2019-03-13 00:00:00'),\n",
       " Timestamp('2019-03-14 00:00:00'),\n",
       " Timestamp('2019-03-15 00:00:00'),\n",
       " Timestamp('2019-03-18 00:00:00'),\n",
       " Timestamp('2019-03-19 00:00:00'),\n",
       " Timestamp('2019-03-20 00:00:00'),\n",
       " Timestamp('2019-03-22 00:00:00'),\n",
       " Timestamp('2019-03-25 00:00:00'),\n",
       " Timestamp('2019-03-26 00:00:00'),\n",
       " Timestamp('2019-03-27 00:00:00'),\n",
       " Timestamp('2019-03-28 00:00:00'),\n",
       " Timestamp('2019-03-29 00:00:00'),\n",
       " Timestamp('2019-04-01 00:00:00'),\n",
       " Timestamp('2019-04-02 00:00:00'),\n",
       " Timestamp('2019-04-03 00:00:00'),\n",
       " Timestamp('2019-04-04 00:00:00'),\n",
       " Timestamp('2019-04-05 00:00:00'),\n",
       " Timestamp('2019-04-08 00:00:00'),\n",
       " Timestamp('2019-04-09 00:00:00'),\n",
       " Timestamp('2019-04-10 00:00:00'),\n",
       " Timestamp('2019-04-11 00:00:00'),\n",
       " Timestamp('2019-04-12 00:00:00'),\n",
       " Timestamp('2019-04-15 00:00:00'),\n",
       " Timestamp('2019-04-16 00:00:00'),\n",
       " Timestamp('2019-04-18 00:00:00'),\n",
       " Timestamp('2019-04-22 00:00:00'),\n",
       " Timestamp('2019-04-23 00:00:00'),\n",
       " Timestamp('2019-04-24 00:00:00'),\n",
       " Timestamp('2019-04-25 00:00:00'),\n",
       " Timestamp('2019-04-26 00:00:00'),\n",
       " Timestamp('2019-04-30 00:00:00'),\n",
       " Timestamp('2019-05-02 00:00:00'),\n",
       " Timestamp('2019-05-03 00:00:00'),\n",
       " Timestamp('2019-05-06 00:00:00'),\n",
       " Timestamp('2019-05-07 00:00:00'),\n",
       " Timestamp('2019-05-08 00:00:00'),\n",
       " Timestamp('2019-05-09 00:00:00'),\n",
       " Timestamp('2019-05-10 00:00:00'),\n",
       " Timestamp('2019-05-13 00:00:00'),\n",
       " Timestamp('2019-05-14 00:00:00'),\n",
       " Timestamp('2019-05-15 00:00:00'),\n",
       " Timestamp('2019-05-16 00:00:00'),\n",
       " Timestamp('2019-05-17 00:00:00'),\n",
       " Timestamp('2019-05-20 00:00:00'),\n",
       " Timestamp('2019-05-21 00:00:00'),\n",
       " Timestamp('2019-05-22 00:00:00'),\n",
       " Timestamp('2019-05-23 00:00:00'),\n",
       " Timestamp('2019-05-24 00:00:00'),\n",
       " Timestamp('2019-05-27 00:00:00'),\n",
       " Timestamp('2019-05-28 00:00:00'),\n",
       " Timestamp('2019-05-29 00:00:00'),\n",
       " Timestamp('2019-05-30 00:00:00'),\n",
       " Timestamp('2019-05-31 00:00:00'),\n",
       " Timestamp('2019-06-03 00:00:00'),\n",
       " Timestamp('2019-06-04 00:00:00'),\n",
       " Timestamp('2019-06-06 00:00:00'),\n",
       " Timestamp('2019-06-07 00:00:00'),\n",
       " Timestamp('2019-06-10 00:00:00'),\n",
       " Timestamp('2019-06-11 00:00:00'),\n",
       " Timestamp('2019-06-12 00:00:00'),\n",
       " Timestamp('2019-06-13 00:00:00'),\n",
       " Timestamp('2019-06-14 00:00:00'),\n",
       " Timestamp('2019-06-17 00:00:00'),\n",
       " Timestamp('2019-06-18 00:00:00'),\n",
       " Timestamp('2019-06-19 00:00:00'),\n",
       " Timestamp('2019-06-20 00:00:00'),\n",
       " Timestamp('2019-06-21 00:00:00'),\n",
       " Timestamp('2019-06-24 00:00:00'),\n",
       " Timestamp('2019-06-25 00:00:00'),\n",
       " Timestamp('2019-06-26 00:00:00'),\n",
       " Timestamp('2019-06-27 00:00:00'),\n",
       " Timestamp('2019-06-28 00:00:00'),\n",
       " Timestamp('2019-07-01 00:00:00'),\n",
       " Timestamp('2019-07-02 00:00:00'),\n",
       " Timestamp('2019-07-03 00:00:00'),\n",
       " Timestamp('2019-07-04 00:00:00'),\n",
       " Timestamp('2019-07-05 00:00:00'),\n",
       " Timestamp('2019-07-08 00:00:00'),\n",
       " Timestamp('2019-07-09 00:00:00'),\n",
       " Timestamp('2019-07-10 00:00:00'),\n",
       " Timestamp('2019-07-11 00:00:00'),\n",
       " Timestamp('2019-07-12 00:00:00'),\n",
       " Timestamp('2019-07-15 00:00:00'),\n",
       " Timestamp('2019-07-16 00:00:00'),\n",
       " Timestamp('2019-07-17 00:00:00'),\n",
       " Timestamp('2019-07-18 00:00:00'),\n",
       " Timestamp('2019-07-19 00:00:00'),\n",
       " Timestamp('2019-07-22 00:00:00'),\n",
       " Timestamp('2019-07-23 00:00:00'),\n",
       " Timestamp('2019-07-24 00:00:00'),\n",
       " Timestamp('2019-07-25 00:00:00'),\n",
       " Timestamp('2019-07-26 00:00:00'),\n",
       " Timestamp('2019-07-29 00:00:00'),\n",
       " Timestamp('2019-07-30 00:00:00'),\n",
       " Timestamp('2019-07-31 00:00:00'),\n",
       " Timestamp('2019-08-01 00:00:00'),\n",
       " Timestamp('2019-08-02 00:00:00'),\n",
       " Timestamp('2019-08-05 00:00:00'),\n",
       " Timestamp('2019-08-06 00:00:00'),\n",
       " Timestamp('2019-08-07 00:00:00'),\n",
       " Timestamp('2019-08-08 00:00:00'),\n",
       " Timestamp('2019-08-09 00:00:00'),\n",
       " Timestamp('2019-08-13 00:00:00'),\n",
       " Timestamp('2019-08-14 00:00:00'),\n",
       " Timestamp('2019-08-16 00:00:00'),\n",
       " Timestamp('2019-08-19 00:00:00'),\n",
       " Timestamp('2019-08-20 00:00:00'),\n",
       " Timestamp('2019-08-21 00:00:00'),\n",
       " Timestamp('2019-08-22 00:00:00'),\n",
       " Timestamp('2019-08-23 00:00:00'),\n",
       " Timestamp('2019-08-26 00:00:00'),\n",
       " Timestamp('2019-08-27 00:00:00'),\n",
       " Timestamp('2019-08-28 00:00:00'),\n",
       " Timestamp('2019-08-29 00:00:00'),\n",
       " Timestamp('2019-08-30 00:00:00'),\n",
       " Timestamp('2019-09-03 00:00:00'),\n",
       " Timestamp('2019-09-04 00:00:00'),\n",
       " Timestamp('2019-09-05 00:00:00'),\n",
       " Timestamp('2019-09-06 00:00:00'),\n",
       " Timestamp('2019-09-09 00:00:00'),\n",
       " Timestamp('2019-09-11 00:00:00'),\n",
       " Timestamp('2019-09-12 00:00:00'),\n",
       " Timestamp('2019-09-13 00:00:00'),\n",
       " Timestamp('2019-09-16 00:00:00'),\n",
       " Timestamp('2019-09-17 00:00:00'),\n",
       " Timestamp('2019-09-18 00:00:00'),\n",
       " Timestamp('2019-09-19 00:00:00'),\n",
       " Timestamp('2019-09-20 00:00:00'),\n",
       " Timestamp('2019-09-23 00:00:00'),\n",
       " Timestamp('2019-09-24 00:00:00'),\n",
       " Timestamp('2019-09-25 00:00:00'),\n",
       " Timestamp('2019-09-26 00:00:00'),\n",
       " Timestamp('2019-09-27 00:00:00'),\n",
       " Timestamp('2019-09-30 00:00:00'),\n",
       " Timestamp('2019-10-01 00:00:00'),\n",
       " Timestamp('2019-10-03 00:00:00'),\n",
       " Timestamp('2019-10-04 00:00:00'),\n",
       " Timestamp('2019-10-07 00:00:00'),\n",
       " Timestamp('2019-10-09 00:00:00'),\n",
       " Timestamp('2019-10-10 00:00:00'),\n",
       " Timestamp('2019-10-11 00:00:00'),\n",
       " Timestamp('2019-10-14 00:00:00'),\n",
       " Timestamp('2019-10-15 00:00:00'),\n",
       " Timestamp('2019-10-16 00:00:00'),\n",
       " Timestamp('2019-10-17 00:00:00'),\n",
       " Timestamp('2019-10-18 00:00:00'),\n",
       " Timestamp('2019-10-22 00:00:00'),\n",
       " Timestamp('2019-10-23 00:00:00'),\n",
       " Timestamp('2019-10-24 00:00:00'),\n",
       " Timestamp('2019-10-25 00:00:00'),\n",
       " Timestamp('2019-10-27 00:00:00'),\n",
       " Timestamp('2019-10-29 00:00:00'),\n",
       " Timestamp('2019-10-30 00:00:00'),\n",
       " Timestamp('2019-10-31 00:00:00'),\n",
       " Timestamp('2019-11-01 00:00:00'),\n",
       " Timestamp('2019-11-04 00:00:00'),\n",
       " Timestamp('2019-11-05 00:00:00'),\n",
       " Timestamp('2019-11-06 00:00:00'),\n",
       " Timestamp('2019-11-07 00:00:00'),\n",
       " Timestamp('2019-11-08 00:00:00'),\n",
       " Timestamp('2019-11-11 00:00:00'),\n",
       " Timestamp('2019-11-13 00:00:00'),\n",
       " Timestamp('2019-11-14 00:00:00'),\n",
       " Timestamp('2019-11-15 00:00:00'),\n",
       " Timestamp('2019-11-18 00:00:00'),\n",
       " Timestamp('2019-11-19 00:00:00'),\n",
       " Timestamp('2019-11-20 00:00:00'),\n",
       " Timestamp('2019-11-21 00:00:00'),\n",
       " Timestamp('2019-11-22 00:00:00'),\n",
       " Timestamp('2019-11-25 00:00:00'),\n",
       " Timestamp('2019-11-26 00:00:00'),\n",
       " Timestamp('2019-11-27 00:00:00'),\n",
       " Timestamp('2019-11-28 00:00:00'),\n",
       " Timestamp('2019-11-29 00:00:00'),\n",
       " Timestamp('2019-12-02 00:00:00'),\n",
       " Timestamp('2019-12-03 00:00:00'),\n",
       " Timestamp('2019-12-04 00:00:00'),\n",
       " Timestamp('2019-12-05 00:00:00'),\n",
       " Timestamp('2019-12-06 00:00:00'),\n",
       " Timestamp('2019-12-09 00:00:00'),\n",
       " Timestamp('2019-12-10 00:00:00'),\n",
       " Timestamp('2019-12-11 00:00:00'),\n",
       " Timestamp('2019-12-12 00:00:00'),\n",
       " Timestamp('2019-12-13 00:00:00'),\n",
       " Timestamp('2019-12-16 00:00:00'),\n",
       " Timestamp('2019-12-17 00:00:00'),\n",
       " Timestamp('2019-12-18 00:00:00'),\n",
       " Timestamp('2019-12-19 00:00:00'),\n",
       " Timestamp('2019-12-20 00:00:00'),\n",
       " Timestamp('2019-12-23 00:00:00'),\n",
       " Timestamp('2019-12-24 00:00:00'),\n",
       " Timestamp('2019-12-26 00:00:00'),\n",
       " Timestamp('2019-12-27 00:00:00'),\n",
       " Timestamp('2019-12-30 00:00:00'),\n",
       " Timestamp('2019-12-31 00:00:00')]"
      ]
     },
     "execution_count": 7,
     "metadata": {},
     "output_type": "execute_result"
    }
   ],
   "source": [
    "list(new_index)"
   ]
  },
  {
   "cell_type": "code",
   "execution_count": 84,
   "metadata": {},
   "outputs": [],
   "source": [
    "nifty_dated = pd.Series(nifty.values, index=new_index)"
   ]
  },
  {
   "cell_type": "code",
   "execution_count": 85,
   "metadata": {},
   "outputs": [
    {
     "data": {
      "text/plain": [
       "2019-01-01    10910.10\n",
       "2019-01-02    10792.50\n",
       "2019-01-03    10672.25\n",
       "2019-01-04    10727.35\n",
       "2019-01-07    10771.80\n",
       "                ...   \n",
       "2019-12-24    12214.55\n",
       "2019-12-26    12126.55\n",
       "2019-12-27    12245.80\n",
       "2019-12-30    12255.85\n",
       "2019-12-31    12168.45\n",
       "Length: 245, dtype: float64"
      ]
     },
     "execution_count": 85,
     "metadata": {},
     "output_type": "execute_result"
    }
   ],
   "source": [
    "nifty_dated"
   ]
  },
  {
   "cell_type": "code",
   "execution_count": 96,
   "metadata": {},
   "outputs": [
    {
     "data": {
      "text/plain": [
       "2019-01-01    10910.100000\n",
       "2019-01-02    10851.300000\n",
       "2019-01-03    10791.616667\n",
       "2019-01-04    10775.550000\n",
       "2019-01-07    10723.800000\n",
       "                  ...     \n",
       "2019-12-24    12249.700000\n",
       "2019-12-26    12201.283333\n",
       "2019-12-27    12212.412500\n",
       "2019-12-30    12209.400000\n",
       "2019-12-31    12223.366667\n",
       "Length: 245, dtype: float64"
      ]
     },
     "execution_count": 96,
     "metadata": {},
     "output_type": "execute_result"
    }
   ],
   "source": [
    "nifty_dated.rolling('5d').mean()"
   ]
  },
  {
   "cell_type": "code",
   "execution_count": 101,
   "metadata": {},
   "outputs": [
    {
     "data": {
      "text/plain": [
       "2019-01-04    10727.35\n",
       "2019-01-11    10794.95\n",
       "2019-01-18    10906.95\n",
       "2019-01-25    10780.55\n",
       "2019-02-01    10893.65\n",
       "2019-02-08    10943.60\n",
       "2019-02-15    10724.40\n",
       "2019-02-22    10791.65\n",
       "2019-03-01    10863.50\n",
       "2019-03-08    11035.40\n",
       "2019-03-15    11426.85\n",
       "2019-03-22    11456.90\n",
       "2019-03-29    11623.90\n",
       "2019-04-05    11665.95\n",
       "2019-04-12    11643.45\n",
       "2019-04-26    11754.65\n",
       "2019-05-03    11712.25\n",
       "2019-05-10    11278.90\n",
       "2019-05-17    11407.15\n",
       "2019-05-24    11844.10\n",
       "2019-05-31    11922.80\n",
       "2019-06-07    11870.65\n",
       "2019-06-14    11823.30\n",
       "2019-06-21    11724.10\n",
       "2019-06-28    11788.85\n",
       "2019-07-05    11811.15\n",
       "2019-07-12    11552.50\n",
       "2019-07-19    11419.25\n",
       "2019-07-26    11284.30\n",
       "2019-08-02    10997.35\n",
       "2019-08-09    11109.65\n",
       "2019-08-16    11047.80\n",
       "2019-08-23    10829.35\n",
       "2019-08-30    11023.25\n",
       "2019-09-06    10946.20\n",
       "2019-09-13    11075.90\n",
       "2019-09-20    11274.20\n",
       "2019-09-27    11512.40\n",
       "2019-10-04    11174.75\n",
       "2019-10-11    11305.05\n",
       "2019-10-18    11661.85\n",
       "2019-10-25    11583.90\n",
       "2019-11-01    11890.60\n",
       "2019-11-08    11908.15\n",
       "2019-11-15    11895.45\n",
       "2019-11-22    11914.40\n",
       "2019-11-29    12056.05\n",
       "2019-12-06    11921.50\n",
       "2019-12-13    12086.70\n",
       "2019-12-20    12271.80\n",
       "2019-12-27    12245.80\n",
       "dtype: float64"
      ]
     },
     "execution_count": 101,
     "metadata": {},
     "output_type": "execute_result"
    }
   ],
   "source": [
    "nifty_dated[nifty_dated.index.dayofweek == 4]"
   ]
  },
  {
   "cell_type": "code",
   "execution_count": 100,
   "metadata": {},
   "outputs": [
    {
     "data": {
      "text/plain": [
       "array([False, False, False,  True, False, False, False, False,  True,\n",
       "       False, False, False, False,  True, False, False, False, False,\n",
       "        True, False, False, False, False,  True, False, False, False,\n",
       "       False,  True, False, False, False, False,  True, False, False,\n",
       "       False, False,  True, False, False, False, False,  True, False,\n",
       "       False, False,  True, False, False, False, False,  True, False,\n",
       "       False, False,  True, False, False, False, False,  True, False,\n",
       "       False, False, False,  True, False, False, False, False,  True,\n",
       "       False, False, False, False, False, False, False,  True, False,\n",
       "       False,  True, False, False, False, False,  True, False, False,\n",
       "       False, False,  True, False, False, False, False,  True, False,\n",
       "       False, False, False,  True, False, False, False,  True, False,\n",
       "       False, False, False,  True, False, False, False, False,  True,\n",
       "       False, False, False, False,  True, False, False, False, False,\n",
       "        True, False, False, False, False,  True, False, False, False,\n",
       "       False,  True, False, False, False, False,  True, False, False,\n",
       "       False, False,  True, False, False, False, False,  True, False,\n",
       "       False,  True, False, False, False, False,  True, False, False,\n",
       "       False, False,  True, False, False, False,  True, False, False,\n",
       "       False,  True, False, False, False, False,  True, False, False,\n",
       "       False, False,  True, False, False, False,  True, False, False,\n",
       "       False,  True, False, False, False, False,  True, False, False,\n",
       "       False,  True, False, False, False, False,  True, False, False,\n",
       "       False, False,  True, False, False, False,  True, False, False,\n",
       "       False, False,  True, False, False, False, False,  True, False,\n",
       "       False, False, False,  True, False, False, False, False,  True,\n",
       "       False, False, False, False,  True, False, False, False,  True,\n",
       "       False, False])"
      ]
     },
     "execution_count": 100,
     "metadata": {},
     "output_type": "execute_result"
    }
   ],
   "source": [
    "nifty_dated.index.dayofweek==4"
   ]
  },
  {
   "cell_type": "code",
   "execution_count": 107,
   "metadata": {},
   "outputs": [
    {
     "data": {
      "text/plain": [
       "'a'"
      ]
     },
     "execution_count": 107,
     "metadata": {},
     "output_type": "execute_result"
    }
   ],
   "source": [
    "s = pd.Series(\"a\",index=[1,2,3,4])\n",
    "s.loc[2]"
   ]
  },
  {
   "cell_type": "code",
   "execution_count": 109,
   "metadata": {},
   "outputs": [
    {
     "data": {
      "text/plain": [
       "2.0"
      ]
     },
     "execution_count": 109,
     "metadata": {},
     "output_type": "execute_result"
    }
   ],
   "source": [
    "s = pd.Series([3,2,2,1])\n",
    "s.mean()"
   ]
  },
  {
   "cell_type": "code",
   "execution_count": 111,
   "metadata": {},
   "outputs": [
    {
     "name": "stdout",
     "output_type": "stream",
     "text": [
      "True\n"
     ]
    }
   ],
   "source": [
    "data = [1, 2, 3, 4]\n",
    "s = pd.Series( data , index=[1,2,3,4])\n",
    "b = (s > 2).any()\n",
    "print(b)"
   ]
  },
  {
   "cell_type": "code",
   "execution_count": 112,
   "metadata": {},
   "outputs": [
    {
     "name": "stdout",
     "output_type": "stream",
     "text": [
      "2.0\n"
     ]
    }
   ],
   "source": [
    "data = [0, 1, 1, 2, 3, 5, 8, 13, 21]\n",
    "s = pd.Series( data )\n",
    "b = s.diff()\n",
    "print(b.iloc[5])"
   ]
  }
 ],
 "metadata": {
  "kernelspec": {
   "display_name": "Python 3",
   "language": "python",
   "name": "python3"
  },
  "language_info": {
   "codemirror_mode": {
    "name": "ipython",
    "version": 3
   },
   "file_extension": ".py",
   "mimetype": "text/x-python",
   "name": "python",
   "nbconvert_exporter": "python",
   "pygments_lexer": "ipython3",
   "version": "3.8.2"
  }
 },
 "nbformat": 4,
 "nbformat_minor": 2
}
